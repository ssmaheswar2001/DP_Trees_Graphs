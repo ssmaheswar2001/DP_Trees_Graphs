{
 "cells": [
  {
   "cell_type": "markdown",
   "id": "b5c58f9e-8187-4807-9cdf-e5b5a8447d33",
   "metadata": {},
   "source": [
    "# Dynamic Programming\n",
    "1. 0-1 Knapsack (6)\n",
    "2. Unbounded Knapsack (3)\n",
    "3. Fibonnaci (7)\n",
    "4. Longest Common Subsequence (15)\n",
    "5. Longest Increasing Subsequence (10)\n",
    "6. Kadane's Algorithm (6)\n",
    "7. Matrix Chain Multiplication\n",
    "8. DP on Trees (4)\n",
    "9. DP on Grid (14)\n",
    "10. Others (5)\n"
   ]
  },
  {
   "cell_type": "markdown",
   "id": "60572a22-1899-47e6-a46f-308a1618a551",
   "metadata": {},
   "source": [
    "Knapsack problem is also known as \"Rucksack Problem\"\n",
    "Problem statement : Given a bag with maximum weight capacity of W and a set of items, each having a weight and a value associated with it. Decide the number of each item to take in a collection such that the total weight is less than the capacity and the total value is maximized.\n",
    "\n",
    "# Types of Knapsack Problem\n",
    "1. Fractional Knapsack Problem\n",
    "2. 0/1 Knapsack Problem\n",
    "3. Bounded Knapsack Problem\n",
    "4. Unbounded Knapsack Problem\n",
    "\n",
    "#### Fractional Knapsack \n",
    "Given the weight and the values of N items, put these items in a knapsack of capacity W to get the maximum total value in the knapsack. In Fractional Knapsack, we can break items for maximizing the total value of the knapsack.\n",
    "#### 0/1 Knapsack Problem\n",
    "We are given N items where each item has some weight (wi) and value (vi) associated with it. Wwe are also given a bag with capacity W. The target is to put the items into the bag such that the sum of values associated with them is the maximum possible. \n",
    "Note that here we can either put an item completely into the bag or cannot put it at all.\n",
    "#### Bounded Knapsack Problem\n",
    "Given N items, each item having a given weight and a value, the task is to maximize the value by selecting a maximum of K items adding up to a maximum weight W.\n",
    "#### Unbounded Knapsack Problem\n",
    "Given a knapsack weight W and a set of N items with certain value v and weight w, we need to calculate the maximum amount that could make up this quantity exactly. This is different from 0/1 Knapsack Problem, here we are allowed to use an unlimited number of instances of an item.\n",
    "\n",
    "\n"
   ]
  },
  {
   "cell_type": "markdown",
   "id": "6a0d6b09-2d05-43ac-b85a-f28814dd7715",
   "metadata": {},
   "source": [
    "# 0-1 Knapsack Problem\n",
    "1. Subset Sum\n",
    "2. Equal sum Partition\n",
    "3. Count of Subset sum\n",
    "4. Minimum subset sum Difference\n",
    "5. Target Sum\n",
    "6. \\# of subset andn given difference"
   ]
  },
  {
   "cell_type": "code",
   "execution_count": 7,
   "id": "afc6462c-3195-4cee-a76e-448c6ed62dbc",
   "metadata": {},
   "outputs": [
    {
     "data": {
      "text/plain": [
       "220"
      ]
     },
     "execution_count": 7,
     "metadata": {},
     "output_type": "execute_result"
    }
   ],
   "source": [
    "# 0/1 Knapsack Problem Recursion\n",
    "\n",
    "def knapsack(W, wt, val, n):\n",
    "    if n==0 or W == 0:\n",
    "        return 0\n",
    "    if (wt[n-1] > W):\n",
    "        return knapsack(W, wt, val, n-1)\n",
    "    else:\n",
    "        return max( val[n-1]+knapsack(W-wt[n-1], wt, val, n-1), knapsack(W, wt, val, n-1))\n",
    "\n",
    "profits = [60, 100, 120]\n",
    "weights = [10, 20, 30]\n",
    "W = 50\n",
    "n = len(profits)\n",
    "\n",
    "knapsack(W, weights, profits, n)\n"
   ]
  },
  {
   "cell_type": "code",
   "execution_count": 6,
   "id": "6dded0aa-1624-46cd-9fa0-951ec8288ac6",
   "metadata": {},
   "outputs": [
    {
     "data": {
      "text/plain": [
       "220"
      ]
     },
     "execution_count": 6,
     "metadata": {},
     "output_type": "execute_result"
    }
   ],
   "source": [
    "# 0/1 Knapsack Memorization Apprroach - Dynamic Programming\n",
    "\n",
    "def knapsack(W, wt, val, n):\n",
    "    if n == 0 or W == 0:\n",
    "        return 0\n",
    "    if(t[n][W] != -1):\n",
    "        return t[n][W]\n",
    "\n",
    "    if (wt[n-1] > W):\n",
    "        t[n][W] = knapsack(W, wt, val, n-1)\n",
    "        return t[n][W]\n",
    "    elif (wt[n-1] <= W):\n",
    "        t[n][W] = max( val[n-1]+knapsack(W-wt[n-1], wt, val, n-1), knapsack(W, wt, val, n-1) )\n",
    "        return t[n][W]\n",
    "\n",
    "profits = [60, 100, 120]\n",
    "weights = [10, 20, 30]\n",
    "W = 50\n",
    "n = len(profits)\n",
    "t = [[-1 for i in range(W+1)] for j in range(n+1)]\n",
    "knapsack(W, weights, profits, n)\n"
   ]
  },
  {
   "cell_type": "code",
   "execution_count": 11,
   "id": "7edc92c5-9bc4-4295-bd2b-ebab2d7a2314",
   "metadata": {},
   "outputs": [
    {
     "data": {
      "text/plain": [
       "299"
      ]
     },
     "execution_count": 11,
     "metadata": {},
     "output_type": "execute_result"
    }
   ],
   "source": [
    "# 0/1 knapsack Bottom-Up Approach\n",
    "\n",
    "\n",
    "jjjjj ----> W\n",
    "i\n",
    "i\n",
    "i\n",
    "i\n",
    "= n\n",
    "\n",
    "def knapsack(W, wt, val, n):\n",
    "    dp = [[-1 for j in range(W+1)] for i in range(n+1)]\n",
    "\n",
    "    for i in range(n+1):\n",
    "        for j in range(W+1):\n",
    "            if n == 0 or j == 0:\n",
    "                dp[i][j] = 0\n",
    "            elif wt[i-1] > W:\n",
    "                dp[i][j] = dp[i-1][j]\n",
    "            else:\n",
    "                dp[i][j] = max( val[i-1] + dp[i-1][j-wt[i-1]], dp[i-1][j] )\n",
    "    return dp[i][j]\n",
    "\n",
    "profits = [60, 100, 120]\n",
    "weights = [10, 20, 30]\n",
    "W = 50\n",
    "n = len(profits)\n",
    "knapsack(W, weights, profits, n)"
   ]
  },
  {
   "cell_type": "code",
   "execution_count": null,
   "id": "44a5d726-9cd5-4273-b889-2c3b7bb67652",
   "metadata": {},
   "outputs": [],
   "source": []
  },
  {
   "cell_type": "markdown",
   "id": "2cc115ec-eead-455a-a101-18762876224a",
   "metadata": {},
   "source": [
    "# Longest Common subsequence\n",
    "Given 2 strings, S1 and S2, the task is to find the lenght of the longest Common Subsequence,, i.e longest subsequeencee present in both the strings.\n",
    "\n",
    "# Longest Common subsequence problems\n",
    "1. Longest Common substring\n",
    "2. Print LCS\n",
    "3. shortest common Subsequence\n",
    "4. Print SCS\n",
    "5. Min # of insertion and deletions.\n",
    "6. Largest repeating subsequence.\n",
    "7. Length of largest subsequence of a which is a substring in b.\n",
    "8. Subsequence pattern mataching.\n",
    "9. Count how many times a appear as subsequence in b.\n",
    "10. Largest Palindrome subsequence.\n",
    "11. Largest Palindrome substring.\n",
    "12. Count of palindrome substrins.\n",
    "13. Min # of delections in a string to make it a palindrome.\n",
    "14. Min # of insertions in a string to make it a palindrome."
   ]
  },
  {
   "cell_type": "code",
   "execution_count": 1,
   "id": "a69b8bde-95d4-4c01-99ec-4b301386b64d",
   "metadata": {},
   "outputs": [
    {
     "data": {
      "text/plain": [
       "4"
      ]
     },
     "execution_count": 1,
     "metadata": {},
     "output_type": "execute_result"
    }
   ],
   "source": [
    "# LONGEST COMMON SUBSEQUENCE RECURSION\n",
    "\n",
    "\"\"\"\n",
    "Given two sequences, find the length of longest subsequence present in both of them.\n",
    "A subsequence is a sequence that appears in the same relative order, but not necessarily contiguous. \n",
    "\"\"\"\n",
    "\n",
    "def lcs(x, y, m, n):\n",
    "    if m == 0 or n == 0:\n",
    "        return 0\n",
    "    if x[m-1] == y[n-1]:\n",
    "        return 1+lcs(x, y, m-1, n-1)\n",
    "    else:\n",
    "        return max(lcs(x, y, m-1, n), lcs(x, y, m, n-1))\n",
    "\n",
    "x = \"AGGTAB\"\n",
    "y = \"GXTXAYB\"\n",
    "m = len(x)\n",
    "n = len(y)\n",
    "\n",
    "lcs(x, y, m, n)"
   ]
  },
  {
   "cell_type": "code",
   "execution_count": 16,
   "id": "1a45844b-72d1-42ba-8b30-78e19c95e92f",
   "metadata": {},
   "outputs": [
    {
     "data": {
      "text/plain": [
       "1"
      ]
     },
     "execution_count": 16,
     "metadata": {},
     "output_type": "execute_result"
    }
   ],
   "source": [
    "# LONGEST COMMON SUBSEQUENCE TOP-DOWN APPROACH\n",
    "\n",
    "def lcs(x, y, m, n):\n",
    "    dp = [[-1 for i in range(n+1)] for j in range(m+1)]\n",
    "    \n",
    "    for i in range(m+1):\n",
    "        for j in range(n+1):\n",
    "            if i == 0 or j == 0:\n",
    "                dp[i][j] = 0\n",
    "            elif x[i-1] == y[j-1]:\n",
    "                dp[i][j] = 1 + dp[i-1][j-1]\n",
    "            else:\n",
    "                dp[i][j] = max(dp[i-1][j],dp[i][j-1])\n",
    "    return dp[m][n]\n",
    "\n",
    "x = \"BBABCBCAB\"\n",
    "y = \"BACBCBABB\"\n",
    "m = len(x)\n",
    "n = len(y)\n",
    "lcs(x, y, m, n)"
   ]
  },
  {
   "cell_type": "code",
   "execution_count": 9,
   "id": "033f5d6d-59dd-4266-9b9e-f36b4da52f5d",
   "metadata": {},
   "outputs": [
    {
     "data": {
      "text/plain": [
       "4"
      ]
     },
     "execution_count": 9,
     "metadata": {},
     "output_type": "execute_result"
    }
   ],
   "source": [
    "# LONGEST COMMON SUBSEQUECNE MEMORIZATION\n",
    "\n",
    "def lcs(x, y, m, n):\n",
    "    if m == 0 or n == 0:\n",
    "        return 0\n",
    "    if dp[m][n] != -1:\n",
    "        return dp[m][n]\n",
    "    if x[m-1] == y[n-1]:\n",
    "        dp[m][n] = 1 + lcs(x, y, m-1, n-1)\n",
    "        return dp[m][n]\n",
    "    else:\n",
    "        dp[m][n] = max( lcs(x, y, m-1, n), lcs(x, y, m, n-1) )\n",
    "        return dp[m][n]\n",
    "\n",
    "x = \"AGGTAB\"\n",
    "y = \"GXTXAYB\"\n",
    "m = len(x)\n",
    "n = len(y)\n",
    "\n",
    "dp = [[-1 for i in range(n+1)] for j in range(m+1)]\n",
    "lcs(x, y, m, n)\n",
    "\n"
   ]
  },
  {
   "cell_type": "code",
   "execution_count": 2,
   "id": "6bae93c1-cc3e-469c-983c-e12fd2a3fdcf",
   "metadata": {},
   "outputs": [
    {
     "data": {
      "text/plain": [
       "4"
      ]
     },
     "execution_count": 2,
     "metadata": {},
     "output_type": "execute_result"
    }
   ],
   "source": [
    "# LONGEST COMMON SUBSTRING\n",
    "\"\"\"Given two strings ‘X’ and ‘Y’, find the length of the longest common substring.\"\"\"\n",
    "\n",
    "def lcss(x, y, m, n):\n",
    "    dp = [[-1 for i in range(n+1)] for j in range(m+1)]\n",
    "    result = 0 \n",
    "    \n",
    "    for i in range(m+1):\n",
    "        for j in range(n+1):\n",
    "            if i == 0 or j == 0:\n",
    "                dp[i][j] = 0\n",
    "            elif x[i-1] == y[j-1]:\n",
    "                dp[i][j] = 1 + dp[i-1][j-1]\n",
    "                result = max(result, dp[i][j])\n",
    "            else:\n",
    "                dp[i][j] = 0\n",
    "                \n",
    "    return result\n",
    "\n",
    "x = \"abcdxyz\"\n",
    "y = \"xyzabcd\"\n",
    "m = len(x)\n",
    "n = len(y)\n",
    "\n",
    "lcss(x, y, m, n)\n"
   ]
  },
  {
   "cell_type": "code",
   "execution_count": 1,
   "id": "c4831217-11fc-4b0b-b46e-892d43be3893",
   "metadata": {},
   "outputs": [
    {
     "data": {
      "text/plain": [
       "'tist'"
      ]
     },
     "execution_count": 1,
     "metadata": {},
     "output_type": "execute_result"
    }
   ],
   "source": [
    "# PRINTNG LONGEST COMMON SUBSEQUECNE\n",
    "\"\"\"Printing Longest Common Subsequence Given two sequences, print the longest subsequence present in both of them.\"\"\"\n",
    "\n",
    "def printLcs(x, y, m, n):\n",
    "    dp = [[0 for i in range(n+1)] for j in range(m+1)]\n",
    "    strLcs = \"\"\n",
    "    \n",
    "\n",
    "    for i in range(m+1):\n",
    "        for j in range(n+1):\n",
    "            if i == 0 or j == 0:\n",
    "                dp[i][j] = 0\n",
    "            elif x[i-1] == y[j-1]:\n",
    "                dp[i][j] = 1 + dp[i-1][j-1]\n",
    "            else:\n",
    "                dp[i][j] = max(dp[i-1][j],dp[i][j-1])\n",
    "#     return dp\n",
    "\n",
    "    i = m \n",
    "    j = n\n",
    "\n",
    "    while i> 0 and j>0:\n",
    "        if x[i-1] == y[j-1]:\n",
    "            strLcs += x[i-1]\n",
    "            i-=1\n",
    "            j-=1\n",
    "        elif dp[i-1][j] > dp[i][j-1]:\n",
    "            i -= 1\n",
    "        else:\n",
    "            j -= 1\n",
    "    \n",
    "    return strLcs[::-1]\n",
    "        \n",
    "\n",
    "x = \"ACBCF\"\n",
    "y = \"ABCDAF\"\n",
    "m = len(x)\n",
    "n = len(y)\n",
    "printLcs(x, y, m, n)"
   ]
  },
  {
   "cell_type": "code",
   "execution_count": 15,
   "id": "d46b2989-b062-4aa4-8ad9-69637c641c11",
   "metadata": {},
   "outputs": [
    {
     "data": {
      "text/plain": [
       "9"
      ]
     },
     "execution_count": 15,
     "metadata": {},
     "output_type": "execute_result"
    }
   ],
   "source": [
    "# SHORTEST COMMON SUPERSEQUENCE\n",
    "\"\"\"Given two strings str1 and str2, find the shortest string that has both str1 and str2 as subsequences.\"\"\"\n",
    "\n",
    "def scs(x, y, m, n):\n",
    "    dp = [[0 for i in range(n+1)] for j in range(m+1)]\n",
    "    \n",
    "    for i in range(m+1):\n",
    "        for j in range(n+1):\n",
    "            if i==0 or j == 0:\n",
    "                dp[i][j] = 0\n",
    "            elif x[i-1] == y[j-1]:\n",
    "                dp[i][j] = 1+dp[i-1][j-1]\n",
    "            else:\n",
    "                dp[i][j] = max(dp[i-1][j], dp[i][j-1])\n",
    "    return m+n-dp[m][n]\n",
    "\n",
    "\n",
    "x = \"AGGTAB\"\n",
    "y = \"GXTXAYB\"\n",
    "m = len(x)\n",
    "n = len(y)\n",
    "scs(x, y, m, n)"
   ]
  },
  {
   "cell_type": "code",
   "execution_count": 17,
   "id": "05d08a3e",
   "metadata": {},
   "outputs": [
    {
     "data": {
      "text/plain": [
       "'AGGXTXAYB'"
      ]
     },
     "execution_count": 17,
     "metadata": {},
     "output_type": "execute_result"
    }
   ],
   "source": [
    "# PRINTING SHORTEST COMMON SUPERSEQUENCE\n",
    "\"\"\"Given two strings X and Y, print the shortest string that has both X and Y as subsequences. \n",
    "If multiple shortest supersequence exists, print any one of them\"\"\"\n",
    "\n",
    "def printscs(x, y, m, n):\n",
    "    dp = [[-1 for i in range(n+1)] for j in range(m+1)]\n",
    "    \n",
    "    for i in range(m+1):\n",
    "        for j in range(n+1):\n",
    "            if i == 0 or j == 0:\n",
    "                dp[i][j] = 0\n",
    "            elif x[i-1] == y[j-1]:\n",
    "                dp[i][j] = 1 + dp[i-1][j-1]\n",
    "            else:\n",
    "                dp[i][j] = max(dp[i][j-1], dp[i-1][j])\n",
    "                \n",
    "#     return dp\n",
    "    str = \"\"\n",
    "    i = m\n",
    "    j = n\n",
    "    while i > 0 and j > 0 :\n",
    "        if x[i-1] == y[j-1]:\n",
    "            str += x[i-1]\n",
    "            i -= 1\n",
    "            j -= 1\n",
    "        elif dp[i][j-1] >= dp[i-1][j]:\n",
    "            str += y[j-1]\n",
    "            j -= 1\n",
    "        else:\n",
    "            str += x[i-1]\n",
    "            i -= 1\n",
    "            \n",
    "    while i > 0 :\n",
    "        str += x[i-1]\n",
    "        i -= 1\n",
    "    \n",
    "    while j > 0:\n",
    "        str += y[j-1]\n",
    "        j-=1\n",
    "    \n",
    "    return str[::-1]\n",
    "\n",
    "x = \"AGGTAB\"\n",
    "y = \"GXTXAYB\"\n",
    "m = len(x)\n",
    "n = len(y)\n",
    "printscs(x, y, m, n)\n"
   ]
  },
  {
   "cell_type": "code",
   "execution_count": 13,
   "id": "7e781b1f-29ba-468b-9f89-f0d4d1a08d3c",
   "metadata": {},
   "outputs": [
    {
     "name": "stdout",
     "output_type": "stream",
     "text": [
      "Minimum nuumber of deletions =  8\n",
      "Manimum number of insertions =  0\n"
     ]
    }
   ],
   "source": [
    "# MINIMUM NUMBER OF DELETIONS AND INSERTIONS TO TRANSFORM ON STRING TO ANOTHER STRING\n",
    "\"\"\"Given two strings ‘str1’ and ‘str2’ of size m and n respectively. \n",
    "The task is to remove/delete and insert minimum number of characters from/in str1 so as to transform it into str2. \n",
    "It could be possible that the same character needs to be removed/deleted from one point of str1 and \n",
    "inserted to some another point.\"\"\"\n",
    "\n",
    "def lcs(x, y, m, n):\n",
    "    dp = [[0 for i in range(n+1)] for j in range(m+1)]\n",
    "    \n",
    "    for i in range(m+1):\n",
    "        for j in range(n+1):\n",
    "            if i == 0 or j == 0:\n",
    "                dp[i][j] = 0\n",
    "            elif x[i-1] == y[j-1]:\n",
    "                dp[i][j] = 1 + dp[i-1][j-1]\n",
    "            else:\n",
    "                dp[i][j] = max(dp[i-1][j], dp[i][j-1])\n",
    "    return dp[m][n]\n",
    "    \n",
    "    \n",
    "x = \"geeksforgeeks\"\n",
    "y = \"geeks\"\n",
    "m = len(x)\n",
    "n = len(y)\n",
    "print(\"Minimum nuumber of deletions = \", (m - lcs(x, y, m, n)))\n",
    "print(\"Manimum number of insertions = \", (n - lcs(x, y, m, n)))\n",
    "# lcs(x, y, m, n)"
   ]
  },
  {
   "cell_type": "code",
   "execution_count": 3,
   "id": "475769be",
   "metadata": {},
   "outputs": [
    {
     "data": {
      "text/plain": [
       "5"
      ]
     },
     "execution_count": 3,
     "metadata": {},
     "output_type": "execute_result"
    }
   ],
   "source": [
    "# LONGEST PALINDROM SUBSEQUENCE\n",
    "\"\"\"Given a sequence, find the length of the longest palindromic subsequence in it.\"\"\"\n",
    "\n",
    "def lps(x, y, m, n):\n",
    "    dp = [[0 for i in range(n+1)] for j in range(m+1)]\n",
    "    \n",
    "    for i in range(m+1):\n",
    "        for j in range(n+1):\n",
    "            if i == 0 or j == 0:\n",
    "                dp[i][j] = 0\n",
    "            elif x[i-1] == y[j-1]:\n",
    "                dp[i][j] = 1 + dp[i-1][j-1]\n",
    "            else:\n",
    "                dp[i][j] = max(dp[i-1][j],dp[i][j-1])\n",
    "    return dp[m][n]\n",
    "\n",
    "x = \"GEEKSFORGEEKS\"\n",
    "y = x[::-1]\n",
    "m = len(x)\n",
    "n = len(y)\n",
    "lps(x, y, m, n)\n"
   ]
  },
  {
   "cell_type": "code",
   "execution_count": 34,
   "id": "a650a9ad",
   "metadata": {},
   "outputs": [
    {
     "name": "stdout",
     "output_type": "stream",
     "text": [
      "2\n"
     ]
    }
   ],
   "source": [
    "# MINIMUM NUMBER OF DELETIONS TO MAKE A STRING A PALINDROME\n",
    "\"\"\"Given a string of size ‘n’. The task is to remove or delete minimum number \n",
    "of characters from the string so that the resultant string is palindrome.\"\"\"\n",
    "\n",
    "def lcs(x, y, m, n):\n",
    "    dp = [[-1 for i in range(n+1)] for j in range(m+1)]\n",
    "    \n",
    "    for i in range(m+1):\n",
    "        for j in range(n+1):\n",
    "            if i == 0 or j == 0:\n",
    "                dp[i][j] = 0\n",
    "            elif x[i-1] == y[j-1]:\n",
    "                dp[i][j] = 1 + dp[i-1][j-1]\n",
    "            else:\n",
    "                dp[i][j] = max(dp[i-1][j], dp[i][j-1])\n",
    "\n",
    "    return dp[m][n]\n",
    "\n",
    "x = \"aebcbda\"\n",
    "y = x[::-1]\n",
    "m = len(x)\n",
    "n = len(y)\n",
    "\n",
    "print(m - lcs(x, y, m, n) )\n"
   ]
  },
  {
   "cell_type": "code",
   "execution_count": 26,
   "id": "1e672583",
   "metadata": {},
   "outputs": [
    {
     "name": "stdout",
     "output_type": "stream",
     "text": [
      "D\n",
      "B\n",
      "A\n"
     ]
    }
   ],
   "source": [
    "# LONGEST REPEATED SUBSEQENCE\n",
    "\"\"\"Given a string, print the longest repeating subsequence such that the two subsequence don’t have same string character \n",
    "at same position, i.e., any i’th character in the two subsequences shouldn’t have the same index in the original string.\"\"\"\n",
    "\n",
    "def lrs(x, y, m, n):\n",
    "    dp = [[0 for i in range(n+1)] for j in range(m+1)]\n",
    "    \n",
    "    for i in range(m+1):\n",
    "        for j in range(n+1):\n",
    "            if i == 0 or j == 0:\n",
    "                dp[i][j] = 0\n",
    "            elif x[i-1] == y[j-1] and i != j:\n",
    "                dp[i][j] = 1+dp[i-1][j-1]\n",
    "            else:\n",
    "                dp[i][j] = max(dp[i-1][j], dp[i][j-1])\n",
    "                \n",
    "#     return dp\n",
    "\n",
    "    i = m\n",
    "    j = n\n",
    "    \n",
    "    while i>0 and j>0:\n",
    "        if x[i-1] == y[j-1] and i != j:\n",
    "            print(x[i-1])\n",
    "            i -= 1\n",
    "            j -= 1\n",
    "        elif dp[i][j-1] >= dp[i-1][j]:\n",
    "            j -= 1\n",
    "        else:\n",
    "            i -= 1 \n",
    "            \n",
    "\n",
    "x = 'AABEBCDD'\n",
    "m = len(x)\n",
    "lrs(x, x, m, m)"
   ]
  },
  {
   "cell_type": "code",
   "execution_count": 5,
   "id": "cdd840b2",
   "metadata": {},
   "outputs": [
    {
     "data": {
      "text/plain": [
       "[[0, 0, 0, 0, 0, 0, 0],\n",
       " [0, 1, 1, 1, 1, 1, 1],\n",
       " [0, 1, 1, 2, 2, 2, 2],\n",
       " [0, 1, 1, 2, 2, 2, 3]]"
      ]
     },
     "execution_count": 5,
     "metadata": {},
     "output_type": "execute_result"
    }
   ],
   "source": [
    "# SEQUECNE PATTERN MATCHING\n",
    "\"\"\"Given two strings s and t, return true if s is a subsequence of t, or false otherwise.\n",
    "A subsequence of a string is a new string that is formed from the original string by deleting some (can be none) of the \n",
    "characters without disturbing the relative positions of the remaining characters. \n",
    "(i.e., \"ace\" is a subsequence of \"abcde\" while \"aec\" is not).\"\"\"\n",
    "\n",
    "def spm(x, y, m, n):\n",
    "    dp = [[0 for i in range(n+1)] for j in range(m+1)]\n",
    "    \n",
    "    for i in range(m+1):\n",
    "        for j in range(n+1):\n",
    "            if i == 0 or j == 0:\n",
    "                dp[i][j] = 0\n",
    "            elif x[i-1] == y[j-1]:\n",
    "                dp[i][j] = 1 + dp[i-1][j-1]\n",
    "            else:\n",
    "                dp[i][j] = max(dp[i-1][j], dp[i][j-1])\n",
    "                \n",
    "    if dp[m][n] == m :\n",
    "        return True\n",
    "    return False\n",
    "\n",
    "\n",
    "x = 'axy'\n",
    "y = 'adxcpy'\n",
    "m = len(x)\n",
    "n = len(y)\n",
    "spm(x, y, m, n)"
   ]
  },
  {
   "cell_type": "code",
   "execution_count": 11,
   "id": "ab5f20b8",
   "metadata": {},
   "outputs": [
    {
     "data": {
      "text/plain": [
       "2"
      ]
     },
     "execution_count": 11,
     "metadata": {},
     "output_type": "execute_result"
    }
   ],
   "source": [
    "# MINIUM NUMBER OF INSERTIONS TO MAKE A STRING PALINDROME\n",
    "\"\"\"Given a string, find the minimum number of characters to be inserted to form Palindrome string out of given string\"\"\"\n",
    "\n",
    "\n",
    "def lcs(x, y, m, n):\n",
    "    dp = [[0 for i in range(n+1)] for j in range(m+1)]\n",
    "    \n",
    "    for i in range(m+1):\n",
    "        for j in range(n+1):\n",
    "            if i == 0 or j == 0:\n",
    "                dp[i][j] = 0\n",
    "            elif x[i-1] == y[j-1]:\n",
    "                dp[i][j] = 1 + dp[i-1][j-1]\n",
    "            else:\n",
    "                dp[i][j] = max(dp[i-1][j], dp[i][j-1])\n",
    "    return dp[m][n]\n",
    "\n",
    "x = 'aebcbda'\n",
    "y = x[::-1]\n",
    "m = len(x)\n",
    "n = len(x)\n",
    "m-lcs(x, y, m, n)"
   ]
  },
  {
   "cell_type": "code",
   "execution_count": null,
   "id": "7aec6317",
   "metadata": {},
   "outputs": [],
   "source": []
  }
 ],
 "metadata": {
  "kernelspec": {
   "display_name": "Python 3 (ipykernel)",
   "language": "python",
   "name": "python3"
  },
  "language_info": {
   "codemirror_mode": {
    "name": "ipython",
    "version": 3
   },
   "file_extension": ".py",
   "mimetype": "text/x-python",
   "name": "python",
   "nbconvert_exporter": "python",
   "pygments_lexer": "ipython3",
   "version": "3.11.5"
  }
 },
 "nbformat": 4,
 "nbformat_minor": 5
}
