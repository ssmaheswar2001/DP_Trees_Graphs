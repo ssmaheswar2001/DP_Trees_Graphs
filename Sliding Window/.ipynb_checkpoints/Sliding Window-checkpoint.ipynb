{
 "cells": [
  {
   "cell_type": "markdown",
   "id": "c7d8670d",
   "metadata": {},
   "source": [
    "# Sliding Window\n",
    "\n",
    "Continuous substrings or continuous subarrays\n",
    "\n",
    "Types\n",
    "1. Fixed Size Window\n",
    "2. Variable Size Window\n",
    "\n",
    "# Fixed Size Window Problems\n",
    "1. Max/Min sub-array of size k\n",
    "2. 1st -ve in every window size of k\n",
    "3. Count occurence of anagram\n",
    "4. Max of all subarray of size k\n",
    "5. Max of min for every window size\n",
    "\n",
    "# Variable Size Window Problems\n",
    "1. Largest/smallest sub-array of sum k\n",
    "2. Longest sub-string with k distinct characters\n",
    "3. Length of longest sub-string with without repeating characters\n",
    "4. Pick Toy\n",
    "5. Min window Substring"
   ]
  },
  {
   "cell_type": "code",
   "execution_count": 2,
   "id": "a0f87616",
   "metadata": {},
   "outputs": [
    {
     "name": "stdout",
     "output_type": "stream",
     "text": [
      "18\n",
      "17\n",
      "16\n",
      "6\n",
      "24\n"
     ]
    },
    {
     "data": {
      "text/plain": [
       "24"
      ]
     },
     "execution_count": 2,
     "metadata": {},
     "output_type": "execute_result"
    }
   ],
   "source": [
    "# MAXIMUM SUM OF A SUBARRAY OF SIZE K.\n",
    "\n",
    "def swMaxSum(arr, n, k):\n",
    "    window_sum = sum(arr[0:k])\n",
    "    max_sum = window_sum\n",
    "    \n",
    "    for i in range(0, n-k):\n",
    "        window_sum = window_sum - arr[i] + arr[i+k]\n",
    "        if max_sum < window_sum:\n",
    "            max_sum = window_sum\n",
    "        print(window_sum)  \n",
    "    return max_sum\n",
    "    \n",
    "\n",
    "arr = [1, 4, 2, 10, 2, 3, 1, 0, 20]\n",
    "n = len(arr)\n",
    "k = 4\n",
    "\n",
    "swMaxSum(arr, n, k)"
   ]
  },
  {
   "cell_type": "code",
   "execution_count": 4,
   "id": "8aee36cf",
   "metadata": {},
   "outputs": [
    {
     "name": "stdout",
     "output_type": "stream",
     "text": [
      "0 3\n",
      "1 4\n",
      "2 5\n",
      "3 6\n",
      "4 7\n",
      "5 8\n",
      "24\n"
     ]
    }
   ],
   "source": [
    "def swMaxSum(arr, n, k):\n",
    "    \n",
    "    i = 0\n",
    "    j = 0\n",
    "    windowSum = 0\n",
    "    sum = 0\n",
    "    \n",
    "    while j<n:\n",
    "        windowSum += arr[j]\n",
    "        \n",
    "        if j-i+1 < k:\n",
    "            j += 1\n",
    "        elif j-i+1 == k:\n",
    "            sum = max(sum, windowSum)\n",
    "#             print(windowSum)\n",
    "            windowSum -= arr[i]\n",
    "            i += 1\n",
    "            j += 1\n",
    "    print(sum)\n",
    "\n",
    "\n",
    "arr = [1, 4, 2, 10, 2, 3, 1, 0, 20]\n",
    "# arr = [100, 200, 300, 400]\n",
    "n = len(arr)\n",
    "k = 4\n",
    "\n",
    "swMaxSum(arr, n, k)"
   ]
  },
  {
   "cell_type": "code",
   "execution_count": 26,
   "id": "d2c899de",
   "metadata": {},
   "outputs": [
    {
     "data": {
      "text/plain": [
       "24"
      ]
     },
     "execution_count": 26,
     "metadata": {},
     "output_type": "execute_result"
    }
   ],
   "source": [
    "def swMaxSum(arr, n, k):\n",
    "    \n",
    "    i = 0\n",
    "    j = 0\n",
    "    sum = 0\n",
    "    max_sum = 0\n",
    "    \n",
    "    while j < n:\n",
    "        sum += arr[j]\n",
    "        if (j-i) == k:\n",
    "            sum -= arr[i]  \n",
    "            i += 1\n",
    "        j += 1\n",
    "        max_sum = max(max_sum, sum)\n",
    "    return max_sum\n",
    "\n",
    "arr = [1, 4, 2, 10, 2, 3, 1, 0, 20]\n",
    "# arr = [100, 200, 300, 400]\n",
    "n = len(arr)\n",
    "k = 4\n",
    "\n",
    "swMaxSum(arr, n, k)\n"
   ]
  },
  {
   "cell_type": "code",
   "execution_count": 13,
   "id": "869710c8",
   "metadata": {},
   "outputs": [
    {
     "name": "stdout",
     "output_type": "stream",
     "text": [
      "-1 -1 -7 -15 -15 0 "
     ]
    }
   ],
   "source": [
    "# First Negative integer in every window of size k \n",
    "from collections import deque\n",
    "def swFirstNeg(arr, n, k):\n",
    "    \n",
    "    i = 0\n",
    "    j = 0\n",
    "    \n",
    "    negativeIndex = deque()\n",
    "    \n",
    "    while j < n:\n",
    "        \n",
    "        if arr[j] < 0:\n",
    "            negativeIndex.append(j)\n",
    "        \n",
    "        if j-i+1 == k:\n",
    "            if negativeIndex:\n",
    "                print(arr[negativeIndex[0]], end=\" \")\n",
    "                if negativeIndex[0] == i:\n",
    "                    negativeIndex.popleft()\n",
    "            else:\n",
    "                print(\"0\", end=\" \")\n",
    "            i += 1\n",
    "        \n",
    "        j += 1\n",
    "    \n",
    "     \n",
    "    \n",
    "arr = [12, -1, -7, 8, -15, 30, 16, 28]\n",
    "n = len(arr)\n",
    "k = 3\n",
    "swFirstNeg(arr, n, k)"
   ]
  },
  {
   "cell_type": "code",
   "execution_count": 33,
   "id": "0b5e5ebb",
   "metadata": {},
   "outputs": [
    {
     "name": "stdout",
     "output_type": "stream",
     "text": [
      "{'a': 3, 'b': 1}\n",
      "aaba\n",
      "1\n",
      "abaa\n",
      "2\n",
      "baab\n",
      "aaba\n",
      "3\n",
      "abaa\n",
      "4\n"
     ]
    },
    {
     "data": {
      "text/plain": [
       "4"
      ]
     },
     "execution_count": 33,
     "metadata": {},
     "output_type": "execute_result"
    }
   ],
   "source": [
    "# Count occurrences of Anagrams\n",
    "\n",
    "def countAnagram(test, word, n, k):\n",
    "    \n",
    "    j = 0\n",
    "    i = 0\n",
    "    windowString = \"\"\n",
    "    anagramCount = 0\n",
    "    wordCount = {}\n",
    "    for w in word:\n",
    "        if w not in wordCount:\n",
    "            wordCount[w] = 1\n",
    "        else:\n",
    "            wordCount[w] += 1\n",
    "            \n",
    "    print(wordCount)\n",
    "    distinctWords = len(wordCount)\n",
    "    \n",
    "    while j<n:\n",
    "        windowString += test[j]\n",
    "        if test[j] in wordCount:\n",
    "            wordCount[test[j]] -= 1\n",
    "            if wordCount[test[j]] == 0:\n",
    "                distinctWords -= 1\n",
    "        if j-i+1 < k:\n",
    "            j += 1\n",
    "        elif j-i+1 == k:\n",
    "            print(windowString)\n",
    "            if distinctWords == 0:\n",
    "                anagramCount += 1\n",
    "                print(anagramCount)\n",
    "            windowString = windowString[1:]\n",
    "            if test[i] in wordCount:\n",
    "                wordCount[test[i]] += 1\n",
    "                if wordCount[test[i]] == 1:\n",
    "                    distinctWords += 1\n",
    "            i += 1\n",
    "            j += 1\n",
    "        \n",
    "    return anagramCount\n",
    "\n",
    "test = \"aabaabaa\"\n",
    "word = \"aaba\"\n",
    "n = len(test)\n",
    "k = len(word)\n",
    "countAnagram(test, word, n, k)"
   ]
  },
  {
   "cell_type": "code",
   "execution_count": 12,
   "id": "61f1dcfa",
   "metadata": {},
   "outputs": [],
   "source": [
    "# Maximum of all subarrays of size k\n",
    "\n",
    "def maxSubArray(arr, n, k):\n",
    "    \n",
    "    pass\n",
    "        \n",
    "    \n",
    "arr = [1, 3, -1, -3, 5, 3, 6, 7]\n",
    "# arr = [1, 2, 3, 1, 4, 5, 2, 3, 6]\n",
    "n = len(arr)\n",
    "k = 3\n",
    "maxSubArray(arr, n, k)"
   ]
  },
  {
   "cell_type": "code",
   "execution_count": null,
   "id": "a746f60f",
   "metadata": {},
   "outputs": [],
   "source": []
  },
  {
   "cell_type": "code",
   "execution_count": 15,
   "id": "f4dd98ff",
   "metadata": {},
   "outputs": [
    {
     "data": {
      "text/plain": [
       "4"
      ]
     },
     "execution_count": 15,
     "metadata": {},
     "output_type": "execute_result"
    }
   ],
   "source": [
    "# Largest Subarray of sum k\n",
    "\n",
    "def lsubArray(arr, n, sum):\n",
    "    \n",
    "    i = 0\n",
    "    j = 0\n",
    "    windowSum = 0\n",
    "    maxArray = 0\n",
    "    \n",
    "    while j<n:\n",
    "        windowSum += arr[j]\n",
    "        \n",
    "        if windowSum < sum:\n",
    "            j += 1\n",
    "        elif windowSum == sum:\n",
    "#             print(j-i+1)\n",
    "            maxArray = max(maxArray, (j-i+1))\n",
    "#             windowSum -= arr[i]\n",
    "#             i += 1\n",
    "            j += 1\n",
    "        elif windowSum > sum:\n",
    "            while windowSum > sum:\n",
    "                windowSum -= arr[i]\n",
    "                i += 1\n",
    "            if(windowSum == sum ):\n",
    "#                 print(j-i+1)\n",
    "                maxArray = max(maxArray, (j-i+1))\n",
    "            j+=1\n",
    "        \n",
    "    return maxArray\n",
    "    \n",
    "    \n",
    "arr = [4, 1, 1, 1, 2, 3, 5]\n",
    "# arr = [10, 5, 2, 7, 1, 9]\n",
    "# arr = [-5, 8, -14, 2, 4, 12]\n",
    "# sum = -5\n",
    "sum = 5\n",
    "n = len(arr)\n",
    "lsubArray(arr, n, sum)"
   ]
  },
  {
   "cell_type": "code",
   "execution_count": 39,
   "id": "bb5b95eb",
   "metadata": {},
   "outputs": [
    {
     "data": {
      "text/plain": [
       "7"
      ]
     },
     "execution_count": 39,
     "metadata": {},
     "output_type": "execute_result"
    }
   ],
   "source": [
    "# Lonngest sustring with k unique characters in a given string\n",
    "\n",
    "from collections import deque\n",
    "def lsubString(str, n, k):\n",
    "    \n",
    "    i = 0\n",
    "    j = 0\n",
    "    uniqueCharCount = {}\n",
    "    maxLength = 0\n",
    "    \n",
    "    while j < n:\n",
    "        \n",
    "        if str[j] not in uniqueCharCount:\n",
    "            uniqueCharCount[str[j]] = 1\n",
    "        else:\n",
    "            uniqueCharCount[str[j]] += 1\n",
    "            \n",
    "        if len(uniqueCharCount) < k:\n",
    "            j += 1\n",
    "        elif len(uniqueCharCount) == k:\n",
    "#             print(j-i+1)\n",
    "            maxLength = max(maxLength, j-i+1)\n",
    "            j += 1\n",
    "        elif len(uniqueCharCount) > k:\n",
    "            while len(uniqueCharCount) > k:\n",
    "                uniqueCharCount[str[i]] -= 1\n",
    "                if uniqueCharCount[str[i]] == 0:\n",
    "                    del uniqueCharCount[str[i]]\n",
    "                i += 1\n",
    "            if len(uniqueCharCount) == k:\n",
    "#                 print(j-i+1)\n",
    "                maxLength = max(maxLength, j-i+1)\n",
    "            j += 1\n",
    "    return maxLength\n",
    "\n",
    "str = \"aabacbebebe\"\n",
    "k = 3\n",
    "n= len(str)\n",
    "lsubString(str, n, k)"
   ]
  },
  {
   "cell_type": "code",
   "execution_count": 12,
   "id": "54032aff",
   "metadata": {},
   "outputs": [
    {
     "data": {
      "text/plain": [
       "7"
      ]
     },
     "execution_count": 12,
     "metadata": {},
     "output_type": "execute_result"
    }
   ],
   "source": [
    "# Longest Substring With Without Repeating Characters\n",
    "\n",
    "def lSubString(str, n):\n",
    "    \n",
    "    j = 0\n",
    "    i = 0\n",
    "    \n",
    "    uniqueCharCount = {}\n",
    "    maxSubString = 0\n",
    "    \n",
    "    while j < n:\n",
    "        \n",
    "        if str[j] not in uniqueCharCount:\n",
    "            uniqueCharCount[str[j]] = 1\n",
    "        else:\n",
    "            uniqueCharCount[str[j]] += 1\n",
    "        \n",
    "        if (j-i+1) < len(uniqueCharCount)  :\n",
    "            j += 1\n",
    "        elif (j-i+1) == len(uniqueCharCount):\n",
    "#             print(j-i+1)\n",
    "            maxSubString = max(maxSubString, (j-i+1))\n",
    "            j += 1\n",
    "        elif (j-i+1) > len(uniqueCharCount):\n",
    "            while (j-i+1) > len(uniqueCharCount):\n",
    "                uniqueCharCount[str[i]] -= 1\n",
    "                if uniqueCharCount[str[i]] == 0:\n",
    "                    del uniqueCharCount[str[i]]\n",
    "                i += 1\n",
    "            if (j-i+1) == len(uniqueCharCount):\n",
    "#                 print(j-i+1)\n",
    "                maxSubString = max(maxSubString, (j-i+1))\n",
    "            j += 1\n",
    "        \n",
    "        \n",
    "    return maxSubString\n",
    "    \n",
    "\n",
    "str = 'ABCDEFGABEF'\n",
    "n = len(str)\n",
    "\n",
    "lSubString(str, n)"
   ]
  },
  {
   "cell_type": "code",
   "execution_count": 40,
   "id": "440a1d05",
   "metadata": {},
   "outputs": [
    {
     "data": {
      "text/plain": [
       "4"
      ]
     },
     "execution_count": 40,
     "metadata": {},
     "output_type": "execute_result"
    }
   ],
   "source": [
    "def maxToys(toys, n, k):\n",
    "    \n",
    "    j = 0\n",
    "    i = 0\n",
    "    \n",
    "    uniqueToysCount = {}\n",
    "    maxToys = 0\n",
    "    \n",
    "    while j < n:\n",
    "        \n",
    "        if toys[j] not in uniqueToysCount:\n",
    "            uniqueToysCount[toys[j]] = 1\n",
    "        else:\n",
    "            uniqueToysCount[toys[j]] += 1\n",
    "            \n",
    "        if len(uniqueToysCount) < k:\n",
    "            j += 1\n",
    "        elif len(uniqueToysCount) == k:\n",
    "#             print(j-i+1)\n",
    "            maxToys = max(maxToys, j-i+1)\n",
    "            j += 1\n",
    "        elif len(uniqueToysCount) > k:\n",
    "            while len(uniqueToysCount) > k:\n",
    "                uniqueToysCount[toys[i]] -= 1\n",
    "                if uniqueToysCount[toys[i]] == 0:\n",
    "                    del uniqueToysCount[toys[i]]\n",
    "                i += 1\n",
    "                \n",
    "                if len(uniqueToysCount) == k:\n",
    "#                     print(j-i+1)\n",
    "                    maxToys = max(maxToys, j-i+1)\n",
    "            j += 1     \n",
    "        \n",
    "    return maxToys\n",
    "\n",
    "toys = 'abaccab'\n",
    "n = len(toys)\n",
    "k = 2\n",
    "maxToys(toys, n, k)"
   ]
  },
  {
   "cell_type": "code",
   "execution_count": 10,
   "id": "1c440972",
   "metadata": {},
   "outputs": [
    {
     "data": {
      "text/plain": [
       "'ksfor'"
      ]
     },
     "execution_count": 10,
     "metadata": {},
     "output_type": "execute_result"
    }
   ],
   "source": [
    "# Minimum Window Substring\n",
    "\n",
    "def minSubString(str, pattern):\n",
    "    \n",
    "    n = len(str)\n",
    "    \n",
    "    uniqueCharDict = {}\n",
    "    \n",
    "    for i in pattern:\n",
    "        if i not in uniqueCharDict:\n",
    "            uniqueCharDict[i] = 1\n",
    "        else:\n",
    "            uniqueCharDict[i] += 1\n",
    "    \n",
    "    count = len(uniqueCharDict)\n",
    "    \n",
    "    \n",
    "    i = 0\n",
    "    j = 0\n",
    "    \n",
    "    minSize = n\n",
    "    minj = n-1\n",
    "    mini = 0\n",
    "    \n",
    "    while j < n:\n",
    "        \n",
    "        if str[j] in uniqueCharDict:\n",
    "            uniqueCharDict[str[j]] -= 1\n",
    "            if uniqueCharDict[str[j]] == 0:\n",
    "                count -= 1\n",
    "                \n",
    "        if count > 0:\n",
    "            j += 1\n",
    "        elif count == 0:\n",
    "#             print(j, i)\n",
    "            if minSize > (j-i+1):\n",
    "                minSize = (j-i+1)\n",
    "                mini = i\n",
    "                minj = j\n",
    "                \n",
    "            while count == 0:\n",
    "                if count == 0:\n",
    "#                     print(j, i)\n",
    "                    if minSize > (j-i+1):\n",
    "                        minSize = (j-i+1)\n",
    "                        mini = i\n",
    "                        minj = j\n",
    "                if str[i] in uniqueCharDict:\n",
    "                    uniqueCharDict[str[i]] += 1\n",
    "                    if uniqueCharDict[str[i]] > 0:\n",
    "                        count += 1\n",
    "                \n",
    "                i += 1\n",
    "            j += 1\n",
    "                        \n",
    "                        \n",
    "                \n",
    "#     print(mini, minj)\n",
    "    return str[mini:minj+1]\n",
    "    \n",
    "    \n",
    "    \n",
    "\n",
    "str = \"geeksforgeeks\"\n",
    "pattern = \"ork\"\n",
    "minSubString(str, pattern)"
   ]
  },
  {
   "cell_type": "code",
   "execution_count": null,
   "id": "32093472",
   "metadata": {},
   "outputs": [],
   "source": []
  }
 ],
 "metadata": {
  "kernelspec": {
   "display_name": "Python 3 (ipykernel)",
   "language": "python",
   "name": "python3"
  },
  "language_info": {
   "codemirror_mode": {
    "name": "ipython",
    "version": 3
   },
   "file_extension": ".py",
   "mimetype": "text/x-python",
   "name": "python",
   "nbconvert_exporter": "python",
   "pygments_lexer": "ipython3",
   "version": "3.11.5"
  }
 },
 "nbformat": 4,
 "nbformat_minor": 5
}
