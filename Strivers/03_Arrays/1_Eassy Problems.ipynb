{
 "cells": [
  {
   "cell_type": "markdown",
   "id": "23c2069a",
   "metadata": {},
   "source": [
    "## Basics of Arrays\n",
    "- An array is a datastructure which contains similar elements.\n",
    "- An array can accessed by index i.e from 0 to n-1."
   ]
  },
  {
   "cell_type": "code",
   "execution_count": null,
   "id": "f13346d2",
   "metadata": {},
   "outputs": [],
   "source": []
  },
  {
   "cell_type": "markdown",
   "id": "f7d07250",
   "metadata": {},
   "source": [
    "# Largest Element in an Array"
   ]
  },
  {
   "cell_type": "code",
   "execution_count": 5,
   "id": "c5c9f55a",
   "metadata": {},
   "outputs": [
    {
     "data": {
      "text/plain": [
       "90"
      ]
     },
     "execution_count": 5,
     "metadata": {},
     "output_type": "execute_result"
    }
   ],
   "source": [
    "# Brute Force : Sorting and retriving the last element\n",
    "# Time Complextiy : O(NLogN)\n",
    "\n",
    "def merge(arr, low, mid, high):\n",
    "    i = low\n",
    "    j = mid + 1\n",
    "    temp = []\n",
    "    while i <= mid  and j <= high:\n",
    "        if arr[i] <= arr[j]:\n",
    "            temp.append(arr[i])\n",
    "            i += 1\n",
    "        else:\n",
    "            temp.append(arr[j])\n",
    "            j += 1\n",
    "            \n",
    "    while i<=mid:\n",
    "        temp.append(arr[i])\n",
    "        i += 1\n",
    "        \n",
    "    while j<=high:\n",
    "        temp.append(arr[j])\n",
    "        j += 1\n",
    "        \n",
    "    for i in range(low, high+1):\n",
    "        arr[i] = temp[i-low]\n",
    "\n",
    "def mergeSort(arr, low, high):\n",
    "    if low < high:\n",
    "        mid = low + (high-low)//2\n",
    "        mergeSort(arr, low, mid)\n",
    "        mergeSort(arr, mid+1, high)\n",
    "        merge(arr, low, mid, high)\n",
    "\n",
    "def largest(arr, n):\n",
    "    \n",
    "    mergeSort(arr, 0, n-1)\n",
    "    return arr[n-1]\n",
    "\n",
    "arr = [5, 23, 90, 1, 3, 6]\n",
    "largest(arr, len(arr))"
   ]
  },
  {
   "cell_type": "code",
   "execution_count": 6,
   "id": "3520da0a",
   "metadata": {},
   "outputs": [
    {
     "data": {
      "text/plain": [
       "90"
      ]
     },
     "execution_count": 6,
     "metadata": {},
     "output_type": "execute_result"
    }
   ],
   "source": [
    "# Optimized\n",
    "# Time Complexity : O(n)\n",
    "# https://bit.ly/3Pld280\n",
    "\n",
    "def largest(arr, n):\n",
    "    _max = 0\n",
    "    for i in range(n):\n",
    "        if arr[i] > _max:\n",
    "            _max = arr[i]\n",
    "            \n",
    "    return _max\n",
    "\n",
    "arr = [5, 23, 90, 1, 3, 6]\n",
    "largest(arr, len(arr))"
   ]
  },
  {
   "cell_type": "code",
   "execution_count": null,
   "id": "61f2401b",
   "metadata": {},
   "outputs": [],
   "source": []
  },
  {
   "cell_type": "markdown",
   "id": "d13a6b55",
   "metadata": {},
   "source": [
    "# 2nd Largest Element in an Array without sorting"
   ]
  },
  {
   "cell_type": "code",
   "execution_count": 9,
   "id": "f0cd155e",
   "metadata": {},
   "outputs": [
    {
     "data": {
      "text/plain": [
       "5"
      ]
     },
     "execution_count": 9,
     "metadata": {},
     "output_type": "execute_result"
    }
   ],
   "source": [
    "# Brute force - Sorting and finding the 2nd largest element from the last\n",
    "# Time Complexity : O(NLogN + N)\n",
    "\n",
    "def largest2nd(arr, n):\n",
    "    arr.sort()\n",
    "    largest = arr[n-1]\n",
    "    for i in range(n-2, -1, -1):\n",
    "        if arr[i] != largest:\n",
    "            return arr[i]\n",
    "    return -1\n",
    "    \n",
    "arr = [4, 7, 2, 1, 7, 5]\n",
    "# arr = [5, 5, 5, 5]\n",
    "largest2nd(arr, len(arr))"
   ]
  },
  {
   "cell_type": "code",
   "execution_count": 13,
   "id": "1e61b48e",
   "metadata": {},
   "outputs": [
    {
     "data": {
      "text/plain": [
       "5"
      ]
     },
     "execution_count": 13,
     "metadata": {},
     "output_type": "execute_result"
    }
   ],
   "source": [
    "# Better - Finding largest for 1st pass and then 2nd largest on 2nd pass\n",
    "# Time complextiy : O(N + N) = O(2N)\n",
    "\n",
    "def largest2nd(arr, n):\n",
    "    largest = arr[0]\n",
    "    largest_2 = -1\n",
    "    \n",
    "    for i in range(1, n):\n",
    "        if arr[i] > largest:\n",
    "            largest = arr[i]\n",
    "            \n",
    "    for i in range(n):\n",
    "        if arr[i] > largest_2 and arr[i] != largest:\n",
    "            largest_2 = arr[i]\n",
    "            \n",
    "    return largest_2\n",
    "    \n",
    "arr = [4, 7, 2, 1, 7, 5]\n",
    "# arr = [5, 5, 5, 5]\n",
    "largest2nd(arr, len(arr))"
   ]
  },
  {
   "cell_type": "code",
   "execution_count": 18,
   "id": "c574229d",
   "metadata": {},
   "outputs": [
    {
     "data": {
      "text/plain": [
       "5"
      ]
     },
     "execution_count": 18,
     "metadata": {},
     "output_type": "execute_result"
    }
   ],
   "source": [
    "# Optimal \n",
    "# Time Complexity : O(N)\n",
    "\n",
    "def largest2nd(arr, n):\n",
    "    largest = arr[0]\n",
    "    largest_2 = -1\n",
    "    \n",
    "    for i in range(1, n):\n",
    "        if arr[i] > largest:\n",
    "            largest_2 = largest\n",
    "            largest = arr[i]\n",
    "        if arr[i] < largest and arr[i] > largest_2:\n",
    "            largest_2 = arr[i]\n",
    "            \n",
    "    return largest_2\n",
    "\n",
    "arr = [4, 7, 2, 1, 7, 5]\n",
    "# arr = [5, 5, 5, 5]\n",
    "largest2nd(arr, len(arr))"
   ]
  },
  {
   "cell_type": "code",
   "execution_count": 25,
   "id": "a615ffdc",
   "metadata": {},
   "outputs": [
    {
     "data": {
      "text/plain": [
       "12"
      ]
     },
     "execution_count": 25,
     "metadata": {},
     "output_type": "execute_result"
    }
   ],
   "source": [
    "# Optimal 2nd Smallest \n",
    "# Time Complexity : O(N)\n",
    "# https://bit.ly/3pFvBcN\n",
    "\n",
    "def smallest2nd(arr, n):\n",
    "    smallest = arr[0]\n",
    "    smallest_2 = 10**5\n",
    "    \n",
    "    for i in range(1, n):\n",
    "        if arr[i] < smallest:\n",
    "            smallest_2 = smallest\n",
    "            smallest = arr[i]\n",
    "        elif arr[i] < smallest_2 and arr[i] > smallest:\n",
    "            smallest_2 = arr[i]\n",
    "            \n",
    "    return smallest_2\n",
    "    \n",
    "arr = [12, 35, 1, 1, 32, 1]\n",
    "# arr = [5, 5, 5, 5, 5]\n",
    "smallest2nd(arr, len(arr))"
   ]
  },
  {
   "cell_type": "code",
   "execution_count": null,
   "id": "c028f16d",
   "metadata": {},
   "outputs": [],
   "source": []
  },
  {
   "cell_type": "markdown",
   "id": "dc415735",
   "metadata": {},
   "source": [
    "# Check if the array is sorted"
   ]
  },
  {
   "cell_type": "code",
   "execution_count": 27,
   "id": "9d23f841",
   "metadata": {},
   "outputs": [
    {
     "data": {
      "text/plain": [
       "True"
      ]
     },
     "execution_count": 27,
     "metadata": {},
     "output_type": "execute_result"
    }
   ],
   "source": [
    "# Time complexity : O(N)\n",
    "\n",
    "def isSorted(arr, n):\n",
    "    for i in range(1, n):\n",
    "        if arr[i-1] > arr[i]:\n",
    "            return False\n",
    "    return True\n",
    "\n",
    "arr = [1, 2, 2, 3, 3, 4]\n",
    "# arr = [1, 2, 1, 3, 4]\n",
    "isSorted(arr, len(arr))"
   ]
  },
  {
   "cell_type": "code",
   "execution_count": null,
   "id": "d5d06af4",
   "metadata": {},
   "outputs": [],
   "source": []
  },
  {
   "cell_type": "markdown",
   "id": "6d6b59e7",
   "metadata": {},
   "source": [
    "# Check if the array is sorted and rotated"
   ]
  },
  {
   "cell_type": "code",
   "execution_count": 5,
   "id": "db2963bb",
   "metadata": {},
   "outputs": [
    {
     "data": {
      "text/plain": [
       "True"
      ]
     },
     "execution_count": 5,
     "metadata": {},
     "output_type": "execute_result"
    }
   ],
   "source": [
    "# https://leetcode.com/problems/check-if-array-is-sorted-and-rotated/#:~:text=Input%3A%20nums%20%3D%20%5B2%2C,no%20rotation)%20to%20make%20nums.\n",
    "# Time complexity : O(N)\n",
    "\n",
    "def check(arr, n):\n",
    "    _break = 0\n",
    "    for i in range(n):\n",
    "        if arr[i] > arr[(i+1)%n]:\n",
    "            _break += 1\n",
    "            \n",
    "    return (_break <= 1)\n",
    "\n",
    "# arr = [2, 1, 3, 4]\n",
    "arr = [3, 4, 5, 1, 2]\n",
    "# arr = [1, 2, 3]\n",
    "check(arr, len(arr))"
   ]
  },
  {
   "cell_type": "code",
   "execution_count": null,
   "id": "1065c8cb",
   "metadata": {},
   "outputs": [],
   "source": []
  },
  {
   "cell_type": "markdown",
   "id": "2d94e1ff",
   "metadata": {},
   "source": [
    "# Remove duplicates from sorted Array"
   ]
  },
  {
   "cell_type": "code",
   "execution_count": 6,
   "id": "d109da66",
   "metadata": {},
   "outputs": [
    {
     "data": {
      "text/plain": [
       "3"
      ]
     },
     "execution_count": 6,
     "metadata": {},
     "output_type": "execute_result"
    }
   ],
   "source": [
    "# Brute Force - using set data structure\n",
    "# Time complexity : O(NLogN + N)\n",
    "\n",
    "def removeDuplicates(arr, n):\n",
    "    _set = set()\n",
    "    \n",
    "    # O(NLogN)\n",
    "    for i in arr:\n",
    "        _set.add(i)\n",
    "        \n",
    "    index = 0\n",
    "    for i in _set:\n",
    "        arr[i] = _set\n",
    "        index += 1\n",
    "        \n",
    "    return index\n",
    "    \n",
    "\n",
    "arr = [1, 1, 2, 2, 2, 3, 3]\n",
    "removeDuplicates(arr, len(arr))"
   ]
  },
  {
   "cell_type": "code",
   "execution_count": 8,
   "id": "f778ad4b",
   "metadata": {},
   "outputs": [
    {
     "data": {
      "text/plain": [
       "3"
      ]
     },
     "execution_count": 8,
     "metadata": {},
     "output_type": "execute_result"
    }
   ],
   "source": [
    "# Optimal Approach - 2 Pointer approach\n",
    "# Time complexity - O(N)\n",
    "# Space Complexity - O(1)\n",
    "\n",
    "def removeDuplicates(arr, n):\n",
    "    \n",
    "    i = 0\n",
    "    j = 1\n",
    "    n = len(arr)\n",
    "    while j < n:\n",
    "        if arr[i] != arr[j]:\n",
    "            i += 1\n",
    "            arr[i] = arr[j]\n",
    "        j += 1\n",
    "        \n",
    "    return i+1\n",
    "    \n",
    "\n",
    "arr = [1, 1, 2, 2, 2, 3, 3]\n",
    "removeDuplicates(arr, len(arr))"
   ]
  },
  {
   "cell_type": "code",
   "execution_count": null,
   "id": "b3a52080",
   "metadata": {},
   "outputs": [],
   "source": []
  },
  {
   "cell_type": "markdown",
   "id": "1c01f01a",
   "metadata": {},
   "source": [
    "# Left Rotate an array by one place"
   ]
  },
  {
   "cell_type": "code",
   "execution_count": 11,
   "id": "34a38d90",
   "metadata": {},
   "outputs": [
    {
     "data": {
      "text/plain": [
       "[2, 3, 4, 5, 1]"
      ]
     },
     "execution_count": 11,
     "metadata": {},
     "output_type": "execute_result"
    }
   ],
   "source": [
    "# Brute force\n",
    "# Time Complexity : O(N)\n",
    "# Space Complexity : O(1)\n",
    "# https://www.naukri.com/code360/problems/left-rotate-an-array-by-one_5026278?utm_source=youtube&utm_medium=affiliate&utm_campaign=striver_Arrayproblems&leftPanelTabValue=SUBMISSION&nps=true\n",
    "\n",
    "def leftRotate(arr, n):\n",
    "    temp = arr[0]\n",
    "    for i in range(n-1):\n",
    "        arr[i] = arr[i+1]\n",
    "    arr[n-1] = temp\n",
    "        \n",
    "    return arr\n",
    "        \n",
    "arr = [1, 2, 3, 4, 5]\n",
    "leftRotate(arr, len(arr))"
   ]
  },
  {
   "cell_type": "code",
   "execution_count": null,
   "id": "3a5301c5",
   "metadata": {},
   "outputs": [],
   "source": []
  },
  {
   "cell_type": "markdown",
   "id": "a42897c3",
   "metadata": {},
   "source": [
    "# Left Rotate an array by D places"
   ]
  },
  {
   "cell_type": "code",
   "execution_count": 19,
   "id": "b5886de4",
   "metadata": {},
   "outputs": [
    {
     "data": {
      "text/plain": [
       "[4, 5, 6, 7, 1, 2, 3]"
      ]
     },
     "execution_count": 19,
     "metadata": {},
     "output_type": "execute_result"
    }
   ],
   "source": [
    "# Brute force approach - Using temp array\n",
    "# Time complexity : O(n+k)\n",
    "# Space Complexity : O(k)\n",
    "# https://www.naukri.com/code360/problems/rotate-array_1230543?utm_source=youtube&utm_medium=affiliate&utm_campaign=striver_Arrayproblems\n",
    "\n",
    "def leftShift(arr, k):\n",
    "    n = len(arr)\n",
    "    k = k%n\n",
    "    \n",
    "    temp = []\n",
    "    \n",
    "    # O(k)\n",
    "    for i in range(k):\n",
    "        temp.append(arr[i])\n",
    "        \n",
    "    # O(n-k)\n",
    "    for i in range(k, n):\n",
    "        arr[i-k] = arr[i]\n",
    "    \n",
    "    # O(k)\n",
    "    for i in range(n-k, n):\n",
    "        arr[i] = temp[i-(n-k)]\n",
    "    return arr\n",
    "\n",
    "arr = [1, 2, 3, 4, 5, 6, 7]\n",
    "k = 3\n",
    "leftShift(arr, k)"
   ]
  },
  {
   "cell_type": "code",
   "execution_count": 39,
   "id": "7b76c828",
   "metadata": {},
   "outputs": [
    {
     "data": {
      "text/plain": [
       "[3, 4, 5, 6, 7, 1, 2]"
      ]
     },
     "execution_count": 39,
     "metadata": {},
     "output_type": "execute_result"
    }
   ],
   "source": [
    "# Optimal approach -Reverse 1st k element and remanining elements\n",
    "# Time Complexity : O(2N)\n",
    "# Space Complexity : O(1)\n",
    "\n",
    "def reverse(arr, i, j):\n",
    "    \n",
    "    while i < j:\n",
    "        arr[i], arr[j] = arr[j], arr[i]\n",
    "        i += 1\n",
    "        j -=1\n",
    "\n",
    "def leftShift(arr, k):\n",
    "    n = len(arr)\n",
    "    k = k%n\n",
    "    \n",
    "    # O(k)\n",
    "    reverse(arr,0, k-1)\n",
    "    #O(n-k)\n",
    "    reverse(arr, k, n-1)\n",
    "    #O(n)\n",
    "    reverse(arr, 0, n-1)\n",
    "\n",
    "arr = [1, 2, 3, 4, 5, 6, 7]\n",
    "# arr = [1, 2]\n",
    "k = 2\n",
    "leftShift(arr, k)\n",
    "arr"
   ]
  },
  {
   "cell_type": "code",
   "execution_count": null,
   "id": "01bed4cc",
   "metadata": {},
   "outputs": [],
   "source": []
  },
  {
   "cell_type": "markdown",
   "id": "84a23d0d",
   "metadata": {},
   "source": [
    "# Right Rotate by d places"
   ]
  },
  {
   "cell_type": "code",
   "execution_count": 37,
   "id": "32d03f01",
   "metadata": {},
   "outputs": [
    {
     "data": {
      "text/plain": [
       "[6, 7, 1, 2, 3, 4, 5]"
      ]
     },
     "execution_count": 37,
     "metadata": {},
     "output_type": "execute_result"
    }
   ],
   "source": [
    "# Brute force approach\n",
    "# Time complexity : O(n+k)\n",
    "# Space Complexity : O(k)\n",
    "# https://leetcode.com/problems/rotate-array/submissions/1285068689/\n",
    "\n",
    "def rightShift(arr, k):\n",
    "    n = len(arr)\n",
    "    k = k%n\n",
    "    \n",
    "    temp = []\n",
    "    O(k)\n",
    "    for i in range(n-k, n):\n",
    "        temp.append(arr[i])\n",
    "#     print(temp)\n",
    "    \n",
    "    O(n-k)\n",
    "    for i in range(n-1-k, -1, -1):\n",
    "        arr[i+k] = arr[i]\n",
    "        \n",
    "    O(k)\n",
    "    for i in range(k):\n",
    "        arr[i] = temp[i]\n",
    "    return arr\n",
    "\n",
    "arr = [1, 2, 3, 4, 5, 6, 7]\n",
    "k = 2\n",
    "rightShift(arr, k)"
   ]
  },
  {
   "cell_type": "code",
   "execution_count": 42,
   "id": "f7440d2f",
   "metadata": {},
   "outputs": [
    {
     "data": {
      "text/plain": [
       "[5, 6, 7, 1, 2, 3, 4]"
      ]
     },
     "execution_count": 42,
     "metadata": {},
     "output_type": "execute_result"
    }
   ],
   "source": [
    "def reverse(arr, i, j):\n",
    "    \n",
    "    while i < j:\n",
    "        arr[i], arr[j] = arr[j], arr[i]\n",
    "        i += 1\n",
    "        j -=1\n",
    "\n",
    "def rightShift(arr, k):\n",
    "    n = len(arr)\n",
    "    k = k%n\n",
    "    \n",
    "    # O(k)\n",
    "    reverse(arr,0, n-k-1)\n",
    "    #O(n-k)\n",
    "    reverse(arr, n-k, n-1)\n",
    "    #O(n)\n",
    "    reverse(arr, 0, n-1)\n",
    "\n",
    "arr = [1, 2, 3, 4, 5, 6, 7]\n",
    "# arr = [1, 2]\n",
    "k = 3\n",
    "rightShift(arr, k)\n",
    "arr"
   ]
  },
  {
   "cell_type": "code",
   "execution_count": null,
   "id": "24f3dc2c",
   "metadata": {},
   "outputs": [],
   "source": []
  },
  {
   "cell_type": "markdown",
   "id": "b5540662",
   "metadata": {},
   "source": [
    "# Move Zeros to end"
   ]
  },
  {
   "cell_type": "code",
   "execution_count": 6,
   "id": "5a75cbbd",
   "metadata": {},
   "outputs": [
    {
     "data": {
      "text/plain": [
       "[1, 2, 3, 2, 4, 5, 1, 0, 0, 0]"
      ]
     },
     "execution_count": 6,
     "metadata": {},
     "output_type": "execute_result"
    }
   ],
   "source": [
    "# Brute Force Appraoch : Using temp array\n",
    "# Time Complexity : O(2N)\n",
    "# Space Complexity : O(N)\n",
    "# https://leetcode.com/problems/move-zeroes/\n",
    "\n",
    "def moves0sEnd(arr, n):\n",
    "    temp = []\n",
    "    zeros = 0\n",
    "    \n",
    "    # O(N)\n",
    "    for i in range(n):\n",
    "        if arr[i] != 0:\n",
    "            temp.append(arr[i])\n",
    "        else:\n",
    "            zeros += 1\n",
    "        \n",
    "    # O(N)\n",
    "    for i in range(zeros):\n",
    "        temp.append(0)\n",
    "    \n",
    "    return temp\n",
    "              \n",
    "arr = [1, 0, 2, 3, 2, 0, 0, 4, 5, 1]  \n",
    "moves0sEnd(arr, len(arr))"
   ]
  },
  {
   "cell_type": "code",
   "execution_count": 8,
   "id": "30a12a5f",
   "metadata": {},
   "outputs": [
    {
     "data": {
      "text/plain": [
       "[1, 2, 3, 2, 4, 5, 1, 0, 0, 0]"
      ]
     },
     "execution_count": 8,
     "metadata": {},
     "output_type": "execute_result"
    }
   ],
   "source": [
    "# Better Appraoch - Using 2 pointers with different loops\n",
    "# Time Complexity - O(N)\n",
    "# Space Complexity - O(1)\n",
    "\n",
    "def moves0sEnd(arr, n):\n",
    "    i = -1\n",
    "    for z in range(n):\n",
    "        if arr[z] == 0:\n",
    "            i = z\n",
    "            break\n",
    "    \n",
    "    if i == -1: \n",
    "        return arr\n",
    "    \n",
    "    for j in range(i+1, n):\n",
    "        if arr[j] != 0:\n",
    "            arr[i], arr[j] = arr[j], arr[i]\n",
    "            i += 1\n",
    "            \n",
    "    return arr\n",
    "    \n",
    "arr = [1, 0, 2, 3, 2, 0, 0, 4, 5, 1]\n",
    "moves0sEnd(arr, len(arr)) "
   ]
  },
  {
   "cell_type": "code",
   "execution_count": 5,
   "id": "5cd12148",
   "metadata": {},
   "outputs": [
    {
     "data": {
      "text/plain": [
       "[1, 2, 3, 2, 4, 5, 1, 0, 0, 0]"
      ]
     },
     "execution_count": 5,
     "metadata": {},
     "output_type": "execute_result"
    }
   ],
   "source": [
    "# Optimal Approach - Using the 2 pointer approach\n",
    "# Time Complexity : O(N)\n",
    "     \n",
    "def moves0sEnd(arr, n):\n",
    "    i = 0\n",
    "    j = 0\n",
    "    \n",
    "    while j < n:\n",
    "        if arr[i] == 0:\n",
    "            if arr[j] != 0:\n",
    "                arr[i], arr[j] = arr[j], arr[i]\n",
    "                i += 1\n",
    "            j += 1\n",
    "        else:\n",
    "            j += 1\n",
    "            i += 1\n",
    "            \n",
    "    return arr\n",
    "\n",
    "arr = [1, 0, 2, 3, 2, 0, 0, 4, 5, 1]\n",
    "moves0sEnd(arr, len(arr))"
   ]
  },
  {
   "cell_type": "code",
   "execution_count": null,
   "id": "26a94f0b",
   "metadata": {},
   "outputs": [],
   "source": []
  },
  {
   "cell_type": "markdown",
   "id": "800caef6",
   "metadata": {},
   "source": [
    "# Linear Search"
   ]
  },
  {
   "cell_type": "code",
   "execution_count": 10,
   "id": "09f49548",
   "metadata": {},
   "outputs": [
    {
     "data": {
      "text/plain": [
       "3"
      ]
     },
     "execution_count": 10,
     "metadata": {},
     "output_type": "execute_result"
    }
   ],
   "source": [
    "# Time Complexity : O(N)\n",
    "# https://www.geeksforgeeks.org/problems/who-will-win-1587115621/1?utm_source=youtube&utm_medium=collab_striver_ytdescription&utm_campaign=who-will-win\n",
    "\n",
    "def linearSearch(arr, k):\n",
    "    \n",
    "    n = len(arr)\n",
    "    for i in range(n):\n",
    "        if arr[i] == k:\n",
    "            return i\n",
    "    return -1\n",
    "\n",
    "arr = [6, 7, 2, 9, 1, 10]\n",
    "linearSearch(arr, 9)"
   ]
  },
  {
   "cell_type": "code",
   "execution_count": null,
   "id": "0140c527",
   "metadata": {},
   "outputs": [],
   "source": []
  },
  {
   "cell_type": "code",
   "execution_count": null,
   "id": "b3161608",
   "metadata": {},
   "outputs": [],
   "source": []
  }
 ],
 "metadata": {
  "kernelspec": {
   "display_name": "Python 3 (ipykernel)",
   "language": "python",
   "name": "python3"
  },
  "language_info": {
   "codemirror_mode": {
    "name": "ipython",
    "version": 3
   },
   "file_extension": ".py",
   "mimetype": "text/x-python",
   "name": "python",
   "nbconvert_exporter": "python",
   "pygments_lexer": "ipython3",
   "version": "3.11.5"
  }
 },
 "nbformat": 4,
 "nbformat_minor": 5
}
