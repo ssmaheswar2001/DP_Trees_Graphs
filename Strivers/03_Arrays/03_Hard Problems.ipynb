{
 "cells": [
  {
   "cell_type": "markdown",
   "id": "4e5fa033",
   "metadata": {},
   "source": [
    "# Pascal's Triangle"
   ]
  },
  {
   "cell_type": "markdown",
   "id": "49fc89c5",
   "metadata": {},
   "source": [
    "### Given Row & Column and find the element at that place"
   ]
  },
  {
   "cell_type": "code",
   "execution_count": 1,
   "id": "dba5aea3",
   "metadata": {},
   "outputs": [
    {
     "data": {
      "text/plain": [
       "4.0"
      ]
     },
     "execution_count": 1,
     "metadata": {},
     "output_type": "execute_result"
    }
   ],
   "source": [
    "# Brute Force :  Formula = (r-1)C(c-1) \n",
    "# Time Complexity : O(N) + (N) + O(N-R)\n",
    "# Space Complexity : O(1)\n",
    "\n",
    "# O(N)\n",
    "def factorial(n):\n",
    "    if n == 0 or n == 1:\n",
    "        return 1\n",
    "    return n*factorial(n-1)\n",
    "\n",
    "def pascalValue(row, column):\n",
    "    n = row - 1\n",
    "    r = column - 1\n",
    "    \n",
    "    return (factorial(n))/(factorial(r) * factorial(n-r))\n",
    "    \n",
    "\n",
    "row = 5\n",
    "column = 4\n",
    "pascalValue(row, column)"
   ]
  },
  {
   "cell_type": "code",
   "execution_count": 5,
   "id": "b82089c0",
   "metadata": {},
   "outputs": [
    {
     "data": {
      "text/plain": [
       "4.0"
      ]
     },
     "execution_count": 5,
     "metadata": {},
     "output_type": "execute_result"
    }
   ],
   "source": [
    "# Optimal Approach - Optimizing the ncr formula.\n",
    "# Time Complexity : O(N)\n",
    "# Space Complexity : O(1)\n",
    "\n",
    "def pascalValue(row, column):\n",
    "    n = row - 1\n",
    "    c = column - 1\n",
    "    \n",
    "    value = 1\n",
    "    \n",
    "    # ncr optimized\n",
    "    # O(N)\n",
    "    while c > 0:\n",
    "        value *= (n/c)\n",
    "        c -= 1\n",
    "        n -= 1\n",
    "    return value\n",
    "\n",
    "row = 5\n",
    "column = 4\n",
    "pascalValue(row, column)"
   ]
  },
  {
   "cell_type": "markdown",
   "id": "a479c390",
   "metadata": {},
   "source": [
    "### Print any Nth row of pascal triangle"
   ]
  },
  {
   "cell_type": "code",
   "execution_count": 11,
   "id": "1ca17915",
   "metadata": {},
   "outputs": [
    {
     "name": "stdout",
     "output_type": "stream",
     "text": [
      "1 5 10 10 5 1 "
     ]
    }
   ],
   "source": [
    "# Brute Force Approach\n",
    "# Time Complexity : O(N x R)\n",
    "\n",
    "def ncr(n, c):\n",
    "    ncr = 1\n",
    "    \n",
    "    while c > 0:\n",
    "        ncr *= (n/c)\n",
    "        c -= 1\n",
    "        n -= 1\n",
    "    return int(ncr)\n",
    "\n",
    "def pascalValue(row):\n",
    "    \n",
    "    # O(N)\n",
    "    for i in range(1, row+1):\n",
    "        # O(R)\n",
    "        print(ncr(row-1, i-1), end= \" \")\n",
    "        \n",
    "row = 5\n",
    "row = 6\n",
    "pascalValue(row) "
   ]
  },
  {
   "cell_type": "code",
   "execution_count": 19,
   "id": "f0eb5f89",
   "metadata": {},
   "outputs": [
    {
     "name": "stdout",
     "output_type": "stream",
     "text": [
      "1 4 6 4 1 "
     ]
    }
   ],
   "source": [
    "# Optimal Appraoch\n",
    "# Time Complexity : O(N)\n",
    "# Space Complexity : O(1)\n",
    "# Time Complexity : O(1)\n",
    "\n",
    "def pascalValue(row):\n",
    "    \n",
    "    # O(N)\n",
    "    ncr = 1\n",
    "    n = row - 1\n",
    "    c = 0\n",
    "    \n",
    "    # O(N)\n",
    "    while c < row:\n",
    "        print(int(ncr), end=\" \")\n",
    "        c += 1\n",
    "        ncr *= n/c\n",
    "        n -= 1\n",
    "        \n",
    "row = 6\n",
    "row = 5\n",
    "pascalValue(row) "
   ]
  },
  {
   "cell_type": "markdown",
   "id": "d8758a9c",
   "metadata": {},
   "source": [
    "# Complete Pascal Traingle"
   ]
  },
  {
   "cell_type": "code",
   "execution_count": 22,
   "id": "5018e287",
   "metadata": {},
   "outputs": [
    {
     "name": "stdout",
     "output_type": "stream",
     "text": [
      "1 \n",
      "1 1 \n",
      "1 2 1 \n",
      "1 3 3 1 \n",
      "1 4 6 4 1 \n"
     ]
    },
    {
     "data": {
      "text/plain": [
       "[[1], [1, 1], [1, 2, 1], [1, 3, 3, 1], [1, 4, 6, 4, 1]]"
      ]
     },
     "execution_count": 22,
     "metadata": {},
     "output_type": "execute_result"
    }
   ],
   "source": [
    "# Brute force Appraoch - Using list within list\n",
    "# Time Complexity : O(N x N)\n",
    "# Time \n",
    "\n",
    "def pascalTriangle(row):\n",
    "    pascal = []\n",
    "    # O(N)\n",
    "    for i in range(row):\n",
    "        row = []\n",
    "        # O(N)\n",
    "        for j in range(i+1):\n",
    "            if j == 0 or j == i:\n",
    "                print(1, end=\" \")\n",
    "                row.append(1)\n",
    "            else:\n",
    "                print((pascal[i-1][j-1] + pascal[i-1][j]), end=\" \")\n",
    "                row.append((pascal[i-1][j-1] + pascal[i-1][j]))\n",
    "        print()\n",
    "        pascal.append(row)\n",
    "        \n",
    "    return pascal\n",
    "                \n",
    "row = 5\n",
    "pascalTriangle(row)"
   ]
  },
  {
   "cell_type": "code",
   "execution_count": 33,
   "id": "1f05272a",
   "metadata": {},
   "outputs": [
    {
     "name": "stdout",
     "output_type": "stream",
     "text": [
      "1 \n",
      "1 1 \n",
      "1 2 1 \n",
      "1 3 3 1 \n",
      "1 4 6 4 1 \n",
      "1 5 10 10 5 1 \n"
     ]
    },
    {
     "data": {
      "text/plain": [
       "[[1], [1, 1], [1, 2, 1], [1, 3, 3, 1], [1, 4, 6, 4, 1], [1, 5, 10, 10, 5, 1]]"
      ]
     },
     "execution_count": 33,
     "metadata": {},
     "output_type": "execute_result"
    }
   ],
   "source": [
    "# Brute Force approach : Using nCr formula\n",
    "# Time Complexity : O(N x R)\n",
    "# Space Complexity : O(N x R)\n",
    "\n",
    "def eachPascalRow(row):\n",
    "    ncr = 1\n",
    "    print(1,end=\" \")\n",
    "    temp = [1]\n",
    "    # O(R)\n",
    "    for j in range(1, row+1):\n",
    "        ncr *= (row-j+1)/j\n",
    "        print(int(ncr), end= \" \")\n",
    "        temp.append(int(ncr))\n",
    "    print()\n",
    "    return temp\n",
    "        \n",
    "\n",
    "def pascalTraingle(row):\n",
    "    \n",
    "    pascal = []\n",
    "    # O(N)\n",
    "    for i in range(row):\n",
    "        pascal.append(eachPascalRow(i))\n",
    "        \n",
    "    return pascal\n",
    "row = 6\n",
    "\n",
    "pascalTraingle(row)"
   ]
  },
  {
   "cell_type": "code",
   "execution_count": null,
   "id": "8391e91f",
   "metadata": {},
   "outputs": [],
   "source": []
  },
  {
   "cell_type": "markdown",
   "id": "ee661c44",
   "metadata": {},
   "source": [
    "# Majority Element (n/3 times)"
   ]
  },
  {
   "cell_type": "code",
   "execution_count": 55,
   "id": "867ebb5d",
   "metadata": {},
   "outputs": [
    {
     "data": {
      "text/plain": [
       "[1, 2]"
      ]
     },
     "execution_count": 55,
     "metadata": {},
     "output_type": "execute_result"
    }
   ],
   "source": [
    "# Brute Force\n",
    "# Time Complexity : O(N^2)\n",
    "# Space Complexity : O(1)\n",
    "\n",
    "def majorityn_3(arr):\n",
    "    n = len(arr)\n",
    "    majority = n/3\n",
    "    \n",
    "    res = []\n",
    "    for  i in range(n):\n",
    "        count = 0\n",
    "        if len(res) == 0 or res[0] != arr[i]:\n",
    "            for j in range(i, n):\n",
    "                if arr[i] == arr[j]:\n",
    "                    count += 1\n",
    "                if count > majority:\n",
    "                    res.append(arr[j])\n",
    "                    break\n",
    "        if len(res) == 2:\n",
    "            break\n",
    "    return res \n",
    "\n",
    "arr = [1, 1, 1, 3, 1, 2, 2, 2]\n",
    "majorityn_3(arr)"
   ]
  },
  {
   "cell_type": "code",
   "execution_count": 2,
   "id": "0d794f2c",
   "metadata": {},
   "outputs": [
    {
     "data": {
      "text/plain": [
       "[1, 2]"
      ]
     },
     "execution_count": 2,
     "metadata": {},
     "output_type": "execute_result"
    }
   ],
   "source": [
    "# Better Approach - Using Map data structure\n",
    "# Time Complexity : O(N)\n",
    "# Space Complexity : O(N)\n",
    "\n",
    "def majorityN_3(arr):\n",
    "    n = len(arr)\n",
    "    majority = n//3\n",
    "    \n",
    "    hashDict = dict()\n",
    "    \n",
    "    # O (N)\n",
    "    for i in range(n):\n",
    "        if arr[i] in hashDict:\n",
    "            hashDict[arr[i]] += 1\n",
    "        else:\n",
    "            hashDict[arr[i]] = 1\n",
    "    res = []\n",
    "    for i, j in hashDict.items():\n",
    "        if j > majority:\n",
    "            res.append(i)\n",
    "    return res\n",
    "\n",
    "arr = [1, 1, 1, 3, 1, 2, 2, 2]\n",
    "majorityN_3(arr)"
   ]
  },
  {
   "cell_type": "code",
   "execution_count": 5,
   "id": "fcdd7473",
   "metadata": {},
   "outputs": [
    {
     "data": {
      "text/plain": [
       "[1, 2]"
      ]
     },
     "execution_count": 5,
     "metadata": {},
     "output_type": "execute_result"
    }
   ],
   "source": [
    "# Better Appraoch - Using Map data structure\n",
    "# Time Complexity : O(N)\n",
    "# Space Complexity : O(N)\n",
    "\n",
    "def majorityN_3(arr):\n",
    "    n = len(arr)\n",
    "    majority = n//3\n",
    "    hashDict= dict()\n",
    "    res = []\n",
    "    \n",
    "    for i in range(n):\n",
    "        if arr[i] in hashDict:\n",
    "            hashDict[arr[i]] += 1\n",
    "        else:\n",
    "            hashDict[arr[i]] = 1\n",
    "        if hashDict[arr[i]] > majority:\n",
    "            if len(res) == 0 or res[0] != arr[i]:\n",
    "                res.append(arr[i])\n",
    "        if len(res) == 2:\n",
    "            break\n",
    "        \n",
    "    return res      \n",
    "    \n",
    "arr = [1, 1, 1, 3, 1, 2, 2, 2]\n",
    "majorityN_3(arr)"
   ]
  },
  {
   "cell_type": "code",
   "execution_count": 7,
   "id": "28dd97da",
   "metadata": {},
   "outputs": [
    {
     "data": {
      "text/plain": [
       "[1, 2]"
      ]
     },
     "execution_count": 7,
     "metadata": {},
     "output_type": "execute_result"
    }
   ],
   "source": [
    "# Optimal Appraoch - Using Boyer Moore majority vote algorithm\n",
    "# Time Complexity - O(2N)\n",
    "# Space Complexity - O(1)\n",
    "\n",
    "def majorityN_3(arr):\n",
    "    n = len(arr)\n",
    "    majority = n//3\n",
    "    element1 = -99999\n",
    "    element2 = -99999\n",
    "    \n",
    "    count1, count2 = 0, 0\n",
    "    \n",
    "    # O(N)\n",
    "    for i in range(n):\n",
    "        if count1 == 0 and arr[i] != element2:\n",
    "            count1 = 1\n",
    "            element1 = arr[i]\n",
    "        elif count2 == 0 and arr[i] != element1:\n",
    "            count2 = 1\n",
    "            element2 = arr[i]\n",
    "        elif arr[i] == element1:\n",
    "            count1 += 1\n",
    "        elif arr[i] == element2:\n",
    "            count2 += 1\n",
    "        else:\n",
    "            count1 -= 1 \n",
    "            count2 -= 1\n",
    "            \n",
    "    count1 = 0\n",
    "    count2 = 0\n",
    "    # O(N)\n",
    "    for i in range(n):\n",
    "        if arr[i] == element1:\n",
    "            count1 += 1\n",
    "        if arr[i] == element2:\n",
    "            count2 += 1\n",
    "    res = []\n",
    "    if count1 > majority and element1 != -99999:\n",
    "        res.append(element1)\n",
    "    if count2 > majority and element2 != -99999:\n",
    "        res.append(element2)\n",
    "        \n",
    "    return res\n",
    "\n",
    "arr = [1, 1, 1, 3, 1, 2, 2, 2]\n",
    "majorityN_3(arr)"
   ]
  },
  {
   "cell_type": "code",
   "execution_count": null,
   "id": "d9cfc257",
   "metadata": {},
   "outputs": [],
   "source": []
  },
  {
   "cell_type": "markdown",
   "id": "061fa8d0",
   "metadata": {},
   "source": [
    "# 3 Sum"
   ]
  },
  {
   "cell_type": "code",
   "execution_count": 17,
   "id": "ebc355a4",
   "metadata": {},
   "outputs": [
    {
     "data": {
      "text/plain": [
       "[[0, 0, 0]]"
      ]
     },
     "execution_count": 17,
     "metadata": {},
     "output_type": "execute_result"
    }
   ],
   "source": [
    "# Brute Force Approach - Using all the possibilites\n",
    "# Time Complexity - O(N^3 x Log(N))\n",
    "# Space Complexity : 2O(no of triples)\n",
    "\n",
    "def _3Sum(arr):\n",
    "    n = len(arr)\n",
    "    res = []\n",
    "    \n",
    "    # O(N)\n",
    "    for i in range(n):\n",
    "        # O(N)\n",
    "        for j in range(i+1, n):\n",
    "            # (N)\n",
    "            for k in range(j+1, n):\n",
    "                if arr[i]+arr[j]+arr[k] == 0:\n",
    "                    temp = [arr[i], arr[j], arr[k]]\n",
    "                    # O(LogN)\n",
    "                    temp.sort()\n",
    "                    if temp not in res:\n",
    "                        res.append(temp)\n",
    "                    \n",
    "    return res\n",
    "    \n",
    "nums = [-1,0,1,2,-1,-4]\n",
    "nums = [0,1,1]\n",
    "nums = [0, 0, 0]\n",
    "_3Sum(nums)"
   ]
  },
  {
   "cell_type": "code",
   "execution_count": 23,
   "id": "ae3b1f54",
   "metadata": {},
   "outputs": [
    {
     "data": {
      "text/plain": [
       "[[-1, 0, 1], [-1, -1, 2]]"
      ]
     },
     "execution_count": 23,
     "metadata": {},
     "output_type": "execute_result"
    }
   ],
   "source": [
    "# Better Approach - Using map datastructure\n",
    "# Time complexity : O(NLogN + N^2)\n",
    "# Space Complexity : O(N x no of triples)\n",
    "\n",
    "def _3Sum(arr):\n",
    "    n = len(arr)\n",
    "    # O(NLogN)\n",
    "    arr.sort()\n",
    "    res = []\n",
    "    \n",
    "    #O(N)\n",
    "    for i in range(n-2):\n",
    "        if arr[i] > 0:\n",
    "            break\n",
    "        sum = arr[i]\n",
    "        _hashDict = dict()\n",
    "        j = i+1\n",
    "        # O(N)\n",
    "        while j<n:\n",
    "            rem = -sum-arr[j]\n",
    "            if rem in _hashDict and [sum, rem, arr[j]] not in res:\n",
    "                res.append([sum, rem, arr[j]])\n",
    "            _hashDict[arr[j]] = j\n",
    "            j += 1\n",
    "            \n",
    "        \n",
    "    return res   \n",
    "        \n",
    "\n",
    "nums = [-1,0,1,2,-1,-4]\n",
    "# nums = [-2, -2, -2, -1, -1, -1, 0, 0, 0, 2, 2, 2, 2]\n",
    "# nums = [0,1,1]\n",
    "# nums = [0, 0, 0]\n",
    "_3Sum(nums)"
   ]
  },
  {
   "cell_type": "code",
   "execution_count": 27,
   "id": "9c9bf2b5",
   "metadata": {},
   "outputs": [
    {
     "data": {
      "text/plain": [
       "[[-5, 1, 4], [-4, 0, 4], [-4, 1, 3], [-2, -2, 4], [-2, 1, 1], [0, 0, 0]]"
      ]
     },
     "execution_count": 27,
     "metadata": {},
     "output_type": "execute_result"
    }
   ],
   "source": [
    "# Optimal Appraoch - 2 pointer approach\n",
    "# Time Complexity : O(NLogN) + O(NxN)\n",
    "# Space Complexity :O(No of Triplets)\n",
    "\n",
    "def _3Sum(arr):\n",
    "    n = len(arr)\n",
    "    arr.sort()\n",
    "    res = []\n",
    "    \n",
    "    for i in range(n-2):\n",
    "        if i!=0 and nums[i-1] == nums[i]:\n",
    "            continue\n",
    "        j = i+1\n",
    "        k = n-1\n",
    "        while j<k:\n",
    "            if arr[i] + arr[j] + arr[k] == 0:\n",
    "                res.append([arr[i], arr[j], arr[k]])\n",
    "                j += 1\n",
    "                k -= 1\n",
    "                while j < k and arr[j-1] == arr[j]:\n",
    "                    j += 1\n",
    "                while j < k and arr[k+1] == arr[k]:\n",
    "                    k -= 1\n",
    "            elif arr[i] + arr[j] + arr[k] < 0:\n",
    "                j += 1\n",
    "            elif arr[i] + arr[j] + arr[k] > 0:\n",
    "                k -= 1\n",
    "    return res\n",
    "\n",
    "nums = [-1,0,1,2,-1,-4]\n",
    "nums = [-2, -2, -2, -1, -1, -1, 0, 0, 0, 2, 2, 2, 2]\n",
    "nums = [0,1,1]\n",
    "nums = [0, 0, 0]\n",
    "nums = [-4,-2,1,-5,-4,-4,4,-2,0,4,0,-2,3,1,-5,0]\n",
    "_3Sum(nums)"
   ]
  },
  {
   "cell_type": "code",
   "execution_count": null,
   "id": "5ab1a025",
   "metadata": {},
   "outputs": [],
   "source": []
  },
  {
   "cell_type": "markdown",
   "id": "8c5c16c4",
   "metadata": {},
   "source": [
    "# 4Sum"
   ]
  },
  {
   "cell_type": "code",
   "execution_count": 31,
   "id": "d3a35a48",
   "metadata": {},
   "outputs": [
    {
     "data": {
      "text/plain": [
       "[[-2, -1, 1, 2], [-2, 0, 0, 2], [-1, 0, 0, 1]]"
      ]
     },
     "execution_count": 31,
     "metadata": {},
     "output_type": "execute_result"
    }
   ],
   "source": [
    "# Brute Force\n",
    "# Time Complexity : O(N^4)\n",
    "# Space Complexity : O(No of 4 sums)\n",
    "\n",
    "def _4Sum(arr, target):\n",
    "    n = len(arr)\n",
    "    arr.sort()\n",
    "    res = []\n",
    "    \n",
    "    for i in range(n):\n",
    "        for j in range(i+1, n):\n",
    "            for k in range(j+1, n):\n",
    "                for l in range(k+1, n):\n",
    "                    if i!=j!=k!=l and arr[i]+arr[j]+arr[k]+arr[l] == target and [arr[i], arr[j], arr[k], arr[l]] not in res:\n",
    "                        res.append([arr[i], arr[j], arr[k], arr[l]])\n",
    "    return res\n",
    "\n",
    "arr = [1,0,-1,0,-2,2]\n",
    "target = 0\n",
    "# arr = [2, 2, 2, 2, 2]\n",
    "# target = 8\n",
    "\n",
    "_4Sum(arr, target)"
   ]
  },
  {
   "cell_type": "code",
   "execution_count": 6,
   "id": "77941516",
   "metadata": {},
   "outputs": [
    {
     "data": {
      "text/plain": [
       "[[2, 2, 2, 2]]"
      ]
     },
     "execution_count": 6,
     "metadata": {},
     "output_type": "execute_result"
    }
   ],
   "source": [
    "# Better Appraoch - Using map data structure\n",
    "# Time Complexity - O(N^3 x logN)\n",
    "# Space Complexity - O(N) + O(No of 4 sum list)\n",
    "\n",
    "def _4Sum(arr, target):\n",
    "    \n",
    "    n = len(arr)\n",
    "    res = []\n",
    "    arr.sort()\n",
    "    \n",
    "    # O(N)\n",
    "    for i in range(n):\n",
    "        # O(N)\n",
    "        for j in range(i+1, n):\n",
    "            k = j + 1\n",
    "            _hashDiff = {}\n",
    "            # O(N)\n",
    "            while k < n:\n",
    "                rem = target - (arr[i]+arr[j]+arr[k])\n",
    "                # O(LogN)\n",
    "                if rem in _hashDiff and [arr[i], arr[j], rem, arr[k]] not in res :\n",
    "                    res.append([arr[i], arr[j], rem, arr[k]])\n",
    "                _hashDiff[arr[k]] = k\n",
    "                k += 1\n",
    "    return res\n",
    "    \n",
    "arr = [1,0,-1,0,-2,2]\n",
    "target = 0\n",
    "arr = [2, 2, 2, 2, 2]\n",
    "target = 8\n",
    "\n",
    "_4Sum(arr, target)"
   ]
  },
  {
   "cell_type": "code",
   "execution_count": 10,
   "id": "e25de847",
   "metadata": {},
   "outputs": [
    {
     "data": {
      "text/plain": [
       "[[2, 2, 2, 2]]"
      ]
     },
     "execution_count": 10,
     "metadata": {},
     "output_type": "execute_result"
    }
   ],
   "source": [
    "# Optimal Approach - Using 2 pointer approach\n",
    "# Time Complexity : O(N^3)\n",
    "# Space Complexity : O(No of 4 sum list)\n",
    "\n",
    "def _4Sum(arr, target):\n",
    "    n = len(arr)\n",
    "    arr.sort()\n",
    "    res = []\n",
    "    \n",
    "    # O(N)\n",
    "    for i in range(n):\n",
    "        if i >0 and arr[i-1] == arr[i]:\n",
    "            continue\n",
    "        # O(N)\n",
    "        for j in range(i+1, n):\n",
    "            if j > i+1 and arr[j-1] == arr[j]:\n",
    "                continue\n",
    "            k = j + 1\n",
    "            l = n-1\n",
    "            # O(N)\n",
    "            while k < l:\n",
    "                if arr[i]+arr[j]+arr[k]+arr[l] == target:\n",
    "                    res.append([arr[i], arr[j], arr[k], arr[l]])\n",
    "                    k += 1\n",
    "                    l -= 1\n",
    "                    while k < l and arr[k-1] == arr[k]:\n",
    "                        k += 1\n",
    "                    while k < l and arr[l+1] == arr[l]:\n",
    "                        l -= 1\n",
    "                elif arr[i]+arr[j]+arr[k]+arr[l] < target:\n",
    "                    k += 1\n",
    "                elif arr[i]+arr[j]+arr[k]+arr[l] > target:\n",
    "                    l -= 1\n",
    "    return res\n",
    "                \n",
    "    \n",
    "    \n",
    "arr = [1,0,-1,0,-2,2]\n",
    "target = 0\n",
    "arr = [2, 2, 2, 2, 2]\n",
    "target = 8\n",
    "\n",
    "_4Sum(arr, target)"
   ]
  },
  {
   "cell_type": "code",
   "execution_count": null,
   "id": "8f5668d2",
   "metadata": {},
   "outputs": [],
   "source": []
  },
  {
   "cell_type": "markdown",
   "id": "ff2cf7bb",
   "metadata": {},
   "source": [
    "# Largest SubArray with 0 sum"
   ]
  },
  {
   "cell_type": "code",
   "execution_count": 2,
   "id": "ce3b9775",
   "metadata": {},
   "outputs": [
    {
     "data": {
      "text/plain": [
       "5"
      ]
     },
     "execution_count": 2,
     "metadata": {},
     "output_type": "execute_result"
    }
   ],
   "source": [
    "# Brute approach - generate all the subarrays\n",
    "# Time Complexity - O(N^2)\n",
    "# Space Complexity - O(1)\n",
    "\n",
    "def subArraySum(arr):\n",
    "    n = len(arr)\n",
    "    maxLen = 0\n",
    "    \n",
    "    # O(N)\n",
    "    for i in range(n):\n",
    "        sum = 0\n",
    "        # O(N)\n",
    "        for j in range(i, n):\n",
    "            sum += arr[j]\n",
    "            if sum == 0:\n",
    "                maxLen = max(maxLen,(j-i+1))\n",
    "                \n",
    "    return maxLen\n",
    "\n",
    "arr = [1, -1, 3, 2, -2, -8, 1, 7, 10, 23]\n",
    "subArraySum(arr)"
   ]
  },
  {
   "cell_type": "code",
   "execution_count": 3,
   "id": "3643926b",
   "metadata": {},
   "outputs": [
    {
     "data": {
      "text/plain": [
       "5"
      ]
     },
     "execution_count": 3,
     "metadata": {},
     "output_type": "execute_result"
    }
   ],
   "source": [
    "# Optimal approach - using map data structure\n",
    "# Time complexity - \n",
    "\n",
    "def subArraySum(arr):\n",
    "    n = len(arr)\n",
    "    maxLen = 0\n",
    "    \n",
    "    _hashDict = dict()\n",
    "    sum = 0\n",
    "    i = 0\n",
    "    while i < n:\n",
    "        sum += arr[i]\n",
    "        if sum == 0:\n",
    "            maxLen = max(maxLen, i+1)\n",
    "        if sum in _hashDict:\n",
    "            maxLen = max(maxLen , (i-(_hashDict[sum]+1)+1))\n",
    "        if sum not in _hashDict:\n",
    "            _hashDict[sum] = i\n",
    "        i += 1\n",
    "                \n",
    "    return maxLen\n",
    "\n",
    "arr = [1, -1, 3, 2, -2, -8, 1, 7, 10, 23]\n",
    "subArraySum(arr)"
   ]
  },
  {
   "cell_type": "code",
   "execution_count": null,
   "id": "7feafc14",
   "metadata": {},
   "outputs": [],
   "source": []
  },
  {
   "cell_type": "markdown",
   "id": "91cfcf14",
   "metadata": {},
   "source": [
    "# Count number of subarrays with given xor k"
   ]
  },
  {
   "cell_type": "code",
   "execution_count": 24,
   "id": "f10f283e",
   "metadata": {},
   "outputs": [
    {
     "data": {
      "text/plain": [
       "4"
      ]
     },
     "execution_count": 24,
     "metadata": {},
     "output_type": "execute_result"
    }
   ],
   "source": [
    "# Brute force - generate all subarrays\n",
    "# Time Complexity : O(N^2)\n",
    "# Space Complexity : O(1)\n",
    "\n",
    "def subArrayXor(arr, target):\n",
    "    n = len(arr)\n",
    "    count = 0\n",
    "    \n",
    "    # O(N)\n",
    "    for i in range(n):\n",
    "        xor = 0\n",
    "        # O(N)\n",
    "        for j in range(i, n):\n",
    "            xor ^= arr[j]\n",
    "            if xor == target:\n",
    "                count += 1\n",
    "                \n",
    "    return count\n",
    "    \n",
    "arr = [4, 2, 2, 6, 4]\n",
    "target = 6\n",
    "subArrayXor(arr, target)"
   ]
  },
  {
   "cell_type": "code",
   "execution_count": 23,
   "id": "1406ccdc",
   "metadata": {},
   "outputs": [
    {
     "data": {
      "text/plain": [
       "4"
      ]
     },
     "execution_count": 23,
     "metadata": {},
     "output_type": "execute_result"
    }
   ],
   "source": [
    "# Optimal Approach - Using map data structure\n",
    "# Time Complexity - O(N)\n",
    "# Space Complexity - O(N)\n",
    "\n",
    "def subArrayXor(arr, target):\n",
    "    n = len(arr)\n",
    "    xor = 0\n",
    "    hashDict = dict()\n",
    "    i = 0\n",
    "    count = 0\n",
    "    while i < n:\n",
    "        xor = xor ^ arr[i]\n",
    "        if xor == target:\n",
    "            count += 1\n",
    "        if xor^target in hashDict:\n",
    "            count += hashDict[xor^target]\n",
    "        if xor not in hashDict:\n",
    "            hashDict[xor] = 1\n",
    "        else:\n",
    "            hashDict[xor] += 1\n",
    "        \n",
    "        i += 1\n",
    "        \n",
    "    return count\n",
    "\n",
    "arr = [4, 2, 2, 6, 4]\n",
    "target = 6\n",
    "subArrayXor(arr, target)"
   ]
  },
  {
   "cell_type": "code",
   "execution_count": null,
   "id": "8717dccd",
   "metadata": {},
   "outputs": [],
   "source": []
  },
  {
   "cell_type": "markdown",
   "id": "7c3e3cef",
   "metadata": {},
   "source": [
    "# Merge Overlapping subintervals"
   ]
  },
  {
   "cell_type": "code",
   "execution_count": 6,
   "id": "4a095362",
   "metadata": {},
   "outputs": [
    {
     "data": {
      "text/plain": [
       "[[1, 6], [8, 10], [15, 18]]"
      ]
     },
     "execution_count": 6,
     "metadata": {},
     "output_type": "execute_result"
    }
   ],
   "source": [
    "# Better Approach \n",
    "# Time Complexity : O(NLogN + N)\n",
    "# Space Complexity : O(N)\n",
    "\n",
    "def merge(intervals):\n",
    "    \n",
    "    n = len(intervals)\n",
    "    # NlogN\n",
    "    intervals.sort()\n",
    "    res = []\n",
    "    index = -1\n",
    "    # O(N)\n",
    "    for i in range(n):\n",
    "        if i > 0 and res[index][1] >= intervals[i][0]:\n",
    "            if res[index][1] <= intervals[i][1]:\n",
    "                res[index][1] = intervals[i][1]\n",
    "        else:\n",
    "            res.append(intervals[i])\n",
    "            index += 1\n",
    "    \n",
    "    return res\n",
    "    \n",
    "\n",
    "intervals = [[1, 3], [2, 6], [8, 9], [9, 11], [8, 10], [2, 4], [15, 18], [16, 17]]\n",
    "intervals = [[1,3],[2,6],[8,10],[15,18]]\n",
    "merge(intervals)"
   ]
  },
  {
   "cell_type": "code",
   "execution_count": null,
   "id": "de7ae9d9",
   "metadata": {},
   "outputs": [],
   "source": []
  },
  {
   "cell_type": "markdown",
   "id": "d8b3ddf4",
   "metadata": {},
   "source": [
    "# Merge 2 sorted arrays without extra space"
   ]
  },
  {
   "cell_type": "code",
   "execution_count": 5,
   "id": "aa1eb2aa",
   "metadata": {},
   "outputs": [
    {
     "data": {
      "text/plain": [
       "([0, 1, 2, 3], [3, 5, 6, 7, 8])"
      ]
     },
     "execution_count": 5,
     "metadata": {},
     "output_type": "execute_result"
    }
   ],
   "source": [
    "# Better Approach - With Extra space \n",
    "# Time Complexity : O(N+M) + O(N+M)\n",
    "# Space Complexity : O(N+M)\n",
    "\n",
    "def merge(arr1, arr2):\n",
    "    n = len(arr1)\n",
    "    m = len(arr2)\n",
    "    \n",
    "    temp = []\n",
    "    \n",
    "    i = 0\n",
    "    j = 0\n",
    "    \n",
    "    # O(N+M)\n",
    "    while i < n and j <n:\n",
    "        if arr1[i] <= arr2[j]:\n",
    "            temp.append(arr1[i])\n",
    "            i += 1\n",
    "        else:\n",
    "            temp.append(arr2[j])\n",
    "            j += 1\n",
    "    while i<n:\n",
    "        temp.append(arr1[i])\n",
    "        i += 1\n",
    "    while j<m:\n",
    "        temp.append(arr2[j])\n",
    "        j += 1\n",
    "    \n",
    "    i = 0\n",
    "    # O(N+M)\n",
    "    while i < n:\n",
    "        arr1[i] = temp[i]\n",
    "        i += 1\n",
    "    j = 0\n",
    "    while j <m:\n",
    "        arr2[j] = temp[n+j-1]\n",
    "        j += 1\n",
    "    \n",
    "    return arr1, arr2\n",
    "\n",
    "arr1 = [1, 3, 5, 7]\n",
    "arr2 = [0, 2, 6, 8, 9]\n",
    "merge(arr1, arr2)"
   ]
  },
  {
   "cell_type": "code",
   "execution_count": 5,
   "id": "24f0fa8d",
   "metadata": {},
   "outputs": [
    {
     "data": {
      "text/plain": [
       "([0, 1, 2, 3], [5, 6, 7, 8, 9])"
      ]
     },
     "execution_count": 5,
     "metadata": {},
     "output_type": "execute_result"
    }
   ],
   "source": [
    "# Optimal Appraoch - 2 pointer at highest and lowest\n",
    "# Time Complexity : O(min(N, M)) + O(NLogN) + O(NLogN)\n",
    "# Space complexity : O(1)\n",
    "\n",
    "def merge(arr1, arr2):\n",
    "    n = len(arr1)\n",
    "    m = len(arr2)\n",
    "    \n",
    "    i = n-1\n",
    "    j = 0\n",
    "    \n",
    "    # O(min(N, M))\n",
    "    while i >= 0 and j < m:\n",
    "        if arr1[i] > arr2[j]:\n",
    "            arr1[i], arr2[j] = arr2[j], arr1[i]\n",
    "        i -= 1\n",
    "        j += 1\n",
    "    \n",
    "    # O(NLogN)\n",
    "    arr1.sort()\n",
    "    # O(MLogM)\n",
    "    arr2.sort()\n",
    "    return arr1, arr2\n",
    "\n",
    "arr1 = [1, 3, 5, 7]\n",
    "arr2 = [0, 2, 6, 8, 9]\n",
    "merge(arr1, arr2)"
   ]
  },
  {
   "cell_type": "code",
   "execution_count": 4,
   "id": "dfb897c0",
   "metadata": {},
   "outputs": [
    {
     "data": {
      "text/plain": [
       "([0, 1, 2, 3], [5, 6, 7, 8, 9])"
      ]
     },
     "execution_count": 4,
     "metadata": {},
     "output_type": "execute_result"
    }
   ],
   "source": [
    "# Optimal Appraoch - Gap method, intution of shell sort\n",
    "# Time Complexity : O(log(N+M)) + O(N+M)\n",
    "# Space Complexity : O(1)\n",
    "\n",
    "def merge(arr1, arr2):\n",
    "    n = len(arr1)\n",
    "    m = len(arr2)\n",
    "    l = n+m\n",
    "    \n",
    "    gap = (n+m)//2 + (n+m)%2\n",
    "    \n",
    "    # O(Log(N+M))\n",
    "    while gap > 0:\n",
    "        left = 0\n",
    "        right = left + gap\n",
    "        # O(N+M)\n",
    "        while right < l:\n",
    "            if left < n and right >=n:\n",
    "                if arr1[left] > arr2[right-n]:\n",
    "                    arr1[left], arr2[right-n] = arr2[right-n], arr1[left]\n",
    "            elif left>=n:\n",
    "                if arr2[left-n] > arr2[right-n]:\n",
    "                    arr2[left-n], arr2[right-n] = arr2[right-n], arr2[left-n]\n",
    "            else:\n",
    "                if arr1[left] > arr1[right]:\n",
    "                    arr1[left], arr1[right] = arr1[right], arr1[left]\n",
    "            \n",
    "            left += 1\n",
    "            right += 1\n",
    "        if gap == 1:\n",
    "            break\n",
    "        gap = gap//2 + gap%2\n",
    "        \n",
    "                \n",
    "    return arr1, arr2\n",
    "    \n",
    "\n",
    "arr1 = [1, 3, 5, 7]\n",
    "arr2 = [0, 2, 6, 8, 9]\n",
    "merge(arr1, arr2)"
   ]
  },
  {
   "cell_type": "code",
   "execution_count": null,
   "id": "c37cfb80",
   "metadata": {},
   "outputs": [],
   "source": []
  },
  {
   "cell_type": "markdown",
   "id": "688bfa85",
   "metadata": {},
   "source": [
    "# Find Repeating and Missing number"
   ]
  },
  {
   "cell_type": "code",
   "execution_count": 2,
   "id": "bb89ed9a",
   "metadata": {},
   "outputs": [
    {
     "data": {
      "text/plain": [
       "(1, 5)"
      ]
     },
     "execution_count": 2,
     "metadata": {},
     "output_type": "execute_result"
    }
   ],
   "source": [
    "# Brute Force - Iterating all combinations\n",
    "# Time Complexity - O(N^2)\n",
    "# Space Complexity - O(1)\n",
    "\n",
    "def repeatMissing(arr):\n",
    "    n = len(arr)\n",
    "    \n",
    "    for i in range(1, n+1):\n",
    "        count = 0\n",
    "        for j in range(n):\n",
    "            if arr[j] == i:\n",
    "                count += 1\n",
    "        if count == 0:\n",
    "            missing  = i\n",
    "        if count == 2:\n",
    "            repeating = i\n",
    "    return repeating, missing\n",
    "\n",
    "arr = [4, 3, 6, 2, 1, 1]\n",
    "repeatMissing(arr)"
   ]
  },
  {
   "cell_type": "code",
   "execution_count": 4,
   "id": "3628fd52",
   "metadata": {},
   "outputs": [
    {
     "data": {
      "text/plain": [
       "(1, 5)"
      ]
     },
     "execution_count": 4,
     "metadata": {},
     "output_type": "execute_result"
    }
   ],
   "source": [
    "# Better Appraoch - Using hashing\n",
    "# Time complexity - O(3N)\n",
    "# Space Complexity - O(N)\n",
    "\n",
    "def repeatMissing(arr):\n",
    "    n = len(arr)\n",
    "    \n",
    "    hashDict = dict()\n",
    "    # O(N)\n",
    "    for i in range(1, n+1):\n",
    "        hashDict[i] = 0\n",
    "    \n",
    "    # O(N)\n",
    "    for i in range(n):\n",
    "        hashDict[arr[i]] += 1\n",
    "        \n",
    "    # O(N)\n",
    "    for i, j in hashDict.items():\n",
    "        if j == 0:\n",
    "            missing = i\n",
    "        if j == 2:\n",
    "            repeating = i\n",
    "    \n",
    "    return repeating, missing\n",
    "\n",
    "arr = [4, 3, 6, 2, 1, 1]\n",
    "repeatMissing(arr)"
   ]
  },
  {
   "cell_type": "code",
   "execution_count": 11,
   "id": "097e30e4",
   "metadata": {},
   "outputs": [
    {
     "data": {
      "text/plain": [
       "(1, 5)"
      ]
     },
     "execution_count": 11,
     "metadata": {},
     "output_type": "execute_result"
    }
   ],
   "source": [
    "# Optimal Approach - Using mathametics\n",
    "# Time Complexity - O(N)\n",
    "# Space Complexity - O(1)\n",
    "\n",
    "def repeatMissing(arr):\n",
    "    n = len(arr)\n",
    "    \n",
    "    s = 0\n",
    "    sn = (n*(n+1))/2\n",
    "    s2 = 0\n",
    "    s2n = (n*(n+1)*(2*n+1))/6\n",
    "    for i in range(n):\n",
    "        s += arr[i]\n",
    "        s2 += arr[i]**2\n",
    "    \n",
    "    rep_mis = s-sn\n",
    "    rep2_mis2 = s2 - s2n\n",
    "    rep2_mis2 = rep2_mis2/rep_mis\n",
    "    \n",
    "    repeating = (rep_mis + rep2_mis2)/2\n",
    "    missing = (rep2_mis2 - rep_mis)/2\n",
    "    \n",
    "    return int(repeating), int(missing)\n",
    "\n",
    "arr = [4, 3, 6, 2, 1, 1]\n",
    "repeatMissing(arr)"
   ]
  },
  {
   "cell_type": "code",
   "execution_count": 19,
   "id": "a5ce5732",
   "metadata": {},
   "outputs": [
    {
     "data": {
      "text/plain": [
       "(1, 5)"
      ]
     },
     "execution_count": 19,
     "metadata": {},
     "output_type": "execute_result"
    }
   ],
   "source": [
    "# Optimal Approach - Using xor\n",
    "# Time Complexity - O(N)\n",
    "# Space Complexity - O(1)\n",
    "\n",
    "def repeatMissing(arr):\n",
    "    n = len(arr)\n",
    "    xr = 0\n",
    "    for i in range(n):\n",
    "        xr = xr^arr[i]\n",
    "        xr = xr^(i+1)\n",
    "    bitno = 0\n",
    "    while (1):\n",
    "        if ((xr) & (1<<bitno) != 0):\n",
    "            break\n",
    "        bitno+=1\n",
    "        \n",
    "    zero = 0\n",
    "    one = 0\n",
    "    for i in range(n):\n",
    "        if( arr[i] & (1<<bitno) != 0):\n",
    "            one ^= arr[i]\n",
    "        else:\n",
    "            zero ^= arr[i]\n",
    "        if ((i+1) & (1<<bitno) !=0 ):\n",
    "            one ^= (i+1)\n",
    "        else:\n",
    "            zero ^= i+1\n",
    "            \n",
    "    for i in range(n):\n",
    "        if arr[i] == one:\n",
    "            return (one, zero)\n",
    "        \n",
    "    return zero, one\n",
    "        \n",
    "arr = [4, 3, 6, 2, 1, 1]\n",
    "repeatMissing(arr)"
   ]
  },
  {
   "cell_type": "code",
   "execution_count": null,
   "id": "d093eee5",
   "metadata": {},
   "outputs": [],
   "source": []
  },
  {
   "cell_type": "markdown",
   "id": "e8319fc6",
   "metadata": {},
   "source": [
    "# Count Inversions"
   ]
  },
  {
   "cell_type": "code",
   "execution_count": 22,
   "id": "5b7054b6",
   "metadata": {},
   "outputs": [
    {
     "data": {
      "text/plain": [
       "8"
      ]
     },
     "execution_count": 22,
     "metadata": {},
     "output_type": "execute_result"
    }
   ],
   "source": [
    "# Brute Force Appraoch\n",
    "# Time Complexity : O(N^2)\n",
    "# Space Complexity : O(1)\n",
    "\n",
    "def countInversion(arr):\n",
    "    n = len(arr)\n",
    "    count = 0\n",
    "    for i in range(n):\n",
    "        for j in range(i+1, n):\n",
    "            if arr[i] > arr[j]:\n",
    "                count += 1\n",
    "    return count        \n",
    "        \n",
    "arr = [5, 3, 2, 4, 1]\n",
    "countInversion(arr)"
   ]
  },
  {
   "cell_type": "code",
   "execution_count": 4,
   "id": "719ea2ad",
   "metadata": {},
   "outputs": [
    {
     "data": {
      "text/plain": [
       "14"
      ]
     },
     "execution_count": 4,
     "metadata": {},
     "output_type": "execute_result"
    }
   ],
   "source": [
    "# Optimal Approach _ Using merge Sort intution\n",
    "# Time Complexity - O(NLogN)\n",
    "# Space Complexity : O(N)\n",
    "\n",
    "\n",
    "def merge(arr, low,  mid, high):\n",
    "    i =  low\n",
    "    j = mid + 1\n",
    "    temp = []\n",
    "    count = 0\n",
    "    \n",
    "    while i <= mid and j <= high:\n",
    "        if arr[i] <= arr[j]:\n",
    "            temp.append(arr[i])\n",
    "            i += 1\n",
    "        else:\n",
    "            temp.append(arr[j])\n",
    "            count += (mid-i+1)\n",
    "            j += 1\n",
    "    while i<=mid:\n",
    "        temp.append(arr[i])\n",
    "        i += 1\n",
    "    while j<=high:\n",
    "        temp.append(arr[j])\n",
    "        j += 1\n",
    "    \n",
    "    arr[low:high+1] = temp[:]\n",
    "    \n",
    "    return count\n",
    "    \n",
    "    \n",
    "def mergeSort(arr, low, high):\n",
    "    count = 0\n",
    "    if low >= high:\n",
    "        return count\n",
    "    mid = low + (high-low)//2\n",
    "    count += mergeSort(arr, low, mid)\n",
    "    count += mergeSort(arr, mid+1, high)\n",
    "    count += merge(arr, low , mid, high)\n",
    "    return count\n",
    "\n",
    "arr = [5, 3, 2, 4, 1]\n",
    "arr = [57, 38, 91, 10, 38, 28, 79, 41]\n",
    "mergeSort(arr, 0, len(arr)-1)"
   ]
  },
  {
   "cell_type": "code",
   "execution_count": null,
   "id": "41f0a7fd",
   "metadata": {},
   "outputs": [],
   "source": []
  },
  {
   "cell_type": "markdown",
   "id": "bad9c178",
   "metadata": {},
   "source": [
    "# Reverse Pairs"
   ]
  },
  {
   "cell_type": "code",
   "execution_count": 6,
   "id": "0d8ef18e",
   "metadata": {},
   "outputs": [
    {
     "data": {
      "text/plain": [
       "15"
      ]
     },
     "execution_count": 6,
     "metadata": {},
     "output_type": "execute_result"
    }
   ],
   "source": [
    "# Brute Appraoch - Iterate all possibilities\n",
    "# Time Complexity - O(N^2)\n",
    "# Space Complexity - O(1)\n",
    "\n",
    "def reversePairs(arr):\n",
    "    n = len(arr)\n",
    "    count = 0\n",
    "    for i in range(n-1):\n",
    "        for j in range(i+1, n):\n",
    "            if arr[i] > (2*arr[j]):\n",
    "                count += 1\n",
    "    return count\n",
    "\n",
    "arr = [1,3,2,3,1]  \n",
    "arr = [40, 25, 19, 12, 9, 6, 2]\n",
    "reversePairs(arr)"
   ]
  },
  {
   "cell_type": "code",
   "execution_count": 15,
   "id": "5aeb8c94",
   "metadata": {},
   "outputs": [
    {
     "data": {
      "text/plain": [
       "40"
      ]
     },
     "execution_count": 15,
     "metadata": {},
     "output_type": "execute_result"
    }
   ],
   "source": [
    "# Optimal Approach - Using merge sort\n",
    "\n",
    "\n",
    "def merge(arr, low, mid, high):\n",
    "    \n",
    "    temp = []\n",
    "    count = 0\n",
    "    right = mid+1\n",
    "    for i in range(low, mid+1):\n",
    "        while right<= high and arr[i] > (2*arr[right]):\n",
    "            right += 1\n",
    "        count += (right - (mid+1))\n",
    "    \n",
    "    i = low\n",
    "    j = mid+1\n",
    "    while i <= mid and j <= high:\n",
    "        if arr[i] < arr[j]:\n",
    "            temp.append(arr[i])\n",
    "            i += 1\n",
    "        else:\n",
    "            temp.append(arr[j])\n",
    "            j += 1\n",
    "    while i<=mid:\n",
    "        temp.append(arr[i])\n",
    "        i += 1\n",
    "    while j<=high:\n",
    "        temp.append(arr[j])\n",
    "        j += 1\n",
    "    arr[low: high+1] = temp[:]\n",
    "    return count\n",
    "\n",
    "def mergeSort(arr, low, high):\n",
    "    count = 0\n",
    "    if low >= high:\n",
    "        return count\n",
    "    mid = low + (high-low)//2\n",
    "    count += mergeSort(arr, low, mid)\n",
    "    count += mergeSort(arr, mid+1, high)\n",
    "    count += merge(arr, low, mid, high)\n",
    "    return count\n",
    "\n",
    "arr = [2,4,3,5,1]\n",
    "arr = [233,2000000001,234,2000000006,235,2000000003,236,2000000007,237,2000000002,2000000005,233,233,233,233,233,2000000004]\n",
    "mergeSort(arr, 0, len(arr)-1)"
   ]
  },
  {
   "cell_type": "code",
   "execution_count": null,
   "id": "4f379ec4",
   "metadata": {},
   "outputs": [],
   "source": []
  },
  {
   "cell_type": "markdown",
   "id": "cdae3f49",
   "metadata": {},
   "source": [
    "# Maximum Product Subarray"
   ]
  },
  {
   "cell_type": "code",
   "execution_count": 2,
   "id": "976a1959",
   "metadata": {},
   "outputs": [
    {
     "data": {
      "text/plain": [
       "6"
      ]
     },
     "execution_count": 2,
     "metadata": {},
     "output_type": "execute_result"
    }
   ],
   "source": [
    "# Brute Force Approach - Iterating through all the possibilites\n",
    "# Time Complexity - O(N^2)\n",
    "# Space Complexity - O(1)\n",
    "\n",
    "def maxProductSubArray(arr):\n",
    "    n = len(arr)\n",
    "    maxProduct = 1\n",
    "    for i in range(n):\n",
    "        product = 1\n",
    "        for j in range(i, n):\n",
    "            product *= arr[j]\n",
    "            maxProduct = max(maxProduct, product)\n",
    "            \n",
    "    return maxProduct\n",
    "\n",
    "arr = [2, 3, -2, 4]\n",
    "maxProductSubArray(arr)"
   ]
  },
  {
   "cell_type": "code",
   "execution_count": 8,
   "id": "316bf92b",
   "metadata": {},
   "outputs": [
    {
     "data": {
      "text/plain": [
       "3"
      ]
     },
     "execution_count": 8,
     "metadata": {},
     "output_type": "execute_result"
    }
   ],
   "source": [
    "# Optimal Appraoch - Maths intution\n",
    "# Time Complexity - O(N)\n",
    "# Space Complexity - O(1)\n",
    "\n",
    "import sys\n",
    "\n",
    "def maxProductSubArray(arr):\n",
    "    n = len(arr)\n",
    "    maxProduct = -sys.maxsize\n",
    "    \n",
    "    i = 0\n",
    "    prefixProduct = 1\n",
    "    suffixProduct = 1\n",
    "    while i < n:\n",
    "        if prefixProduct == 0:\n",
    "            prefixProduct = 1\n",
    "        if suffixProduct == 0:\n",
    "            suffixProduct = 1\n",
    "        prefixProduct *= arr[i]\n",
    "        suffixProduct *= arr[n-i-1]\n",
    "        maxProduct = max(maxProduct, max(prefixProduct, suffixProduct))\n",
    "        i += 1\n",
    "            \n",
    "    return maxProduct\n",
    "\n",
    "arr = [2, 3, -2, 4]\n",
    "arr = [-2, 0, -1]\n",
    "arr = [-3, -1, -1]\n",
    "maxProductSubArray(arr)"
   ]
  },
  {
   "cell_type": "code",
   "execution_count": null,
   "id": "381c8267",
   "metadata": {},
   "outputs": [],
   "source": []
  }
 ],
 "metadata": {
  "kernelspec": {
   "display_name": "Python 3 (ipykernel)",
   "language": "python",
   "name": "python3"
  },
  "language_info": {
   "codemirror_mode": {
    "name": "ipython",
    "version": 3
   },
   "file_extension": ".py",
   "mimetype": "text/x-python",
   "name": "python",
   "nbconvert_exporter": "python",
   "pygments_lexer": "ipython3",
   "version": "3.11.5"
  }
 },
 "nbformat": 4,
 "nbformat_minor": 5
}
