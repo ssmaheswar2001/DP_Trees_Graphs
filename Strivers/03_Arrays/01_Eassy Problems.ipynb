{
 "cells": [
  {
   "cell_type": "markdown",
   "id": "23c2069a",
   "metadata": {},
   "source": [
    "## Basics of Arrays\n",
    "- An array is a datastructure which contains similar elements.\n",
    "- An array can accessed by index i.e from 0 to n-1."
   ]
  },
  {
   "cell_type": "code",
   "execution_count": null,
   "id": "f13346d2",
   "metadata": {},
   "outputs": [],
   "source": []
  },
  {
   "cell_type": "markdown",
   "id": "f7d07250",
   "metadata": {},
   "source": [
    "# Largest Element in an Array"
   ]
  },
  {
   "cell_type": "code",
   "execution_count": 5,
   "id": "c5c9f55a",
   "metadata": {},
   "outputs": [
    {
     "data": {
      "text/plain": [
       "90"
      ]
     },
     "execution_count": 5,
     "metadata": {},
     "output_type": "execute_result"
    }
   ],
   "source": [
    "# Brute Force : Sorting and retriving the last element\n",
    "# Time Complextiy : O(NLogN)\n",
    "\n",
    "def merge(arr, low, mid, high):\n",
    "    i = low\n",
    "    j = mid + 1\n",
    "    temp = []\n",
    "    while i <= mid  and j <= high:\n",
    "        if arr[i] <= arr[j]:\n",
    "            temp.append(arr[i])\n",
    "            i += 1\n",
    "        else:\n",
    "            temp.append(arr[j])\n",
    "            j += 1\n",
    "            \n",
    "    while i<=mid:\n",
    "        temp.append(arr[i])\n",
    "        i += 1\n",
    "        \n",
    "    while j<=high:\n",
    "        temp.append(arr[j])\n",
    "        j += 1\n",
    "        \n",
    "    for i in range(low, high+1):\n",
    "        arr[i] = temp[i-low]\n",
    "\n",
    "def mergeSort(arr, low, high):\n",
    "    if low < high:\n",
    "        mid = low + (high-low)//2\n",
    "        mergeSort(arr, low, mid)\n",
    "        mergeSort(arr, mid+1, high)\n",
    "        merge(arr, low, mid, high)\n",
    "\n",
    "def largest(arr, n):\n",
    "    \n",
    "    mergeSort(arr, 0, n-1)\n",
    "    return arr[n-1]\n",
    "\n",
    "arr = [5, 23, 90, 1, 3, 6]\n",
    "largest(arr, len(arr))"
   ]
  },
  {
   "cell_type": "code",
   "execution_count": 6,
   "id": "3520da0a",
   "metadata": {},
   "outputs": [
    {
     "data": {
      "text/plain": [
       "90"
      ]
     },
     "execution_count": 6,
     "metadata": {},
     "output_type": "execute_result"
    }
   ],
   "source": [
    "# Optimized\n",
    "# Time Complexity : O(n)\n",
    "# https://bit.ly/3Pld280\n",
    "\n",
    "def largest(arr, n):\n",
    "    _max = 0\n",
    "    for i in range(n):\n",
    "        if arr[i] > _max:\n",
    "            _max = arr[i]\n",
    "            \n",
    "    return _max\n",
    "\n",
    "arr = [5, 23, 90, 1, 3, 6]\n",
    "largest(arr, len(arr))"
   ]
  },
  {
   "cell_type": "code",
   "execution_count": null,
   "id": "61f2401b",
   "metadata": {},
   "outputs": [],
   "source": []
  },
  {
   "cell_type": "markdown",
   "id": "d13a6b55",
   "metadata": {},
   "source": [
    "# 2nd Largest Element in an Array without sorting"
   ]
  },
  {
   "cell_type": "code",
   "execution_count": 9,
   "id": "f0cd155e",
   "metadata": {},
   "outputs": [
    {
     "data": {
      "text/plain": [
       "5"
      ]
     },
     "execution_count": 9,
     "metadata": {},
     "output_type": "execute_result"
    }
   ],
   "source": [
    "# Brute force - Sorting and finding the 2nd largest element from the last\n",
    "# Time Complexity : O(NLogN + N)\n",
    "\n",
    "def largest2nd(arr, n):\n",
    "    arr.sort()\n",
    "    largest = arr[n-1]\n",
    "    for i in range(n-2, -1, -1):\n",
    "        if arr[i] != largest:\n",
    "            return arr[i]\n",
    "    return -1\n",
    "    \n",
    "arr = [4, 7, 2, 1, 7, 5]\n",
    "# arr = [5, 5, 5, 5]\n",
    "largest2nd(arr, len(arr))"
   ]
  },
  {
   "cell_type": "code",
   "execution_count": 13,
   "id": "1e61b48e",
   "metadata": {},
   "outputs": [
    {
     "data": {
      "text/plain": [
       "5"
      ]
     },
     "execution_count": 13,
     "metadata": {},
     "output_type": "execute_result"
    }
   ],
   "source": [
    "# Better - Finding largest for 1st pass and then 2nd largest on 2nd pass\n",
    "# Time complextiy : O(N + N) = O(2N)\n",
    "\n",
    "def largest2nd(arr, n):\n",
    "    largest = arr[0]\n",
    "    largest_2 = -1\n",
    "    \n",
    "    for i in range(1, n):\n",
    "        if arr[i] > largest:\n",
    "            largest = arr[i]\n",
    "            \n",
    "    for i in range(n):\n",
    "        if arr[i] > largest_2 and arr[i] != largest:\n",
    "            largest_2 = arr[i]\n",
    "            \n",
    "    return largest_2\n",
    "    \n",
    "arr = [4, 7, 2, 1, 7, 5]\n",
    "# arr = [5, 5, 5, 5]\n",
    "largest2nd(arr, len(arr))"
   ]
  },
  {
   "cell_type": "code",
   "execution_count": 18,
   "id": "c574229d",
   "metadata": {},
   "outputs": [
    {
     "data": {
      "text/plain": [
       "5"
      ]
     },
     "execution_count": 18,
     "metadata": {},
     "output_type": "execute_result"
    }
   ],
   "source": [
    "# Optimal \n",
    "# Time Complexity : O(N)\n",
    "\n",
    "def largest2nd(arr, n):\n",
    "    largest = arr[0]\n",
    "    largest_2 = -1\n",
    "    \n",
    "    for i in range(1, n):\n",
    "        if arr[i] > largest:\n",
    "            largest_2 = largest\n",
    "            largest = arr[i]\n",
    "        if arr[i] < largest and arr[i] > largest_2:\n",
    "            largest_2 = arr[i]\n",
    "            \n",
    "    return largest_2\n",
    "\n",
    "arr = [4, 7, 2, 1, 7, 5]\n",
    "# arr = [5, 5, 5, 5]\n",
    "largest2nd(arr, len(arr))"
   ]
  },
  {
   "cell_type": "code",
   "execution_count": 25,
   "id": "a615ffdc",
   "metadata": {},
   "outputs": [
    {
     "data": {
      "text/plain": [
       "12"
      ]
     },
     "execution_count": 25,
     "metadata": {},
     "output_type": "execute_result"
    }
   ],
   "source": [
    "# Optimal 2nd Smallest \n",
    "# Time Complexity : O(N)\n",
    "# https://bit.ly/3pFvBcN\n",
    "\n",
    "def smallest2nd(arr, n):\n",
    "    smallest = arr[0]\n",
    "    smallest_2 = 10**5\n",
    "    \n",
    "    for i in range(1, n):\n",
    "        if arr[i] < smallest:\n",
    "            smallest_2 = smallest\n",
    "            smallest = arr[i]\n",
    "        elif arr[i] < smallest_2 and arr[i] > smallest:\n",
    "            smallest_2 = arr[i]\n",
    "            \n",
    "    return smallest_2\n",
    "    \n",
    "arr = [12, 35, 1, 1, 32, 1]\n",
    "# arr = [5, 5, 5, 5, 5]\n",
    "smallest2nd(arr, len(arr))"
   ]
  },
  {
   "cell_type": "code",
   "execution_count": null,
   "id": "c028f16d",
   "metadata": {},
   "outputs": [],
   "source": []
  },
  {
   "cell_type": "markdown",
   "id": "dc415735",
   "metadata": {},
   "source": [
    "# Check if the array is sorted"
   ]
  },
  {
   "cell_type": "code",
   "execution_count": 27,
   "id": "9d23f841",
   "metadata": {},
   "outputs": [
    {
     "data": {
      "text/plain": [
       "True"
      ]
     },
     "execution_count": 27,
     "metadata": {},
     "output_type": "execute_result"
    }
   ],
   "source": [
    "# Time complexity : O(N)\n",
    "\n",
    "def isSorted(arr, n):\n",
    "    for i in range(1, n):\n",
    "        if arr[i-1] > arr[i]:\n",
    "            return False\n",
    "    return True\n",
    "\n",
    "arr = [1, 2, 2, 3, 3, 4]\n",
    "# arr = [1, 2, 1, 3, 4]\n",
    "isSorted(arr, len(arr))"
   ]
  },
  {
   "cell_type": "code",
   "execution_count": null,
   "id": "d5d06af4",
   "metadata": {},
   "outputs": [],
   "source": []
  },
  {
   "cell_type": "markdown",
   "id": "6d6b59e7",
   "metadata": {},
   "source": [
    "# Check if the array is sorted and rotated"
   ]
  },
  {
   "cell_type": "code",
   "execution_count": 5,
   "id": "db2963bb",
   "metadata": {},
   "outputs": [
    {
     "data": {
      "text/plain": [
       "True"
      ]
     },
     "execution_count": 5,
     "metadata": {},
     "output_type": "execute_result"
    }
   ],
   "source": [
    "# https://leetcode.com/problems/check-if-array-is-sorted-and-rotated/#:~:text=Input%3A%20nums%20%3D%20%5B2%2C,no%20rotation)%20to%20make%20nums.\n",
    "# Time complexity : O(N)\n",
    "\n",
    "def check(arr, n):\n",
    "    _break = 0\n",
    "    for i in range(n):\n",
    "        if arr[i] > arr[(i+1)%n]:\n",
    "            _break += 1\n",
    "            \n",
    "    return (_break <= 1)\n",
    "\n",
    "# arr = [2, 1, 3, 4]\n",
    "arr = [3, 4, 5, 1, 2]\n",
    "# arr = [1, 2, 3]\n",
    "check(arr, len(arr))"
   ]
  },
  {
   "cell_type": "code",
   "execution_count": null,
   "id": "1065c8cb",
   "metadata": {},
   "outputs": [],
   "source": []
  },
  {
   "cell_type": "markdown",
   "id": "2d94e1ff",
   "metadata": {},
   "source": [
    "# Remove duplicates from sorted Array"
   ]
  },
  {
   "cell_type": "code",
   "execution_count": 6,
   "id": "d109da66",
   "metadata": {},
   "outputs": [
    {
     "data": {
      "text/plain": [
       "3"
      ]
     },
     "execution_count": 6,
     "metadata": {},
     "output_type": "execute_result"
    }
   ],
   "source": [
    "# Brute Force - using set data structure\n",
    "# Time complexity : O(NLogN + N)\n",
    "\n",
    "def removeDuplicates(arr, n):\n",
    "    _set = set()\n",
    "    \n",
    "    # O(NLogN)\n",
    "    for i in arr:\n",
    "        _set.add(i)\n",
    "        \n",
    "    index = 0\n",
    "    for i in _set:\n",
    "        arr[i] = _set\n",
    "        index += 1\n",
    "        \n",
    "    return index\n",
    "    \n",
    "\n",
    "arr = [1, 1, 2, 2, 2, 3, 3]\n",
    "removeDuplicates(arr, len(arr))"
   ]
  },
  {
   "cell_type": "code",
   "execution_count": 8,
   "id": "f778ad4b",
   "metadata": {},
   "outputs": [
    {
     "data": {
      "text/plain": [
       "3"
      ]
     },
     "execution_count": 8,
     "metadata": {},
     "output_type": "execute_result"
    }
   ],
   "source": [
    "# Optimal Approach - 2 Pointer approach\n",
    "# Time complexity - O(N)\n",
    "# Space Complexity - O(1)\n",
    "\n",
    "def removeDuplicates(arr, n):\n",
    "    \n",
    "    i = 0\n",
    "    j = 1\n",
    "    n = len(arr)\n",
    "    while j < n:\n",
    "        if arr[i] != arr[j]:\n",
    "            i += 1\n",
    "            arr[i] = arr[j]\n",
    "        j += 1\n",
    "        \n",
    "    return i+1\n",
    "    \n",
    "\n",
    "arr = [1, 1, 2, 2, 2, 3, 3]\n",
    "removeDuplicates(arr, len(arr))"
   ]
  },
  {
   "cell_type": "code",
   "execution_count": null,
   "id": "b3a52080",
   "metadata": {},
   "outputs": [],
   "source": []
  },
  {
   "cell_type": "markdown",
   "id": "1c01f01a",
   "metadata": {},
   "source": [
    "# Left Rotate an array by one place"
   ]
  },
  {
   "cell_type": "code",
   "execution_count": 11,
   "id": "34a38d90",
   "metadata": {},
   "outputs": [
    {
     "data": {
      "text/plain": [
       "[2, 3, 4, 5, 1]"
      ]
     },
     "execution_count": 11,
     "metadata": {},
     "output_type": "execute_result"
    }
   ],
   "source": [
    "# Brute force\n",
    "# Time Complexity : O(N)\n",
    "# Space Complexity : O(1)\n",
    "# https://www.naukri.com/code360/problems/left-rotate-an-array-by-one_5026278?utm_source=youtube&utm_medium=affiliate&utm_campaign=striver_Arrayproblems&leftPanelTabValue=SUBMISSION&nps=true\n",
    "\n",
    "def leftRotate(arr, n):\n",
    "    temp = arr[0]\n",
    "    for i in range(n-1):\n",
    "        arr[i] = arr[i+1]\n",
    "    arr[n-1] = temp\n",
    "        \n",
    "    return arr\n",
    "        \n",
    "arr = [1, 2, 3, 4, 5]\n",
    "leftRotate(arr, len(arr))"
   ]
  },
  {
   "cell_type": "code",
   "execution_count": null,
   "id": "3a5301c5",
   "metadata": {},
   "outputs": [],
   "source": []
  },
  {
   "cell_type": "markdown",
   "id": "a42897c3",
   "metadata": {},
   "source": [
    "# Left Rotate an array by D places"
   ]
  },
  {
   "cell_type": "code",
   "execution_count": 1,
   "id": "b5886de4",
   "metadata": {},
   "outputs": [
    {
     "data": {
      "text/plain": [
       "[2, 3, 4, 5, 6, 7, 1]"
      ]
     },
     "execution_count": 1,
     "metadata": {},
     "output_type": "execute_result"
    }
   ],
   "source": [
    "# Brute force approach - Using temp array\n",
    "# Time complexity : O(n+k)\n",
    "# Space Complexity : O(k)\n",
    "# https://www.naukri.com/code360/problems/rotate-array_1230543?utm_source=youtube&utm_medium=affiliate&utm_campaign=striver_Arrayproblems\n",
    "\n",
    "def leftShift(arr, k):\n",
    "    n = len(arr)\n",
    "    k = k%n\n",
    "    \n",
    "    temp = []\n",
    "    \n",
    "    # O(k)\n",
    "    for i in range(k):\n",
    "        temp.append(arr[i])\n",
    "        \n",
    "    # O(n-k)\n",
    "    for i in range(k, n):\n",
    "        arr[i-k] = arr[i]\n",
    "    \n",
    "    # O(k)\n",
    "    for i in range(n-k, n):\n",
    "        arr[i] = temp[i-(n-k)]\n",
    "    return arr\n",
    "\n",
    "arr = [1, 2, 3, 4, 5, 6, 7]\n",
    "k = 1\n",
    "leftShift(arr, k)"
   ]
  },
  {
   "cell_type": "code",
   "execution_count": 39,
   "id": "7b76c828",
   "metadata": {},
   "outputs": [
    {
     "data": {
      "text/plain": [
       "[3, 4, 5, 6, 7, 1, 2]"
      ]
     },
     "execution_count": 39,
     "metadata": {},
     "output_type": "execute_result"
    }
   ],
   "source": [
    "# Optimal approach -Reverse 1st k element and remanining elements\n",
    "# Time Complexity : O(2N)\n",
    "# Space Complexity : O(1)\n",
    "\n",
    "def reverse(arr, i, j):\n",
    "    \n",
    "    while i < j:\n",
    "        arr[i], arr[j] = arr[j], arr[i]\n",
    "        i += 1\n",
    "        j -=1\n",
    "\n",
    "def leftShift(arr, k):\n",
    "    n = len(arr)\n",
    "    k = k%n\n",
    "    \n",
    "    # O(k)\n",
    "    reverse(arr,0, k-1)\n",
    "    #O(n-k)\n",
    "    reverse(arr, k, n-1)\n",
    "    #O(n)\n",
    "    reverse(arr, 0, n-1)\n",
    "\n",
    "arr = [1, 2, 3, 4, 5, 6, 7]\n",
    "# arr = [1, 2]\n",
    "k = 2\n",
    "leftShift(arr, k)\n",
    "arr"
   ]
  },
  {
   "cell_type": "code",
   "execution_count": null,
   "id": "01bed4cc",
   "metadata": {},
   "outputs": [],
   "source": []
  },
  {
   "cell_type": "markdown",
   "id": "84a23d0d",
   "metadata": {},
   "source": [
    "# Right Rotate by d places"
   ]
  },
  {
   "cell_type": "code",
   "execution_count": 4,
   "id": "32d03f01",
   "metadata": {},
   "outputs": [
    {
     "data": {
      "text/plain": [
       "[7, 1, 2, 3, 4, 5, 6]"
      ]
     },
     "execution_count": 4,
     "metadata": {},
     "output_type": "execute_result"
    }
   ],
   "source": [
    "# Brute force approach\n",
    "# Time complexity : O(n+k)\n",
    "# Space Complexity : O(k)\n",
    "# https://leetcode.com/problems/rotate-array/submissions/1285068689/\n",
    "\n",
    "def rightShift(arr, k):\n",
    "    n = len(arr)\n",
    "    k = k%n\n",
    "    \n",
    "    temp = []\n",
    "    # O(k)\n",
    "    for i in range(n-k, n):\n",
    "        temp.append(arr[i])\n",
    "#     print(temp)\n",
    "    \n",
    "    # O(n-k)\n",
    "    for i in range(n-1-k, -1, -1):\n",
    "        arr[i+k] = arr[i]\n",
    "        \n",
    "    # O(k)\n",
    "    for i in range(k):\n",
    "        arr[i] = temp[i]\n",
    "    return arr\n",
    "\n",
    "arr = [1, 2, 3, 4, 5, 6, 7]\n",
    "k = 1\n",
    "rightShift(arr, k)"
   ]
  },
  {
   "cell_type": "code",
   "execution_count": 42,
   "id": "f7440d2f",
   "metadata": {},
   "outputs": [
    {
     "data": {
      "text/plain": [
       "[5, 6, 7, 1, 2, 3, 4]"
      ]
     },
     "execution_count": 42,
     "metadata": {},
     "output_type": "execute_result"
    }
   ],
   "source": [
    "def reverse(arr, i, j):\n",
    "    \n",
    "    while i < j:\n",
    "        arr[i], arr[j] = arr[j], arr[i]\n",
    "        i += 1\n",
    "        j -=1\n",
    "\n",
    "def rightShift(arr, k):\n",
    "    n = len(arr)\n",
    "    k = k%n\n",
    "    \n",
    "    # O(k)\n",
    "    reverse(arr,0, n-k-1)\n",
    "    #O(n-k)\n",
    "    reverse(arr, n-k, n-1)\n",
    "    #O(n)\n",
    "    reverse(arr, 0, n-1)\n",
    "\n",
    "arr = [1, 2, 3, 4, 5, 6, 7]\n",
    "# arr = [1, 2]\n",
    "k = 3\n",
    "rightShift(arr, k)\n",
    "arr"
   ]
  },
  {
   "cell_type": "code",
   "execution_count": null,
   "id": "24f3dc2c",
   "metadata": {},
   "outputs": [],
   "source": []
  },
  {
   "cell_type": "markdown",
   "id": "b5540662",
   "metadata": {},
   "source": [
    "# Move Zeros to end"
   ]
  },
  {
   "cell_type": "code",
   "execution_count": 6,
   "id": "5a75cbbd",
   "metadata": {},
   "outputs": [
    {
     "data": {
      "text/plain": [
       "[1, 2, 3, 2, 4, 5, 1, 0, 0, 0]"
      ]
     },
     "execution_count": 6,
     "metadata": {},
     "output_type": "execute_result"
    }
   ],
   "source": [
    "# Brute Force Appraoch : Using temp array\n",
    "# Time Complexity : O(2N)\n",
    "# Space Complexity : O(N)\n",
    "# https://leetcode.com/problems/move-zeroes/\n",
    "\n",
    "def moves0sEnd(arr, n):\n",
    "    temp = []\n",
    "    zeros = 0\n",
    "    \n",
    "    # O(N)\n",
    "    for i in range(n):\n",
    "        if arr[i] != 0:\n",
    "            temp.append(arr[i])\n",
    "        else:\n",
    "            zeros += 1\n",
    "        \n",
    "    # O(N)\n",
    "    for i in range(zeros):\n",
    "        temp.append(0)\n",
    "    \n",
    "    return temp\n",
    "              \n",
    "arr = [1, 0, 2, 3, 2, 0, 0, 4, 5, 1]  \n",
    "moves0sEnd(arr, len(arr))"
   ]
  },
  {
   "cell_type": "code",
   "execution_count": 8,
   "id": "30a12a5f",
   "metadata": {},
   "outputs": [
    {
     "data": {
      "text/plain": [
       "[1, 2, 3, 2, 4, 5, 1, 0, 0, 0]"
      ]
     },
     "execution_count": 8,
     "metadata": {},
     "output_type": "execute_result"
    }
   ],
   "source": [
    "# Better Appraoch - Using 2 pointers with different loops\n",
    "# Time Complexity - O(N)\n",
    "# Space Complexity - O(1)\n",
    "\n",
    "def moves0sEnd(arr, n):\n",
    "    i = -1\n",
    "    for z in range(n):\n",
    "        if arr[z] == 0:\n",
    "            i = z\n",
    "            break\n",
    "    \n",
    "    if i == -1: \n",
    "        return arr\n",
    "    \n",
    "    for j in range(i+1, n):\n",
    "        if arr[j] != 0:\n",
    "            arr[i], arr[j] = arr[j], arr[i]\n",
    "            i += 1\n",
    "            \n",
    "    return arr\n",
    "    \n",
    "arr = [1, 0, 2, 3, 2, 0, 0, 4, 5, 1]\n",
    "moves0sEnd(arr, len(arr)) "
   ]
  },
  {
   "cell_type": "code",
   "execution_count": 5,
   "id": "5cd12148",
   "metadata": {},
   "outputs": [
    {
     "data": {
      "text/plain": [
       "[1, 2, 3, 2, 4, 5, 1, 0, 0, 0]"
      ]
     },
     "execution_count": 5,
     "metadata": {},
     "output_type": "execute_result"
    }
   ],
   "source": [
    "# Optimal Approach - Using the 2 pointer approach\n",
    "# Time Complexity : O(N)\n",
    "     \n",
    "def moves0sEnd(arr, n):\n",
    "    i = 0\n",
    "    j = 0\n",
    "    \n",
    "    while j < n:\n",
    "        if arr[i] == 0:\n",
    "            if arr[j] != 0:\n",
    "                arr[i], arr[j] = arr[j], arr[i]\n",
    "                i += 1\n",
    "            j += 1\n",
    "        else:\n",
    "            j += 1\n",
    "            i += 1\n",
    "            \n",
    "    return arr\n",
    "\n",
    "arr = [1, 0, 2, 3, 2, 0, 0, 4, 5, 1]\n",
    "moves0sEnd(arr, len(arr))"
   ]
  },
  {
   "cell_type": "code",
   "execution_count": null,
   "id": "26a94f0b",
   "metadata": {},
   "outputs": [],
   "source": []
  },
  {
   "cell_type": "markdown",
   "id": "800caef6",
   "metadata": {},
   "source": [
    "# Linear Search"
   ]
  },
  {
   "cell_type": "code",
   "execution_count": 10,
   "id": "09f49548",
   "metadata": {},
   "outputs": [
    {
     "data": {
      "text/plain": [
       "3"
      ]
     },
     "execution_count": 10,
     "metadata": {},
     "output_type": "execute_result"
    }
   ],
   "source": [
    "# Time Complexity : O(N)\n",
    "# https://www.geeksforgeeks.org/problems/who-will-win-1587115621/1?utm_source=youtube&utm_medium=collab_striver_ytdescription&utm_campaign=who-will-win\n",
    "\n",
    "def linearSearch(arr, k):\n",
    "    \n",
    "    n = len(arr)\n",
    "    for i in range(n):\n",
    "        if arr[i] == k:\n",
    "            return i\n",
    "    return -1\n",
    "\n",
    "arr = [6, 7, 2, 9, 1, 10]\n",
    "linearSearch(arr, 9)"
   ]
  },
  {
   "cell_type": "code",
   "execution_count": null,
   "id": "0140c527",
   "metadata": {},
   "outputs": [],
   "source": []
  },
  {
   "cell_type": "markdown",
   "id": "3de6cd64",
   "metadata": {},
   "source": [
    "# Find the Union"
   ]
  },
  {
   "cell_type": "code",
   "execution_count": 5,
   "id": "4ac79bf4",
   "metadata": {},
   "outputs": [
    {
     "data": {
      "text/plain": [
       "{-8, -7, -3, 8}"
      ]
     },
     "execution_count": 5,
     "metadata": {},
     "output_type": "execute_result"
    }
   ],
   "source": [
    "# Brute Force : using set()\n",
    "# Time complexity : O(nLogn + mLogm)\n",
    "# Space complexity : O(n+m)\n",
    "# https://www.geeksforgeeks.org/problems/union-of-two-sorted-arrays-1587115621/1?utm_source=youtube&utm_medium=collab_striver_ytdescription&utm_campaign=union-of-two-sorted-arrays\n",
    "\n",
    "def union(arr1, arr2):\n",
    "    n = len(arr1)\n",
    "    m = len(arr2)\n",
    "    \n",
    "    union = set()\n",
    "    \n",
    "    # O(nLogn)\n",
    "    for i in range(n):\n",
    "        union.add(arr1[i])\n",
    "    # (mLogm)\n",
    "    for j in range(m):\n",
    "        union.add(arr2[j])\n",
    "        \n",
    "    return union\n",
    "    \n",
    "arr1 = [1, 1, 2, 3, 4, 5]\n",
    "arr2 = [2, 3, 4, 4, 5, 6]\n",
    "arr1 = [-7, 8]\n",
    "arr2 = [-8, -3, 8]\n",
    "union(arr1, arr2)"
   ]
  },
  {
   "cell_type": "code",
   "execution_count": 1,
   "id": "4c0ab4e2",
   "metadata": {},
   "outputs": [
    {
     "data": {
      "text/plain": [
       "[1, 2, 3, 4, 5, 6]"
      ]
     },
     "execution_count": 1,
     "metadata": {},
     "output_type": "execute_result"
    }
   ],
   "source": [
    "# Optimal Approach : 2-pointer approach\n",
    "# Time Complexity : O(n+m)\n",
    "# Space Complexity : O(n+m)\n",
    "\n",
    "def union(arr1, arr2):\n",
    "    n = len(arr1)\n",
    "    m = len(arr2)\n",
    "    \n",
    "    i, j = 0, 0\n",
    "    union = []\n",
    "    \n",
    "    # O(n+m)\n",
    "    while i<n and j<m:\n",
    "        if arr1[i] == arr2[j]:\n",
    "            if (len(union) == 0) or arr1[i] != temp:\n",
    "                union.append(arr1[i])\n",
    "                temp = arr1[i]\n",
    "            i += 1\n",
    "            j += 1\n",
    "        elif arr1[i] < arr2[j]:\n",
    "            if (len(union) == 0) or arr1[i] != temp:\n",
    "                union.append(arr1[i])\n",
    "                temp = arr1[i]\n",
    "            i += 1\n",
    "        else:\n",
    "            if (len(union) == 0) or arr2[j] != temp:\n",
    "                union.append(arr2[j])\n",
    "                temp = arr2[j]\n",
    "            j += 1\n",
    "            \n",
    "    while i < n:\n",
    "        if (len(union) == 0) or arr1[i] != temp:\n",
    "            union.append(arr1[i])\n",
    "            temp = arr1[i]\n",
    "        i += 1\n",
    "        \n",
    "    while j < m:\n",
    "        if (len(union) == 0) or arr2[j] != temp:\n",
    "            union.append(arr2[j])\n",
    "            temp = arr2[j]\n",
    "        j += 1\n",
    "        \n",
    "    return union\n",
    "\n",
    "arr1 = [1, 1, 2, 3, 4, 5]\n",
    "arr2 = [2, 3, 4, 4, 5, 6]\n",
    "union(arr1, arr2)"
   ]
  },
  {
   "cell_type": "code",
   "execution_count": null,
   "id": "a33105ef",
   "metadata": {},
   "outputs": [],
   "source": []
  },
  {
   "cell_type": "markdown",
   "id": "a9d31355",
   "metadata": {},
   "source": [
    "# Find missing number in an array"
   ]
  },
  {
   "cell_type": "code",
   "execution_count": 7,
   "id": "55f61633",
   "metadata": {},
   "outputs": [
    {
     "data": {
      "text/plain": [
       "2"
      ]
     },
     "execution_count": 7,
     "metadata": {},
     "output_type": "execute_result"
    }
   ],
   "source": [
    "# Brute Force Appraoch - Using Linear search \n",
    "# https://leetcode.com/problems/missing-number/description/\n",
    "# Time complexity : O(N^2)\n",
    "# Space Complexity : O(1)\n",
    "\n",
    "def missingNumber(arr):\n",
    "    n = len(arr)\n",
    "    \n",
    "    for i in range(n+1):\n",
    "        flag = 0\n",
    "        for j in range(n):\n",
    "            if i == arr[j]:\n",
    "                flag = 1\n",
    "                break\n",
    "        if flag == 0:\n",
    "            return i\n",
    "        \n",
    "    return \n",
    "\n",
    "arr = [9,6,4,2,3,5,7,0,1]\n",
    "arr = [0,1]\n",
    "arr = [3, 0, 1]\n",
    "missingNumber(arr)"
   ]
  },
  {
   "cell_type": "code",
   "execution_count": 16,
   "id": "ad4dbd05",
   "metadata": {},
   "outputs": [
    {
     "data": {
      "text/plain": [
       "2"
      ]
     },
     "execution_count": 16,
     "metadata": {},
     "output_type": "execute_result"
    }
   ],
   "source": [
    "# Better Approach : Using Hashing\n",
    "# Time Complexity : O(2N)\n",
    "# Space Complexity : O(N)\n",
    "\n",
    "def missingNumber(arr):\n",
    "    n = len(arr)\n",
    "    _hash = [0]*(n+1)\n",
    "    \n",
    "    # O(N)\n",
    "    for i in range(n):\n",
    "        _hash[arr[i]] = 1\n",
    "    \n",
    "    # O(N)\n",
    "    for i in range(n+1):\n",
    "        if _hash[i] == 0:\n",
    "            return i\n",
    "    \n",
    "    return _hash\n",
    "\n",
    "arr = [9,6,4,2,3,5,7,0,1]\n",
    "arr = [0,1]\n",
    "arr = [3, 0, 1]\n",
    "missingNumber(arr)"
   ]
  },
  {
   "cell_type": "code",
   "execution_count": 18,
   "id": "212e5fa3",
   "metadata": {},
   "outputs": [
    {
     "data": {
      "text/plain": [
       "8"
      ]
     },
     "execution_count": 18,
     "metadata": {},
     "output_type": "execute_result"
    }
   ],
   "source": [
    "# Optimal Approach : Using sum\n",
    "# Time Complexity : O(N)\n",
    "# Space Complexity : O(1)\n",
    "\n",
    "def missingNumber(arr):\n",
    "    n = len(arr)\n",
    "    \n",
    "    TotalSum = n*(n+1)//2\n",
    "    sum = 0\n",
    "    # O(N)\n",
    "    for i in range(n):\n",
    "        sum += arr[i]\n",
    "    \n",
    "    return TotalSum - sum\n",
    "\n",
    "arr = [9,6,4,2,3,5,7,0,1]\n",
    "# arr = [0,1]\n",
    "# arr = [3, 0, 1]\n",
    "missingNumber(arr)"
   ]
  },
  {
   "cell_type": "code",
   "execution_count": 25,
   "id": "47947f5b",
   "metadata": {},
   "outputs": [
    {
     "data": {
      "text/plain": [
       "8"
      ]
     },
     "execution_count": 25,
     "metadata": {},
     "output_type": "execute_result"
    }
   ],
   "source": [
    "# Optimal Approach : Using xor\n",
    "# Time Complexity : O(N)\n",
    "# Space Complexity : O(1)\n",
    "\n",
    "def missingNumber(arr):\n",
    "    n = len(arr)\n",
    "    \n",
    "    xor = 0\n",
    "    for i in range(n):\n",
    "        xor ^= (arr[i]^(i+1))\n",
    "        \n",
    "    return xor\n",
    "\n",
    "arr = [9,6,4,2,3,5,7,0,1]\n",
    "# arr = [0,1]\n",
    "# arr = [3, 0, 1]\n",
    "missingNumber(arr)"
   ]
  },
  {
   "cell_type": "code",
   "execution_count": null,
   "id": "122118db",
   "metadata": {},
   "outputs": [],
   "source": []
  },
  {
   "cell_type": "markdown",
   "id": "fcb4db11",
   "metadata": {},
   "source": [
    "# Maximum Consective Ones"
   ]
  },
  {
   "cell_type": "code",
   "execution_count": 26,
   "id": "cf248c80",
   "metadata": {},
   "outputs": [
    {
     "data": {
      "text/plain": [
       "3"
      ]
     },
     "execution_count": 26,
     "metadata": {},
     "output_type": "execute_result"
    }
   ],
   "source": [
    "# \n",
    "# https://leetcode.com/problems/max-consecutive-ones/submissions/1287492381/\n",
    "# Time Complexity : O(N)\n",
    "# Space Complexity : O(1)\n",
    "\n",
    "def maxConsecutiveOnes(arr):\n",
    "    n = len(arr)\n",
    "    \n",
    "    maxOnes = 0\n",
    "    cOnes = 0\n",
    "    for i in range(n):\n",
    "        if arr[i] == 1:\n",
    "            cOnes += 1\n",
    "            if cOnes > maxOnes:\n",
    "                maxOnes = cOnes\n",
    "        else:\n",
    "            cOnes = 0\n",
    "    return maxOnes\n",
    "\n",
    "arr = [1, 1, 0, 1, 1, 1]\n",
    "maxConsecutiveOnes(arr)"
   ]
  },
  {
   "cell_type": "code",
   "execution_count": null,
   "id": "851c7cb6",
   "metadata": {},
   "outputs": [],
   "source": []
  },
  {
   "cell_type": "markdown",
   "id": "3e58feaa",
   "metadata": {},
   "source": [
    "# Find the number that appears once, and other number twice"
   ]
  },
  {
   "cell_type": "code",
   "execution_count": 46,
   "id": "c9e5b37b",
   "metadata": {},
   "outputs": [
    {
     "data": {
      "text/plain": [
       "4"
      ]
     },
     "execution_count": 46,
     "metadata": {},
     "output_type": "execute_result"
    }
   ],
   "source": [
    "# Brute force Approach - Linear Search Approach\n",
    "# Time Complexity : O(N^2)\n",
    "# https://leetcode.com/problems/single-number/submissions/1287511207/\n",
    "\n",
    "def singleNum(arr):\n",
    "    n = len(arr)\n",
    "    \n",
    "    for i in range(n):\n",
    "        counter = 0\n",
    "        for j in range(n):\n",
    "            if arr[i] == arr[j]:\n",
    "                counter += 1\n",
    "        if counter == 1:\n",
    "            return arr[i]\n",
    "\n",
    "arr = [4,1,2,1,2]\n",
    "singleNum(arr)"
   ]
  },
  {
   "cell_type": "code",
   "execution_count": 47,
   "id": "01e83a14",
   "metadata": {},
   "outputs": [
    {
     "data": {
      "text/plain": [
       "4"
      ]
     },
     "execution_count": 47,
     "metadata": {},
     "output_type": "execute_result"
    }
   ],
   "source": [
    "# Better Approach - Using Hashing\n",
    "# Cons : If the array has negatives or big number then it won't work.\n",
    "# Time Complexity : O(3N)\n",
    "# Space Complexity : O(_max)\n",
    "\n",
    "def singleNum(arr):\n",
    "    n = len(arr)\n",
    "    _max = arr[0]\n",
    "    \n",
    "    # O(N)\n",
    "    for i in range(n):\n",
    "        if arr[i] > _max:\n",
    "            _max = arr[i]\n",
    "    \n",
    "    _hash = [0]*(_max+1)\n",
    "    \n",
    "    # O(N)\n",
    "    for i in range(n):\n",
    "        _hash[arr[i]] += 1\n",
    "    \n",
    "    # O(N)\n",
    "    for i in range(n):\n",
    "        if _hash[arr[i]] == 1:\n",
    "            return arr[i]\n",
    "    \n",
    "\n",
    "arr = [4,1,2,1,2]\n",
    "singleNum(arr)"
   ]
  },
  {
   "cell_type": "code",
   "execution_count": 48,
   "id": "fcab0947",
   "metadata": {},
   "outputs": [
    {
     "data": {
      "text/plain": [
       "4"
      ]
     },
     "execution_count": 48,
     "metadata": {},
     "output_type": "execute_result"
    }
   ],
   "source": [
    "# Better Approach - Using Map Data Structure\n",
    "# Time Complexity : O(NLogN)\n",
    "\n",
    "def singleNum(arr):\n",
    "    n = len(arr)\n",
    "    \n",
    "    _map = {}\n",
    "    \n",
    "    # O(N)\n",
    "    for i in range(n):\n",
    "        # O(LogN)\n",
    "        if arr[i] in _map:\n",
    "            _map[arr[i]] += 1\n",
    "        else :\n",
    "            _map[arr[i]] = 1\n",
    "    \n",
    "    for i, j in _map.items():\n",
    "        if j == 1:\n",
    "            return i\n",
    "            \n",
    "arr = [4,1,2,1,2]\n",
    "singleNum(arr)"
   ]
  },
  {
   "cell_type": "code",
   "execution_count": 49,
   "id": "d8596664",
   "metadata": {},
   "outputs": [
    {
     "data": {
      "text/plain": [
       "4"
      ]
     },
     "execution_count": 49,
     "metadata": {},
     "output_type": "execute_result"
    }
   ],
   "source": [
    "# Optimal Approach - Using xor\n",
    "# Time Complexity : O(N)\n",
    "\n",
    "def singleNum(arr):\n",
    "    n = len(arr)\n",
    "    \n",
    "    res = arr[0]\n",
    "    for i in range(1, n):\n",
    "        res ^= arr[i]\n",
    "        \n",
    "    return res\n",
    "            \n",
    "arr = [4,1,2,1,2]\n",
    "singleNum(arr)\n"
   ]
  },
  {
   "cell_type": "code",
   "execution_count": null,
   "id": "e94e2aa9",
   "metadata": {},
   "outputs": [],
   "source": []
  },
  {
   "cell_type": "markdown",
   "id": "4c95066a",
   "metadata": {},
   "source": [
    "# Longest Subarray with given sum K (positives)"
   ]
  },
  {
   "cell_type": "code",
   "execution_count": 6,
   "id": "dddb6272",
   "metadata": {},
   "outputs": [
    {
     "data": {
      "text/plain": [
       "4"
      ]
     },
     "execution_count": 6,
     "metadata": {},
     "output_type": "execute_result"
    }
   ],
   "source": [
    "# Brute Force appraoch : Generating all subarrays\n",
    "# https://www.geeksforgeeks.org/problems/longest-sub-array-with-sum-k0809/1?utm_source=youtube&utm_medium=collab_striver_ytdescription&utm_campaign=longest-sub-array-with-sum-k\n",
    "# Time Complexity : O(N^2)\n",
    "# Space Complexity : O(1)\n",
    "\n",
    "def subArraySum(arr, k):\n",
    "    n = len(arr)\n",
    "    sum = 0\n",
    "    res = 0\n",
    "    # O(N)\n",
    "    for i in range(n):\n",
    "        sum = 0\n",
    "        # O(N)\n",
    "        for j in range(i, n):\n",
    "            sum += arr[j]\n",
    "            if sum == k and ((j-i+1) > res):\n",
    "                res = j-i+1\n",
    "    return res\n",
    "\n",
    "arr = [1, 2, 3, 1, 1, 1, 1, 4, 2, 3]\n",
    "subArraySum(arr, 4)"
   ]
  },
  {
   "cell_type": "code",
   "execution_count": null,
   "id": "2d3ed8fc",
   "metadata": {},
   "outputs": [],
   "source": [
    "# Better Approach : Using Hashing (reverse engineering)\n",
    "# Time Complexity : O(NLogN)\n",
    "# Space Complexity : O(N)\n",
    "\n",
    "def subarraySum(arr, k):\n",
    "    n = len(arr)\n",
    "    _hash = []\n",
    "    sum = 0\n",
    "    maxLen = 0\n",
    "    \n",
    "    # O(N)\n",
    "    for i in range(n):\n",
    "        sum += arr[i]\n",
    "        if sum == k and maxLen < (i+1):\n",
    "            res = i+1\n",
    "        # O(LogN) - If used binary Search\n",
    "        for j in range(len(_hash)):\n",
    "            if _hash[j] == (sum-k) and maxLen < (i-(j+1)+1):\n",
    "                maxLen = (i-(j+1)+1)\n",
    "                break\n",
    "        _hash.append(sum)\n",
    "        \n",
    "    return maxLen\n",
    "\n",
    "arr = [1, 2, 3, 1, 1, 1, 1, 1]\n",
    "k = 3\n",
    "subarraySum(arr, k)"
   ]
  },
  {
   "cell_type": "code",
   "execution_count": 3,
   "id": "ddf944d6",
   "metadata": {},
   "outputs": [
    {
     "data": {
      "text/plain": [
       "4"
      ]
     },
     "execution_count": 3,
     "metadata": {},
     "output_type": "execute_result"
    }
   ],
   "source": [
    "# Optimal appraoch : Using Hashing by Dictionaries\n",
    "# Time Complexity : O(N)\n",
    "# Space Complexity : O(N)\n",
    "\n",
    "def subarraySum(arr, k):\n",
    "    n = len(arr)\n",
    "    _hashDict = {}\n",
    "    sum = 0\n",
    "    maxLen = 0\n",
    "    \n",
    "    # O(N)\n",
    "    for i in range(n):\n",
    "        sum += arr[i]\n",
    "        if sum == k:\n",
    "            maxLen = max(maxLen, i+1)\n",
    "        \n",
    "        # O(1)\n",
    "        if (sum-k) in _hashDict:\n",
    "            length = i - (_hashDict[sum-k])\n",
    "            maxLen = max(maxLen, (length))\n",
    "        \n",
    "        if sum not in _hashDict:\n",
    "            _hashDict[sum] = i\n",
    "        \n",
    "    return maxLen\n",
    "\n",
    "arr = [1, 2, 3, 1, 1, 1, 1, 1]\n",
    "k = 6\n",
    "subarraySum(arr, k)"
   ]
  },
  {
   "cell_type": "code",
   "execution_count": 25,
   "id": "4b774382",
   "metadata": {},
   "outputs": [
    {
     "data": {
      "text/plain": [
       "4"
      ]
     },
     "execution_count": 25,
     "metadata": {},
     "output_type": "execute_result"
    }
   ],
   "source": [
    "# Optimal Approach : Using 2 pointer approach\n",
    "# Time Complexity : O(2N)\n",
    "# Space Complexity : O(1)\n",
    "\n",
    "def subArraySum(arr, k):\n",
    "    n = len(arr)\n",
    "    left, right = 0, 0\n",
    "    sum = arr[0]\n",
    "    maxLen = 0\n",
    "    \n",
    "    while right < n:\n",
    "        while (sum > k andleft <= right):\n",
    "            sum -= arr[left]\n",
    "            left += 1\n",
    "        if sum == k:\n",
    "            maxLen = max(maxLen, right-left+1)\n",
    "        right += 1\n",
    "        if right < n:\n",
    "            sum += arr[right]\n",
    "            \n",
    "    return maxLen\n",
    "\n",
    "arr = [1, 2, 3, 1, 1, 1, 1, 3, 3]\n",
    "k = 6\n",
    "subArraySum(arr, k)"
   ]
  },
  {
   "cell_type": "code",
   "execution_count": null,
   "id": "724fce9e",
   "metadata": {},
   "outputs": [],
   "source": []
  }
 ],
 "metadata": {
  "kernelspec": {
   "display_name": "Python 3 (ipykernel)",
   "language": "python",
   "name": "python3"
  },
  "language_info": {
   "codemirror_mode": {
    "name": "ipython",
    "version": 3
   },
   "file_extension": ".py",
   "mimetype": "text/x-python",
   "name": "python",
   "nbconvert_exporter": "python",
   "pygments_lexer": "ipython3",
   "version": "3.11.5"
  }
 },
 "nbformat": 4,
 "nbformat_minor": 5
}
