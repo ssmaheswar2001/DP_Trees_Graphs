{
 "cells": [
  {
   "cell_type": "markdown",
   "id": "2a10cc1e",
   "metadata": {},
   "source": [
    " # Find the row with maximum number of 1's"
   ]
  },
  {
   "cell_type": "code",
   "execution_count": 2,
   "id": "082a0ef7",
   "metadata": {},
   "outputs": [
    {
     "data": {
      "text/plain": [
       "2"
      ]
     },
     "execution_count": 2,
     "metadata": {},
     "output_type": "execute_result"
    }
   ],
   "source": [
    "# Brute Force Approach :\n",
    "# Time Complexity : O(N x M)\n",
    "# Space Complexity : O(1)\n",
    "\n",
    "def rowWithMax1s(arr):\n",
    "    n = len(arr)\n",
    "    \n",
    "    maxOnes = -1\n",
    "    index = -1\n",
    "    for i in range(n):\n",
    "        ones = 0\n",
    "        for j in range(len(arr[i])):\n",
    "            ones += arr[i][j]\n",
    "        if maxOnes < ones:\n",
    "            index = i\n",
    "            maxOnes = ones\n",
    "    return index\n",
    "\n",
    "arr = [[0, 1, 1, 1],\n",
    "       [0, 0, 1, 1],\n",
    "       [1, 1, 1, 1],\n",
    "       [0, 0, 0, 0]]\n",
    "rowWithMax1s(arr)"
   ]
  },
  {
   "cell_type": "code",
   "execution_count": 7,
   "id": "1cd65bdc",
   "metadata": {},
   "outputs": [
    {
     "data": {
      "text/plain": [
       "2"
      ]
     },
     "execution_count": 7,
     "metadata": {},
     "output_type": "execute_result"
    }
   ],
   "source": [
    "# Optimal Approach : Binary Search\n",
    "# Time Complexity : O(NLog(M))\n",
    "# Space Complexity : O(1)\n",
    "\n",
    "def rowWithMax1s(arr):\n",
    "    n = len(arr)\n",
    "    \n",
    "    maxOnes = -1\n",
    "    index = -1\n",
    "    for i in range(n):\n",
    "        ones = 0\n",
    "        low = 0\n",
    "        high = len(arr[i])-1\n",
    "        while low <= high:\n",
    "            mid = low + (high-low)//2\n",
    "            if arr[i][mid] == 1:\n",
    "                high = mid - 1\n",
    "            else:\n",
    "                low = mid + 1\n",
    "        ones = len(arr[i]) - low\n",
    "        \n",
    "        if maxOnes < ones:\n",
    "            index = i\n",
    "            maxOnes = ones\n",
    "    return index\n",
    "\n",
    "arr = [[0, 1, 1, 1],\n",
    "       [0, 0, 1, 1],\n",
    "       [1, 1, 1, 1],\n",
    "       [0, 0, 0, 0]]\n",
    "rowWithMax1s(arr)"
   ]
  },
  {
   "cell_type": "code",
   "execution_count": null,
   "id": "514ed1a3",
   "metadata": {},
   "outputs": [],
   "source": []
  },
  {
   "cell_type": "markdown",
   "id": "38d066e0",
   "metadata": {},
   "source": [
    "# Search in a Sorted Matrix"
   ]
  },
  {
   "cell_type": "code",
   "execution_count": 1,
   "id": "ca2e64ab",
   "metadata": {},
   "outputs": [
    {
     "data": {
      "text/plain": [
       "True"
      ]
     },
     "execution_count": 1,
     "metadata": {},
     "output_type": "execute_result"
    }
   ],
   "source": [
    "# Brute Force Approach\n",
    "# Time Complexity : O(NxM)\n",
    "# Space Complexity : O(1)\n",
    "\n",
    "def searchMatrix(matrix, target):\n",
    "    n = len(matrix)\n",
    "    for i in range(n):\n",
    "        for j in range(len(matrix[i])):\n",
    "            if matrix[i][j] == target:\n",
    "                return True\n",
    "    return False\n",
    "\n",
    "matrix = [[1,3,5,7],\n",
    "          [10,11,16,20],\n",
    "          [23,30,34,60]]\n",
    "target = 3\n",
    "searchMatrix(matrix, target)"
   ]
  },
  {
   "cell_type": "code",
   "execution_count": 3,
   "id": "f51ecc11",
   "metadata": {},
   "outputs": [
    {
     "data": {
      "text/plain": [
       "True"
      ]
     },
     "execution_count": 3,
     "metadata": {},
     "output_type": "execute_result"
    }
   ],
   "source": [
    "# Better Approach\n",
    "# Time Complexity : O(N)+Log(M)\n",
    "# Space Complexity : O(1)\n",
    "\n",
    "def binarySearch(arr, target):\n",
    "    low = 0\n",
    "    high = len(arr)-1\n",
    "    while low <=high:\n",
    "        mid = low + (high-low)//2\n",
    "        if arr[mid] == target:\n",
    "            return True\n",
    "        elif arr[mid] < target:\n",
    "            low = mid + 1\n",
    "        else:\n",
    "            high = mid - 1\n",
    "    return False\n",
    "\n",
    "def searchMatrix(matrix, target):\n",
    "    n = len(matrix)\n",
    "    m = len(matrix[0])\n",
    "    \n",
    "    for i in range(n):\n",
    "        if matrix[i][0] <= target and matrix[i][m-1] >= target:\n",
    "            return binarySearch(matrix[i], target)\n",
    "    return False\n",
    "    \n",
    "\n",
    "matrix = [[1,3,5,7],\n",
    "          [10,11,16,20],\n",
    "          [23,30,34,60]]\n",
    "target = 3\n",
    "searchMatrix(matrix, target)"
   ]
  },
  {
   "cell_type": "code",
   "execution_count": 7,
   "id": "fbc3b5ef",
   "metadata": {},
   "outputs": [
    {
     "data": {
      "text/plain": [
       "True"
      ]
     },
     "execution_count": 7,
     "metadata": {},
     "output_type": "execute_result"
    }
   ],
   "source": [
    "# Better Approach : Binary Search\n",
    "# Time Complexity : O(Log(N+M))\n",
    "# Space Complexity : O(1)\n",
    "\n",
    "\n",
    "def searchMatrix(matrix, target):\n",
    "    n = len(matrix)\n",
    "    m = len(matrix[0])\n",
    "    \n",
    "    low = 0\n",
    "    high = n*m-1\n",
    "    while low <= high:\n",
    "        mid = low + (high-low)//2\n",
    "        row = mid//m\n",
    "        column = mid%m\n",
    "        if matrix[row][column] == target:\n",
    "            return True\n",
    "        elif matrix[row][column] < target:\n",
    "            low = mid + 1\n",
    "        else:\n",
    "            high = mid - 1\n",
    "    return True\n",
    "    \n",
    "\n",
    "matrix = [[1,3,5,7],\n",
    "          [10,11,16,20],\n",
    "          [23,30,34,60]]\n",
    "target = 3\n",
    "searchMatrix(matrix, target)"
   ]
  },
  {
   "cell_type": "code",
   "execution_count": null,
   "id": "b763f20d",
   "metadata": {},
   "outputs": [],
   "source": []
  },
  {
   "cell_type": "markdown",
   "id": "216fe069",
   "metadata": {},
   "source": [
    "# Search in a row and column wise sorted matrix"
   ]
  },
  {
   "cell_type": "code",
   "execution_count": 9,
   "id": "42c77ee1",
   "metadata": {},
   "outputs": [
    {
     "data": {
      "text/plain": [
       "(3, 3)"
      ]
     },
     "execution_count": 9,
     "metadata": {},
     "output_type": "execute_result"
    }
   ],
   "source": [
    "# Better Approach : Binary Searcg\n",
    "# Time Complexity : O(NxLog(M))\n",
    "# space Complexity : O(1)\n",
    "\n",
    "def binarySearch(arr, target):\n",
    "    low = 0\n",
    "    high = len(arr)-1\n",
    "    while low <= high:\n",
    "        mid= low + (high-low)//2\n",
    "        if arr[mid] == target:\n",
    "            return mid\n",
    "        elif arr[mid] < target:\n",
    "            low = mid + 1\n",
    "        else:\n",
    "            high = mid - 1\n",
    "    return -1\n",
    "\n",
    "def searchMatrix(matrix, target):\n",
    "    n = len(matrix)\n",
    "    m = len(matrix[0])\n",
    "    \n",
    "    for i in range(n):\n",
    "        if matrix[i][0] <= target and matrix[i][m-1] >= target:\n",
    "            column = binarySearch(matrix[i], target)\n",
    "            if column != -1:\n",
    "                return (i, column)\n",
    "    return (-1, -1)\n",
    "\n",
    "\n",
    "matrix = [[1,4,7,11,15],\n",
    "          [2,5,8,12,19],\n",
    "          [3,6,9,16,22],\n",
    "          [10,13,14,17,24],\n",
    "          [18,21,23,26,30]]\n",
    "target = 17\n",
    "searchMatrix(matrix, target)"
   ]
  },
  {
   "cell_type": "code",
   "execution_count": 4,
   "id": "f96b12f5",
   "metadata": {},
   "outputs": [
    {
     "data": {
      "text/plain": [
       "(3, 2)"
      ]
     },
     "execution_count": 4,
     "metadata": {},
     "output_type": "execute_result"
    }
   ],
   "source": [
    "# Better Approach : \n",
    "# Time Complexity : O(N+M)\n",
    "# space Complexity : O(1)\n",
    "\n",
    "\n",
    "def searchMatrix(matrix, target):\n",
    "    n = len(matrix)\n",
    "    m = len(matrix[0])\n",
    "    \n",
    "    row = 0\n",
    "    column = m-1\n",
    "    while row<n and column>=0:\n",
    "        if matrix[row][column] == target:\n",
    "            return (row, column)\n",
    "        elif matrix[row][column] < target:\n",
    "            row += 1\n",
    "        else:\n",
    "            column -= 1\n",
    "    return (-1, -1)\n",
    "\n",
    "\n",
    "matrix = [[1,4,7,11,15],\n",
    "          [2,5,8,12,19],\n",
    "          [3,6,9,16,22],\n",
    "          [10,13,14,17,24],\n",
    "          [18,21,23,26,30]]\n",
    "target = 14\n",
    "searchMatrix(matrix, target)"
   ]
  },
  {
   "cell_type": "code",
   "execution_count": null,
   "id": "99572814",
   "metadata": {},
   "outputs": [],
   "source": []
  },
  {
   "cell_type": "markdown",
   "id": "981e9577",
   "metadata": {},
   "source": [
    "# Find Peak Element (2D Matrix)"
   ]
  },
  {
   "cell_type": "code",
   "execution_count": 3,
   "id": "313a08d3",
   "metadata": {},
   "outputs": [
    {
     "data": {
      "text/plain": [
       "[1, 3]"
      ]
     },
     "execution_count": 3,
     "metadata": {},
     "output_type": "execute_result"
    }
   ],
   "source": [
    "\n",
    "def maxIndex( arr):\n",
    "    _max = arr[0]\n",
    "    index = 0\n",
    "        \n",
    "    for i in range(1, len(arr)):\n",
    "        if arr[i] > _max:\n",
    "            _max = arr[i]\n",
    "            index = i\n",
    "    return index\n",
    "\n",
    "def findPeakGrid(mat):\n",
    "    n = len(mat)\n",
    "    m = len(mat[0])  \n",
    "\n",
    "    if n == 1:\n",
    "        peakIndex = maxIndex(mat[0])\n",
    "        return [0, peakIndex]\n",
    "\n",
    "    peakIndex0 = maxIndex(mat[0])\n",
    "    if mat[0][peakIndex0] > mat[1][peakIndex0]:\n",
    "        return [0, peakIndex0]\n",
    "        \n",
    "    peakIndexn = maxIndex(mat[n-1])\n",
    "    if mat[n-1][peakIndexn] > mat[n-2][peakIndexn]:\n",
    "        return [n-1, peakIndexn]\n",
    "\n",
    "    low = 1\n",
    "    high = n-2\n",
    "\n",
    "    while low <= high:\n",
    "        mid = low + (high-low)//2\n",
    "        peakIndex = maxIndex(mat[mid])\n",
    "        if mat[mid-1][peakIndex] < mat[mid][peakIndex] > mat[mid+1][peakIndex]:\n",
    "            return [mid, peakIndex]\n",
    "        elif mat[mid-1][peakIndex] > mat[mid][peakIndex]:\n",
    "            high = mid - 1\n",
    "        else:\n",
    "            low = mid + 1\n",
    "    return [-1, -1]\n",
    "\n",
    "mat = [[10,20,15],[21,30,14],[7,16,32]]\n",
    "mat = [[10,30,40,50,20],\n",
    "       [1,3,2,500,4]]\n",
    "findPeakGrid(mat)"
   ]
  },
  {
   "cell_type": "code",
   "execution_count": null,
   "id": "59f4f11f",
   "metadata": {},
   "outputs": [],
   "source": []
  },
  {
   "cell_type": "markdown",
   "id": "59726f45",
   "metadata": {},
   "source": [
    "# Matrix Median"
   ]
  },
  {
   "cell_type": "code",
   "execution_count": 4,
   "id": "efad471a",
   "metadata": {},
   "outputs": [
    {
     "data": {
      "text/plain": [
       "5"
      ]
     },
     "execution_count": 4,
     "metadata": {},
     "output_type": "execute_result"
    }
   ],
   "source": [
    "# Brute Force Approach\n",
    "# Time Complexity : O(nxm) + O((nxm)Log(nxm))\n",
    "# Space Complexity : O(N)\n",
    "\n",
    "def median(matrix):\n",
    "    n = len(matrix)\n",
    "    m = len(matrix[0])\n",
    "    \n",
    "    matrix1D = []\n",
    "    \n",
    "    for i in range(n):\n",
    "        for j in range(m):\n",
    "            matrix1D.append(matrix[i][j])\n",
    "    matrix1D.sort()\n",
    "    medianIndex = (n*m)//2\n",
    "    return matrix1D[medianIndex]\n",
    "\n",
    "matrix = [[1, 3, 5], \n",
    "     [2, 6, 9], \n",
    "     [3, 6, 9]]\n",
    "median(matrix)"
   ]
  },
  {
   "cell_type": "code",
   "execution_count": 36,
   "id": "3461e44e",
   "metadata": {},
   "outputs": [
    {
     "name": "stdout",
     "output_type": "stream",
     "text": [
      "1 9\n",
      "5 5\n",
      "2 2\n",
      "1 1\n"
     ]
    },
    {
     "data": {
      "text/plain": [
       "1"
      ]
     },
     "execution_count": 36,
     "metadata": {},
     "output_type": "execute_result"
    }
   ],
   "source": [
    "# Optimal Approach : Using binary search\n",
    "# Time Complexity : log(10**9)xNxLogM\n",
    "# Space Complexity : O(1)\n",
    "\n",
    "def binarySearch(arr, target):\n",
    "    n = len(arr)\n",
    "    low = 0\n",
    "    high = n-1\n",
    "    res = -1\n",
    "    while low <= high:\n",
    "        mid = low +(high-low)//2\n",
    "        if arr[mid] <= target:\n",
    "            res = mid\n",
    "            low = mid + 1\n",
    "        else:\n",
    "            high = mid -1\n",
    "    return res + 1\n",
    "        \n",
    "# O(NLogM)\n",
    "def number_lessEqual(arr, mid):\n",
    "    n =  len(arr)\n",
    "    m = len(arr[0])\n",
    "    count = 0\n",
    "    for i in range(n):\n",
    "        count += binarySearch(arr[i], mid)\n",
    "    return count\n",
    "\n",
    "def median(matrix):\n",
    "    n = len(matrix)\n",
    "    m = len(matrix[0])\n",
    "    \n",
    "    low = matrix[0][0]\n",
    "    high = matrix[0][m-1]\n",
    "    for i in range(n):\n",
    "        if low > matrix[i][0]:\n",
    "            low = matrix[i][0]\n",
    "        if high < matrix[i][m-1]:\n",
    "            high = matrix[i][m-1]\n",
    "    print(low, high)\n",
    "    \n",
    "    \n",
    "    while low <= high:\n",
    "        mid = low +(high-low)//2\n",
    "        count = number_lessEqual(matrix, mid)\n",
    "        print(mid, count)\n",
    "        if count >= ((n*m)//2)+1:\n",
    "            res = mid\n",
    "            high = mid - 1\n",
    "        else:\n",
    "            low = mid + 1\n",
    "    return mid\n",
    "    \n",
    "number_lessEqual(arr, 2)\n",
    "\n",
    "matrix = [[1, 3, 5], \n",
    "     [2, 6, 9], \n",
    "     [3, 6, 9]]\n",
    "median(matrix)"
   ]
  },
  {
   "cell_type": "code",
   "execution_count": null,
   "id": "3b5cecf6",
   "metadata": {},
   "outputs": [],
   "source": []
  }
 ],
 "metadata": {
  "kernelspec": {
   "display_name": "Python 3 (ipykernel)",
   "language": "python",
   "name": "python3"
  },
  "language_info": {
   "codemirror_mode": {
    "name": "ipython",
    "version": 3
   },
   "file_extension": ".py",
   "mimetype": "text/x-python",
   "name": "python",
   "nbconvert_exporter": "python",
   "pygments_lexer": "ipython3",
   "version": "3.11.5"
  }
 },
 "nbformat": 4,
 "nbformat_minor": 5
}
