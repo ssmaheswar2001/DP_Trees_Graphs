{
 "cells": [
  {
   "cell_type": "markdown",
   "id": "ff27a9b4",
   "metadata": {},
   "source": [
    "# Find Square root of a number in log(n)"
   ]
  },
  {
   "cell_type": "code",
   "execution_count": 2,
   "id": "e73f0795",
   "metadata": {},
   "outputs": [
    {
     "data": {
      "text/plain": [
       "2"
      ]
     },
     "execution_count": 2,
     "metadata": {},
     "output_type": "execute_result"
    }
   ],
   "source": [
    "# Brute Force Appraoch - Linear Search\n",
    "# Time Complexity - O(N)\n",
    "# Space Complexity - O(1)\n",
    "\n",
    "def floorSqrt(n):\n",
    "    \n",
    "    for i in range(1, n+1):\n",
    "        if i*i <= n:\n",
    "            floor = i\n",
    "        else:\n",
    "            break\n",
    "    return floor \n",
    "    \n",
    "n = 5\n",
    "floorSqrt(n)"
   ]
  },
  {
   "cell_type": "code",
   "execution_count": 6,
   "id": "0e90e3c4",
   "metadata": {},
   "outputs": [
    {
     "data": {
      "text/plain": [
       "3"
      ]
     },
     "execution_count": 6,
     "metadata": {},
     "output_type": "execute_result"
    }
   ],
   "source": [
    "# Optimal Appraoch - Binary Search\n",
    "# Time Complexity - O(LogN)\n",
    "# Space Complexity - O(1)\n",
    "\n",
    "def floorSqrt(n):\n",
    "    \n",
    "    low = 1\n",
    "    high = n\n",
    "    \n",
    "    while low <= high:\n",
    "        mid = low + (high-low)//2\n",
    "        \n",
    "        if (mid*mid) <= n:\n",
    "            floorSqrt = mid\n",
    "            low = mid + 1\n",
    "        elif (mid*mid) > n:\n",
    "            high = mid - 1\n",
    "            \n",
    "    return floorSqrt\n",
    "\n",
    "n = 5\n",
    "n = 9\n",
    "n = 11\n",
    "floorSqrt(n)"
   ]
  },
  {
   "cell_type": "code",
   "execution_count": null,
   "id": "ea3306f6",
   "metadata": {},
   "outputs": [],
   "source": []
  },
  {
   "cell_type": "markdown",
   "id": "715dffac",
   "metadata": {},
   "source": [
    "# Find the Nth root of a number"
   ]
  },
  {
   "cell_type": "code",
   "execution_count": 8,
   "id": "87dca2b2",
   "metadata": {},
   "outputs": [
    {
     "data": {
      "text/plain": [
       "-1"
      ]
     },
     "execution_count": 8,
     "metadata": {},
     "output_type": "execute_result"
    }
   ],
   "source": [
    "# Brute Force Appraoch - Linear search\n",
    "# Time Complexity : O(M*N)\n",
    "# Space Complexity : O(1)\n",
    "\n",
    "def nRootM(n, m):\n",
    "    for i in range(1, m+1):\n",
    "        if i**n == m:\n",
    "            return i\n",
    "        if i**n > m:\n",
    "            return -1\n",
    "\n",
    "# nth root of m\n",
    "n, m = 3, 27\n",
    "n,m = 4, 9\n",
    "nRootM(n, m)"
   ]
  },
  {
   "cell_type": "code",
   "execution_count": 9,
   "id": "baf41fa6",
   "metadata": {},
   "outputs": [
    {
     "data": {
      "text/plain": [
       "3"
      ]
     },
     "execution_count": 9,
     "metadata": {},
     "output_type": "execute_result"
    }
   ],
   "source": [
    "# Optimal Appraoch - Binary Search\n",
    "# Time Complexity : O(N*LogM)\n",
    "# Space Complexity : O(1)\n",
    "\n",
    "def NthRoot(n, m):\n",
    "    low = 1\n",
    "    high = m\n",
    "    \n",
    "    while low <= high:\n",
    "        mid = low + (high-low)//2    \n",
    "        if (mid**n) == m:\n",
    "            return mid\n",
    "        if (mid**n) < m:\n",
    "            low = mid + 1\n",
    "        elif (mid**n) > m:\n",
    "            high = mid - 1    \n",
    "            \n",
    "    return -1\n",
    "\n",
    "n, m = 3, 27\n",
    "NthRoot(3, 27)"
   ]
  },
  {
   "cell_type": "code",
   "execution_count": null,
   "id": "bd1b305f",
   "metadata": {},
   "outputs": [],
   "source": []
  }
 ],
 "metadata": {
  "kernelspec": {
   "display_name": "Python 3 (ipykernel)",
   "language": "python",
   "name": "python3"
  },
  "language_info": {
   "codemirror_mode": {
    "name": "ipython",
    "version": 3
   },
   "file_extension": ".py",
   "mimetype": "text/x-python",
   "name": "python",
   "nbconvert_exporter": "python",
   "pygments_lexer": "ipython3",
   "version": "3.11.5"
  }
 },
 "nbformat": 4,
 "nbformat_minor": 5
}
