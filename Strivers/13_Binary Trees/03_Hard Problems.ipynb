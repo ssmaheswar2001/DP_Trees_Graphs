{
 "cells": [
  {
   "cell_type": "markdown",
   "id": "134295a7-f617-4fcc-bcf4-fbd60bc17a1a",
   "metadata": {},
   "source": [
    "# Root to Node Path in Binary Tree"
   ]
  },
  {
   "cell_type": "code",
   "execution_count": 10,
   "id": "54bfb21b-f3d7-489b-8327-056d803c2cfa",
   "metadata": {},
   "outputs": [
    {
     "data": {
      "text/plain": [
       "[[1, 2, 4], [1, 2, 5], [1, 3, 6], [1, 3, 7]]"
      ]
     },
     "execution_count": 10,
     "metadata": {},
     "output_type": "execute_result"
    }
   ],
   "source": [
    "\n",
    "class Node:\n",
    "    def __init__(self, data):\n",
    "        self.left = None\n",
    "        self.data = data\n",
    "        self.right = None\n",
    "\n",
    "def Paths(node, path, res):\n",
    "    if node is None:\n",
    "        return []\n",
    "    if node.left == None and node.right == None:\n",
    "        res.append(path)\n",
    "        return\n",
    "        \n",
    "    if node.left != None:\n",
    "        Paths(node.left, path+[node.left.data], res)\n",
    "    if node.right != None:\n",
    "        Paths(node.right, path+[node.right.data], res)\n",
    "    return \n",
    "    \n",
    "\n",
    "\n",
    "root = Node(1)\n",
    "root.left = Node(2)\n",
    "root.right = Node(3)\n",
    "root.left.left = Node(4)\n",
    "root.left.right = Node(5)\n",
    "root.right.left = Node(6)\n",
    "root.right.right = Node(7)\n",
    "res = []\n",
    "Paths(root, [root.data], res)\n",
    "res"
   ]
  },
  {
   "cell_type": "code",
   "execution_count": null,
   "id": "2f9e5c27-a2b9-4d13-a467-e60806ec6976",
   "metadata": {},
   "outputs": [],
   "source": []
  },
  {
   "cell_type": "markdown",
   "id": "cd9211c6-e374-4d9d-abe5-5bcdf736d5f8",
   "metadata": {},
   "source": [
    "# Lowest Common Ancestor of a Binary Tree"
   ]
  },
  {
   "cell_type": "code",
   "execution_count": 20,
   "id": "d4dabede-86d1-4782-a39f-63811815bb65",
   "metadata": {},
   "outputs": [
    {
     "data": {
      "text/plain": [
       "2"
      ]
     },
     "execution_count": 20,
     "metadata": {},
     "output_type": "execute_result"
    }
   ],
   "source": [
    "class Node:\n",
    "    def __init__(self, data):\n",
    "        self.left = None\n",
    "        self.data = data\n",
    "        self.right = None\n",
    "\n",
    "def lowestCommonAncestor(root, p, q):\n",
    "    if root == None or root.data == p or root.data == q:\n",
    "        return root\n",
    "\n",
    "    leftNode = lowestCommonAncestor(root.left, p, q)\n",
    "    rightNode = lowestCommonAncestor(root.right, p, q)\n",
    "    if leftNode != None and rightNode != None:\n",
    "        return root.data\n",
    "        \n",
    "    if leftNode != None:\n",
    "        return leftNode\n",
    "    if rightNode != None:\n",
    "        return rightNode\n",
    "    return None\n",
    "    \n",
    "root = Node(1)\n",
    "root.left = Node(2)\n",
    "root.right = Node(3)\n",
    "root.left.left = Node(4)\n",
    "root.left.right = Node(5)\n",
    "root.left.right.left = Node(8)\n",
    "root.left.right.right = Node(9)\n",
    "root.right.left = Node(6)\n",
    "root.right.right = Node(7)\n",
    "\n",
    "p = 4\n",
    "q = 9\n",
    "lowestCommonAncestor(root, p, q)"
   ]
  },
  {
   "cell_type": "code",
   "execution_count": null,
   "id": "c89595ee-1c63-4044-a2d4-229eb0739deb",
   "metadata": {},
   "outputs": [],
   "source": []
  },
  {
   "cell_type": "markdown",
   "id": "ba299939-92e1-4dbf-8817-b35735ed9af4",
   "metadata": {},
   "source": [
    "# Max Width of Binary Tree"
   ]
  },
  {
   "cell_type": "code",
   "execution_count": 24,
   "id": "97c561ec-b5fb-4d25-a1c4-6cc1f18f9876",
   "metadata": {},
   "outputs": [
    {
     "data": {
      "text/plain": [
       "4"
      ]
     },
     "execution_count": 24,
     "metadata": {},
     "output_type": "execute_result"
    }
   ],
   "source": [
    "class Node:\n",
    "    def __init__(self, data):\n",
    "        self.left = None\n",
    "        self.data = data\n",
    "        self.right = None\n",
    "\n",
    "def widthOfBinaryTree(root):\n",
    "    if root is None:\n",
    "        return 0\n",
    "\n",
    "    _maxWidth = 0\n",
    "    queue = [(root, 0)]\n",
    "        \n",
    "    while len(queue) > 0:\n",
    "        n = len(queue)\n",
    "        left = queue[0][1]\n",
    "        right = queue[-1][1]\n",
    "        _maxWidth = max(_maxWidth, (right-left+1))\n",
    "        for i in range(n):\n",
    "            node, index = queue.pop(0)\n",
    "            if node.left != None:\n",
    "                queue.append((node.left, 2*index+1))\n",
    "            if node.right != None:\n",
    "                queue.append((node.right, 2*index+2))\n",
    "            \n",
    "    return _maxWidth\n",
    "    \n",
    "root = Node(1)\n",
    "root.left = Node(2)\n",
    "root.right = Node(3)\n",
    "root.left.left = Node(4)\n",
    "root.left.right = Node(5)\n",
    "root.left.right.left = Node(8)\n",
    "root.left.right.right = Node(9)\n",
    "root.right.left = Node(6)\n",
    "root.right.right = Node(7)\n",
    "widthOfBinaryTree(root)"
   ]
  },
  {
   "cell_type": "code",
   "execution_count": null,
   "id": "0e55363d-a507-4a37-9086-a56c6e7de57b",
   "metadata": {},
   "outputs": [],
   "source": []
  },
  {
   "cell_type": "markdown",
   "id": "594a56e2-76e3-4640-b227-d75bed38bc0e",
   "metadata": {},
   "source": [
    "# Check for Children Sum Property"
   ]
  },
  {
   "cell_type": "code",
   "execution_count": 34,
   "id": "7dbfb155-e628-416b-8f93-e8ec9d8f5b84",
   "metadata": {},
   "outputs": [
    {
     "data": {
      "text/plain": [
       "True"
      ]
     },
     "execution_count": 34,
     "metadata": {},
     "output_type": "execute_result"
    }
   ],
   "source": [
    "\n",
    "class Node:\n",
    "    def __init__(self, data):\n",
    "        self.left = None\n",
    "        self.data = data\n",
    "        self.right = None\n",
    "\n",
    "def isSumProperty(root):\n",
    "    if root is None:\n",
    "        return True\n",
    "    if root.left == None and root.right == None:\n",
    "        return True\n",
    "    sum = 0\n",
    "    if root.left != None:\n",
    "        sum += root.left.data\n",
    "    if root.right != None:\n",
    "        sum += root.right.data\n",
    "    return (root.data == sum) and isSumProperty(root.left) and isSumProperty(root.right)\n",
    "\n",
    "root = Node(35)\n",
    "root.left = Node(20)\n",
    "root.right = Node(15)\n",
    "root.left.left = Node(15)\n",
    "root.left.right = Node(5)\n",
    "root.right.left = Node(10)\n",
    "root.right.right = Node(5)\n",
    "isSumProperty(root)"
   ]
  },
  {
   "cell_type": "code",
   "execution_count": null,
   "id": "1e4727de-7efb-4ac3-8d99-91d4a6f4c5ff",
   "metadata": {},
   "outputs": [],
   "source": []
  },
  {
   "attachments": {
    "19634fc5-7fc7-4741-b688-fdff9314df52.png": {
     "image/png": "[encoded data removed]"
    }
   },
   "cell_type": "markdown",
   "id": "260406c7-853c-481a-9201-1ba107a542d6",
   "metadata": {},
   "source": [
    "# Print all the Nodes at a distance of K in a Binary Tree\n",
    "- ![image.png](attachment:19634fc5-7fc7-4741-b688-fdff9314df52.png)"
   ]
  },
  {
   "cell_type": "code",
   "execution_count": 12,
   "id": "bae2c055-c5d1-48a9-a0fc-10ea9ab655bb",
   "metadata": {},
   "outputs": [
    {
     "data": {
      "text/plain": [
       "[7, 4, 1]"
      ]
     },
     "execution_count": 12,
     "metadata": {},
     "output_type": "execute_result"
    }
   ],
   "source": [
    "\n",
    "class Node:\n",
    "    def __init__(self, data):\n",
    "        self.left = None\n",
    "        self.data = data\n",
    "        self.right = None\n",
    "        \n",
    "def LinkParent(root, parent):\n",
    "        \n",
    "    queue = [root]\n",
    "    while len(queue) > 0:\n",
    "        n = len(queue)\n",
    "        for i in range(n):\n",
    "            node = queue.pop(0)\n",
    "            if node.left != None:\n",
    "                queue.append(node.left)\n",
    "                parent[node.left] = node\n",
    "            if node.right != None:\n",
    "                queue.append(node.right)\n",
    "                parent[node.right] = node\n",
    "\n",
    "def distanceK(root, target, k):\n",
    "    if root is None:\n",
    "        return\n",
    "\n",
    "    parent = {}\n",
    "    LinkParent(root, parent)\n",
    "        \n",
    "    visited = [target]\n",
    "    queue = [target]\n",
    "\n",
    "    for i in range(k):\n",
    "        n = len(queue)\n",
    "        for j in range(n):\n",
    "            node = queue.pop(0)\n",
    "            if node.left != None and node.left not in visited:\n",
    "                queue.append(node.left)\n",
    "                visited.append(node.left)\n",
    "            if node.right != None and node.right not in visited:\n",
    "                queue.append(node.right)\n",
    "                visited.append(node.right)\n",
    "            if node in parent and parent[node] not in visited:\n",
    "                queue.append(parent[node])\n",
    "                visited.append(parent[node])\n",
    "    res = []\n",
    "    while len(queue) > 0:\n",
    "        node = queue.pop(0)\n",
    "        res.append(node.data)\n",
    "    return res\n",
    "\n",
    "root = Node(3)\n",
    "root.left = Node(5)\n",
    "root.left.left = Node(6)\n",
    "root.left.right = Node(2)\n",
    "root.left.right.left = Node(7)\n",
    "root.left.right.right = Node(4)\n",
    "root.right = Node(1)\n",
    "root.right.left = Node(0)\n",
    "root.right.right = Node(8)\n",
    "target = root.left\n",
    "distanceK(root, target, 2)"
   ]
  },
  {
   "cell_type": "code",
   "execution_count": null,
   "id": "9ae88c5c-c643-42fe-a484-be60614d84e1",
   "metadata": {},
   "outputs": [],
   "source": []
  },
  {
   "cell_type": "markdown",
   "id": "7de99d03-50b1-4d05-a386-23a3750439fc",
   "metadata": {},
   "source": [
    "# Burning Tree"
   ]
  },
  {
   "cell_type": "code",
   "execution_count": 16,
   "id": "0e674366-f2e5-4a00-bfbf-0f8c7d920277",
   "metadata": {},
   "outputs": [
    {
     "data": {
      "text/plain": [
       "3"
      ]
     },
     "execution_count": 16,
     "metadata": {},
     "output_type": "execute_result"
    }
   ],
   "source": [
    "\n",
    "class Node:\n",
    "    def __init__(self, data):\n",
    "        self.left = None\n",
    "        self.data = data\n",
    "        self.right = None\n",
    "\n",
    "def linkParent(root, target):\n",
    "    parent = {}\n",
    "    queue = [root]\n",
    "        \n",
    "    while len(queue)>0:\n",
    "        n = len(queue)\n",
    "        for i in range(n):\n",
    "            node = queue.pop(0)\n",
    "            if node.data == target:\n",
    "                targetNode = node\n",
    "            if node.left != None:\n",
    "                queue.append(node.left)\n",
    "                parent[node.left] = node\n",
    "            if node.right != None:\n",
    "                queue.append(node.right)\n",
    "                parent[node.right] = node\n",
    "                    \n",
    "    return parent, targetNode\n",
    "    \n",
    "def minTime(root,target):\n",
    "    if root is None:\n",
    "        return 0\n",
    "        \n",
    "    parent, targetNode = linkParent(root, target)\n",
    "        \n",
    "    queue = [targetNode]\n",
    "    visited = [targetNode]\n",
    "    totalTime = 0\n",
    "    while len(queue) > 0:\n",
    "        n = len(queue)\n",
    "        time = 0\n",
    "        for i in range(n):\n",
    "            node = queue.pop(0)\n",
    "            if node.left != None and node.left not in visited:\n",
    "                queue.append(node.left)\n",
    "                visited.append(node.left)\n",
    "            if node.right != None and node.right not in visited:\n",
    "                queue.append(node.right)\n",
    "                visited.append(node.right)\n",
    "            if node in parent and parent[node] not in visited:\n",
    "                queue.append(parent[node])\n",
    "                visited.append(parent[node])\n",
    "            time = 1\n",
    "        totalTime += time\n",
    "            \n",
    "    return totalTime-1\n",
    "\n",
    "\n",
    "root = Node(3)\n",
    "root.left = Node(5)\n",
    "root.left.left = Node(6)\n",
    "root.left.right = Node(2)\n",
    "root.left.right.left = Node(7)\n",
    "root.left.right.right = Node(4)\n",
    "root.right = Node(1)\n",
    "root.right.left = Node(0)\n",
    "root.right.right = Node(8)\n",
    "target = 5\n",
    "minTime(root, target)"
   ]
  },
  {
   "cell_type": "code",
   "execution_count": null,
   "id": "d2cb62f1-17ce-4e5e-b440-47a78dc2837d",
   "metadata": {},
   "outputs": [],
   "source": []
  },
  {
   "cell_type": "markdown",
   "id": "5864c463-f2ea-4f8a-a84a-e6d5cd9972a7",
   "metadata": {},
   "source": [
    "# Count total nodes in binary Tree"
   ]
  },
  {
   "cell_type": "code",
   "execution_count": 5,
   "id": "f30e7a6f-f110-45a0-8b86-236d88f95ab5",
   "metadata": {},
   "outputs": [
    {
     "data": {
      "text/plain": [
       "7"
      ]
     },
     "execution_count": 5,
     "metadata": {},
     "output_type": "execute_result"
    }
   ],
   "source": [
    "\n",
    "class Node:\n",
    "    def __init__(self, data):\n",
    "        self.left = None\n",
    "        self.data = data\n",
    "        self.right = None\n",
    "\n",
    "def countNodes(root):\n",
    "    if root is None:\n",
    "        return 0\n",
    "\n",
    "    queue = [root]\n",
    "    i = 0\n",
    "    while len(queue):\n",
    "        node = queue.pop(0)   \n",
    "        if node.left != None:\n",
    "            queue.append(node.left)\n",
    "        if node.right != None:\n",
    "            queue.append(node.right)\n",
    "        i += 1\n",
    "    return i\n",
    "\n",
    "root = Node(1)\n",
    "root.left = Node(2)\n",
    "root.right = Node(3)\n",
    "root.left.left = Node(4)\n",
    "root.left.right = Node(5)\n",
    "root.right.left = Node(6)\n",
    "root.right.right = Node(7)\n",
    "countNodes(root)"
   ]
  },
  {
   "cell_type": "code",
   "execution_count": 7,
   "id": "80ea60e3-47d1-44f4-b72a-62ad6057d808",
   "metadata": {},
   "outputs": [
    {
     "data": {
      "text/plain": [
       "7"
      ]
     },
     "execution_count": 7,
     "metadata": {},
     "output_type": "execute_result"
    }
   ],
   "source": [
    "\n",
    "class Node:\n",
    "    def __init__(self, data):\n",
    "        self.left = None\n",
    "        self.data = data\n",
    "        self.right = None\n",
    "\n",
    "def countNodes(root):\n",
    "    if root is None:\n",
    "        return 0\n",
    "\n",
    "    return 1 + countNodes(root.left) + countNodes(root.right)\n",
    "\n",
    "root = Node(1)\n",
    "root.left = Node(2)\n",
    "root.right = Node(3)\n",
    "root.left.left = Node(4)\n",
    "root.left.right = Node(5)\n",
    "root.right.left = Node(6)\n",
    "root.right.right = Node(7)\n",
    "countNodes(root)"
   ]
  },
  {
   "cell_type": "code",
   "execution_count": 10,
   "id": "9fcc1e05-7bf6-4c70-b210-318184a70baf",
   "metadata": {},
   "outputs": [
    {
     "data": {
      "text/plain": [
       "7"
      ]
     },
     "execution_count": 10,
     "metadata": {},
     "output_type": "execute_result"
    }
   ],
   "source": [
    "\n",
    "class Node:\n",
    "    def __init__(self, data):\n",
    "        self.left = None\n",
    "        self.data = data\n",
    "        self.right = None\n",
    "\n",
    "def countNodes(root):\n",
    "    if root is None:\n",
    "        return 0\n",
    "\n",
    "    lheight = 0\n",
    "    rheight = 0\n",
    "    leftNode = root\n",
    "    rightNode =root\n",
    "    while leftNode != None or rightNode != None:\n",
    "        if leftNode != None :\n",
    "            leftNode = leftNode.left\n",
    "            lheight += 1\n",
    "        if rightNode != None:\n",
    "            rightNode = rightNode.right\n",
    "            rheight += 1\n",
    "    if lheight == rheight:\n",
    "        return 2**lheight - 1\n",
    "    return 1 + self.countNodes(root.left) + self.countNodes(root.right)\n",
    "\n",
    "root = Node(1)\n",
    "root.left = Node(2)\n",
    "root.right = Node(3)\n",
    "root.left.left = Node(4)\n",
    "root.left.right = Node(5)\n",
    "root.right.left = Node(6)\n",
    "root.right.right = Node(7)\n",
    "countNodes(root)"
   ]
  },
  {
   "cell_type": "code",
   "execution_count": null,
   "id": "ad083d6f-0ac9-42da-a582-f12f9218e013",
   "metadata": {},
   "outputs": [],
   "source": []
  },
  {
   "cell_type": "markdown",
   "id": "c7299408-197f-4854-8ebb-45413c1eed0c",
   "metadata": {},
   "source": [
    "# Construct Binary Tree from inorder and preorder"
   ]
  },
  {
   "cell_type": "code",
   "execution_count": 8,
   "id": "c9d8b3fe-53d9-43ff-8f09-0e3c950fa98c",
   "metadata": {},
   "outputs": [
    {
     "name": "stdout",
     "output_type": "stream",
     "text": [
      "1\n"
     ]
    }
   ],
   "source": [
    "\n",
    "class Node:\n",
    "    def __init__(self, data):\n",
    "        self.left = None\n",
    "        self.data = data\n",
    "        self.right = None\n",
    "    \n",
    "\n",
    "def findRoot(arr, key, low, n):\n",
    "\n",
    "    for i in range(low,low+n):\n",
    "        if arr[i] == key:\n",
    "            return i\n",
    "    \n",
    "def buildTree(preorder, inorder, prelow, inlow, n):\n",
    "    if n == 0:\n",
    "        return\n",
    "    if n == 1:\n",
    "        return Node(preorder[prelow])\n",
    "\n",
    "    root = Node(preorder[prelow])\n",
    "    i = findRoot(inorder, preorder[prelow], inlow, n)\n",
    "    \n",
    "    llen = i-inlow\n",
    "    rlen = inlow+n-1-i\n",
    "    root.left =  buildTree(preorder, inorder, prelow+1,inlow,llen)\n",
    "    root.right = buildTree(preorder, inorder, prelow+1+llen,i+1, rlen)\n",
    "    return root\n",
    "\n",
    "preorder = [1, 2, 4, 5, 3, 6, 7]\n",
    "inorder = [4, 2, 5, 1, 6, 3, 7]\n",
    "root = buildTree(preorder, inorder, 0, 0, len(preorder))\n",
    "print(root.data)"
   ]
  },
  {
   "cell_type": "code",
   "execution_count": 34,
   "id": "17e0b8f0-02aa-4280-a1e9-ce3f826f5b73",
   "metadata": {},
   "outputs": [
    {
     "name": "stdout",
     "output_type": "stream",
     "text": [
      "1\n"
     ]
    }
   ],
   "source": [
    "class Node:\n",
    "    def __init__(self, data):\n",
    "        self.left = None\n",
    "        self.data = data\n",
    "        self.right = None\n",
    "    \n",
    "def buildTree(preorder, inorder, preStart, preEnd, inStart, inEnd, _hash):\n",
    "    if preStart > preEnd or inStart > inEnd:\n",
    "        return None\n",
    "    root = Node(preorder[preStart])\n",
    "    iRoot = _hash[preorder[preStart]]\n",
    "    numsLeft = iRoot - inStart\n",
    "    root.left = buildTree(preorder, inorder, preStart+1, preStart+numsLeft, inStart, iRoot-1, _hash)\n",
    "    root.right = buildTree(preorder, inorder, preStart+numsLeft+1, preEnd, iRoot+1, inEnd, _hash)\n",
    "    return root\n",
    "\n",
    "preorder = [1, 2, 4, 5, 3, 6, 7]\n",
    "inorder = [4, 2, 5, 1, 6, 3, 7]\n",
    "_hash = {}\n",
    "n = len(inorder)\n",
    "for i in range(n):\n",
    "    _hash[inorder[i]] = i\n",
    "root = buildTree(preorder, inorder, 0, len(preorder)-1, 0, len(inorder)-1,  _hash)\n",
    "print(root.data)"
   ]
  },
  {
   "cell_type": "code",
   "execution_count": 18,
   "id": "d3605293-1dea-4024-94e6-f5a8d6aa2e61",
   "metadata": {},
   "outputs": [
    {
     "name": "stdout",
     "output_type": "stream",
     "text": [
      "1\n"
     ]
    }
   ],
   "source": [
    "\n",
    "class Node:\n",
    "    def __init__(self, data):\n",
    "        self.left = None\n",
    "        self.data = data\n",
    "        self.right = None\n",
    "    \n",
    "\n",
    "def findRoot(arr, key):\n",
    "    n = len(arr)\n",
    "    for i in range():\n",
    "        if arr[i] == key:\n",
    "            return i\n",
    "    \n",
    "def buildTree(preorder, inorder):\n",
    "    if len(preorder) == 0:\n",
    "            return\n",
    "    if len(preorder) == 1:\n",
    "        return Node(preorder[0])\n",
    "    root = Node(preorder[0])\n",
    "    i = findRoot(inorder, preorder[0])\n",
    "    llen = i\n",
    "    rlen = len(inorder)-i-1\n",
    "    root.left = buildTree(preorder[1:1+llen],inorder[:i])\n",
    "    root.right = buildTree(preorder[llen+1:], inorder[i+1:])\n",
    "    return root\n",
    "\n",
    "preorder = [1, 2, 4, 5, 3, 6, 7]\n",
    "inorder = [4, 2, 5, 1, 6, 3, 7]\n",
    "root = buildTree(preorder, inorder)\n",
    "print(root.data)"
   ]
  },
  {
   "cell_type": "code",
   "execution_count": null,
   "id": "afbe2c42-b720-4fb9-8cd9-5366d8d94435",
   "metadata": {},
   "outputs": [],
   "source": []
  },
  {
   "cell_type": "markdown",
   "id": "7eea96de-7b32-44f4-b28a-a079852a33c6",
   "metadata": {},
   "source": [
    "# Construct a Binary Tree from Inorder and Postorder Traversal"
   ]
  },
  {
   "cell_type": "code",
   "execution_count": 41,
   "id": "93a8e4ad-9b44-477a-9dcd-7627aae4d051",
   "metadata": {},
   "outputs": [
    {
     "name": "stdout",
     "output_type": "stream",
     "text": [
      "1\n"
     ]
    }
   ],
   "source": [
    "class Node:\n",
    "    def __init__(self, data):\n",
    "        self.left = None\n",
    "        self.data = data\n",
    "        self.right = None\n",
    "    \n",
    "def buildTree(inorder, postOrder, inStart, inEnd, postStart, postEnd, _hash):\n",
    "    if inStart > inEnd or postStart > postEnd:\n",
    "        return None\n",
    "    root = Node(postOrder[postEnd])\n",
    "    iRoot = _hash[postOrder[postEnd]]\n",
    "\n",
    "    numsleft = iRoot-inStart\n",
    "    numsRight = inEnd-iRoot\n",
    "    root.left = buildTree(inorder, postOrder, inStart, iRoot-1, postStart, postStart+numsleft-1, _hash)\n",
    "    root.right = buildTree(inorder, postOrder, iRoot+1, inEnd, postStart+numsleft, postEnd-1, _hash)\n",
    "    return root\n",
    "\n",
    "inorder = [4, 2, 5, 1, 6, 3, 7]\n",
    "postorder = [4, 5, 2, 6, 7, 3, 1]\n",
    "_hash = {}\n",
    "n = len(inorder)\n",
    "for i in range(n):\n",
    "    _hash[inorder[i]] = i\n",
    "root = buildTree(inorder, postorder, 0, n-1, 0, n-1, _hash)\n",
    "print(root.data)"
   ]
  },
  {
   "cell_type": "code",
   "execution_count": null,
   "id": "11187e0a-2c26-46b5-994d-e9d46a0cb12f",
   "metadata": {},
   "outputs": [],
   "source": []
  },
  {
   "cell_type": "markdown",
   "id": "f4b2fde3-cca7-477f-821e-941ba4423b5d",
   "metadata": {},
   "source": [
    "# Serialize and deserialize Binary Tree"
   ]
  },
  {
   "cell_type": "code",
   "execution_count": 6,
   "id": "58813dc4-2129-458a-9810-b4f8e1eb2399",
   "metadata": {},
   "outputs": [
    {
     "data": {
      "text/plain": [
       "'1,2,3,4,5,6,7,#,#,#,#,#,#,#,#,'"
      ]
     },
     "execution_count": 6,
     "metadata": {},
     "output_type": "execute_result"
    }
   ],
   "source": [
    "class Node:\n",
    "    def __init__(self, data):\n",
    "        self.left = None\n",
    "        self.data = data\n",
    "        self.right = None\n",
    "\n",
    "def serialize(root):\n",
    "    \"\"\"Encodes a tree to a single string.\n",
    "        \n",
    "    :type root: TreeNode\n",
    "    :rtype: str\n",
    "    \"\"\"\n",
    "    if root is None:\n",
    "        return \"\"\n",
    "\n",
    "    queue = [root]\n",
    "    traversal = ''\n",
    "\n",
    "    while len(queue) > 0:\n",
    "        node = queue.pop(0)\n",
    "        if node is None:\n",
    "            traversal += '#,'\n",
    "        else:\n",
    "            traversal += str(node.data)+','\n",
    "        if node != None:\n",
    "            queue.append(node.left)\n",
    "            queue.append(node.right)\n",
    "    return traversal\n",
    "\n",
    "def deserialize(data):\n",
    "    \"\"\"Decodes your encoded data to tree.\n",
    "        \n",
    "    :type data: str\n",
    "    :rtype: TreeNode\n",
    "    \"\"\"\n",
    "    n = len(data)\n",
    "    if n == 0:\n",
    "        return None\n",
    "\n",
    "    Traversal = data.split(',')\n",
    "\n",
    "    root = Node(int(Traversal[0]))\n",
    "    queue = [root]\n",
    "    i = 0\n",
    "    while len(queue) > 0:\n",
    "        node = queue.pop(0)\n",
    "        if node != None:\n",
    "            if Traversal[i+1] != '#':\n",
    "                node.left = Node(int(Traversal[i+1]))\n",
    "            if Traversal[i+2] != '#':\n",
    "                node.right = Node(int(Traversal[i+2]))\n",
    "            queue.append(node.left)\n",
    "            queue.append(node.right)\n",
    "            i += 2\n",
    "    return root\n",
    "\n",
    "\n",
    "root = Node(1)\n",
    "root.left = Node(2)\n",
    "root.right = Node(3)\n",
    "root.left.left = Node(4)\n",
    "root.left.right = Node(5)\n",
    "root.right.left = Node(6)\n",
    "root.right.right = Node(7)\n",
    "serialize(root)"
   ]
  },
  {
   "cell_type": "code",
   "execution_count": null,
   "id": "d8df5c0e-bc9c-4dd8-a41a-c98ed3988443",
   "metadata": {},
   "outputs": [],
   "source": []
  },
  {
   "cell_type": "markdown",
   "id": "4de5103a-5c0b-4658-a5bc-e35b00b3b973",
   "metadata": {},
   "source": [
    "# Morris Inorder Traversal \n",
    "- Threaded Binary Tree"
   ]
  },
  {
   "cell_type": "code",
   "execution_count": 11,
   "id": "8a3fd4a0-29c0-459d-be46-6c0f797163ad",
   "metadata": {},
   "outputs": [
    {
     "data": {
      "text/plain": [
       "[4, 2, 5, 1, 6, 3, 7]"
      ]
     },
     "execution_count": 11,
     "metadata": {},
     "output_type": "execute_result"
    }
   ],
   "source": [
    "# Optimal Approach : \n",
    "# Time Complexity : O(N)\n",
    "# Space Complexity : O(1)\n",
    "\n",
    "\n",
    "class Node:\n",
    "    def __init__(self, data):\n",
    "        self.left = None\n",
    "        self.data = data\n",
    "        self.right = None\n",
    "\n",
    "def inOrderTraversal(root):\n",
    "    if root is None:\n",
    "        return \n",
    "    inorder = []\n",
    "    current = root\n",
    "    while current != None:\n",
    "        if current.left == None:\n",
    "            inorder.append(current.data)\n",
    "            current = current.right\n",
    "        else:\n",
    "            prev = current.left\n",
    "            while prev.right != None and prev.right != current:\n",
    "                prev = prev.right\n",
    "            if prev.right == None:\n",
    "                prev.right = current\n",
    "                current = current.left\n",
    "            else:\n",
    "                prev.right = None\n",
    "                inorder.append(current.data)\n",
    "                current = current.right\n",
    "    return inorder\n",
    "\n",
    "\n",
    "\n",
    "\n",
    "root = Node(1)\n",
    "root.left = Node(2)\n",
    "root.right = Node(3)\n",
    "root.left.left = Node(4)\n",
    "root.left.right = Node(5)\n",
    "root.right.left = Node(6)\n",
    "root.right.right = Node(7)\n",
    "inOrderTraversal(root)"
   ]
  },
  {
   "cell_type": "code",
   "execution_count": null,
   "id": "4f64f903-f332-4241-a09e-b76c7c702bbe",
   "metadata": {},
   "outputs": [],
   "source": []
  },
  {
   "attachments": {
    "a2738619-4a73-401f-81dc-27cffe686122.png": {
     "image/png": "[encoded data removed]"
    }
   },
   "cell_type": "markdown",
   "id": "98309f46-5124-4c70-8c65-5e57723ee935",
   "metadata": {},
   "source": [
    "# Flatten Binary Tree to Linked List\n",
    "- ![image.png](attachment:a2738619-4a73-401f-81dc-27cffe686122.png)"
   ]
  },
  {
   "cell_type": "code",
   "execution_count": 7,
   "id": "32d93bc7-12f0-48e7-935e-32c6df2dd776",
   "metadata": {},
   "outputs": [
    {
     "data": {
      "text/plain": [
       "<__main__.Node at 0x2016f70e8d0>"
      ]
     },
     "execution_count": 7,
     "metadata": {},
     "output_type": "execute_result"
    }
   ],
   "source": [
    "class Node:\n",
    "    def __init__(self, data):\n",
    "        self.left = None\n",
    "        self.data = data\n",
    "        self.right = None\n",
    "\n",
    "def toLinkedList(current):\n",
    "    if current == None:\n",
    "        return None\n",
    "    if current.left == None and current.right == None:\n",
    "        return current\n",
    "    lleaf = toLinkedList(current.left)\n",
    "    rleaf = toLinkedList(current.right)\n",
    "\n",
    "    if lleaf == None:\n",
    "        return rleaf\n",
    "    lleaf.right = current.right\n",
    "    current.right = None\n",
    "    current.right = current.left\n",
    "    current.left = None\n",
    "\n",
    "    if rleaf != None:\n",
    "        return rleaf\n",
    "    return lleaf\n",
    "\n",
    "\n",
    "\n",
    "root = Node(1)\n",
    "root.left = Node(2)\n",
    "root.right = Node(3)\n",
    "root.left.left = Node(4)\n",
    "root.left.right = Node(5)\n",
    "root.right.left = Node(6)\n",
    "root.right.right = Node(7)\n",
    "toLinkedList(root)"
   ]
  },
  {
   "cell_type": "code",
   "execution_count": 15,
   "id": "63d3d1bd-ea4e-4991-bc88-38e9bc9f2117",
   "metadata": {},
   "outputs": [
    {
     "data": {
      "text/plain": [
       "<__main__.Node at 0x2016f70c470>"
      ]
     },
     "execution_count": 15,
     "metadata": {},
     "output_type": "execute_result"
    }
   ],
   "source": [
    "class Node:\n",
    "    def __init__(self, data):\n",
    "        self.left = None\n",
    "        self.data = data\n",
    "        self.right = None\n",
    "\n",
    "def toLinkedList(root):\n",
    "    if root is None:\n",
    "        return None\n",
    "        \n",
    "    stack = [root]\n",
    "    while len(stack) > 0:\n",
    "        node = stack.pop()\n",
    "        if node.right != None:\n",
    "            stack.append(node.right)\n",
    "        if node.left != None:\n",
    "            stack.append(node.left)\n",
    "        if len(stack) > 0:\n",
    "            node.right = stack[-1]\n",
    "        node.left = None\n",
    "    return root\n",
    "\n",
    "root = Node(1)\n",
    "root.left = Node(2)\n",
    "root.right = Node(3)\n",
    "root.left.left = Node(4)\n",
    "root.left.right = Node(5)\n",
    "root.right.left = Node(6)\n",
    "root.right.right = Node(7)\n",
    "toLinkedList(root)"
   ]
  },
  {
   "cell_type": "code",
   "execution_count": null,
   "id": "b21acc6f-351d-4fd0-a907-1e6ce9b1ee05",
   "metadata": {},
   "outputs": [],
   "source": []
  }
 ],
 "metadata": {
  "kernelspec": {
   "display_name": "Python 3 (ipykernel)",
   "language": "python",
   "name": "python3"
  },
  "language_info": {
   "codemirror_mode": {
    "name": "ipython",
    "version": 3
   },
   "file_extension": ".py",
   "mimetype": "text/x-python",
   "name": "python",
   "nbconvert_exporter": "python",
   "pygments_lexer": "ipython3",
   "version": "3.12.7"
  }
 },
 "nbformat": 4,
 "nbformat_minor": 5
}
