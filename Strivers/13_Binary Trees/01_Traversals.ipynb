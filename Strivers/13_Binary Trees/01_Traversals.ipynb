{
 "cells": [
  {
   "cell_type": "markdown",
   "id": "45148121-a838-4284-bd81-b0a85cec0431",
   "metadata": {},
   "source": [
    "- Binary Tree : Each node has atmost 2 children.\n",
    "#### Types of Binary Trees : \n",
    "1. Full Binary Tree : Either has 0 or 2 children\n",
    "2. Complete Binary Tree : All levels are completed filled except the last level. The last level has all nodes in left as possible.\n",
    "3. Perfect Binary Tree : All leaf nodes are at the same level.\n",
    "4. Balanced Binary Tree : Height can be at maximum of log(N)\n",
    "5. Degenerate Tree or Skewed Tree"
   ]
  },
  {
   "cell_type": "markdown",
   "id": "dc654f9e-e1d7-4255-8a28-2ad66c74c741",
   "metadata": {},
   "source": [
    "# Binary Tree Representation"
   ]
  },
  {
   "cell_type": "code",
   "execution_count": 10,
   "id": "fba6469a-4ea5-4390-b8d4-d75f4c26b236",
   "metadata": {},
   "outputs": [
    {
     "data": {
      "text/plain": [
       "[4, 2, 5, 1, 6, 3, 7]"
      ]
     },
     "execution_count": 10,
     "metadata": {},
     "output_type": "execute_result"
    }
   ],
   "source": [
    "class Node:\n",
    "    def __init__(self, val):\n",
    "        self.data = val\n",
    "        self.left = None\n",
    "        self.right = None    \n",
    "\n",
    "def inorderTraversal(current, inorder):\n",
    "    if current == None:\n",
    "        return\n",
    "    inorderTraversal(current.left, inorder)\n",
    "    inorder.append(current.data)\n",
    "    inorderTraversal(current.right, inorder)\n",
    "\n",
    "arr = [1, 2, 3, 4, 5, 6, 7]\n",
    "root = Node(arr[0])\n",
    "root.left = Node(arr[1])\n",
    "root.right = Node(arr[2])\n",
    "root.left.left = Node(arr[3])\n",
    "root.left.right = Node(arr[4])\n",
    "root.right.left = Node(arr[5])\n",
    "root.right.right = Node(arr[6])\n",
    "inorder = []\n",
    "inorderTraversal(root, inorder)\n",
    "inorder"
   ]
  },
  {
   "cell_type": "code",
   "execution_count": null,
   "id": "35d77ab2-256b-41bf-9ed4-27d7c5fb5f22",
   "metadata": {},
   "outputs": [],
   "source": []
  },
  {
   "cell_type": "markdown",
   "id": "662aee9b-7823-4741-812d-e9a561381748",
   "metadata": {},
   "source": [
    "# Traversal Techniques\n",
    "1. Breath First Search\n",
    "2. Depth First Search\n",
    "\n",
    "## Breath First Search \n",
    "- Level Order Traversal\n",
    "\n",
    "## Depth First Search\n",
    "1. Inorder Traversal : Left root right\n",
    "2. Preorder Traversal : Root left right\n",
    "3. Postorder Traversal : Left right root"
   ]
  },
  {
   "cell_type": "code",
   "execution_count": 20,
   "id": "71a4df87-5a3e-4744-a05d-c22a7c4a78ea",
   "metadata": {},
   "outputs": [
    {
     "data": {
      "text/plain": [
       "([4, 2, 5, 1, 6, 3, 7], [1, 2, 4, 5, 3, 6, 7], [4, 5, 2, 6, 7, 3, 1])"
      ]
     },
     "execution_count": 20,
     "metadata": {},
     "output_type": "execute_result"
    }
   ],
   "source": [
    "# Time Complexity : O(N)\n",
    "# Space Complexity : O(N)\n",
    "\n",
    "class Node:\n",
    "    def __init__(self, val):\n",
    "        self.data = val\n",
    "        self.left = None\n",
    "        self.right = None    \n",
    "\n",
    "def inorderTraversal(current, inorder):\n",
    "    if current == None:\n",
    "        return\n",
    "    inorderTraversal(current.left, inorder)\n",
    "    inorder.append(current.data)\n",
    "    inorderTraversal(current.right, inorder)\n",
    "\n",
    "def preorderTraversal(current, preorder):\n",
    "    if current == None:\n",
    "        return\n",
    "    preorder.append(current.data)\n",
    "    preorderTraversal(current.left, preorder)\n",
    "    preorderTraversal(current.right, preorder)\n",
    "\n",
    "def postorderTraversal(current, postorder):\n",
    "    if current == None:\n",
    "        return\n",
    "    postorderTraversal(current.left, postorder)\n",
    "    postorderTraversal(current.right, postorder)\n",
    "    postorder.append(current.data)\n",
    "\n",
    "arr = [1, 2, 3, 4, 5, 6, 7]\n",
    "root = Node(arr[0])\n",
    "root.left = Node(arr[1])\n",
    "root.right = Node(arr[2])\n",
    "root.left.left = Node(arr[3])\n",
    "root.left.right = Node(arr[4])\n",
    "root.right.left = Node(arr[5])\n",
    "root.right.right = Node(arr[6])\n",
    "inorder = []\n",
    "inorderTraversal(root, inorder)\n",
    "preorder = []\n",
    "preorderTraversal(root, preorder)\n",
    "postorder = []\n",
    "postorderTraversal(root, postorder)\n",
    "inorder, preorder, postorder"
   ]
  },
  {
   "cell_type": "code",
   "execution_count": 3,
   "id": "e0f20ab3-fad3-4fae-a2f3-be4a60fe0f13",
   "metadata": {},
   "outputs": [
    {
     "data": {
      "text/plain": [
       "[4, 5, 2, 6, 7, 3, 1]"
      ]
     },
     "execution_count": 3,
     "metadata": {},
     "output_type": "execute_result"
    }
   ],
   "source": [
    "class Node:\n",
    "    def __init__(self, val):\n",
    "        self.data = val\n",
    "        self.left = None\n",
    "        self.right = None    \n",
    "\n",
    "def preorderTraversal(root):\n",
    "    if root is None:\n",
    "        return []\n",
    "    preorder = []\n",
    "    stack = [root]\n",
    "    while len(stack) > 0:\n",
    "        node = stack.pop()\n",
    "        preorder.append(node.data)\n",
    "        if node.right != None:\n",
    "            stack.append(node.right)\n",
    "        if node.left != None:\n",
    "            stack.append(node.left)\n",
    "    return preorder\n",
    "\n",
    "def inorderTraversal(root):\n",
    "    inorder = []\n",
    "    stack = []\n",
    "    node = root\n",
    "\n",
    "    while True:\n",
    "        if node != None:\n",
    "            stack.append(node)\n",
    "            node = node.left\n",
    "        else:\n",
    "            if len(stack) == 0:\n",
    "                break\n",
    "            node = stack.pop()\n",
    "            inorder.append(node.data)\n",
    "            node = node.right\n",
    "    return inorder\n",
    "\n",
    "\n",
    "def postorderTraversal(root):\n",
    "    postorder = []\n",
    "    stack = [root]\n",
    "\n",
    "    while len(stack) > 0:\n",
    "        node = stack.pop()\n",
    "        postorder.append(node.data)\n",
    "        if node.left != None:\n",
    "            stack.append(node.left)\n",
    "        if node.right != None:\n",
    "            stack.append(node.right)\n",
    "    return postorder[::-1]\n",
    "            \n",
    "\n",
    "arr = [1, 2, 3, 4, 5, 6, 7]\n",
    "root = Node(arr[0])\n",
    "root.left = Node(arr[1])\n",
    "root.right = Node(arr[2])\n",
    "root.left.left = Node(arr[3])\n",
    "root.left.right = Node(arr[4])\n",
    "root.right.left = Node(arr[5])\n",
    "root.right.right = Node(arr[6])\n",
    "preorderTraversal(root)\n",
    "inorderTraversal(root)\n",
    "postorderTraversal(root)"
   ]
  },
  {
   "cell_type": "code",
   "execution_count": null,
   "id": "c4f903b2-be83-4364-83e7-81e5e61ad45e",
   "metadata": {},
   "outputs": [],
   "source": []
  },
  {
   "cell_type": "code",
   "execution_count": null,
   "id": "6ecb4adf-556b-4ad1-a3aa-90d41f4b15e5",
   "metadata": {},
   "outputs": [],
   "source": []
  },
  {
   "cell_type": "markdown",
   "id": "be583b7e-bfad-4dad-8023-91f2f858da23",
   "metadata": {},
   "source": [
    "# Level Order Traversal"
   ]
  },
  {
   "cell_type": "code",
   "execution_count": 27,
   "id": "7f378aa0-51e3-48be-bae8-f030b0e2a151",
   "metadata": {},
   "outputs": [
    {
     "name": "stdout",
     "output_type": "stream",
     "text": [
      "[1]\n",
      "[2, 3]\n",
      "[4, 5, 6, 7]\n"
     ]
    }
   ],
   "source": [
    "# Brute Force Approach\n",
    "# Time Complexity : O(NxN)\n",
    "# Space Complexity : O(N)\n",
    "\n",
    "class Node:\n",
    "    def __init__(self, val):\n",
    "        self.data = val\n",
    "        self.left = None\n",
    "        self.right = None    \n",
    "\n",
    "def height(node):\n",
    "    if node is None:\n",
    "        return 0\n",
    "    lheight = height(node.left)\n",
    "    rheight = height(node.right)\n",
    "    return max(lheight, rheight)+1 \n",
    "\n",
    "def currentLevel(node, level):\n",
    "    if root is None:\n",
    "        return\n",
    "    if level == 0:\n",
    "        return [node.data]\n",
    "    return currentLevel(node.left, level-1)+ currentLevel(node.right, level-1)\n",
    "\n",
    "def levelOrderTraversal(root):\n",
    "    h = height(root)\n",
    "    for i in range(h):\n",
    "        print(currentLevel(root, i))\n",
    "\n",
    "arr = [1, 2, 3, 4, 5, 6, 7]\n",
    "root = Node(arr[0])\n",
    "root.left = Node(arr[1])\n",
    "root.right = Node(arr[2])\n",
    "root.left.left = Node(arr[3])\n",
    "root.left.right = Node(arr[4])\n",
    "root.right.left = Node(arr[5])\n",
    "root.right.right = Node(arr[6])\n",
    "levelOrderTraversal(root)"
   ]
  },
  {
   "cell_type": "code",
   "execution_count": 35,
   "id": "03e41cd1-07b6-4227-a9e7-98eb8825a469",
   "metadata": {},
   "outputs": [
    {
     "data": {
      "text/plain": [
       "[[1], [2, 3], [4, 5, 6, 7]]"
      ]
     },
     "execution_count": 35,
     "metadata": {},
     "output_type": "execute_result"
    }
   ],
   "source": [
    "# Optimal Approach\n",
    "# Time Complexity : O(N)\n",
    "# Space Complexity : O(N)\n",
    "\n",
    "class Node:\n",
    "    def __init__(self, val):\n",
    "        self.data = val\n",
    "        self.left = None\n",
    "        self.right = None    \n",
    "\n",
    "def levelOrderTraversal(root):\n",
    "    if root is None:\n",
    "        return\n",
    "\n",
    "    res = []\n",
    "    queue = []\n",
    "    queue.append(root)\n",
    "    \n",
    "    while len(queue) > 0:\n",
    "        size = len(queue)\n",
    "        level = []\n",
    "        for i in range(size):\n",
    "            node = queue.pop(0)\n",
    "            level.append(node.data)\n",
    "            if node.left != None:\n",
    "                queue.append(node.left)\n",
    "            if node.right != None:\n",
    "                queue.append(node.right)\n",
    "        res.append(level)\n",
    "    return res\n",
    "    \n",
    "arr = [1, 2, 3, 4, 5, 6, 7]\n",
    "root = Node(arr[0])\n",
    "root.left = Node(arr[1])\n",
    "root.right = Node(arr[2])\n",
    "root.left.left = Node(arr[3])\n",
    "root.left.right = Node(arr[4])\n",
    "root.right.left = Node(arr[5])\n",
    "root.right.right = Node(arr[6])\n",
    "levelOrderTraversal(root)"
   ]
  },
  {
   "cell_type": "code",
   "execution_count": null,
   "id": "8281823d-6922-4020-a870-9373871bcf57",
   "metadata": {},
   "outputs": [],
   "source": []
  },
  {
   "cell_type": "code",
   "execution_count": null,
   "id": "a44e2217-efb2-43f8-9f88-027c64c3e4c3",
   "metadata": {},
   "outputs": [],
   "source": []
  }
 ],
 "metadata": {
  "kernelspec": {
   "display_name": "Python 3 (ipykernel)",
   "language": "python",
   "name": "python3"
  },
  "language_info": {
   "codemirror_mode": {
    "name": "ipython",
    "version": 3
   },
   "file_extension": ".py",
   "mimetype": "text/x-python",
   "name": "python",
   "nbconvert_exporter": "python",
   "pygments_lexer": "ipython3",
   "version": "3.12.7"
  }
 },
 "nbformat": 4,
 "nbformat_minor": 5
}
