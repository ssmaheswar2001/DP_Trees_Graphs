{
 "cells": [
  {
   "cell_type": "markdown",
   "id": "e4b60bcb-409c-4983-bba9-9ba059f8788b",
   "metadata": {},
   "source": [
    "# Height of a Binary Tree"
   ]
  },
  {
   "cell_type": "code",
   "execution_count": 4,
   "id": "7c2866c5-0758-4be9-ba22-2d01e8956b04",
   "metadata": {},
   "outputs": [
    {
     "data": {
      "text/plain": [
       "3"
      ]
     },
     "execution_count": 4,
     "metadata": {},
     "output_type": "execute_result"
    }
   ],
   "source": [
    "\n",
    "class Node:\n",
    "    def __init__(self, data):\n",
    "        self.left = None\n",
    "        self.data = data\n",
    "        self.right = None\n",
    "\n",
    "def maxDepth(node):\n",
    "    if node is None:\n",
    "        return 0\n",
    "    leftPath = maxDepth(node.left)+1\n",
    "    rightPath = maxDepth(node.right)+1\n",
    "    return max(leftPath, rightPath)\n",
    "\n",
    "\n",
    "root = Node(1)\n",
    "root.left = Node(2)\n",
    "root.right = Node(3)\n",
    "root.left.left = Node(4)\n",
    "root.left.right = Node(5)\n",
    "root.right.left = Node(6)\n",
    "root.right.right = Node(7)\n",
    "maxDepth(root)"
   ]
  },
  {
   "cell_type": "code",
   "execution_count": 8,
   "id": "446a449e-fc5c-4ee4-b0ed-aef35d2d9d4b",
   "metadata": {},
   "outputs": [
    {
     "data": {
      "text/plain": [
       "3"
      ]
     },
     "execution_count": 8,
     "metadata": {},
     "output_type": "execute_result"
    }
   ],
   "source": [
    "class Node:\n",
    "    def __init__(self, data):\n",
    "        self.left = None\n",
    "        self.data = data\n",
    "        self.right = None\n",
    "\n",
    "def maxDepth(root):\n",
    "    queue = [root]\n",
    "    depth = 0\n",
    "    while len(queue)>0:\n",
    "        size = len(queue)\n",
    "        for i in range(size):\n",
    "            node = queue.pop(0)\n",
    "            if node.left != None:\n",
    "                queue.append(node.left)\n",
    "            if node.right != None:\n",
    "                queue.append(node.right)\n",
    "        depth += 1\n",
    "    \n",
    "    return depth\n",
    "\n",
    "root = Node(1)\n",
    "root.left = Node(2)\n",
    "root.right = Node(3)\n",
    "root.left.left = Node(4)\n",
    "root.left.right = Node(5)\n",
    "root.right.left = Node(6)\n",
    "root.right.right = Node(7)\n",
    "maxDepth(root)"
   ]
  },
  {
   "cell_type": "code",
   "execution_count": null,
   "id": "0c22a6ab-c7c7-4355-8171-e41bde040a78",
   "metadata": {},
   "outputs": [],
   "source": []
  },
  {
   "cell_type": "markdown",
   "id": "874adfaf-9d68-4b37-b25b-fb2705f33db2",
   "metadata": {},
   "source": [
    "# Check if the Tree is height-balanced or not\n",
    "- Height Balanced : A height-balanced binary tree is a binary tree in which the depth of the two subtrees of every node never differs by more than one."
   ]
  },
  {
   "cell_type": "code",
   "execution_count": 23,
   "id": "72f5ef7c-022c-499e-bb74-88ec24ef16df",
   "metadata": {},
   "outputs": [
    {
     "data": {
      "text/plain": [
       "3"
      ]
     },
     "execution_count": 23,
     "metadata": {},
     "output_type": "execute_result"
    }
   ],
   "source": [
    "class Node:\n",
    "    def __init__(self, data):\n",
    "        self.left = None\n",
    "        self.data = data\n",
    "        self.right = None\n",
    "\n",
    "def maxDepth(node):\n",
    "    if node is None:\n",
    "        return 0\n",
    "    leftPath = maxDepth(node.left)\n",
    "    rightPath = maxDepth(node.right)\n",
    "    \n",
    "    if leftPath == -1 or rightPath == -1:\n",
    "        return -1\n",
    "    if abs(leftPath-rightPath)>1:\n",
    "        return -1\n",
    "    return max(leftPath, rightPath)+1\n",
    "\n",
    "\n",
    "root = Node(1)\n",
    "root.left = Node(2)\n",
    "root.right = Node(3)\n",
    "root.left.left = Node(4)\n",
    "root.left.right = Node(5)\n",
    "root.right.left = Node(6)\n",
    "root.right.right = Node(7)\n",
    "maxDepth(root)"
   ]
  },
  {
   "cell_type": "code",
   "execution_count": null,
   "id": "ce4bf5ad-111b-4afa-b5af-c385b58e50c6",
   "metadata": {},
   "outputs": [],
   "source": []
  },
  {
   "cell_type": "markdown",
   "id": "a9ee1fd2-1f30-47ca-8b6b-a31cc6713267",
   "metadata": {},
   "source": [
    "# Diameter of Binary Tree\n",
    "- Diameter is the length of the longest path betweeen any nodes in a tree. This path may or may not pass through the root.\n",
    "  "
   ]
  },
  {
   "cell_type": "code",
   "execution_count": 50,
   "id": "b66eef15-0fb7-4f49-acf3-e0aec7104eb7",
   "metadata": {},
   "outputs": [
    {
     "data": {
      "text/plain": [
       "4"
      ]
     },
     "execution_count": 50,
     "metadata": {},
     "output_type": "execute_result"
    }
   ],
   "source": [
    "class Node:\n",
    "    def __init__(self, data):\n",
    "        self.left = None\n",
    "        self.data = data\n",
    "        self.right = None\n",
    "\n",
    "def maxDepth(node, diameter):\n",
    "    if node is None:\n",
    "        return 0\n",
    "    leftPath = maxDepth(node.left, diameter)\n",
    "    rightPath = maxDepth(node.right, diameter)\n",
    "    diameter[0] = max(diameter[0], leftPath + rightPath)\n",
    "    return max(leftPath, rightPath)+1\n",
    "    \n",
    "def diameterOfBinaryTree(root):\n",
    "    diameter = [0]\n",
    "    maxDepth(root, diameter)\n",
    "    return diameter[0]\n",
    "\n",
    "root = Node(1)\n",
    "root.left = Node(2)\n",
    "root.right = Node(3)\n",
    "root.left.left = Node(4)\n",
    "root.left.right = Node(5)\n",
    "root.right.left = Node(6)\n",
    "root.right.right = Node(7)\n",
    "diameterOfBinaryTree(root)"
   ]
  },
  {
   "cell_type": "code",
   "execution_count": null,
   "id": "a68cccf4-614e-4af8-8006-85fbea3e120a",
   "metadata": {},
   "outputs": [],
   "source": []
  },
  {
   "cell_type": "markdown",
   "id": "9b6aa046-36d7-4cd1-b945-126c417fd78d",
   "metadata": {},
   "source": [
    "# MaxPath Sum"
   ]
  },
  {
   "cell_type": "code",
   "execution_count": 76,
   "id": "d4539458-d0a6-4068-91af-a594e0685ba4",
   "metadata": {},
   "outputs": [
    {
     "data": {
      "text/plain": [
       "42"
      ]
     },
     "execution_count": 76,
     "metadata": {},
     "output_type": "execute_result"
    }
   ],
   "source": [
    "\n",
    "class Node:\n",
    "    def __init__(self, data):\n",
    "        self.left = None\n",
    "        self.data = data\n",
    "        self.right = None\n",
    "\n",
    "def maxPathSum(node, maxSum):\n",
    "    if node == None:\n",
    "        return 0\n",
    "    leftSum = maxPathSum(node.left, maxSum)\n",
    "    rightSum = maxPathSum(node.right, maxSum)\n",
    "    maxSum[0] = max(maxSum[0], node.data, node.data+leftSum, node.data+rightSum, node.data+leftSum+rightSum)\n",
    "    return node.data + max(leftSum, rightSum, 0)\n",
    "\n",
    "root = Node(10)\n",
    "root.left = Node(2)\n",
    "root.right = Node(10)\n",
    "root.left.left = Node(20)\n",
    "root.left.right = Node(1)\n",
    "root.right.right = Node(-25)\n",
    "root.right.right.left = Node(3)\n",
    "root.right.right.right = Node(4)\n",
    "maxSum = [-10000]\n",
    "maxPathSum(root, maxSum)\n",
    "maxSum[0]"
   ]
  },
  {
   "cell_type": "code",
   "execution_count": null,
   "id": "b4c69bf1-c1fb-402d-b175-5a5d86d27849",
   "metadata": {},
   "outputs": [],
   "source": []
  },
  {
   "cell_type": "markdown",
   "id": "339b1773-1878-43df-a606-0463d7d6f296",
   "metadata": {},
   "source": [
    "# Check if 2 trees are identical or not"
   ]
  },
  {
   "cell_type": "code",
   "execution_count": 109,
   "id": "84a5ad21-9709-4eee-a993-d83760b6c52c",
   "metadata": {},
   "outputs": [
    {
     "data": {
      "text/plain": [
       "False"
      ]
     },
     "execution_count": 109,
     "metadata": {},
     "output_type": "execute_result"
    }
   ],
   "source": [
    "\n",
    "\n",
    "class Node:\n",
    "    def __init__(self, data):\n",
    "        self.left = None\n",
    "        self.data = data\n",
    "        self.right = None\n",
    "\n",
    "def isSameTree(p, q):\n",
    "    if p == None or q == None:\n",
    "        return p == q\n",
    "    return (p.data == p.data) and isSameTree(p.left, q.left) and isSameTree(q.left, q.right)\n",
    "    \n",
    "\n",
    "root = Node(1)\n",
    "root.left = Node(2)\n",
    "root.right = Node(3)\n",
    "root.left.left = Node(4)\n",
    "root.left.right = Node(5)\n",
    "root.right.left = Node(6)\n",
    "root.right.right = Node(7)\n",
    "root1 = Node(1)\n",
    "root1.left = Node(2)\n",
    "root1.right = Node(3)\n",
    "isSameTree(root, root1)"
   ]
  },
  {
   "cell_type": "code",
   "execution_count": null,
   "id": "16b4bd8e-92b6-4b39-b91e-3b904bbcc227",
   "metadata": {},
   "outputs": [],
   "source": []
  },
  {
   "cell_type": "markdown",
   "id": "2e49054a-f935-4850-a792-49ad443bb347",
   "metadata": {},
   "source": [
    "# ZigZag Level Order Traversal"
   ]
  },
  {
   "cell_type": "code",
   "execution_count": 156,
   "id": "642f7e76-d286-4ae2-aa60-7237a35026e5",
   "metadata": {},
   "outputs": [
    {
     "data": {
      "text/plain": [
       "[[1], [3, 2], [7, 6, 5, 4]]"
      ]
     },
     "execution_count": 156,
     "metadata": {},
     "output_type": "execute_result"
    }
   ],
   "source": [
    "\n",
    "class Node:\n",
    "    def __init__(self, data):\n",
    "        self.left = None\n",
    "        self.data = data\n",
    "        self.right = None\n",
    "\n",
    "\n",
    "def zigzagLevelOrder(root):\n",
    "    zigZag = []\n",
    "    queue = [root]\n",
    "    flag = 0\n",
    "    while len(queue) > 0:\n",
    "        size = len(queue)\n",
    "        temp = []\n",
    "        for i in range(size):\n",
    "            node = queue.pop(0)\n",
    "            if flag == 0:\n",
    "                temp.append(node.data)\n",
    "            else:\n",
    "                temp = [node.data]+temp\n",
    "            if node.left != None:\n",
    "                queue.append(node.left)\n",
    "            if node.right != None:\n",
    "                queue.append(node.right)\n",
    "        flag = !flag\n",
    "        zigZag.append(temp)\n",
    "    return zigZag\n",
    "                \n",
    "root = Node(1)\n",
    "root.left = Node(2)\n",
    "root.right = Node(3)\n",
    "root.left.left = Node(4)\n",
    "root.left.right = Node(5)\n",
    "root.right.left = Node(6)\n",
    "root.right.right = Node(7)\n",
    "zigzagLevelOrder(root)"
   ]
  },
  {
   "cell_type": "code",
   "execution_count": null,
   "id": "73fe9ea4-249e-4d2f-9e3b-6805834d500a",
   "metadata": {},
   "outputs": [],
   "source": []
  },
  {
   "attachments": {
    "cf3dbbff-e58a-484d-b53f-539659e9989a.png": {
     "image/png": "[encoded data removed]"
    }
   },
   "cell_type": "markdown",
   "id": "94b2cbd0-8169-4e30-8474-69915197d9b9",
   "metadata": {},
   "source": [
    "# Boundary Traversal\n",
    "- ![image.png](attachment:cf3dbbff-e58a-484d-b53f-539659e9989a.png)"
   ]
  },
  {
   "cell_type": "code",
   "execution_count": 38,
   "id": "7d6a1226-0189-4a1a-9dd3-500b3dc2f4b7",
   "metadata": {},
   "outputs": [
    {
     "data": {
      "text/plain": [
       "[2, 3, 4, 5, 6, 10, 11, 9, 8, 7]"
      ]
     },
     "execution_count": 38,
     "metadata": {},
     "output_type": "execute_result"
    }
   ],
   "source": [
    "class Node:\n",
    "    def __init__(self, data):\n",
    "        self.left = None\n",
    "        self.data = data\n",
    "        self.right = None\n",
    "\n",
    "\n",
    "def boundaryTraversal(root):\n",
    "\n",
    "    leftTraversal = []\n",
    "    node = root.left\n",
    "    while node != None:\n",
    "        if node.left != None or node.right != None:\n",
    "            leftTraversal.append(node.data)\n",
    "        if node.left != None:\n",
    "            node = node.left\n",
    "        else:\n",
    "            node = node.right\n",
    "\n",
    "    leafTraversal = []\n",
    "    stack = [root]\n",
    "    while len(stack) > 0:\n",
    "        node = stack.pop()\n",
    "        if node.left == None and node.right == None:\n",
    "            leafTraversal.append(node.data)\n",
    "        if node.right != None:\n",
    "            stack.append(node.right)\n",
    "        if node.left != None:\n",
    "            stack.append(node.left)\n",
    "        \n",
    "    rightTraversal = []\n",
    "    node = root.right\n",
    "    while node != None:\n",
    "        if node.left != None or node.right != None:\n",
    "            rightTraversal.append(node.data)\n",
    "        if node.right != None:\n",
    "            node = node.right\n",
    "        else:\n",
    "            node = node.left\n",
    "    \n",
    "    return leftTraversal + leafTraversal+ rightTraversal[::-1]\n",
    "            \n",
    "    \n",
    "root = Node(1)\n",
    "root.left = Node(2)\n",
    "root.left.left = Node(3)\n",
    "root.left.left.right = Node(4)\n",
    "root.left.left.right.left = Node(5)\n",
    "root.left.left.right.right = Node(6)\n",
    "root.right = Node(7)\n",
    "root.right.right = Node(8)\n",
    "root.right.right.left = Node(9)\n",
    "root.right.right.left.left = Node(10)\n",
    "root.right.right.left.right = Node(11)\n",
    "boundaryTraversal(root)"
   ]
  },
  {
   "cell_type": "code",
   "execution_count": null,
   "id": "eb649728-8f63-4216-8d8b-5d4e0072823c",
   "metadata": {},
   "outputs": [],
   "source": []
  },
  {
   "cell_type": "markdown",
   "id": "15b38c86-ca16-437d-af7c-20964c390a05",
   "metadata": {},
   "source": [
    "# Vertical Order Traversal of Binary Tree"
   ]
  },
  {
   "cell_type": "code",
   "execution_count": null,
   "id": "c7872a2d-aee7-464d-b555-a2aa319c58d7",
   "metadata": {},
   "outputs": [],
   "source": [
    "class Node:\n",
    "    def __init__(self, data):\n",
    "        self.left = None\n",
    "        self.data = data\n",
    "        self.right = None\n",
    "\n",
    "def topView(root):\n",
    "    if root is None:\n",
    "        return []\n",
    "        \n",
    "    \n",
    "       \n",
    "root = Node(1)\n",
    "root.left = Node(2)\n",
    "root.right = Node(3)\n",
    "root.left.left = Node(4)\n",
    "root.left.right = Node(5)\n",
    "root.right.left = Node(6)\n",
    "root.right.right = Node(7)\n",
    "topView(root)"
   ]
  },
  {
   "cell_type": "code",
   "execution_count": null,
   "id": "b46cd9b7-2e7b-4a7b-80a8-b682391db16c",
   "metadata": {},
   "outputs": [],
   "source": []
  },
  {
   "cell_type": "markdown",
   "id": "cb0091c4-fdbe-4cf3-9358-aa33a2df06ac",
   "metadata": {},
   "source": [
    "# Top View of Binary Tree"
   ]
  },
  {
   "cell_type": "code",
   "execution_count": 36,
   "id": "8dfff2a0-aa0b-434c-8c6c-f21881a2716b",
   "metadata": {},
   "outputs": [
    {
     "data": {
      "text/plain": [
       "[4, 2, 1, 3, 7]"
      ]
     },
     "execution_count": 36,
     "metadata": {},
     "output_type": "execute_result"
    }
   ],
   "source": [
    "from collections import deque\n",
    "\n",
    "class Node:\n",
    "    def __init__(self, data):\n",
    "        self.left = None\n",
    "        self.data = data\n",
    "        self.right = None\n",
    "\n",
    "def topView(root):\n",
    "    if root is None:\n",
    "        return []\n",
    "            \n",
    "    queue = deque([(root, 0)])\n",
    "    view = {}\n",
    "            \n",
    "    while len(queue) > 0:\n",
    "        size = len(queue)\n",
    "        for i in range(size):\n",
    "            node, order = queue.popleft()\n",
    "            if order not in view:\n",
    "                view[order] = node.data\n",
    "            if node.left != None:\n",
    "                queue.append((node.left, order-1))\n",
    "            if node.right != None:\n",
    "                queue.append((node.right, order+1))\n",
    "    traversal = []\n",
    "    for i in sorted(view.keys()):\n",
    "        traversal.append(view[i])\n",
    "    return traversal\n",
    "       \n",
    "root = Node(1)\n",
    "root.left = Node(2)\n",
    "root.right = Node(3)\n",
    "root.left.left = Node(4)\n",
    "root.left.right = Node(5)\n",
    "root.right.left = Node(6)\n",
    "root.right.right = Node(7)\n",
    "topView(root)"
   ]
  },
  {
   "cell_type": "code",
   "execution_count": 9,
   "id": "86fed258-85e9-4ee2-978c-60e3cb6b7e48",
   "metadata": {},
   "outputs": [
    {
     "ename": "KeyError",
     "evalue": "('a', 1)",
     "output_type": "error",
     "traceback": [
      "\u001b[1;31m---------------------------------------------------------------------------\u001b[0m",
      "\u001b[1;31mKeyError\u001b[0m                                  Traceback (most recent call last)",
      "Cell \u001b[1;32mIn[9], line 3\u001b[0m\n\u001b[0;32m      1\u001b[0m d \u001b[38;5;241m=\u001b[39m {\u001b[38;5;124m'\u001b[39m\u001b[38;5;124ma\u001b[39m\u001b[38;5;124m'\u001b[39m: \u001b[38;5;241m1\u001b[39m, \u001b[38;5;124m'\u001b[39m\u001b[38;5;124mb\u001b[39m\u001b[38;5;124m'\u001b[39m:\u001b[38;5;241m2\u001b[39m, \u001b[38;5;124m'\u001b[39m\u001b[38;5;124mc\u001b[39m\u001b[38;5;124m'\u001b[39m : \u001b[38;5;241m4\u001b[39m}\n\u001b[0;32m      2\u001b[0m \u001b[38;5;28;01mfor\u001b[39;00m i \u001b[38;5;129;01min\u001b[39;00m d\u001b[38;5;241m.\u001b[39mitems():\n\u001b[1;32m----> 3\u001b[0m     \u001b[38;5;28mprint\u001b[39m(d[i])\n",
      "\u001b[1;31mKeyError\u001b[0m: ('a', 1)"
     ]
    }
   ],
   "source": [
    "d = {'a': 1, 'b':2, 'c' : 4}\n",
    "for i in d.items():\n",
    "    print(d[i])"
   ]
  },
  {
   "cell_type": "code",
   "execution_count": null,
   "id": "2fc854a5-1a32-4d72-a47a-211fc4f955c4",
   "metadata": {},
   "outputs": [],
   "source": []
  }
 ],
 "metadata": {
  "kernelspec": {
   "display_name": "Python 3 (ipykernel)",
   "language": "python",
   "name": "python3"
  },
  "language_info": {
   "codemirror_mode": {
    "name": "ipython",
    "version": 3
   },
   "file_extension": ".py",
   "mimetype": "text/x-python",
   "name": "python",
   "nbconvert_exporter": "python",
   "pygments_lexer": "ipython3",
   "version": "3.12.7"
  }
 },
 "nbformat": 4,
 "nbformat_minor": 5
}
