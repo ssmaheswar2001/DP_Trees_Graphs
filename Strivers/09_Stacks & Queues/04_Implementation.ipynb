{
 "cells": [
  {
   "cell_type": "markdown",
   "id": "a2f0d212-a4e6-46d3-8268-68f6540bdeaa",
   "metadata": {},
   "source": [
    "# Sliding Window Maximum"
   ]
  },
  {
   "cell_type": "code",
   "execution_count": 12,
   "id": "f5982bcb-a598-4ad2-a291-d9b83a4b94cc",
   "metadata": {},
   "outputs": [
    {
     "data": {
      "text/plain": [
       "[3, 3, 5, 5, 6, 7]"
      ]
     },
     "execution_count": 12,
     "metadata": {},
     "output_type": "execute_result"
    }
   ],
   "source": [
    "# Brute Force Approach\n",
    "# Time Complexity : O(N*K)\n",
    "# Space Complexity : O(N-k)\n",
    "\n",
    "def maxSlidingWindow(nums, k):\n",
    "    n = len(nums)\n",
    "    res = []\n",
    "    i = 0\n",
    "    while i <= n-k:\n",
    "        res.append(max(nums[i:i+k]))\n",
    "        i += 1\n",
    "    return res\n",
    "        \n",
    "nums = [1,3,-1,-3,5,3,6,7]\n",
    "k = 3\n",
    "# nums = [1]\n",
    "# k = 1\n",
    "maxSlidingWindow(nums, k)"
   ]
  },
  {
   "cell_type": "code",
   "execution_count": 4,
   "id": "f5f90cdc-3486-4a35-a8e6-7278d3571f62",
   "metadata": {},
   "outputs": [
    {
     "data": {
      "text/plain": [
       "[1]"
      ]
     },
     "execution_count": 4,
     "metadata": {},
     "output_type": "execute_result"
    }
   ],
   "source": [
    "# Better Approach\n",
    "# Time Complexity : O(N+N)\n",
    "# Space Complexity : O(N-k)\n",
    "\n",
    "import collections\n",
    "\n",
    "def maxSlidingWindow(nums, k):\n",
    "    n = len(nums)\n",
    "    deque = collections.deque()\n",
    "    _max = []\n",
    "    i = 0\n",
    "    while i < n:\n",
    "        if len(deque) > 0 and deque[0] == i-k:\n",
    "            deque.popleft()\n",
    "        while len(deque) > 0 and nums[deque[-1]] <= nums[i]:\n",
    "            deque.pop()\n",
    "        deque.append(i)\n",
    "        if i >= k-1:\n",
    "            _max.append(nums[deque[0]])\n",
    "        i += 1\n",
    "    return _max\n",
    "        \n",
    "nums = [1,3,-1,-3,5,3,6,7]\n",
    "k = 3\n",
    "nums = [1]\n",
    "k = 1\n",
    "maxSlidingWindow(nums, k)"
   ]
  },
  {
   "cell_type": "code",
   "execution_count": null,
   "id": "b9b6fb55-c506-40d3-83db-6f759522347a",
   "metadata": {},
   "outputs": [],
   "source": []
  },
  {
   "cell_type": "markdown",
   "id": "b1ef02e9-bfc8-4564-96d1-014ad02a5694",
   "metadata": {},
   "source": [
    "# Celebrity Problem"
   ]
  },
  {
   "cell_type": "code",
   "execution_count": 43,
   "id": "dc1a7ce5-117e-4e1b-b3b0-98953c2e0cc9",
   "metadata": {},
   "outputs": [
    {
     "data": {
      "text/plain": [
       "0"
      ]
     },
     "execution_count": 43,
     "metadata": {},
     "output_type": "execute_result"
    }
   ],
   "source": [
    "# Brute Force Approach\n",
    "# Time Complexity : O(N x N)\n",
    "# Space Complexity : O(N)\n",
    "\n",
    "def celebrity(matrix):\n",
    "    n = len(matrix)\n",
    "\n",
    "    Iknow = [0 for i in range(n)]\n",
    "    knowMe = [0 for i in range(n)]\n",
    "\n",
    "    for i in range(n):\n",
    "        for j in range(n):\n",
    "            if matrix[i][j] == 1:\n",
    "                Iknow[i] += 1\n",
    "                knowMe[j] += 1\n",
    "    for i in range(n):\n",
    "        if Iknow[i] == 0 and knowMe[i] == n-1:\n",
    "            return i\n",
    "    return -1\n",
    "    \n",
    "mat = [[0, 1, 1, 0],\n",
    "      [0, 0, 0, 0],\n",
    "      [0, 1, 0, 0],\n",
    "      [1, 1, 0, 0]]\n",
    "mat = [[0, 1, 0], [0, 0, 0], [0, 1, 0]] \n",
    "mat =  [[0, 1], [1, 0]]\n",
    "mat = [[0]]\n",
    "celebrity(mat)"
   ]
  },
  {
   "cell_type": "code",
   "execution_count": 71,
   "id": "a4d92354-1543-4d1a-91b8-28ff14a572c7",
   "metadata": {},
   "outputs": [
    {
     "data": {
      "text/plain": [
       "-1"
      ]
     },
     "execution_count": 71,
     "metadata": {},
     "output_type": "execute_result"
    }
   ],
   "source": [
    "# Optimal Approach\n",
    "# Time Complexity : O(2N)\n",
    "# Space Complexity : O(1)\n",
    "\n",
    "def celebrity(matrix):\n",
    "    n = len(matrix)\n",
    "    top = 0\n",
    "    down = n-1\n",
    "    while top < down:\n",
    "        if matrix[top][down] == 1:\n",
    "            top += 1\n",
    "        elif matrix[down][top] == 1:\n",
    "            down -= 1\n",
    "        else:\n",
    "            top += 1\n",
    "            down -= 1\n",
    "    if top > down :\n",
    "        return -1\n",
    "    for i in range(n):\n",
    "        if i != top and (matrix[top][i] == 1 or matrix[i][top] == 0):\n",
    "            return -1\n",
    "    return top\n",
    "\n",
    "mat = [[0, 1, 1, 0],\n",
    "      [0, 0, 0, 0],\n",
    "      [0, 1, 0, 0],\n",
    "      [1, 1, 0, 0]]\n",
    "mat = [[0, 1],\n",
    "        [1, 0]]\n",
    "# mat =  [[0, 1, 0], [0, 0, 0], [0, 1, 0]]\n",
    "celebrity(mat)"
   ]
  },
  {
   "cell_type": "code",
   "execution_count": null,
   "id": "01da3411-d5c2-4dd4-ac9b-ccebec1236f5",
   "metadata": {},
   "outputs": [],
   "source": []
  },
  {
   "cell_type": "markdown",
   "id": "aa039f75-8c7a-4f72-9fb2-ca71eef82e51",
   "metadata": {},
   "source": [
    "# LRU Cache"
   ]
  },
  {
   "cell_type": "code",
   "execution_count": 24,
   "id": "e2809f68-bc83-4ded-b025-1c53cd0d719c",
   "metadata": {},
   "outputs": [
    {
     "name": "stdout",
     "output_type": "stream",
     "text": [
      "[-1, -1]<->[7, 10]<->[8, 11]<->[4, 7]<->[2, 6]<->[-1, -1]<->\n",
      "[-1, -1]<->[2, 6]<->[7, 10]<->[8, 11]<->[4, 7]<->[-1, -1]<->\n",
      "[-1, -1]<->[8, 11]<->[2, 6]<->[7, 10]<->[4, 7]<->[-1, -1]<->\n",
      "[-1, -1]<->[5, 6]<->[8, 11]<->[2, 6]<->[7, 10]<->[-1, -1]<->\n",
      "[-1, -1]<->[7, 10]<->[5, 6]<->[8, 11]<->[2, 6]<->[-1, -1]<->\n",
      "[-1, -1]<->[5, 7]<->[7, 10]<->[8, 11]<->[2, 6]<->[-1, -1]<->\n"
     ]
    }
   ],
   "source": [
    "\n",
    "class Node:\n",
    "    def __init__(self, key, value):\n",
    "        self.prev = None\n",
    "        self.data = [key, value]\n",
    "        self.next = None\n",
    "\n",
    "class LRUCache:\n",
    "\n",
    "    def __init__(self, capacity: int):\n",
    "        self.capacity = capacity\n",
    "        self.head = Node(-1, -1)\n",
    "        self.tail = Node(-1, -1)\n",
    "        self.head.next = self.tail\n",
    "        self.tail.prev = self.head\n",
    "        self.size = 0\n",
    "        self._map = {}\n",
    "\n",
    "    def get(self, key: int) -> int:\n",
    "        if key not in self._map or self._map[key] == -1:\n",
    "            return -1\n",
    "        current = self._map[key]\n",
    "        current.prev.next = current.next\n",
    "        current.next.prev = current.prev\n",
    "        current.prev = self.head\n",
    "        current.next = self.head.next\n",
    "        self.head.next = current\n",
    "        current.next.prev = current\n",
    "        return current.data[1]\n",
    "        \n",
    "    def put(self, key: int, value: int) -> None:\n",
    "        if key in self._map and self._map[key] != -1:\n",
    "            node = self._map[key]\n",
    "            node.data[1] = value\n",
    "            self.get(key)\n",
    "            return\n",
    "\n",
    "        newNode = Node(key, value) \n",
    "        self._map[key] = newNode\n",
    "        newNode.next = self.head.next\n",
    "        newNode.prev = self.head\n",
    "        self.head.next.prev = newNode\n",
    "        self.head.next = newNode\n",
    "        self.size += 1\n",
    "        if self.size > self.capacity:\n",
    "            deleteNode = self.tail.prev\n",
    "            deleteNode.prev.next = self.tail\n",
    "            self.tail.prev = deleteNode.prev\n",
    "            deleteNode.prev = None\n",
    "            deleteNode.next = None\n",
    "            self._map[deleteNode.data[0]] = -1\n",
    "            self.size -= 1\n",
    "        \n",
    "    def printDLL(self):\n",
    "        current = self.head\n",
    "        while current != None:\n",
    "            print(current.data,  end=\"<->\")\n",
    "            current = current.next\n",
    "        print()\n",
    "\n",
    "obj = LRUCache(4)\n",
    "obj.put(2, 6)\n",
    "obj.put(4, 7)\n",
    "obj.put(8, 11)\n",
    "obj.put(7, 10)\n",
    "obj.printDLL()\n",
    "obj.get(2)\n",
    "obj.printDLL()\n",
    "obj.get(8)\n",
    "obj.printDLL()\n",
    "obj.put(5, 6)\n",
    "obj.printDLL()\n",
    "obj.get(7)\n",
    "obj.printDLL()\n",
    "obj.put(5, 7)\n",
    "obj.printDLL()"
   ]
  },
  {
   "cell_type": "code",
   "execution_count": null,
   "id": "4777d274-a934-461d-971f-8fdcb48bd838",
   "metadata": {},
   "outputs": [],
   "source": []
  },
  {
   "cell_type": "markdown",
   "id": "d32d5abf-936a-4711-a87e-aa6fcbc6aa69",
   "metadata": {},
   "source": [
    "# LFU Cache"
   ]
  },
  {
   "cell_type": "code",
   "execution_count": null,
   "id": "337eff56-2721-4270-ae86-566d30d31579",
   "metadata": {},
   "outputs": [],
   "source": [
    "\n",
    " \n"
   ]
  }
 ],
 "metadata": {
  "kernelspec": {
   "display_name": "Python 3 (ipykernel)",
   "language": "python",
   "name": "python3"
  },
  "language_info": {
   "codemirror_mode": {
    "name": "ipython",
    "version": 3
   },
   "file_extension": ".py",
   "mimetype": "text/x-python",
   "name": "python",
   "nbconvert_exporter": "python",
   "pygments_lexer": "ipython3",
   "version": "3.12.7"
  }
 },
 "nbformat": 4,
 "nbformat_minor": 5
}
