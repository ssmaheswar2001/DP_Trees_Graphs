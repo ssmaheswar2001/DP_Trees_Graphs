{
 "cells": [
  {
   "cell_type": "markdown",
   "id": "799c54a1-2249-463c-90e3-0575f16a9f38",
   "metadata": {},
   "source": [
    "# Next Greater Element"
   ]
  },
  {
   "cell_type": "code",
   "execution_count": 34,
   "id": "e8ef8b77-8b06-4602-b09b-b6995bde312a",
   "metadata": {},
   "outputs": [
    {
     "data": {
      "text/plain": [
       "[-1, 3, -1]"
      ]
     },
     "execution_count": 34,
     "metadata": {},
     "output_type": "execute_result"
    }
   ],
   "source": [
    "# Brute Force Approach \n",
    "# Time Complexity : O(N**2)\n",
    "# Space Complexity : O(N)\n",
    "\n",
    "def nextGreaterElement(nums1, nums2):\n",
    "    n = len(nums2)\n",
    "    m = len(nums1)\n",
    "    res = []\n",
    "    \n",
    "    for i in range(m):\n",
    "        temp = 0\n",
    "        for j in range(n):\n",
    "            if nums1[i] == nums2[j]:\n",
    "                temp = -1\n",
    "            if temp == -1 and nums1[i] < nums2[j]:\n",
    "                temp = nums2[j]\n",
    "                break\n",
    "        res.append(temp)\n",
    "    return res\n",
    "\n",
    "nums1 = [4, 1, 2]\n",
    "nums2 = [1, 3, 4, 2]\n",
    "nextGreaterElement(nums1, nums2)"
   ]
  },
  {
   "cell_type": "code",
   "execution_count": 1,
   "id": "47fac1c7-145d-41c8-865d-8df5898e26f8",
   "metadata": {},
   "outputs": [
    {
     "data": {
      "text/plain": [
       "[-1, 3, -1]"
      ]
     },
     "execution_count": 1,
     "metadata": {},
     "output_type": "execute_result"
    }
   ],
   "source": [
    "# Brute Force Approach \n",
    "# Time Complexity : O(N**2)\n",
    "# Space Complexity : O(N)\n",
    "\n",
    "def nextGreaterElement(nums1, nums2):\n",
    "    n = len(nums2)\n",
    "    _hash = {}\n",
    "\n",
    "    for i in range(n):\n",
    "        temp = -1\n",
    "        for j in range(i+1, n):\n",
    "            if nums2[i] < nums2[j]:\n",
    "                temp = nums2[j]\n",
    "                break\n",
    "        _hash[nums2[i]] = temp\n",
    "    res = []\n",
    "    for i in range(len(nums1)):\n",
    "        res.append(_hash[nums1[i]])\n",
    "    return res\n",
    "    \n",
    "\n",
    "nums1 = [4, 1, 2]\n",
    "nums2 = [1, 3, 4, 2]\n",
    "nextGreaterElement(nums1, nums2)"
   ]
  },
  {
   "cell_type": "code",
   "execution_count": 36,
   "id": "764ad60f-0496-4ec7-992e-5c01a486efde",
   "metadata": {},
   "outputs": [
    {
     "data": {
      "text/plain": [
       "[-1, 3, -1]"
      ]
     },
     "execution_count": 36,
     "metadata": {},
     "output_type": "execute_result"
    }
   ],
   "source": [
    "# Better Approach \n",
    "# Time Complexity : O(2N+M)\n",
    "# Space Complexity : O(N)+O(N)+O(M)\n",
    "\n",
    "\n",
    "def nextGreaterElement(nums1, nums2):\n",
    "    n = len(nums2)\n",
    "    stack = []\n",
    "    _hash = {}\n",
    "\n",
    "    i = n-1\n",
    "    while i >= 0:\n",
    "        while len(stack) > 0 and stack[-1] <= nums2[i]:\n",
    "            stack.pop()\n",
    "        if len(stack) > 0:\n",
    "            _hash[nums2[i]] = stack[-1]\n",
    "        else:\n",
    "            _hash[nums2[i]] = -1\n",
    "        stack.append(nums2[i])\n",
    "        i -= 1\n",
    "        \n",
    "    res = []\n",
    "    for i in range(len(nums1)):\n",
    "        res.append(_hash[nums1[i]])\n",
    "    return res\n",
    "    \n",
    "nums1 = [4, 1, 2]\n",
    "nums2 = [1, 3, 4, 2]\n",
    "nextGreaterElement(nums1, nums2)\n"
   ]
  },
  {
   "cell_type": "code",
   "execution_count": null,
   "id": "116f950e-f81e-4e8c-acb0-ba22a2334c24",
   "metadata": {},
   "outputs": [],
   "source": []
  },
  {
   "cell_type": "markdown",
   "id": "8a885cea-428d-4424-b152-e52b3bd4619a",
   "metadata": {},
   "source": [
    "# Next Greater Element 2"
   ]
  },
  {
   "cell_type": "code",
   "execution_count": 1,
   "id": "d7e94b82-9acb-45f4-8195-f3897cfb8119",
   "metadata": {},
   "outputs": [
    {
     "data": {
      "text/plain": [
       "[2, 3, -1, 3, 2]"
      ]
     },
     "execution_count": 1,
     "metadata": {},
     "output_type": "execute_result"
    }
   ],
   "source": [
    "# Brute Force Approach \n",
    "# Time Complexity : O(N**k)\n",
    "# Space Complexity : O(N)\n",
    "\n",
    "def nextGreaterElement2(nums):\n",
    "    n = len(nums)\n",
    "    res = []\n",
    "    i = 0\n",
    "    while i < n:\n",
    "        j = i\n",
    "        while 1:\n",
    "            j = j%n\n",
    "            if nums[i] < nums[j]:\n",
    "                res.append(nums[j])\n",
    "                break\n",
    "            j += 1\n",
    "            if i == j:\n",
    "                res.append(-1)\n",
    "                break\n",
    "        i += 1\n",
    "    return res\n",
    "    \n",
    "nums = [1,2,3,4,3]\n",
    "nums = [1, 2, 1]\n",
    "nums = [1,2,3,4,5]\n",
    "nums = [1, 2, 3, 2, 1]\n",
    "nums =  [1,2,3,2,1]\n",
    "nextGreaterElement2(nums)"
   ]
  },
  {
   "cell_type": "code",
   "execution_count": 19,
   "id": "21cdbe1b-c45d-4516-8c5a-3b4bb6f08a91",
   "metadata": {},
   "outputs": [
    {
     "data": {
      "text/plain": [
       "[2, 3, -1, 3, 2]"
      ]
     },
     "execution_count": 19,
     "metadata": {},
     "output_type": "execute_result"
    }
   ],
   "source": [
    "# Brute Force Approach \n",
    "# Time Complexity : O(N**2)\n",
    "# Space Complexity : O(N)\n",
    "\n",
    "def nextGreaterElement2(nums):\n",
    "    n = len(nums)\n",
    "    res = []\n",
    "    i = 0\n",
    "    for i in range(n):\n",
    "        temp = -1\n",
    "        for j in range(i+1, i+n):\n",
    "            index = j%n\n",
    "            if nums[index] > nums[i]:\n",
    "                temp = nums[index]\n",
    "                break\n",
    "        res.append(temp)\n",
    "    return res\n",
    "    \n",
    "nums = [1,2,3,4,3]\n",
    "nums = [1, 2, 1]\n",
    "nums = [1,2,3,4,5]\n",
    "nums = [1, 2, 3, 2, 1]\n",
    "nextGreaterElement2(nums)"
   ]
  },
  {
   "cell_type": "code",
   "execution_count": 9,
   "id": "0e947d5a-2c4e-4e58-84c3-e1c5758ce7f6",
   "metadata": {},
   "outputs": [
    {
     "data": {
      "text/plain": [
       "[2, 3, 4, 5, -1]"
      ]
     },
     "execution_count": 9,
     "metadata": {},
     "output_type": "execute_result"
    }
   ],
   "source": [
    "# Better Approach \n",
    "# Time Complexity : O(N**k)\n",
    "# Space Complexity : O(N)\n",
    "\n",
    "def nextGreaterElement2(nums):\n",
    "    n = len(nums)\n",
    "    res = []\n",
    "    stack = []\n",
    "\n",
    "    i = n-1\n",
    "    while i >= 0:\n",
    "        while len(stack) >0 and stack[-1] <= nums[i]:\n",
    "            stack.pop()\n",
    "        if len(stack) > 0:\n",
    "            res = [stack[-1]] + res\n",
    "        else:\n",
    "            temp = -1\n",
    "            for j in range(i):\n",
    "                if nums[j] > nums[i]:\n",
    "                    temp = nums[j]\n",
    "                    stack.append(nums[j])\n",
    "                    break\n",
    "            res = [temp] + res\n",
    "                \n",
    "        stack.append(nums[i])\n",
    "        i -= 1\n",
    "    \n",
    "    return res\n",
    "    \n",
    "nums = [1,2,3,4,3]\n",
    "nums = [1, 2, 1]\n",
    "nums = [1,2,3,4,5]\n",
    "# nums = [1, 2, 3, 2, 1]\n",
    "nextGreaterElement2(nums)"
   ]
  },
  {
   "cell_type": "code",
   "execution_count": 7,
   "id": "769e36ba-8f7a-4e82-a452-cda8e6c89e5f",
   "metadata": {},
   "outputs": [
    {
     "data": {
      "text/plain": [
       "[2, 3, -1, 3, 2]"
      ]
     },
     "execution_count": 7,
     "metadata": {},
     "output_type": "execute_result"
    }
   ],
   "source": [
    "# Optimal Approach \n",
    "# Time Complexity : O(2N)\n",
    "# Space Complexity : O(N)\n",
    "\n",
    "def nextGreaterElement2(nums):\n",
    "    n = len(nums)\n",
    "    res = []\n",
    "    stack = []\n",
    "\n",
    "    i = 2*n-1\n",
    "    while i >= 0:\n",
    "        while len(stack) > 0 and stack[-1] <= nums[i%n]:\n",
    "            stack.pop()\n",
    "        if i < n:\n",
    "            if len(stack) > 0:\n",
    "                res = [stack[-1]] + res\n",
    "            else:\n",
    "                res = [-1] + res\n",
    "        stack.append(nums[i%n])\n",
    "        i -= 1\n",
    "    \n",
    "    return res\n",
    "    \n",
    "nums = [1,2,3,4,3]\n",
    "nums = [1, 2, 1]\n",
    "nums = [1,2,3,4,5]\n",
    "nums = [1, 2, 3, 2, 1]\n",
    "# nums = [1, 2, 3, 4, 3]\n",
    "nextGreaterElement2(nums)"
   ]
  },
  {
   "cell_type": "code",
   "execution_count": null,
   "id": "7841f237-1fa8-4aef-98b2-980bca79a7c1",
   "metadata": {},
   "outputs": [],
   "source": []
  },
  {
   "cell_type": "markdown",
   "id": "c2130ad3-231f-4c06-ba92-a7246608301b",
   "metadata": {},
   "source": [
    "# Prev Smaller Element"
   ]
  },
  {
   "cell_type": "code",
   "execution_count": 19,
   "id": "d263892e-64f3-4aaa-b9ad-098328ee6c0d",
   "metadata": {},
   "outputs": [
    {
     "data": {
      "text/plain": [
       "[-1, 4, -1, 2, 2]"
      ]
     },
     "execution_count": 19,
     "metadata": {},
     "output_type": "execute_result"
    }
   ],
   "source": [
    "# Optimal Approach \n",
    "# Time Complexity : O(N)\n",
    "# Space Complexity : O(N)\n",
    "\n",
    "\n",
    "def prevSmaller(A):\n",
    "    n = len(A)\n",
    "    res = []\n",
    "    stack = []\n",
    "    i = 0\n",
    "    while i < n:\n",
    "        while len(stack) > 0 and stack[-1]>= A[i]:\n",
    "            stack.pop()\n",
    "        if len(stack) > 0:\n",
    "            res.append(stack[-1])\n",
    "        else:\n",
    "            res.append(-1)\n",
    "        stack.append(A[i])\n",
    "        i += 1\n",
    "        \n",
    "    return res\n",
    "\n",
    "\n",
    "A = [4, 5, 2, 10, 8]\n",
    "prevSmaller(A)"
   ]
  },
  {
   "cell_type": "code",
   "execution_count": null,
   "id": "05125710-1acf-4d0e-a029-0115ae391862",
   "metadata": {},
   "outputs": [],
   "source": []
  },
  {
   "cell_type": "markdown",
   "id": "3731cf97-c88d-47bf-98d6-db71a262a3d1",
   "metadata": {},
   "source": [
    "# Number of NGEs to the right"
   ]
  },
  {
   "cell_type": "code",
   "execution_count": 22,
   "id": "0f914e06-cdfa-480b-9e4c-8814c96cd5bf",
   "metadata": {},
   "outputs": [
    {
     "data": {
      "text/plain": [
       "[6, 1]"
      ]
     },
     "execution_count": 22,
     "metadata": {},
     "output_type": "execute_result"
    }
   ],
   "source": [
    "# Better Approach \n",
    "# Time Complexity : O(NQ)\n",
    "# Space Complexity : O(N)\n",
    "\n",
    "def count_NGEs(arr, indices):\n",
    "    N = len(arr)\n",
    "    res = []\n",
    "    for index in indices:\n",
    "        count = 0\n",
    "        for i in range(index+1, N):\n",
    "            if arr[index] < arr[i]:\n",
    "                count += 1\n",
    "        res.append(count)\n",
    "    return res\n",
    "\n",
    "arr = [3, 4, 2, 7, 5, 8, 10, 6]\n",
    "indices = [0, 5]\n",
    "count_NGEs(arr, indices)"
   ]
  },
  {
   "cell_type": "code",
   "execution_count": 36,
   "id": "34337f3c-fc58-4d81-9a9e-80a047960be9",
   "metadata": {},
   "outputs": [
    {
     "data": {
      "text/plain": [
       "[6, 1]"
      ]
     },
     "execution_count": 36,
     "metadata": {},
     "output_type": "execute_result"
    }
   ],
   "source": [
    "# Better Approach : Merge Sort Intuition\n",
    "# Time Complexity : O(NQ)\n",
    "# Space Complexity : O(N)\n",
    "\n",
    "def merge(vector, res, low, mid, high):\n",
    "    i = low\n",
    "    j = mid+1\n",
    "    temp = []\n",
    "    while i<= mid and j <= high:\n",
    "        if vector[i][0] < vector[j][0]:\n",
    "            res[vector[i][1]] += high-j+1\n",
    "            temp.append(vector[i])\n",
    "            i += 1\n",
    "        else:\n",
    "            temp.append(vector[j])\n",
    "            j += 1\n",
    "    while i<=mid:\n",
    "        temp.append(vector[i])\n",
    "        i += 1\n",
    "    while j <= high:\n",
    "        temp.append(vector[j])\n",
    "        j += 1\n",
    "    vector[low:high+1] = temp[:]\n",
    "            \n",
    "\n",
    "def mergeSort(vector, res, low, high):\n",
    "    if low < high:\n",
    "        mid = low+(high-low)//2\n",
    "        mergeSort(vector, res, low, mid)\n",
    "        mergeSort(vector, res, mid+1, high)\n",
    "        merge(vector, res, low, mid, high)\n",
    "\n",
    "def count_NGEs(arr, indices):\n",
    "    n = len(arr)\n",
    "    vector = []\n",
    "    res = [0]*n\n",
    "    for i in range(n):\n",
    "        vector.append((arr[i], i))\n",
    "    mergeSort(vector, res, 0, n-1)\n",
    "    queryRes = []\n",
    "    for i in indices:\n",
    "        queryRes.append(res[i])\n",
    "    return queryRes\n",
    "\n",
    "arr = [3, 4, 2, 7, 5, 8, 10, 6]\n",
    "indices = [0, 5]\n",
    "count_NGEs(arr, indices)"
   ]
  },
  {
   "cell_type": "code",
   "execution_count": null,
   "id": "e7e2eecb-92be-4c2e-b89e-ad3ad68686ba",
   "metadata": {},
   "outputs": [],
   "source": []
  },
  {
   "cell_type": "markdown",
   "id": "3a1b02df-e813-45d8-b9d2-e6fdc21d1207",
   "metadata": {},
   "source": [
    "# Trapping Rainwater"
   ]
  },
  {
   "cell_type": "code",
   "execution_count": 174,
   "id": "e8ab8584-ed09-4551-96a1-8a161754ee26",
   "metadata": {},
   "outputs": [
    {
     "data": {
      "text/plain": [
       "9"
      ]
     },
     "execution_count": 174,
     "metadata": {},
     "output_type": "execute_result"
    }
   ],
   "source": [
    "# Better Approach :\n",
    "# Time Complexity : O(3N)\n",
    "# Space complexity : O(2N)\n",
    "\n",
    "def trap(height):\n",
    "    n = len(height)\n",
    "\n",
    "    leftMax = [0 for i in range(n)]\n",
    "    leftMax[0] = height[0]\n",
    "    for i in range(1, n):\n",
    "        leftMax[i] = max(height[i], leftMax[i-1])\n",
    "    \n",
    "    rightMax = [0 for i in range(n)]\n",
    "    rightMax[n-1] = height[n-1]\n",
    "    for i in range(n-2, -1, -1):\n",
    "        rightMax[i] = max(height[i], rightMax[i+1])\n",
    "\n",
    "    total = 0\n",
    "    for i in range(n):\n",
    "        if height[i] < leftMax[i] and height[i] < rightMax[i]:\n",
    "            total += min(leftMax[i], rightMax[i])-height[i]\n",
    "    return total\n",
    "\n",
    "height = [0, 1, 0, 2, 1, 0, 1, 3, 2, 1, 2, 1]\n",
    "height = [4,2,0,3,2,5]\n",
    "trap(height)"
   ]
  },
  {
   "cell_type": "code",
   "execution_count": null,
   "id": "b61723ac-4b3b-4aac-894e-754e951379af",
   "metadata": {},
   "outputs": [],
   "source": []
  },
  {
   "cell_type": "code",
   "execution_count": null,
   "id": "ec2b3255-0d10-4789-bd8b-7a868e5b7b63",
   "metadata": {},
   "outputs": [],
   "source": []
  },
  {
   "cell_type": "markdown",
   "id": "45a04b9d-b98d-4e71-85f6-837ec2b5bb73",
   "metadata": {},
   "source": [
    "# Sum of subarray Minimums"
   ]
  },
  {
   "cell_type": "code",
   "execution_count": 44,
   "id": "fcef3441-a6f8-4697-b025-511df4dc1bf9",
   "metadata": {},
   "outputs": [
    {
     "data": {
      "text/plain": [
       "593"
      ]
     },
     "execution_count": 44,
     "metadata": {},
     "output_type": "execute_result"
    }
   ],
   "source": [
    "# Brute Force Approach :\n",
    "# Time Complexity : O(N**2)\n",
    "# Space complexity : O(1)\n",
    "\n",
    "def sumSubarryMins(arr):\n",
    "    n = len(arr)\n",
    "    mod = 10**9 + 7\n",
    "    sum = 0\n",
    "    for i in range(n):\n",
    "        min = arr[i] \n",
    "        for j in range(i, n):\n",
    "            if arr[j] < min:\n",
    "                min = arr[j]\n",
    "            sum = (sum+min)%mod\n",
    "    return sum\n",
    "            \n",
    "arr = [3, 1, 2, 4]\n",
    "arr = [11, 81, 94, 43, 3]\n",
    "arr = [71,55,82,55]\n",
    "sumSubarryMins(arr)"
   ]
  },
  {
   "cell_type": "code",
   "execution_count": 66,
   "id": "a9f2b283-a1de-4ac0-9582-986b943a8a5e",
   "metadata": {},
   "outputs": [
    {
     "data": {
      "text/plain": [
       "17"
      ]
     },
     "execution_count": 66,
     "metadata": {},
     "output_type": "execute_result"
    }
   ],
   "source": [
    "# Optimal Approach : \n",
    "# Time Complexity : O(3N)\n",
    "# Space Complexity : O(N+N)\n",
    "\n",
    "def nextsmallerElement(arr):\n",
    "    n = len(arr)\n",
    "    nse = []\n",
    "    stack = []\n",
    "    i = n-1\n",
    "    while i >= 0:\n",
    "        while len(stack) > 0 and arr[stack[-1]] >= arr[i]:\n",
    "            stack.pop()\n",
    "        if len(stack) == 0:\n",
    "            nse.append(-1)\n",
    "        else:\n",
    "            nse.append(stack[-1])\n",
    "        stack.append(i)\n",
    "        i -= 1\n",
    "    return nse[::-1]\n",
    "\n",
    "def prevsmallerElement(arr):\n",
    "    n = len(arr)\n",
    "    stack = []\n",
    "    pse = []\n",
    "    \n",
    "    i = 0\n",
    "    while i < n:\n",
    "        while len(stack) > 0 and arr[stack[-1]] > arr[i]:\n",
    "            stack.pop()\n",
    "        if len(stack) == 0:\n",
    "            pse.append(-1)\n",
    "        else:\n",
    "            pse.append(stack[-1])\n",
    "        stack.append(i)\n",
    "        i += 1\n",
    "    return pse\n",
    "\n",
    "def sumSubarryMins(arr):\n",
    "    n = len(arr)\n",
    "\n",
    "    nse = nextsmallerElement(arr)\n",
    "    pse = prevsmallerElement(arr)\n",
    "    minsum = 0\n",
    "    for i in range(n):\n",
    "        left = i-pse[i]\n",
    "        if nse[i] == -1:\n",
    "            right = n-i\n",
    "        else:\n",
    "            right = nse[i] - i\n",
    "        minsum += (left*right*arr[i])\n",
    "    return minsum\n",
    "        \n",
    "arr = [1, 4, 6, 7, 3, 7, 8, 1]\n",
    "arr = [3, 1, 2, 4]\n",
    "# arr = [11,81,94,43,3]\n",
    "# arr = [71,55,82,55]\n",
    "sumSubarryMins(arr)"
   ]
  },
  {
   "cell_type": "code",
   "execution_count": null,
   "id": "15a9b2b8-1fd1-48d0-866f-4897cf57eea6",
   "metadata": {},
   "outputs": [],
   "source": []
  },
  {
   "cell_type": "markdown",
   "id": "59d2d668-afbf-4b63-b0c5-36ece63f9c46",
   "metadata": {},
   "source": [
    "# Asteriod Collision"
   ]
  },
  {
   "cell_type": "code",
   "execution_count": 66,
   "id": "f82c9fed-4c02-459c-8031-78469ea908c8",
   "metadata": {},
   "outputs": [
    {
     "data": {
      "text/plain": [
       "[-15, 8]"
      ]
     },
     "execution_count": 66,
     "metadata": {},
     "output_type": "execute_result"
    }
   ],
   "source": [
    "\n",
    "def asteroidCollision(asteroids):\n",
    "    n = len(asteroids)\n",
    "    stack = []\n",
    "    i = 0\n",
    "    while i < n:\n",
    "        while len(stack) > 0 and asteroids[i] < 0 and stack[-1] > 0 and stack[-1] < abs(asteroids[i]):\n",
    "            temp = stack.pop()\n",
    "        if len(stack) > 0 and asteroids[i] < 0 and stack[-1] == abs(asteroids[i]):\n",
    "            stack.pop()\n",
    "        elif len(stack) == 0 or asteroids[i] > 0 or stack[-1] < 0:\n",
    "            stack.append(asteroids[i])\n",
    "        i += 1\n",
    "            \n",
    "    return stack\n",
    "\n",
    "asteroids = [5, 10, -15, 8, -10, 10, 2, -5]\n",
    "asteroids = [5, 10, -5]\n",
    "asteroids = [8, -8]\n",
    "asteroids = [10, 2, -5]\n",
    "asteroids = [5, 10, -15, 8]\n",
    "asteroidCollision(asteroids)"
   ]
  },
  {
   "cell_type": "code",
   "execution_count": 38,
   "id": "193e8083-27a8-43f7-b6d3-a1f66a5efeeb",
   "metadata": {},
   "outputs": [
    {
     "data": {
      "text/plain": [
       "1"
      ]
     },
     "execution_count": 38,
     "metadata": {},
     "output_type": "execute_result"
    }
   ],
   "source": []
  },
  {
   "cell_type": "markdown",
   "id": "6756df57-4ced-4f2e-bd36-89d08ecbf2bb",
   "metadata": {},
   "source": [
    "# Sum of subarray ranges"
   ]
  },
  {
   "cell_type": "code",
   "execution_count": 15,
   "id": "a989529a-8f26-453a-832a-f8f17e9f3af0",
   "metadata": {},
   "outputs": [
    {
     "data": {
      "text/plain": [
       "59"
      ]
     },
     "execution_count": 15,
     "metadata": {},
     "output_type": "execute_result"
    }
   ],
   "source": [
    "# Brute Force Approach\n",
    "# Time Complexity : O(N*2)\n",
    "# Space Complexity : O(1)\n",
    "\n",
    "def subArrayRanges(nums):\n",
    "    n = len(nums)\n",
    "    sum = 0\n",
    "    for i in range(n):\n",
    "        _max = nums[i]\n",
    "        _min = nums[i]\n",
    "        for j in range(i+1, n):\n",
    "            if nums[j] > _max:\n",
    "                _max = nums[j]\n",
    "            if nums[j] < _min:\n",
    "                _min = nums[j]\n",
    "            sum += _max - _min\n",
    "    return sum\n",
    "\n",
    "nums = [4, -2, -3, 4, 1]\n",
    "# nums = [1, 4, 3, 2]\n",
    "subArrayRanges(nums)"
   ]
  },
  {
   "cell_type": "code",
   "execution_count": 49,
   "id": "446089d8-c7f3-4c84-a26f-bb75842ce288",
   "metadata": {},
   "outputs": [
    {
     "data": {
      "text/plain": [
       "4"
      ]
     },
     "execution_count": 49,
     "metadata": {},
     "output_type": "execute_result"
    }
   ],
   "source": [
    "# Optimal Approach : \n",
    "# Time Complexity : O(N)\n",
    "# Space Complexity : O(N)\n",
    "\n",
    "def prevElement(arr):\n",
    "    n = len(arr)\n",
    "    sStack = []\n",
    "    gStack = []\n",
    "    pse = []\n",
    "    pge = []\n",
    "\n",
    "    i = 0\n",
    "    while i < n:\n",
    "        while len(sStack)>0 and arr[sStack[-1]] > arr[i]:\n",
    "            sStack.pop()\n",
    "        while len(gStack)>0 and arr[gStack[-1]] < arr[i]:\n",
    "            gStack.pop()\n",
    "        if len(sStack) == 0:\n",
    "            pse.append(-1)\n",
    "        else:\n",
    "            pse.append(sStack[-1])\n",
    "        if len(gStack) == 0:\n",
    "            pge.append(-1)\n",
    "        else:\n",
    "            pge.append(gStack[-1])\n",
    "        sStack.append(i)\n",
    "        gStack.append(i)\n",
    "        i += 1\n",
    "    return pse, pge\n",
    "\n",
    "def nextElement(arr):\n",
    "    n = len(arr)\n",
    "\n",
    "    sStack = []\n",
    "    gStack = []\n",
    "    nse = []\n",
    "    nge = []\n",
    "    \n",
    "    i = n-1\n",
    "    while i >= 0:\n",
    "        while len(sStack) > 0 and arr[sStack[-1]] >= arr[i]:\n",
    "            sStack.pop()\n",
    "        while len(gStack) > 0 and arr[gStack[-1]] <= arr[i]:\n",
    "            gStack.pop()\n",
    "        if len(sStack) == 0:\n",
    "            nse.append(-1)\n",
    "        else:\n",
    "            nse.append(sStack[-1])\n",
    "        if len(gStack) == 0:\n",
    "            nge.append(-1)\n",
    "        else:\n",
    "            nge.append(gStack[-1])\n",
    "        sStack.append(i)\n",
    "        gStack.append(i)\n",
    "        i -= 1\n",
    "    return nse[::-1], nge[::-1]\n",
    "\n",
    "def subArrayRanges(nums):\n",
    "    n = len(nums)\n",
    "    pse, pge = prevElement(nums)\n",
    "    nse, nge = nextElement(nums)\n",
    "\n",
    "    sum = 0\n",
    "    for i in range(n):\n",
    "        leftMin = i-pse[i]\n",
    "        if nse[i] == -1:\n",
    "            rightMin = n-i\n",
    "        else:\n",
    "            rightMin = nse[i] - i\n",
    "        leftMax = i-pge[i]\n",
    "        if nge[i] == -1:\n",
    "            rightMax = n-i\n",
    "        else:\n",
    "            rightMax = nge[i]-i\n",
    "        \n",
    "        sum += (leftMax*rightMax*nums[i]) - (leftMin*rightMin*nums[i])\n",
    "\n",
    "    return sum\n",
    "        \n",
    "nums = [1, 3, 3]\n",
    "# nums = [1, 2, 3]\n",
    "# nums = [4, -2, -3, 4, 1]\n",
    "prevElement(nums)\n",
    "nextElement(nums)\n",
    "subArrayRanges(nums)"
   ]
  },
  {
   "cell_type": "code",
   "execution_count": null,
   "id": "2ebca85d-8755-4c64-8e70-c571696eeaea",
   "metadata": {},
   "outputs": [],
   "source": []
  },
  {
   "cell_type": "markdown",
   "id": "653be58e-1c82-43b5-bd84-a23c42d6df0f",
   "metadata": {},
   "source": [
    "# Remove K Digits"
   ]
  },
  {
   "cell_type": "code",
   "execution_count": 55,
   "id": "70a8f44e-b0e1-4c05-afea-6baa405c1f21",
   "metadata": {},
   "outputs": [
    {
     "data": {
      "text/plain": [
       "'0'"
      ]
     },
     "execution_count": 55,
     "metadata": {},
     "output_type": "execute_result"
    }
   ],
   "source": [
    "# Better Approach : \n",
    "# Time Complexity : O(N)\n",
    "# Space Complexity : O(N)\n",
    "\n",
    "def removeKdigits(num, k):\n",
    "    n = len(num)\n",
    "    stack = []\n",
    "    i = 0\n",
    "    while i < n:\n",
    "        while len(stack) > 0 and stack[-1] > num[i] and k > 0:\n",
    "            stack.pop()\n",
    "            k -= 1\n",
    "        stack.append(num[i])\n",
    "        i += 1\n",
    "    while k > 0:\n",
    "        stack.pop()\n",
    "        k -= 1\n",
    "    \n",
    "    stack = ''.join(stack).lstrip('0')\n",
    "    if len(stack) == 0:\n",
    "        return '0'\n",
    "    return stack\n",
    "       \n",
    "num = '1432219'\n",
    "k = 3\n",
    "num = '10200'\n",
    "k = 1\n",
    "# num = '10'\n",
    "# k = 2\n",
    "num = '9'\n",
    "k = 1\n",
    "removeKdigits(num, k)"
   ]
  },
  {
   "cell_type": "code",
   "execution_count": null,
   "id": "0c9d819f-951f-42c9-9344-1ceb61d10f86",
   "metadata": {},
   "outputs": [],
   "source": []
  },
  {
   "cell_type": "markdown",
   "id": "a29e7700-e844-4695-b747-dba2977207a0",
   "metadata": {},
   "source": [
    "# Largest Rectangle in Histogram"
   ]
  },
  {
   "cell_type": "code",
   "execution_count": 67,
   "id": "6419a199-bed2-400d-bf9c-060d6153a6b9",
   "metadata": {},
   "outputs": [
    {
     "data": {
      "text/plain": [
       "25"
      ]
     },
     "execution_count": 67,
     "metadata": {},
     "output_type": "execute_result"
    }
   ],
   "source": [
    "# Better Approach : \n",
    "# Time Complexity : O(3N)\n",
    "# Space Complexity : O(2N)\n",
    "\n",
    "def prevSmallerElement(arr):\n",
    "    n = len(arr)\n",
    "    stack = []\n",
    "    pse = []\n",
    "    i = 0\n",
    "    while i < n:\n",
    "        while len(stack) > 0 and arr[stack[-1]] >= arr[i]:\n",
    "            stack.pop()\n",
    "        if len(stack) == 0:\n",
    "            pse.append(-1)\n",
    "        else:\n",
    "            pse.append(stack[-1])\n",
    "        stack.append(i)\n",
    "        i += 1\n",
    "    return pse\n",
    "\n",
    "def nextSmallerElement(arr):\n",
    "    n = len(arr)\n",
    "    stack = []\n",
    "    nse = []\n",
    "\n",
    "    i = n-1\n",
    "    while i >= 0:\n",
    "        while len(stack) > 0 and arr[stack[-1]] >= arr[i]:\n",
    "            stack.pop()\n",
    "        if len(stack) == 0:\n",
    "            nse.append(-1)\n",
    "        else:\n",
    "            nse.append(stack[-1])\n",
    "        stack.append(i)\n",
    "        i -= 1\n",
    "    return nse[::-1]\n",
    "\n",
    "def largestRectangeArea(heights):\n",
    "    n = len(heights)\n",
    "    pse = prevSmallerElement(heights)\n",
    "    nse = nextSmallerElement(heights)\n",
    "    _max = 0\n",
    "    for i in range(n):\n",
    "        left = pse[i]\n",
    "        right = nse[i]\n",
    "        if right == -1:\n",
    "            right = n\n",
    "        temp = (right-left-1)*heights[i]\n",
    "        if temp > _max:\n",
    "            _max = temp\n",
    "    return _max\n",
    "\n",
    "heights = [2, 1, 5, 6, 2, 3]\n",
    "heights = [6, 2, 5, 4, 1, 5, 6]\n",
    "heights = [2, 4]\n",
    "heights = [3]\n",
    "heights = [1, 1, 2, 2, 1, 1, 3, 1, 3, 2, 2, 4, 3]\n",
    "heights = [3, 2, 10, 11, 5, 10, 6, 3]\n",
    "prevSmallerElement(heights)\n",
    "nextSmallerElement(heights)\n",
    "largestRectangeArea(heights)"
   ]
  },
  {
   "cell_type": "code",
   "execution_count": 73,
   "id": "e84516f0-72dd-4f81-8c89-4db94b91d3a0",
   "metadata": {},
   "outputs": [
    {
     "data": {
      "text/plain": [
       "10"
      ]
     },
     "execution_count": 73,
     "metadata": {},
     "output_type": "execute_result"
    }
   ],
   "source": [
    "# Optimal Approach : \n",
    "# Time Complexity : O(2N)\n",
    "# Space Complexity : O(N)\n",
    "\n",
    "def largestRectangeArea(heights):\n",
    "    n = len(heights)\n",
    "    stack = []\n",
    "    _maxArea = 0\n",
    "    i = 0\n",
    "    while i < n:\n",
    "        while len(stack) > 0 and heights[stack[-1]] >= heights[i]:\n",
    "            index = stack.pop()\n",
    "            pse = -1\n",
    "            if len(stack) > 0:\n",
    "                pse = stack[-1]\n",
    "            # print(index, pse, i)\n",
    "            if _maxArea < heights[index]*(i-pse-1):\n",
    "                _maxArea = heights[index]*(i-pse-1)\n",
    "        stack.append(i)\n",
    "        i += 1\n",
    "    while len(stack) > 0:\n",
    "        nse = n\n",
    "        index = stack.pop()\n",
    "        pse = -1\n",
    "        if len(stack) > 0:\n",
    "            pse = stack[-1]\n",
    "        if _maxArea < heights[index]*(nse-pse-1):\n",
    "                _maxArea = heights[index]*(nse-pse-1)\n",
    "        # print(index, pse, -1)\n",
    "    return _maxArea\n",
    "heights = [2, 1, 5, 6, 2, 3]\n",
    "# heights = [6, 2, 5, 4, 1, 5, 6]\n",
    "# heights = [2, 4]\n",
    "# heights = [3]\n",
    "# heights = [1, 1, 2, 2, 1, 1, 3, 1, 3, 2, 2, 4, 3]\n",
    "# heights = [3, 2, 10, 11, 5, 10, 6, 3]\n",
    "largestRectangeArea(heights)"
   ]
  },
  {
   "cell_type": "code",
   "execution_count": null,
   "id": "50646d24-1c37-4a7f-b8ed-f56cd0d47e9b",
   "metadata": {},
   "outputs": [],
   "source": []
  },
  {
   "cell_type": "markdown",
   "id": "ad7d5d73-473f-4672-a7dd-7f96f85543b6",
   "metadata": {},
   "source": [
    "# Maximal Rectangles"
   ]
  },
  {
   "cell_type": "code",
   "execution_count": 77,
   "id": "a79677b5-a81a-4cb6-8103-9245c0136bd5",
   "metadata": {},
   "outputs": [
    {
     "data": {
      "text/plain": [
       "6"
      ]
     },
     "execution_count": 77,
     "metadata": {},
     "output_type": "execute_result"
    }
   ],
   "source": [
    "# Brute Force Approach : \n",
    "# Time Complexity : \n",
    "# Space Complexity : \n",
    "\n",
    "\n",
    "def largestRectangeArea(heights):\n",
    "    n = len(heights)\n",
    "    stack = []\n",
    "    _maxArea = 0\n",
    "    i = 0\n",
    "    while i < n:\n",
    "        while len(stack) > 0 and heights[stack[-1]] >= heights[i]:\n",
    "            index = stack.pop()\n",
    "            pse = -1\n",
    "            if len(stack) > 0:\n",
    "                pse = stack[-1]\n",
    "            # print(index, pse, i)\n",
    "            if _maxArea < heights[index]*(i-pse-1):\n",
    "                _maxArea = heights[index]*(i-pse-1)\n",
    "        stack.append(i)\n",
    "        i += 1\n",
    "    while len(stack) > 0:\n",
    "        nse = n\n",
    "        index = stack.pop()\n",
    "        pse = -1\n",
    "        if len(stack) > 0:\n",
    "            pse = stack[-1]\n",
    "        if _maxArea < heights[index]*(nse-pse-1):\n",
    "                _maxArea = heights[index]*(nse-pse-1)\n",
    "        # print(index, pse, -1)\n",
    "    return _maxArea\n",
    "\n",
    "def depth(matrix, i, j):\n",
    "    n = len(matrix)\n",
    "    dep = 0\n",
    "    while i < n and matrix[i][j] == '1':\n",
    "        dep += 1\n",
    "        i += 1\n",
    "    return dep\n",
    "\n",
    "def maximalRectangle(matrix):\n",
    "    n = len(matrix)\n",
    "    m = len(matrix[0])\n",
    "    _max = 0\n",
    "    for i in range(n):\n",
    "        temp = []\n",
    "        for j in range(m):\n",
    "            # print(i, j, depth(matrix, i, j))\n",
    "            temp.append(depth(matrix, i, j))\n",
    "        # print(temp, largestRectangeArea(temp))\n",
    "        if _max < largestRectangeArea(temp):\n",
    "            _max = largestRectangeArea(temp)\n",
    "    return _max\n",
    "\n",
    "matrix = [[\"1\",\"0\",\"1\",\"0\",\"0\"],[\"1\",\"0\",\"1\",\"1\",\"1\"],[\"1\",\"1\",\"1\",\"1\",\"1\"],[\"1\",\"0\",\"0\",\"1\",\"0\"]]\n",
    "# matrix = [[\"1\"]]\n",
    "# matrix = [[\"0\"]]\n",
    "maximalRectangle(matrix)"
   ]
  },
  {
   "cell_type": "code",
   "execution_count": 97,
   "id": "8ed0fce9-8027-436e-ba92-50b06a9b6b49",
   "metadata": {},
   "outputs": [
    {
     "data": {
      "text/plain": [
       "6"
      ]
     },
     "execution_count": 97,
     "metadata": {},
     "output_type": "execute_result"
    }
   ],
   "source": [
    "# Optimal Approach : \n",
    "# Time Complexity : \n",
    "# Space Complexity : \n",
    "\n",
    "def largestRectangeArea(heights):\n",
    "    n = len(heights)\n",
    "    stack = []\n",
    "    _maxArea = 0\n",
    "    i = 0\n",
    "    while i < n:\n",
    "        while len(stack) > 0 and heights[stack[-1]] >= heights[i]:\n",
    "            index = stack.pop()\n",
    "            pse = -1\n",
    "            if len(stack) > 0:\n",
    "                pse = stack[-1]\n",
    "            # print(index, pse, i)\n",
    "            if _maxArea < heights[index]*(i-pse-1):\n",
    "                _maxArea = heights[index]*(i-pse-1)\n",
    "        stack.append(i)\n",
    "        i += 1\n",
    "    while len(stack) > 0:\n",
    "        nse = n\n",
    "        index = stack.pop()\n",
    "        pse = -1\n",
    "        if len(stack) > 0:\n",
    "            pse = stack[-1]\n",
    "        if _maxArea < heights[index]*(nse-pse-1):\n",
    "                _maxArea = heights[index]*(nse-pse-1)\n",
    "        # print(index, pse, -1)\n",
    "    return _maxArea\n",
    "\n",
    "def prefixSum(matrix):\n",
    "    n = len(matrix)\n",
    "    m = len(matrix[0])\n",
    "    for j in range(m):\n",
    "        sum = 0\n",
    "        for i in range(n):\n",
    "            if matrix[i][j] == '1':\n",
    "                sum += 1\n",
    "            else:\n",
    "                sum = 0\n",
    "            matrix[i][j] = sum\n",
    "    return matrix\n",
    "\n",
    "def maximalRectangle(matrix):\n",
    "    n = len(matrix)\n",
    "    m = len(matrix[0])\n",
    "    heightMatrix = prefixSum(matrix)\n",
    "    _max = 0\n",
    "    for i in range(n):\n",
    "        if _max < largestRectangeArea(heightMatrix[i]):\n",
    "            _max = largestRectangeArea(heightMatrix[i])\n",
    "    return _max\n",
    "\n",
    "matrix = [[\"1\",\"0\",\"1\",\"0\",\"0\"],[\"1\",\"0\",\"1\",\"1\",\"1\"],[\"1\",\"1\",\"1\",\"1\",\"1\"],[\"1\",\"0\",\"0\",\"1\",\"0\"]]\n",
    "# matrix = [[\"1\"]]\n",
    "# matrix = [[\"0\"]]\n",
    "maximalRectangle(matrix)"
   ]
  },
  {
   "cell_type": "code",
   "execution_count": null,
   "id": "7c9ecc2a-b95c-4e2b-b23b-848285fd9569",
   "metadata": {},
   "outputs": [],
   "source": []
  }
 ],
 "metadata": {
  "kernelspec": {
   "display_name": "Python 3 (ipykernel)",
   "language": "python",
   "name": "python3"
  },
  "language_info": {
   "codemirror_mode": {
    "name": "ipython",
    "version": 3
   },
   "file_extension": ".py",
   "mimetype": "text/x-python",
   "name": "python",
   "nbconvert_exporter": "python",
   "pygments_lexer": "ipython3",
   "version": "3.12.7"
  }
 },
 "nbformat": 4,
 "nbformat_minor": 5
}
