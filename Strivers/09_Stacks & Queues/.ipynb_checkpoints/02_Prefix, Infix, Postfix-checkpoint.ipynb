{
 "cells": [
  {
   "cell_type": "markdown",
   "id": "13734750-979d-4572-aac3-2f0bff0731e9",
   "metadata": {},
   "source": [
    "# Infix to Postfix Conversion using Stack"
   ]
  },
  {
   "cell_type": "code",
   "execution_count": 35,
   "id": "68eaafd8-100e-4526-84be-13ccdfb036e7",
   "metadata": {},
   "outputs": [
    {
     "data": {
      "text/plain": [
       "'abcd^e-fgh*+^*+i-'"
      ]
     },
     "execution_count": 35,
     "metadata": {},
     "output_type": "execute_result"
    }
   ],
   "source": [
    "\n",
    "\n",
    "def precesion(operator):\n",
    "    if operator == '^':\n",
    "        return 3\n",
    "    if operator == '*' or operator == '/':\n",
    "        return 2\n",
    "    if operator == '+' or operator == '-':\n",
    "        return 1\n",
    "    return 0\n",
    "\n",
    "def infixToPostfix(exp):\n",
    "    n = len(exp)\n",
    "\n",
    "    postExp = \"\"\n",
    "    stack = []\n",
    "\n",
    "    i = 0\n",
    "    while i < n:\n",
    "        if exp[i].isalnum():\n",
    "            postExp += exp[i]\n",
    "        elif exp[i] == ')':\n",
    "            while  len(stack) > 0 and   stack[-1] != '(':\n",
    "                postExp += stack.pop()\n",
    "            stack.pop()\n",
    "        elif exp[i] == '(':\n",
    "            stack.append(exp[i])\n",
    "        elif len(stack) > 0 and  precesion(exp[i]) > precesion(stack[-1]):\n",
    "            stack.append(exp[i])\n",
    "        else:\n",
    "            while len(stack) > 0 and precesion(stack[-1]) >= precesion(exp[i]):\n",
    "                postExp += stack.pop()\n",
    "            stack.append(exp[i])\n",
    "        i += 1\n",
    "\n",
    "    m = len(stack)\n",
    "    while m > 0:\n",
    "        postExp += stack[m-1]\n",
    "        m -= 1\n",
    "    \n",
    "    return postExp\n",
    "\n",
    "str = \"a+b*(c^d-e)^(f+g*h)-i\"\n",
    "# str = \"A*(B+C)/D\"\n",
    "infixToPostfix(str)"
   ]
  },
  {
   "cell_type": "code",
   "execution_count": null,
   "id": "2503084c-bd84-4148-93bd-f66915e375fa",
   "metadata": {},
   "outputs": [],
   "source": []
  },
  {
   "cell_type": "markdown",
   "id": "26008fab-9eb5-43f1-a6a2-e71ae60f99aa",
   "metadata": {},
   "source": [
    "# Infix to Prefix"
   ]
  },
  {
   "cell_type": "code",
   "execution_count": null,
   "id": "53fcf50d-1899-4ee9-9c81-7057caa87d51",
   "metadata": {},
   "outputs": [],
   "source": [
    "def precesion(operator):\n",
    "    if operator == '^':\n",
    "        return 3\n",
    "    if operator == '*' or operator == '/':\n",
    "        return 2\n",
    "    if operator == '+' or operator == '-':\n",
    "        return 1\n",
    "    return 0\n",
    "\n",
    "def infixToPostfix(exp):\n",
    "    n = len(exp)\n",
    "\n",
    "    postExp = \"\"\n",
    "    stack = []\n",
    "\n",
    "    i = 0\n",
    "    while i < n:\n",
    "        if exp[i].isalnum():\n",
    "            postExp += exp[i]\n",
    "        elif exp[i] == ')':\n",
    "            while  len(stack) > 0 and   stack[-1] != '(':\n",
    "                postExp += stack.pop()\n",
    "            stack.pop()\n",
    "        elif exp[i] == '(':\n",
    "            stack.append(exp[i])\n",
    "        elif len(stack) > 0 and  precesion(exp[i]) >= precesion(stack[-1]):\n",
    "            stack.append(exp[i])\n",
    "        else:\n",
    "            while len(stack) > 0 and precesion(stack[-1]) > precesion(exp[i]):\n",
    "                postExp += stack.pop()\n",
    "            stack.append(exp[i])\n",
    "        i += 1\n",
    "\n",
    "    m = len(stack)\n",
    "    while m > 0:\n",
    "        postExp += stack[m-1]\n",
    "        m -= 1\n",
    "    \n",
    "    return postExp\n",
    "\n",
    "\n",
    "def infixtoPostfix(exp):\n",
    "    n = len(exp)\n",
    "    expReverse = ''\n",
    "    for i in range(n-1, -1, -1):\n",
    "        if exp[i] == '(':\n",
    "            expReverse += ')'\n",
    "        elif exp[i] == ')':\n",
    "            expReverse += '('\n",
    "        else:\n",
    "            expReverse += exp[i]\n",
    "    postReverse = infixToPostfix(expReverse)\n",
    "    return postReverse[::-1]\n",
    "\n",
    "str = '(A–B/C)*(A/K-L)'\n",
    "infixtoPostfix(str)"
   ]
  },
  {
   "cell_type": "code",
   "execution_count": null,
   "id": "b8922edd-5129-4f38-8d89-e3b549b8f728",
   "metadata": {},
   "outputs": [],
   "source": []
  },
  {
   "cell_type": "markdown",
   "id": "9ff68f61-4002-4308-b183-8f77db049790",
   "metadata": {},
   "source": [
    "# Prefix to Infix"
   ]
  },
  {
   "cell_type": "code",
   "execution_count": 25,
   "id": "a76d543a-2a5d-47db-bbc4-f35ba8223e94",
   "metadata": {},
   "outputs": [
    {
     "data": {
      "text/plain": [
       "'((A-(B/C))*((A/K)-L))'"
      ]
     },
     "execution_count": 25,
     "metadata": {},
     "output_type": "execute_result"
    }
   ],
   "source": [
    "\n",
    "def prefixToInfix(pre_exp):\n",
    "    n = len(pre_exp)\n",
    "\n",
    "    stack = []\n",
    "    i = n-1\n",
    "    while i >= 0:\n",
    "        if pre_exp[i].isalnum():\n",
    "            stack.append(pre_exp[i])\n",
    "        else:\n",
    "            temp = '('+stack.pop() + pre_exp[i] + stack.pop() +')'\n",
    "            stack.append(temp)\n",
    "        i -= 1\n",
    "    return stack[0]\n",
    "\n",
    "str = '*-A/BC-/AKL'\n",
    "prefixToInfix(str)"
   ]
  },
  {
   "cell_type": "code",
   "execution_count": null,
   "id": "d8f5464b-53d8-4c92-a814-3c0b15ca19c5",
   "metadata": {},
   "outputs": [],
   "source": []
  },
  {
   "cell_type": "markdown",
   "id": "efac8309-d495-49f0-876a-615feadd7292",
   "metadata": {},
   "source": [
    "# Postfix to Infix"
   ]
  },
  {
   "cell_type": "code",
   "execution_count": 37,
   "id": "f6cc8433-747f-4a05-9705-5335726a1f1f",
   "metadata": {},
   "outputs": [
    {
     "data": {
      "text/plain": [
       "'((a*b)+c)'"
      ]
     },
     "execution_count": 37,
     "metadata": {},
     "output_type": "execute_result"
    }
   ],
   "source": [
    "\n",
    "def postfixToInfix(post_exp):\n",
    "    n = len(post_exp)\n",
    "\n",
    "    stack = []\n",
    "    i = 0\n",
    "    while i < n:\n",
    "        if post_exp[i].isalnum():\n",
    "            stack.append(post_exp[i])\n",
    "        else:\n",
    "            op1 = stack.pop()\n",
    "            op2 = stack.pop()\n",
    "            temp = '('+op2+post_exp[i]+op1+')'\n",
    "            stack.append(temp)\n",
    "        i += 1\n",
    "    return stack[0]\n",
    "\n",
    "str = 'ab*c+'\n",
    "postfixToInfix(str)"
   ]
  },
  {
   "cell_type": "code",
   "execution_count": null,
   "id": "26abd825-0a89-4e8c-85c4-3045310c67b1",
   "metadata": {},
   "outputs": [],
   "source": []
  },
  {
   "cell_type": "markdown",
   "id": "579fd5c3-f203-4d9f-aa34-4e058371ee58",
   "metadata": {},
   "source": [
    "# PostFix to Prefix"
   ]
  },
  {
   "cell_type": "code",
   "execution_count": 49,
   "id": "f848eaef-72c5-4e95-8eba-cd8426f6be83",
   "metadata": {},
   "outputs": [
    {
     "data": {
      "text/plain": [
       "'*-A/BC-/AKL'"
      ]
     },
     "execution_count": 49,
     "metadata": {},
     "output_type": "execute_result"
    }
   ],
   "source": [
    "\n",
    "def postfixToPrefix(post_exp):\n",
    "    n = len(post_exp)\n",
    "    stack = []\n",
    "    i = 0\n",
    "\n",
    "    while i < n :\n",
    "        if post_exp[i].isalnum():\n",
    "            stack.append(post_exp[i])\n",
    "        else:\n",
    "            op1 = stack.pop()\n",
    "            op2 = stack.pop()\n",
    "            temp = post_exp[i] + op2 + op1\n",
    "            stack.append(temp)\n",
    "        i += 1\n",
    "    return stack[0]\n",
    "\n",
    "str = 'ABC/-AK/L-*'\n",
    "postfixToPrefix(str)"
   ]
  },
  {
   "cell_type": "code",
   "execution_count": null,
   "id": "3a61675f-bbf3-40bf-8055-527d2506ad41",
   "metadata": {},
   "outputs": [],
   "source": []
  },
  {
   "cell_type": "markdown",
   "id": "fef16dad-5d03-413a-a410-e21d980bb0c8",
   "metadata": {},
   "source": [
    "# Prefix to Postfix"
   ]
  },
  {
   "cell_type": "code",
   "execution_count": 53,
   "id": "56f024dd-01d6-4d88-b2be-c4787c5a982d",
   "metadata": {},
   "outputs": [
    {
     "data": {
      "text/plain": [
       "'ABC/-AK/L-*'"
      ]
     },
     "execution_count": 53,
     "metadata": {},
     "output_type": "execute_result"
    }
   ],
   "source": [
    "\n",
    "def prefixToPostfix(pre_exp):\n",
    "    n = len(pre_exp)\n",
    "\n",
    "    stack = []\n",
    "    i = n-1\n",
    "    while i >= 0:\n",
    "        if pre_exp[i].isalnum():\n",
    "            stack.append(pre_exp[i])\n",
    "        else:\n",
    "            temp = stack.pop() + stack.pop() + pre_exp[i]\n",
    "            stack.append(temp)\n",
    "        i -= 1\n",
    "    return stack[0]\n",
    "            \n",
    "\n",
    "str = '*-A/BC-/AKL'\n",
    "prefixToPostfix(str)"
   ]
  },
  {
   "cell_type": "code",
   "execution_count": null,
   "id": "02f0230b-9209-46c0-93d5-cf049e525a54",
   "metadata": {},
   "outputs": [],
   "source": []
  }
 ],
 "metadata": {
  "kernelspec": {
   "display_name": "Python 3 (ipykernel)",
   "language": "python",
   "name": "python3"
  },
  "language_info": {
   "codemirror_mode": {
    "name": "ipython",
    "version": 3
   },
   "file_extension": ".py",
   "mimetype": "text/x-python",
   "name": "python",
   "nbconvert_exporter": "python",
   "pygments_lexer": "ipython3",
   "version": "3.12.7"
  }
 },
 "nbformat": 4,
 "nbformat_minor": 5
}
