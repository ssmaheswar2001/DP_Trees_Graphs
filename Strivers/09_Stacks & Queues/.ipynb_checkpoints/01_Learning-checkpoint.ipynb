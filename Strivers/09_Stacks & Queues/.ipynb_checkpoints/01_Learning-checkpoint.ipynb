{
 "cells": [
  {
   "cell_type": "markdown",
   "id": "586b36cc-acee-4aef-b36b-cbedfa974e74",
   "metadata": {},
   "source": [
    "# Implementing Stack Using Arrays\n",
    "- Stack is a linear data structure which follows LIFO principle.\n",
    "- In array implementation, consider its end as the stack's top."
   ]
  },
  {
   "cell_type": "code",
   "execution_count": 18,
   "id": "1f7c0a8e-0469-45da-a4da-79a464977b1e",
   "metadata": {},
   "outputs": [
    {
     "name": "stdout",
     "output_type": "stream",
     "text": [
      "-1 4 "
     ]
    }
   ],
   "source": [
    "class MyStack:\n",
    "    def __init__(self, size):\n",
    "        self.arr=[0]*size\n",
    "        self.top = -1\n",
    "    \n",
    "    #Function to push an integer into the stack.\n",
    "    def push(self,data):\n",
    "        #add code here\n",
    "        if self.top >= len(self.arr):\n",
    "            return -1\n",
    "        self.top += 1\n",
    "        self.arr[self.top] = data\n",
    "    \n",
    "    #Function to remove an item from top of the stack.\n",
    "    def pop(self):\n",
    "        if self.top == -1:\n",
    "            return -1\n",
    "        element = self.arr[self.top]\n",
    "        self.arr[self.top] = 0\n",
    "        self.top -= 1\n",
    "        return element\n",
    "\n",
    "stack = MyStack(10)\n",
    "print(stack.pop(), end=\" \")\n",
    "stack.push(3)\n",
    "stack.push(4)\n",
    "print(stack.pop(), end=\" \")\n",
    "stack.push(7)"
   ]
  },
  {
   "cell_type": "code",
   "execution_count": null,
   "id": "b89ce21b-b4ad-4803-af0c-70cf0bf245e3",
   "metadata": {},
   "outputs": [],
   "source": []
  },
  {
   "cell_type": "markdown",
   "id": "fa1bff21-156a-40bc-9061-bad6dc8d0588",
   "metadata": {},
   "source": [
    "# Implementing Queue using Arrays\n",
    "- Queue is a linear data structure that follows FIFO principle.\n",
    "- Insertions are done at one end called rear\n",
    "-  Deletions are done from other end called front.\n",
    "-  Enqueue() : Inserts an element at the rear end.\n",
    "-  Dequeue() : Removes and returns an element at the front end.\n",
    "-  front() : Returns the element at the fron end without removing it.\n",
    "-  rear() : Returns the element at the rear end without removing it.\n",
    "-  Applications : BFS, Scheduling\n",
    "-  Keep track of 2 indicies called front and rear."
   ]
  },
  {
   "cell_type": "code",
   "execution_count": 43,
   "id": "21d847af-008e-49b4-b0ad-07a00d23eab8",
   "metadata": {},
   "outputs": [
    {
     "name": "stdout",
     "output_type": "stream",
     "text": [
      "[2, None, None, None, None, None, None, None, None, None]\n",
      "[2, 3, None, None, None, None, None, None, None, None]\n",
      "[None, 3, None, None, None, None, None, None, None, None]\n",
      "[None, 3, 4, None, None, None, None, None, None, None]\n",
      "[None, None, 4, None, None, None, None, None, None, None]\n",
      "[None, None, None, None, None, None, None, None, None, None]\n"
     ]
    },
    {
     "data": {
      "text/plain": [
       "4"
      ]
     },
     "execution_count": 43,
     "metadata": {},
     "output_type": "execute_result"
    }
   ],
   "source": [
    "class MyQueue:\n",
    "    def __init__(self, capacity):\n",
    "        self.queue = [None]*capacity\n",
    "        self.front = 0\n",
    "        self.rear = capacity-1\n",
    "        # self.rear, self.front = -1, -1\n",
    "        self.size = 0\n",
    "        self.capacity = capacity\n",
    "\n",
    "    def enqueue(self, data):\n",
    "        if self.size == self.capacity:\n",
    "            return -1\n",
    "        # if self.size == 0:\n",
    "        #     self.front = 0\n",
    "        #     self.rear = 0\n",
    "        self.rear = (self.rear+1)%self.capacity\n",
    "        self.queue[self.rear] = data\n",
    "        self.size += 1\n",
    "        print(self.queue)\n",
    "\n",
    "    def dequeue(self):\n",
    "        if self.size == 0:\n",
    "            return -1\n",
    "        popItem = self.queue[self.front]\n",
    "        self.queue[self.front] = None\n",
    "        self.front = (self.front + 1)%self.capacity\n",
    "        self.size -= 1\n",
    "        print(self.queue)\n",
    "        return popItem\n",
    "\n",
    "\n",
    "queue = MyQueue(10)\n",
    "queue.enqueue(2)\n",
    "queue.enqueue(3)\n",
    "queue.dequeue()\n",
    "queue.enqueue(4)\n",
    "queue.dequeue()\n",
    "queue.dequeue()\n",
    "# queue.dequeue()"
   ]
  },
  {
   "cell_type": "code",
   "execution_count": null,
   "id": "e272ea53-b029-45b7-b010-2819bc664c81",
   "metadata": {},
   "outputs": [],
   "source": []
  },
  {
   "cell_type": "markdown",
   "id": "74c45090-4c38-462e-bc38-946009828370",
   "metadata": {},
   "source": [
    "# Implement Stack using LinkedList"
   ]
  },
  {
   "cell_type": "code",
   "execution_count": 47,
   "id": "72af6282-862a-4c46-9fb1-4a0162d7fdb9",
   "metadata": {},
   "outputs": [
    {
     "data": {
      "text/plain": [
       "4"
      ]
     },
     "execution_count": 47,
     "metadata": {},
     "output_type": "execute_result"
    }
   ],
   "source": [
    "class Node:\n",
    "    def __init__(self, data):\n",
    "        self.data = data\n",
    "        self.next = None\n",
    "\n",
    "class MyStack:\n",
    "    def __init__(self):\n",
    "        self.top = None\n",
    "\n",
    "    def push(self, data):\n",
    "        newNode = Node(data)\n",
    "        newNode.next = self.top\n",
    "        self.top = newNode\n",
    "    def pop(self):\n",
    "        if self.top == -1:\n",
    "            return -1\n",
    "        popNode = self.top\n",
    "        self.top = self.top.next\n",
    "        popNode.next = None\n",
    "        return popNode.data\n",
    "\n",
    "stack = MyStack()\n",
    "stack.push(2)\n",
    "stack.push(2)\n",
    "stack.pop()\n",
    "stack.push(4)\n",
    "stack.pop()"
   ]
  },
  {
   "cell_type": "code",
   "execution_count": null,
   "id": "5793ddcf-acdd-4d21-acf4-540bee8bad89",
   "metadata": {},
   "outputs": [],
   "source": []
  },
  {
   "cell_type": "markdown",
   "id": "e0b30980-b010-4f1f-8c66-689441a0748d",
   "metadata": {},
   "source": [
    "# Implement Queue using LinkedList"
   ]
  },
  {
   "cell_type": "code",
   "execution_count": 51,
   "id": "d5bc6dbb-a665-4bb7-b891-fa604a10c110",
   "metadata": {},
   "outputs": [
    {
     "data": {
      "text/plain": [
       "3"
      ]
     },
     "execution_count": 51,
     "metadata": {},
     "output_type": "execute_result"
    }
   ],
   "source": [
    "class Node: \n",
    "      \n",
    "    def __init__(self, data): \n",
    "        self.data = data \n",
    "        self.next = None\n",
    "        \n",
    "class MyQueue:\n",
    "    \n",
    "    def __init__(self):\n",
    "        self.rear = None\n",
    "        self.front = None\n",
    "    \n",
    "    #Function to push an element into the queue.\n",
    "    def enqueue(self, item): \n",
    "        newNode = Node(item)\n",
    "        if self.rear == None:\n",
    "            self.rear = self.front = newNode\n",
    "            return\n",
    "        self.rear.next = newNode\n",
    "        self.rear = newNode\n",
    "    \n",
    "    #Function to pop front element from the queue.\n",
    "    def dequeue(self):\n",
    "        if self.front == None:\n",
    "            return -1\n",
    "        popElement = self.front\n",
    "        self.front = self.front.next\n",
    "        popElement.next = None\n",
    "        if self.front == None:\n",
    "            self.rear = None\n",
    "        \n",
    "        return popElement.data\n",
    "\n",
    "queue = MyQueue()\n",
    "queue.enqueue(2)\n",
    "queue.enqueue(3)\n",
    "queue.dequeue()\n",
    "queue.enqueue(4)\n",
    "queue.dequeue()"
   ]
  },
  {
   "cell_type": "code",
   "execution_count": null,
   "id": "7e5592e3-1545-47ca-a57c-109643e1f2d4",
   "metadata": {},
   "outputs": [],
   "source": []
  },
  {
   "cell_type": "markdown",
   "id": "8c597a34-985c-45f0-adef-8d13441a344a",
   "metadata": {},
   "source": [
    "# Implementing Stack using Queue"
   ]
  },
  {
   "cell_type": "code",
   "execution_count": null,
   "id": "8b603b67-4252-4686-af5c-43e5771139f6",
   "metadata": {},
   "outputs": [],
   "source": [
    "class MyQueue:\n",
    "    def __init__(self):\n",
    "        capacity = 100\n",
    "        self.queue = [None]*capacity\n",
    "        self.front = 0\n",
    "        self.rear = capacity-1\n",
    "        # self.rear, self.front = -1, -1\n",
    "        self.size = 0\n",
    "        self.capacity = capacity\n",
    "\n",
    "    def enqueue(self, data):\n",
    "        if self.size == self.capacity:\n",
    "            return -1\n",
    "        self.rear = (self.rear+1)%self.capacity\n",
    "        self.queue[self.rear] = data\n",
    "        self.size += 1\n",
    "\n",
    "    def dequeue(self):\n",
    "        if self.size == 0:\n",
    "            return -1\n",
    "        popItem = self.queue[self.front]\n",
    "        self.queue[self.front] = None\n",
    "        self.front = (self.front + 1)%self.capacity\n",
    "        self.size -= 1\n",
    "        return popItem\n",
    "\n",
    "class MyStack:\n",
    "    def __init__(self):\n",
    "        self.queue1 = MyQueue()\n",
    "        self.queue2 = MyQueue()\n",
    "        self.size = 0\n",
    "        \n",
    "    def push(self, data):\n",
    "        self.queue2.enqueue(data)\n",
    "        for i in range(self.size):\n",
    "            self.queue2.enqueue(self.queue1.dequeue())\n",
    "        self.queue1, self.queue2 = self.queue2, self.queue1\n",
    "        self.size += 1\n",
    "        \n",
    "    def pop(self):\n",
    "        if self.queue1.size == 0:\n",
    "            return -1\n",
    "        popElement = self.queue1.dequeue()\n",
    "        self.size -= 1\n",
    "        return popElement\n",
    "        "
   ]
  },
  {
   "cell_type": "code",
   "execution_count": 58,
   "id": "194ba88e-9ed3-4104-a8b1-da6ef476fa64",
   "metadata": {},
   "outputs": [
    {
     "data": {
      "text/plain": [
       "False"
      ]
     },
     "execution_count": 58,
     "metadata": {},
     "output_type": "execute_result"
    }
   ],
   "source": [
    "from _collections import deque\n",
    "\n",
    "class MyStack:\n",
    "\n",
    "    def __init__(self):\n",
    "        self.queue1 = deque()\n",
    "        self.queue2 = deque()\n",
    "        self.size = 0\n",
    "\n",
    "    def push(self, x: int) -> None:\n",
    "        self.queue2.append(x)\n",
    "        while len(self.queue1):\n",
    "            self.queue2.append(self.queue1.popleft())\n",
    "        self.queue1, self.queue2 = self.queue2, self.queue1\n",
    "        self.size += 1\n",
    "\n",
    "    def pop(self) -> int:\n",
    "        if self.size == 0:\n",
    "            return -1\n",
    "        popElement = self.queue1.popleft()\n",
    "        self.size -= 1\n",
    "        return popElement\n",
    "\n",
    "    def top(self) -> int:\n",
    "        if self.size == 0:\n",
    "            return -1\n",
    "        return self.queue1[0]\n",
    "        \n",
    "\n",
    "    def empty(self) -> bool:\n",
    "        if self.size == 0:\n",
    "            return True\n",
    "        return False\n",
    "\n",
    "obj = MyStack()\n",
    "obj.push(3)\n",
    "obj.push(4)\n",
    "obj.push(5)\n",
    "obj.pop()\n",
    "obj.top()\n",
    "obj.empty()"
   ]
  },
  {
   "cell_type": "code",
   "execution_count": null,
   "id": "d4580880-708a-42e2-8a69-f0bfc1e7e0c6",
   "metadata": {},
   "outputs": [],
   "source": []
  },
  {
   "cell_type": "markdown",
   "id": "f914869a-7620-4247-b9b2-8ef91c7c52f1",
   "metadata": {},
   "source": [
    "# Implementing a Queue using stack"
   ]
  },
  {
   "cell_type": "code",
   "execution_count": 63,
   "id": "1be4e652-ab9a-4a9a-b55f-e493026c67ef",
   "metadata": {},
   "outputs": [],
   "source": [
    "class MyQueue:\n",
    "    def __init__(self):\n",
    "        self.s1 = []\n",
    "        self.s2 = []\n",
    "        self.top = -1\n",
    "\n",
    "    def enqueue(self, data):\n",
    "        while len(self.s1) != 0:\n",
    "            self.s2.append(self.s1[-1]) \n",
    "            self.s1.pop()\n",
    "            \n",
    "        self.s1.append(data)\n",
    "        while len(self.s2) != 0 :\n",
    "            self.s1.append(self.s2[-1])\n",
    "            self.s2.pop()\n",
    "        self.top += 1\n",
    "\n",
    "    def dequeue(self):\n",
    "        if self.top == -1:\n",
    "            return -1\n",
    "        popElement = self.s1[top]\n",
    "        self.s1.pop()\n",
    "        self.top -= 1\n",
    "        return popElement"
   ]
  },
  {
   "cell_type": "code",
   "execution_count": null,
   "id": "7d9ae401-c179-4c50-a721-d87051dfbbe7",
   "metadata": {},
   "outputs": [],
   "source": []
  },
  {
   "cell_type": "markdown",
   "id": "50bb2809-da20-4ec8-98f3-f06b25f289c9",
   "metadata": {},
   "source": [
    "# Valid Parentheses"
   ]
  },
  {
   "cell_type": "code",
   "execution_count": 72,
   "id": "0dd4cd50-9a14-482b-8d40-9b1a0413ee69",
   "metadata": {},
   "outputs": [
    {
     "data": {
      "text/plain": [
       "True"
      ]
     },
     "execution_count": 72,
     "metadata": {},
     "output_type": "execute_result"
    }
   ],
   "source": [
    "def isValid(s):\n",
    "        stack = []\n",
    "\n",
    "        for i in range(len(s)):\n",
    "            if s[i] == '(' or s[i] == '[' or s[i] == '{':\n",
    "                stack.append(s[i])\n",
    "            else:\n",
    "                if len(stack) == 0:\n",
    "                    return False\n",
    "                it = stack.pop()\n",
    "                if (s[i] == ')' and it == '(') or (s[i] == '}' and it == '{') or (s[i] == ']' and it == '['):\n",
    "                    continue\n",
    "                return False\n",
    "        if len(stack) == 0:\n",
    "            return True\n",
    "        return False\n",
    "\n",
    "s = \"()[]{}\"\n",
    "isValid(s)"
   ]
  },
  {
   "cell_type": "code",
   "execution_count": null,
   "id": "0ef68251-ad2f-474c-8b7a-7242d6c14e79",
   "metadata": {},
   "outputs": [],
   "source": []
  },
  {
   "cell_type": "markdown",
   "id": "f8e111da-a8f3-47c3-906a-d0b3386164a8",
   "metadata": {},
   "source": [
    "# Min Stack"
   ]
  },
  {
   "cell_type": "code",
   "execution_count": 1,
   "id": "89e38c50-5401-46ee-bfb8-1b7dc7e335c0",
   "metadata": {},
   "outputs": [
    {
     "name": "stdout",
     "output_type": "stream",
     "text": [
      "-3\n",
      "-3\n",
      "-2\n",
      "0\n"
     ]
    }
   ],
   "source": [
    "class MinStack:\n",
    "\n",
    "    def __init__(self):\n",
    "        self.stack = []\n",
    "        self.minTrack = []\n",
    "        self.topi = -1\n",
    "\n",
    "    def push(self, val: int) -> None:\n",
    "        self.stack.append(val)\n",
    "        if self.topi == -1 or self.minTrack[self.topi] > val:\n",
    "            self.minTrack.append(val)\n",
    "        else:\n",
    "            self.minTrack.append(self.minTrack[self.topi])\n",
    "        self.topi += 1\n",
    "\n",
    "    def pop(self) -> None:\n",
    "        if self.top == -1:\n",
    "            return -1\n",
    "        item = self.stack.pop()\n",
    "        self.minTrack.pop()\n",
    "        self.topi -= 1\n",
    "        return item\n",
    "\n",
    "    def top(self) -> int:\n",
    "        if self.topi == -1:\n",
    "            return -1\n",
    "        return self.stack[-1]\n",
    "\n",
    "    def getMin(self) -> int:\n",
    "        if self.topi == -1:\n",
    "            return -1\n",
    "        return self.minTrack[-1]\n",
    "stack = MinStack()\n",
    "stack.push(-2)\n",
    "stack.push(0)\n",
    "stack.push(-3)\n",
    "print(stack.getMin())\n",
    "print(stack.pop())\n",
    "print(stack.getMin())\n",
    "print(stack.top())\n"
   ]
  },
  {
   "cell_type": "code",
   "execution_count": null,
   "id": "7501a780-0d76-4076-91e2-2f5bcf976e25",
   "metadata": {},
   "outputs": [],
   "source": []
  }
 ],
 "metadata": {
  "kernelspec": {
   "display_name": "Python 3 (ipykernel)",
   "language": "python",
   "name": "python3"
  },
  "language_info": {
   "codemirror_mode": {
    "name": "ipython",
    "version": 3
   },
   "file_extension": ".py",
   "mimetype": "text/x-python",
   "name": "python",
   "nbconvert_exporter": "python",
   "pygments_lexer": "ipython3",
   "version": "3.12.7"
  }
 },
 "nbformat": 4,
 "nbformat_minor": 5
}
