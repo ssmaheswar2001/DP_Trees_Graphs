{
 "cells": [
  {
   "cell_type": "markdown",
   "id": "e0c41741-a12c-4fe5-b161-07e51a394e9d",
   "metadata": {},
   "source": [
    "# Longest Substring with K uniques"
   ]
  },
  {
   "cell_type": "code",
   "execution_count": 12,
   "id": "cee2e9e3-e2b7-4c57-9ae5-dd88e624b35b",
   "metadata": {},
   "outputs": [
    {
     "data": {
      "text/plain": [
       "7"
      ]
     },
     "execution_count": 12,
     "metadata": {},
     "output_type": "execute_result"
    }
   ],
   "source": [
    "# Brute Force Approach : \n",
    "# Time Complexity : O(NxN)\n",
    "# Space Complexity : O(K)\n",
    "\n",
    "def longestKSubstr(s, k):\n",
    "    n = len(s)\n",
    "    longest = -1\n",
    "    i = 0\n",
    "    for i in range(n):\n",
    "        d = {}\n",
    "        for j in range(i, n):\n",
    "            if s[j] in d:\n",
    "                d[s[j]] += 1\n",
    "            else:\n",
    "                d[s[j]] = 1\n",
    "            if len(d) == k:\n",
    "                longest = max(longest, j-i+1)\n",
    "            if len(d) > k:\n",
    "                break\n",
    "    return longest\n",
    "\n",
    "\n",
    "s = \"aabacbebebe\"\n",
    "k = 3\n",
    "s = \"aaaa\"\n",
    "k = 2\n",
    "s = \"aabaaab\"\n",
    "k = 2\n",
    "longestKSubstr(s, k)"
   ]
  },
  {
   "cell_type": "code",
   "execution_count": 20,
   "id": "067c4f91-52c6-4fc4-89a3-c6b655b9dba1",
   "metadata": {},
   "outputs": [
    {
     "data": {
      "text/plain": [
       "7"
      ]
     },
     "execution_count": 20,
     "metadata": {},
     "output_type": "execute_result"
    }
   ],
   "source": [
    "# Optimal Approach : \n",
    "# Time Complexity : O(N)\n",
    "# Space Complexity : O(K)\n",
    "\n",
    "def longestKSubstr(s, k):\n",
    "    n = len(s)\n",
    "    longest = -1\n",
    "    d = {}\n",
    "    current = 0\n",
    "    i = 0\n",
    "    while i < n:\n",
    "        if s[i] in d:\n",
    "            d[s[i]] += 1\n",
    "        else:\n",
    "            d[s[i]] = 1\n",
    "        if len(d) > k:\n",
    "            d[s[current]] -= 1\n",
    "            if d[s[current]] == 0:\n",
    "                del d[s[current]]\n",
    "            current += 1\n",
    "        if len(d) == k:\n",
    "            longest = max(longest, (i-current+1))\n",
    "        i += 1\n",
    "    return longest\n",
    "\n",
    "s = \"aabacbebebe\"\n",
    "k = 3\n",
    "s = \"aaaa\"\n",
    "k = 2\n",
    "s = \"aabaaab\"\n",
    "k = 2\n",
    "longestKSubstr(s, k)"
   ]
  },
  {
   "cell_type": "code",
   "execution_count": null,
   "id": "1290d5a5-136d-40d5-aa4e-578741adb6a2",
   "metadata": {},
   "outputs": [],
   "source": []
  },
  {
   "cell_type": "markdown",
   "id": "5a957b59-3be3-49ea-8161-ca717e23f183",
   "metadata": {},
   "source": [
    "# Subarray with K different integers"
   ]
  },
  {
   "cell_type": "code",
   "execution_count": 26,
   "id": "68e9b8b0-ff27-4cf7-9d8e-ca74cc4cc055",
   "metadata": {},
   "outputs": [
    {
     "data": {
      "text/plain": [
       "3"
      ]
     },
     "execution_count": 26,
     "metadata": {},
     "output_type": "execute_result"
    }
   ],
   "source": [
    "# Optimal Approach : \n",
    "# Time Complexity : O(2N)\n",
    "# Space Complexity : O(K)\n",
    "\n",
    "def lessThanEqual(nums, k):\n",
    "    n = len(nums)\n",
    "    count = 0\n",
    "    d = {}\n",
    "    current = 0\n",
    "    i = 0\n",
    "    while i < n:\n",
    "        if nums[i] in d:\n",
    "            d[nums[i]] += 1\n",
    "        else:\n",
    "            d[nums[i]] = 1\n",
    "        while len(d) > k:\n",
    "            d[nums[current]] -= 1\n",
    "            if d[nums[current]] == 0:\n",
    "                del d[nums[current]]\n",
    "            current += 1\n",
    "        count += i-current+1\n",
    "        i += 1\n",
    "    return count\n",
    "\n",
    "def subarraysWithKDistinct(nums, k):\n",
    "    return lessThanEqual(nums, k) - lessThanEqual(nums, k-1)\n",
    "\n",
    "nums = [1, 2, 1, 2, 3]\n",
    "k = 2\n",
    "nums = [1,2,1,3,4]\n",
    "k = 3\n",
    "subarraysWithKDistinct(nums, k)"
   ]
  },
  {
   "cell_type": "code",
   "execution_count": null,
   "id": "273dd6b2-7501-47fc-ac18-56583bf7413f",
   "metadata": {},
   "outputs": [],
   "source": []
  },
  {
   "cell_type": "markdown",
   "id": "0ee3d2e4-5bb3-4655-b331-4dc995b5d47f",
   "metadata": {},
   "source": [
    "# Minimum Window Substring\n"
   ]
  },
  {
   "cell_type": "code",
   "execution_count": 33,
   "id": "8683cb42-40b7-462c-8053-2e148976978c",
   "metadata": {},
   "outputs": [
    {
     "data": {
      "text/plain": [
       "''"
      ]
     },
     "execution_count": 33,
     "metadata": {},
     "output_type": "execute_result"
    }
   ],
   "source": [
    "# Brute Force Approach : \n",
    "# Time Complexity : O(NxN)\n",
    "# Space Complexity : O(K)\n",
    "\n",
    "def minWindow(s, t):\n",
    "    ns = len(s)\n",
    "    nt = len(t)\n",
    "    _minLen = 999999\n",
    "    _minString = '' \n",
    "    dt = {}\n",
    "    for i in range(nt):\n",
    "        if t[i] in dt:\n",
    "            dt[t[i]] += 1\n",
    "        else:\n",
    "            dt[t[i]] = 1\n",
    "\n",
    "    for i in range(ns):\n",
    "        count = 0\n",
    "        ds = {}\n",
    "        for j in range(i, ns):\n",
    "            if s[j] in dt:\n",
    "                if s[j] in ds:\n",
    "                    ds[s[j]] += 1\n",
    "                else:\n",
    "                    ds[s[j]] = 1\n",
    "                if ds[s[j]] == dt[s[j]]:\n",
    "                    count += 1\n",
    "            if count == len(dt):\n",
    "                if _minLen > len(s[i:j+1]):\n",
    "                    _minString = s[i:j+1]\n",
    "                    _minLen = len(s[i:j+1])\n",
    "                break\n",
    "    return _minString0\n",
    "                \n",
    "s = \"ADOBECODEBANC\"\n",
    "t = \"ABC\"\n",
    "s = 'a'\n",
    "t = 'aa'\n",
    "minWindow(s, t)\n"
   ]
  },
  {
   "cell_type": "code",
   "execution_count": 56,
   "id": "4a863ca5-90cc-4795-a554-adab558aa83d",
   "metadata": {},
   "outputs": [
    {
     "data": {
      "text/plain": [
       "'bca'"
      ]
     },
     "execution_count": 56,
     "metadata": {},
     "output_type": "execute_result"
    }
   ],
   "source": [
    "# Optimal Approach : \n",
    "# Time Complexity : O(2N) + O(M)\n",
    "# Space Complexity : O(K)\n",
    "\n",
    "def minWindow(s, t):\n",
    "    ns = len(s)\n",
    "    nt = len(t)\n",
    "    _minLen = len(s)+1\n",
    "    _minString = '' \n",
    "    dt = {}\n",
    "    for i in range(nt):\n",
    "        if t[i] in dt:\n",
    "            dt[t[i]] += 1\n",
    "        else:\n",
    "            dt[t[i]] = 1\n",
    "    ds = {}\n",
    "    i = 0\n",
    "    current = 0\n",
    "    count = 0\n",
    "    while i < ns:\n",
    "        if s[i] in ds:\n",
    "            ds[s[i]] += 1\n",
    "        else:\n",
    "            ds[s[i]] = 1\n",
    "        if s[i] in dt and ds[s[i]] == dt[s[i]]:\n",
    "            count += 1\n",
    "        while count == len(dt):\n",
    "            if _minLen > len(s[current:i+1]):\n",
    "                _minString = s[current:i+1]\n",
    "                _minLen = len(s[current:i+1])\n",
    "            ds[s[current]] -= 1\n",
    "            if s[current] in dt and ds[s[current]] < dt[s[current]]:\n",
    "                count -= 1\n",
    "            current += 1\n",
    "        i += 1\n",
    "    \n",
    "    return _minString\n",
    "                \n",
    "s = \"ADOBECODEBANC\"\n",
    "t = \"ABC\"\n",
    "s = 'a'\n",
    "t = 'a'\n",
    "s = 'ddaaabbca'\n",
    "t = 'abc'\n",
    "minWindow(s, t)"
   ]
  },
  {
   "cell_type": "code",
   "execution_count": null,
   "id": "f1049df5-2059-4fd1-95f1-b446a6d361d8",
   "metadata": {},
   "outputs": [],
   "source": []
  },
  {
   "cell_type": "code",
   "execution_count": null,
   "id": "537587df-4fe9-4493-9e62-097fa232dd13",
   "metadata": {},
   "outputs": [],
   "source": []
  }
 ],
 "metadata": {
  "kernelspec": {
   "display_name": "Python 3 (ipykernel)",
   "language": "python",
   "name": "python3"
  },
  "language_info": {
   "codemirror_mode": {
    "name": "ipython",
    "version": 3
   },
   "file_extension": ".py",
   "mimetype": "text/x-python",
   "name": "python",
   "nbconvert_exporter": "python",
   "pygments_lexer": "ipython3",
   "version": "3.12.7"
  }
 },
 "nbformat": 4,
 "nbformat_minor": 5
}
