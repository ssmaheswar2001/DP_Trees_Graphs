{
 "cells": [
  {
   "cell_type": "markdown",
   "id": "12fa5eb3-aa61-4b63-b5e9-bb8d21a15dbf",
   "metadata": {},
   "source": [
    "# Longest Substring without Repeating Characters"
   ]
  },
  {
   "cell_type": "code",
   "execution_count": 10,
   "id": "e40420b6-e0ec-4eba-8da8-cd5b9c8797cd",
   "metadata": {},
   "outputs": [
    {
     "data": {
      "text/plain": [
       "3"
      ]
     },
     "execution_count": 10,
     "metadata": {},
     "output_type": "execute_result"
    }
   ],
   "source": [
    "\n",
    "\n",
    "def lengthOfLongestSubstring(s):\n",
    "    n = len(s)\n",
    "    visited = {}\n",
    "    longest = 0\n",
    "    current = 0\n",
    "    i = 0 \n",
    "    while i < n:\n",
    "        if s[i] not in visited:\n",
    "            visited[s[i]] = i\n",
    "            current += 1\n",
    "            i += 1\n",
    "        else:\n",
    "            current = 0\n",
    "            i = visited[s[i]] + 1\n",
    "            visited = {}\n",
    "        if current > longest :\n",
    "            longest = current\n",
    "    return longest\n",
    "            \n",
    "s = 'cabdzabcd'\n",
    "s = \"abcabcbb\"\n",
    "s = \"bbbbb\"\n",
    "s = \"pwwkew\"\n",
    "lengthOfLongestSubstring(s)"
   ]
  },
  {
   "cell_type": "code",
   "execution_count": 25,
   "id": "b4cfc82c-65cd-472d-9513-b48b20268a28",
   "metadata": {},
   "outputs": [
    {
     "data": {
      "text/plain": [
       "3"
      ]
     },
     "execution_count": 25,
     "metadata": {},
     "output_type": "execute_result"
    }
   ],
   "source": [
    "\n",
    "def lengthOfLongestSubstring(s):\n",
    "    n = len(s)\n",
    "    visited = {}\n",
    "    longest = 0\n",
    "    current = 0\n",
    "    i = 0 \n",
    "    while i < n:\n",
    "        if s[i] in visited:\n",
    "            l = visited[s[i]]\n",
    "            while current <= l :\n",
    "                visited.pop(s[current])\n",
    "                current += 1\n",
    "        visited[s[i]] = i\n",
    "        if longest < (i-current+1):\n",
    "            longest = i-current+1\n",
    "        i += 1\n",
    "    return longest\n",
    "\n",
    "s = 'cabdzabcd'\n",
    "s = \"abcabcbb\"\n",
    "s = \"bbbbb\"\n",
    "s = \"pwwkew\"\n",
    "lengthOfLongestSubstring(s)"
   ]
  },
  {
   "cell_type": "code",
   "execution_count": 41,
   "id": "92132321-c88d-4870-9065-291b4dc209e3",
   "metadata": {},
   "outputs": [
    {
     "data": {
      "text/plain": [
       "3"
      ]
     },
     "execution_count": 41,
     "metadata": {},
     "output_type": "execute_result"
    }
   ],
   "source": [
    "\n",
    "\n",
    "def lengthOfLongestSubstring(s):\n",
    "    n = len(s)\n",
    "    visited = {}\n",
    "    longest = 0\n",
    "    current = 0\n",
    "    i = 0 \n",
    "    while i < n:\n",
    "        if s[i] in visited and current <= visited[s[i]]:\n",
    "            current = visited[s[i]]+1\n",
    "        visited[s[i]] = i\n",
    "        if longest < (i-current+1):\n",
    "            longest = (i-current+1)\n",
    "        i += 1\n",
    "    return longest\n",
    "\n",
    "s = 'cabdzabcd'\n",
    "s = \"abcabcbb\"\n",
    "# s = \"bbbbb\" \n",
    "# s = \"pwwkew\"\n",
    "lengthOfLongestSubstring(s)"
   ]
  },
  {
   "cell_type": "code",
   "execution_count": null,
   "id": "1b7f8a82-efcc-465c-81af-91e9294422e4",
   "metadata": {},
   "outputs": [],
   "source": []
  },
  {
   "cell_type": "markdown",
   "id": "691cccae-125d-4254-a5a9-1e8f5c586cd4",
   "metadata": {},
   "source": [
    "# Max Consecutive Ones"
   ]
  },
  {
   "cell_type": "code",
   "execution_count": 71,
   "id": "4651fab8-5c18-4403-8b26-88ab7f00fda8",
   "metadata": {},
   "outputs": [
    {
     "data": {
      "text/plain": [
       "6"
      ]
     },
     "execution_count": 71,
     "metadata": {},
     "output_type": "execute_result"
    }
   ],
   "source": [
    "# Brute Force Approach\n",
    "# Time Complexity : O(NxN)\n",
    "# Space Complexity : O(1)\n",
    "\n",
    "def longestOnes(nums, k):\n",
    "    n = len(nums)\n",
    "    longest = 0\n",
    "    for i in range(n):\n",
    "        zeros = 0\n",
    "        for j in range(i,n):\n",
    "            if nums[j] == 0:\n",
    "                zeros+=1\n",
    "            if zeros > k:\n",
    "                break\n",
    "            longest = max(longest, (j-i+1))\n",
    "    return longest\n",
    "            \n",
    "\n",
    "nums = [1,1,1,0,0,0,1,1,1,1,0]\n",
    "k = 2\n",
    "longestOnes(nums, k)"
   ]
  },
  {
   "cell_type": "code",
   "execution_count": 80,
   "id": "23f7404e-3e26-4029-bbde-0fd8374ed06c",
   "metadata": {},
   "outputs": [
    {
     "data": {
      "text/plain": [
       "10"
      ]
     },
     "execution_count": 80,
     "metadata": {},
     "output_type": "execute_result"
    }
   ],
   "source": [
    "# Optimal Approach\n",
    "# Time Complexity : O(N+N)\n",
    "# Space Complexity : O(1)\n",
    "\n",
    "def longestOnes(nums, k):\n",
    "    n = len(nums)\n",
    "    zeros = 0\n",
    "    current = 0\n",
    "    longest = 0\n",
    "    i = 0\n",
    "    while i < n:\n",
    "        if nums[i] == 0:\n",
    "            zeros += 1\n",
    "        if zeros <= k:\n",
    "            longest = max(longest, (i - current+1))\n",
    "            i += 1\n",
    "        else:\n",
    "            while zeros > k:\n",
    "                if nums[current] == 0:\n",
    "                    zeros -= 1\n",
    "                current += 1\n",
    "            if zeros <= k:\n",
    "               longest = max(longest, (i - current+1))\n",
    "               i += 1\n",
    "    return longest     \n",
    "              \n",
    "nums = [1,1,1,0,0,0,1,1,1,1,0]\n",
    "k = 2\n",
    "nums = [0,0,1,1,0,0,1,1,1,0,1,1,0,0,0,1,1,1,1]\n",
    "k = 3\n",
    "longestOnes(nums, k)"
   ]
  },
  {
   "cell_type": "code",
   "execution_count": 82,
   "id": "5365c66a-32b9-4936-9930-1f8ce61ce04b",
   "metadata": {},
   "outputs": [
    {
     "data": {
      "text/plain": [
       "10"
      ]
     },
     "execution_count": 82,
     "metadata": {},
     "output_type": "execute_result"
    }
   ],
   "source": [
    "# Optimal Approach\n",
    "# Time Complexity : O(N+N)\n",
    "# Space Complexity : O(1)\n",
    "\n",
    "def longestOnes(nums, k):\n",
    "    n = len(nums)\n",
    "    zeros = 0\n",
    "    current = 0\n",
    "    longest = 0\n",
    "    i = 0\n",
    "    while i < n:\n",
    "        if nums[i] == 0:\n",
    "            zeros += 1\n",
    "        while zeros > k:\n",
    "            if nums[current] == 0:\n",
    "                zeros -= 1\n",
    "            current += 1\n",
    "        longest = max(longest, (i - current+1))\n",
    "        i += 1\n",
    "    return longest     \n",
    "              \n",
    "nums = [1,1,1,0,0,0,1,1,1,1,0]\n",
    "k = 2\n",
    "nums = [0,0,1,1,0,0,1,1,1,0,1,1,0,0,0,1,1,1,1]\n",
    "k = 3\n",
    "longestOnes(nums, k)"
   ]
  },
  {
   "cell_type": "code",
   "execution_count": 91,
   "id": "e4f30eb1-b2e4-4096-bbbb-8ea239768e4c",
   "metadata": {},
   "outputs": [
    {
     "data": {
      "text/plain": [
       "10"
      ]
     },
     "execution_count": 91,
     "metadata": {},
     "output_type": "execute_result"
    }
   ],
   "source": [
    "# Optimal Approach\n",
    "# Time Complexity : O(N)\n",
    "# Space Complexity : O(1)\n",
    "\n",
    "def longestOnes(nums, k):\n",
    "    n = len(nums)\n",
    "    zeros = 0\n",
    "    current = 0\n",
    "    longest = 0\n",
    "    i = 0\n",
    "    while i < n:\n",
    "        if nums[i] == 0:\n",
    "            zeros += 1\n",
    "        if zeros <= k:\n",
    "            longest = max(longest, (i-current+1))\n",
    "        else:\n",
    "            if nums[current] == 0:\n",
    "                zeros -= 1\n",
    "            current += 1\n",
    "        i += 1\n",
    "    return longest     \n",
    "              \n",
    "nums = [1,1,1,0,0,0,1,1,1,1,0]\n",
    "k = 2\n",
    "nums = [0,0,1,1,0,0,1,1,1,0,1,1,0,0,0,1,1,1,1]\n",
    "k = 3\n",
    "longestOnes(nums, k)"
   ]
  },
  {
   "cell_type": "code",
   "execution_count": null,
   "id": "b93df37f-7f91-4f61-8901-9009e0a795ea",
   "metadata": {},
   "outputs": [],
   "source": []
  },
  {
   "cell_type": "markdown",
   "id": "1149ae5c-6a8f-41cd-bc1a-c9c84ed049e0",
   "metadata": {},
   "source": [
    "# Fruit into Baskets"
   ]
  },
  {
   "cell_type": "code",
   "execution_count": 109,
   "id": "ebf55858-1fc9-4cff-8493-c53364cf81be",
   "metadata": {},
   "outputs": [
    {
     "data": {
      "text/plain": [
       "3"
      ]
     },
     "execution_count": 109,
     "metadata": {},
     "output_type": "execute_result"
    }
   ],
   "source": [
    "# Brute Force Approach\n",
    "# Time Complexity : O(NxN)\n",
    "# Space Complexity : O(k)\n",
    "\n",
    "def totalFruits(arr):\n",
    "    n = len(arr)\n",
    "    longest = 0\n",
    "    for i in range(n):\n",
    "        temp = set()\n",
    "        for j in range(i, n):\n",
    "            temp.add(arr[j])\n",
    "            if len(temp) > 2:\n",
    "                break\n",
    "            longest = max(longest, (j-i+1))\n",
    "    return longest\n",
    "            \n",
    "arr = [3, 1, 2, 2, 2, 2]\n",
    "arr = [2, 1, 2]\n",
    "totalFruits(arr)\n"
   ]
  },
  {
   "cell_type": "code",
   "execution_count": 118,
   "id": "6ea857a0-63c3-40aa-8990-07e9378013b9",
   "metadata": {},
   "outputs": [
    {
     "data": {
      "text/plain": [
       "5"
      ]
     },
     "execution_count": 118,
     "metadata": {},
     "output_type": "execute_result"
    }
   ],
   "source": [
    "# Optimal Approach\n",
    "# Time Complexity : O(N)\n",
    "# Space Complexity : O(k)\n",
    "\n",
    "\n",
    "def totalFruits(arr):\n",
    "    n = len(arr)\n",
    "    longest = 0\n",
    "    current = 0\n",
    "    basket = {}\n",
    "    i = 0\n",
    "    while i < n:\n",
    "        if arr[i] in basket:\n",
    "            basket[arr[i]] += 1\n",
    "        else:\n",
    "            basket[arr[i]] = 1\n",
    "        while len(basket) > 2:\n",
    "            basket[arr[current]] -= 1\n",
    "            if basket[arr[current]] == 0:\n",
    "                basket.pop(arr[current])\n",
    "            current += 1\n",
    "        longest = max(longest, (i-current+1))\n",
    "        i += 1\n",
    "    return longest\n",
    "            \n",
    "arr = [3, 1, 2, 2, 2, 2]\n",
    "# arr = [2, 1, 2]\n",
    "totalFruits(arr)"
   ]
  },
  {
   "cell_type": "code",
   "execution_count": null,
   "id": "0ff1d963-abdc-4f2d-a285-4bda55e49976",
   "metadata": {},
   "outputs": [],
   "source": []
  },
  {
   "cell_type": "markdown",
   "id": "896d469a-cb75-4f1c-a9a6-670762a42d7c",
   "metadata": {},
   "source": [
    "# Longest repeating character replacement"
   ]
  },
  {
   "cell_type": "code",
   "execution_count": 22,
   "id": "b6b50601-07fd-49bf-9231-06bc6098b912",
   "metadata": {},
   "outputs": [
    {
     "data": {
      "text/plain": [
       "4"
      ]
     },
     "execution_count": 22,
     "metadata": {},
     "output_type": "execute_result"
    }
   ],
   "source": [
    "# Brute Force Approach\n",
    "# Time Complexity : O(NxN)\n",
    "# Space Complexity : O(k)\n",
    "\n",
    "def characterReplacement(s, k):\n",
    "    n = len(s)\n",
    "    longest = 0\n",
    "    for i in range(n):\n",
    "        maxFreq = 0\n",
    "        _hash = {}\n",
    "        for j in range(i, n):\n",
    "            if s[j] in _hash:\n",
    "                _hash[s[j]] += 1\n",
    "            else:\n",
    "                _hash[s[j]] = 1\n",
    "            if _hash[s[j]] > maxFreq:\n",
    "                maxFreq = _hash[s[j]]\n",
    "            if j+1-maxFreq <= k:\n",
    "                longest = max(longest, (j-i+1))\n",
    "            else:\n",
    "                break\n",
    "    return longest\n",
    "\n",
    "s = 'AABABBA'\n",
    "k = 1\n",
    "s = \"ABAB\"\n",
    "k = 2\n",
    "characterReplacement(s, k)"
   ]
  },
  {
   "cell_type": "code",
   "execution_count": 41,
   "id": "6191a21f-7014-4be4-b0bd-3b02420b7438",
   "metadata": {},
   "outputs": [
    {
     "data": {
      "text/plain": [
       "4"
      ]
     },
     "execution_count": 41,
     "metadata": {},
     "output_type": "execute_result"
    }
   ],
   "source": [
    "# Optimal Approach\n",
    "# Time Complexity : O(N)\n",
    "# Space Complexity : O(k)\n",
    "\n",
    "def characterReplacement(s, k):\n",
    "    n = len(s)\n",
    "    longest = 0\n",
    "    maxFreq = 0\n",
    "    _hash = {}\n",
    "    current = 0\n",
    "    i = 0\n",
    "    while i < n:\n",
    "        if s[i] in _hash:\n",
    "            _hash[s[i]] += 1\n",
    "        else:\n",
    "            _hash[s[i]] = 1\n",
    "        maxFreq = max(maxFreq, _hash[s[i]])\n",
    "\n",
    "        while i-current+1-maxFreq > k:\n",
    "            _hash[s[current]] -= 1\n",
    "            maxFreq = 0\n",
    "            for j in _hash:\n",
    "                maxFreq = max(maxFreq, _hash[j])\n",
    "            current += 1\n",
    "        longest = max(longest, (i-current+1))\n",
    "        i += 1\n",
    "    return longest\n",
    "\n",
    "s = 'AABABBA'\n",
    "k = 2\n",
    "s = \"ABAB\" \n",
    "k = 2\n",
    "characterReplacement(s, k)"
   ]
  },
  {
   "cell_type": "code",
   "execution_count": 43,
   "id": "92e40d41-97a8-4627-b0c4-e309bafcec07",
   "metadata": {},
   "outputs": [
    {
     "data": {
      "text/plain": [
       "4"
      ]
     },
     "execution_count": 43,
     "metadata": {},
     "output_type": "execute_result"
    }
   ],
   "source": [
    "def characterReplacement(s, k):\n",
    "    n = len(s)\n",
    "    longest = 0\n",
    "    maxFreq = 0\n",
    "    _hash = {}\n",
    "    current = 0\n",
    "    i = 0\n",
    "    while i < n:\n",
    "        if s[i] in _hash:\n",
    "            _hash[s[i]] += 1\n",
    "        else:\n",
    "            _hash[s[i]] = 1\n",
    "        maxFreq = max(maxFreq, _hash[s[i]])\n",
    "\n",
    "        if i-current+1-maxFreq > k:\n",
    "            _hash[s[current]] -= 1\n",
    "            current += 1\n",
    "        else:\n",
    "            longest = max(longest, (i-current+1))\n",
    "        i += 1\n",
    "    return longest\n",
    "\n",
    "s = 'AABABBA'\n",
    "k = 2\n",
    "s = \"ABAB\" \n",
    "k = 2\n",
    "characterReplacement(s, k)"
   ]
  },
  {
   "cell_type": "code",
   "execution_count": null,
   "id": "88edd8d0-1b85-4762-85df-23950474ddc3",
   "metadata": {},
   "outputs": [],
   "source": []
  },
  {
   "cell_type": "markdown",
   "id": "b18490f7-dd0c-4224-b798-bf2580b16de7",
   "metadata": {},
   "source": [
    "# Binary subarray with sum"
   ]
  },
  {
   "cell_type": "code",
   "execution_count": 20,
   "id": "5217c113-e9a5-45f0-8d7b-3a608386ef37",
   "metadata": {},
   "outputs": [
    {
     "data": {
      "text/plain": [
       "15"
      ]
     },
     "execution_count": 20,
     "metadata": {},
     "output_type": "execute_result"
    }
   ],
   "source": [
    "# Brute Force Approach\n",
    "# Time Complexity : O(NxN)\n",
    "# Space Complexity : O(1)\n",
    "\n",
    "def numSubarraysWithSum(nums, goal):\n",
    "    n = len(nums)\n",
    "    count = 0\n",
    "\n",
    "    for i in range(n):\n",
    "        sum = 0\n",
    "        for j in range(i, n):\n",
    "            sum += nums[j]\n",
    "            if sum == goal:\n",
    "                count += 1\n",
    "            if sum > goal:\n",
    "                break\n",
    "    return count\n",
    "                \n",
    "\n",
    "nums = [1, 0, 1, 0, 1]\n",
    "goal = 2\n",
    "nums = [0,0,0,0,0]\n",
    "goal = 0\n",
    "numSubarraysWithSum(nums, goal)"
   ]
  },
  {
   "cell_type": "code",
   "execution_count": 24,
   "id": "a40fcd27-6fed-45c7-b96f-50ffb5da7ce3",
   "metadata": {},
   "outputs": [
    {
     "data": {
      "text/plain": [
       "4"
      ]
     },
     "execution_count": 24,
     "metadata": {},
     "output_type": "execute_result"
    }
   ],
   "source": [
    "# Optimal Approach : Using Prefix Sum\n",
    "# Time Complexity : O(N)\n",
    "# Space Complexity : O(N)\n",
    "\n",
    "def numSubarraysWithSum(nums, goal):\n",
    "    n = len(nums)\n",
    "    count = 0\n",
    "    _hash = {}\n",
    "    _hash[0] = 1\n",
    "    sum = 0\n",
    "    \n",
    "    for i in range(n):  \n",
    "        sum += nums[i]\n",
    "\n",
    "        if (sum-goal) in _hash:\n",
    "            count += _hash[sum-goal]\n",
    "        if sum in _hash:\n",
    "            _hash[sum] += 1\n",
    "        else:\n",
    "            _hash[sum] = 1\n",
    "\n",
    "    return count\n",
    "                \n",
    "\n",
    "nums = [1, 0, 1, 0, 1]\n",
    "goal = 2\n",
    "# nums = [0,0,0,0,0]\n",
    "# goal = 0\n",
    "numSubarraysWithSum(nums, goal)"
   ]
  },
  {
   "cell_type": "code",
   "execution_count": 42,
   "id": "bf4937c3-6005-445b-b53a-97b440555cd5",
   "metadata": {},
   "outputs": [
    {
     "data": {
      "text/plain": [
       "15"
      ]
     },
     "execution_count": 42,
     "metadata": {},
     "output_type": "execute_result"
    }
   ],
   "source": [
    "# Optimal Approach : \n",
    "# Time Complexity : O(2N)\n",
    "# Space Complexity : O(1)\n",
    "\n",
    "def countLessEqual(nums, goal):\n",
    "    if goal < 0:\n",
    "        return 0\n",
    "    n = len(nums)\n",
    "    count = 0\n",
    "    sum = 0\n",
    "    current = 0\n",
    "    i = 0\n",
    "    while i < n:\n",
    "        sum += nums[i]\n",
    "        while sum > goal:\n",
    "            sum -= nums[current]\n",
    "            current += 1\n",
    "        if sum <= goal:\n",
    "            count += (i-current+1)\n",
    "        i += 1\n",
    "    return count\n",
    "\n",
    "def numSubarraysWithSum(nums, goal):\n",
    "    n = len(nums)\n",
    "    le = countLessEqual(nums, goal)\n",
    "    l = countLessEqual(nums, goal-1)\n",
    "    return le-l\n",
    "                \n",
    "\n",
    "nums = [1, 0, 1, 0, 1]\n",
    "goal = 2\n",
    "nums = [0,0,0,0,0]\n",
    "goal = 0\n",
    "# nums = [1, 0, 0, 1, 1, 0]\n",
    "# goal = 2\n",
    "numSubarraysWithSum(nums, goal)"
   ]
  },
  {
   "cell_type": "code",
   "execution_count": null,
   "id": "8fbd40d8-4ea1-4966-81c9-a4801fdbaa38",
   "metadata": {},
   "outputs": [],
   "source": []
  },
  {
   "cell_type": "markdown",
   "id": "8a45dcb6-768f-46e3-b49a-0c4f19646094",
   "metadata": {},
   "source": [
    "# Count Number of Nice Subarrays"
   ]
  },
  {
   "cell_type": "code",
   "execution_count": 9,
   "id": "80a89c64-9ea9-4a66-b036-be76570bc6ab",
   "metadata": {},
   "outputs": [
    {
     "data": {
      "text/plain": [
       "2"
      ]
     },
     "execution_count": 9,
     "metadata": {},
     "output_type": "execute_result"
    }
   ],
   "source": [
    "\n",
    "def countLessEqual(nums, k):\n",
    "    if k < 0:\n",
    "        return 0\n",
    "    n = len(nums)\n",
    "    count = 0\n",
    "    current = 0\n",
    "    odds = 0\n",
    "    i = 0\n",
    "    while i < n:\n",
    "        if nums[i]%2 != 0:\n",
    "            odds += 1\n",
    "        while odds > k:\n",
    "            if nums[current]%2 != 0:\n",
    "                odds -= 1\n",
    "            current += 1\n",
    "        count += (i-current+1)\n",
    "        i += 1\n",
    "    return count\n",
    "\n",
    "def numberOfSubarrays(nums, k):\n",
    "    return countLessEqual(nums, k) - countLessEqual(nums, k-1)\n",
    "\n",
    "\n",
    "nums = [1,1,2,1,1]\n",
    "k = 3\n",
    "# nums = [2,2,2,1,2,2,1,2,2,2]\n",
    "# k = 2\n",
    "numberOfSubarrays(nums, k)"
   ]
  },
  {
   "cell_type": "code",
   "execution_count": null,
   "id": "74aaffc8-f127-4b1e-bac3-55705c3e7684",
   "metadata": {},
   "outputs": [],
   "source": []
  },
  {
   "cell_type": "markdown",
   "id": "81428610-802a-484a-aa0a-7e6c67355368",
   "metadata": {},
   "source": [
    "# Number of substrings containing all 3 characters"
   ]
  },
  {
   "cell_type": "code",
   "execution_count": 31,
   "id": "2ad1e1bc-830f-45b3-a31e-668eb861181f",
   "metadata": {},
   "outputs": [
    {
     "data": {
      "text/plain": [
       "10"
      ]
     },
     "execution_count": 31,
     "metadata": {},
     "output_type": "execute_result"
    }
   ],
   "source": [
    "# Brute Force Approach\n",
    "# Time Complexity : O(NxN)\n",
    "# Space Complexity : O(1)\n",
    "\n",
    "def numberOfSubstring(s):\n",
    "    n = len(s)\n",
    "    count = 0\n",
    "    for i in range(n):\n",
    "        d = {}\n",
    "        for j in range(i, n):\n",
    "            if s[j] in d:\n",
    "                d[s[j]] += 1\n",
    "            else:\n",
    "                d[s[j]] = 1\n",
    "            \n",
    "            if len(d) == 3 :\n",
    "                count += n-j\n",
    "                break\n",
    "    return count\n",
    "\n",
    "s = 'abcabc'\n",
    "# s = \"aaacb\"\n",
    "numberOfSubstring(s)"
   ]
  },
  {
   "cell_type": "code",
   "execution_count": 27,
   "id": "2e8b1a30-a4dd-4a9d-bc71-7b2279d192b0",
   "metadata": {},
   "outputs": [
    {
     "data": {
      "text/plain": [
       "10"
      ]
     },
     "execution_count": 27,
     "metadata": {},
     "output_type": "execute_result"
    }
   ],
   "source": [
    "# Optimal Approach : \n",
    "# Time Complexity : O(2N)\n",
    "# Space Complexity : O(1)\n",
    "\n",
    "def numberOfSubstring(s):\n",
    "    n = len(s)\n",
    "    d = {}\n",
    "    count = 0\n",
    "    current = 0\n",
    "    i = 0\n",
    "    while i < n:\n",
    "        if s[i] in d:\n",
    "            d[s[i]] += 1\n",
    "        else:\n",
    "            d[s[i]] = 1\n",
    "        while len(d) == 3 and d['a'] > 0 and d['b'] > 0 and d['c'] > 0:\n",
    "            count += n-i\n",
    "            d[s[current]] -= 1\n",
    "            current += 1\n",
    "        i += 1\n",
    "    return count\n",
    "    \n",
    "s = 'abcabc'\n",
    "# s = \"aaacb\"\n",
    "numberOfSubstring(s)"
   ]
  },
  {
   "cell_type": "code",
   "execution_count": null,
   "id": "73ce08b8-34e2-450a-a3b1-73eae34f62df",
   "metadata": {},
   "outputs": [],
   "source": []
  },
  {
   "cell_type": "markdown",
   "id": "2d0d0cb4-7a6d-4a05-a0ad-490e7ca0043b",
   "metadata": {},
   "source": [
    "# Max point we can obtain from cards"
   ]
  },
  {
   "cell_type": "code",
   "execution_count": 13,
   "id": "2fdc112b-8e59-4101-8a3d-65fceffdbd68",
   "metadata": {},
   "outputs": [
    {
     "data": {
      "text/plain": [
       "12"
      ]
     },
     "execution_count": 13,
     "metadata": {},
     "output_type": "execute_result"
    }
   ],
   "source": [
    "# Brute Force Approach\n",
    "# Time Complexity : O(NxN)\n",
    "# Space Complexity : O(1)\n",
    "\n",
    "def maxScore(cardPoints, k):\n",
    "    n = len(cardPoints)\n",
    "    totalSum = sum(cardPoints)\n",
    "    _min = 999999\n",
    "    for i in range(0, k+1):\n",
    "        _sum = 0\n",
    "        for j in range(i, n-k+i):\n",
    "            _sum += cardPoints[j]\n",
    "        _min =  min(_min, _sum)\n",
    "    return totalSum - _min\n",
    "\n",
    "cardPoints = [1,2,3,4,5,6,1]\n",
    "k = 3\n",
    "maxScore(cardPoints, k)\n"
   ]
  },
  {
   "cell_type": "code",
   "execution_count": 29,
   "id": "b45fc490-4f1d-4a10-bdf1-5beaeb2c94dc",
   "metadata": {},
   "outputs": [
    {
     "data": {
      "text/plain": [
       "12"
      ]
     },
     "execution_count": 29,
     "metadata": {},
     "output_type": "execute_result"
    }
   ],
   "source": [
    "# Optimal Approach : \n",
    "# Time Complexity : O(N)\n",
    "# Space Complexity : O(1)\n",
    "\n",
    "def maxScore(cardPoints, k):\n",
    "    n = len(cardPoints)\n",
    "    totalSum = sum(cardPoints)\n",
    "    _min = totalSum\n",
    "    _sum = 0\n",
    "    i = 0\n",
    "    while i < n:\n",
    "        if i >= n-k:\n",
    "            _sum -= cardPoints[i+k-n] \n",
    "        _sum += cardPoints[i]\n",
    "        if i >= n-k-1:\n",
    "            _min = min(_min, _sum)\n",
    "        i += 1\n",
    "    return sum(cardPoints)-_min\n",
    "\n",
    "cardPoints = [1,2,3,4,5,6,1]\n",
    "k = 3\n",
    "maxScore(cardPoints, k)\n"
   ]
  },
  {
   "cell_type": "code",
   "execution_count": 3,
   "id": "0da3cf83-2676-4276-aec7-a34053ddd35c",
   "metadata": {},
   "outputs": [
    {
     "data": {
      "text/plain": [
       "12"
      ]
     },
     "execution_count": 3,
     "metadata": {},
     "output_type": "execute_result"
    }
   ],
   "source": [
    "# Optimal Approach : \n",
    "# Time Complexity : O(2k)\n",
    "# Space Complexity : O(1)\n",
    "\n",
    "def maxScore(cardPoints, k):\n",
    "    n = len(cardPoints)\n",
    "\n",
    "    _max = 0\n",
    "    sum = 0\n",
    "    for i in range(0, k):\n",
    "        sum += cardPoints[i]\n",
    "    _max = max(_max, sum)\n",
    "\n",
    "    for i in range(k-1, -1, -1):\n",
    "        sum = sum - cardPoints[i] + cardPoints[n-1-(k-1-i)]\n",
    "        _max = max(_max, sum)\n",
    "        \n",
    "    return _max\n",
    "\n",
    "cardPoints = [1,2,3,4,5,6,1]\n",
    "k = 3\n",
    "maxScore(cardPoints, k)"
   ]
  },
  {
   "cell_type": "code",
   "execution_count": null,
   "id": "c8e0eaf7-f83a-410e-98cd-cc1ebb6ed7e2",
   "metadata": {},
   "outputs": [],
   "source": []
  }
 ],
 "metadata": {
  "kernelspec": {
   "display_name": "Python 3 (ipykernel)",
   "language": "python",
   "name": "python3"
  },
  "language_info": {
   "codemirror_mode": {
    "name": "ipython",
    "version": 3
   },
   "file_extension": ".py",
   "mimetype": "text/x-python",
   "name": "python",
   "nbconvert_exporter": "python",
   "pygments_lexer": "ipython3",
   "version": "3.12.7"
  }
 },
 "nbformat": 4,
 "nbformat_minor": 5
}
