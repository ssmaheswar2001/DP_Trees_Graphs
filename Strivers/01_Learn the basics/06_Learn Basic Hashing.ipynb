{
 "cells": [
  {
   "cell_type": "markdown",
   "id": "3ea0a446",
   "metadata": {},
   "source": [
    "## Hashing\n",
    "- Division Method, Collision effect"
   ]
  },
  {
   "cell_type": "code",
   "execution_count": 8,
   "id": "982451e8",
   "metadata": {},
   "outputs": [
    {
     "data": {
      "text/plain": [
       "[0, 2, 2, 0, 1]"
      ]
     },
     "execution_count": 8,
     "metadata": {},
     "output_type": "execute_result"
    }
   ],
   "source": [
    "# Frequencies of Limited Range Array Elements\n",
    "# https://www.geeksforgeeks.org/problems/frequency-of-array-elements-1587115620/0\n",
    "\n",
    "def frequencyCount(arr, N, P):\n",
    "        \n",
    "    res = {i:0 for i in range(1, N+1)}\n",
    "        \n",
    "    for i in arr:\n",
    "        if i in res:\n",
    "            res[i] += 1\n",
    "        \n",
    "    for i in range(N):\n",
    "        arr[i] = res[i+1]\n",
    "    return arr\n",
    "\n",
    "N = 5\n",
    "arr = [2, 3, 2, 3, 5]\n",
    "P = 5\n",
    "frequencyCount(arr, N, P)"
   ]
  },
  {
   "cell_type": "code",
   "execution_count": null,
   "id": "93574777",
   "metadata": {},
   "outputs": [],
   "source": []
  },
  {
   "cell_type": "code",
   "execution_count": null,
   "id": "0df4889b",
   "metadata": {},
   "outputs": [],
   "source": []
  },
  {
   "cell_type": "code",
   "execution_count": null,
   "id": "5df29811",
   "metadata": {},
   "outputs": [],
   "source": []
  }
 ],
 "metadata": {
  "kernelspec": {
   "display_name": "Python 3 (ipykernel)",
   "language": "python",
   "name": "python3"
  },
  "language_info": {
   "codemirror_mode": {
    "name": "ipython",
    "version": 3
   },
   "file_extension": ".py",
   "mimetype": "text/x-python",
   "name": "python",
   "nbconvert_exporter": "python",
   "pygments_lexer": "ipython3",
   "version": "3.11.5"
  }
 },
 "nbformat": 4,
 "nbformat_minor": 5
}
