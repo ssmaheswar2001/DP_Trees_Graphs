{
 "cells": [
  {
   "cell_type": "markdown",
   "id": "2574ec05",
   "metadata": {},
   "source": [
    "### Recursion\n",
    "- When a function calls itself until a specified condition is met."
   ]
  },
  {
   "cell_type": "code",
   "execution_count": 2,
   "id": "e217c110",
   "metadata": {},
   "outputs": [
    {
     "name": "stdout",
     "output_type": "stream",
     "text": [
      "1 2 3 4 5 6 7 8 9 10 "
     ]
    }
   ],
   "source": [
    "# Print 1 To N Without Loop\n",
    "# https://www.geeksforgeeks.org/problems/print-1-to-n-without-using-loops-1587115620/1?utm_source=youtube&utm_medium=collab_striver_ytdescription&utm_campaign=print-1-to-n-without-using-loops\n",
    "'''\n",
    "Print numbers from 1 to N without the help of loops.\n",
    "'''\n",
    "\n",
    "def printN(N):\n",
    "    if N == 0:\n",
    "        return\n",
    "    printN(N-1)\n",
    "    print(N, end=\" \")\n",
    "    \n",
    "printN(10)"
   ]
  },
  {
   "cell_type": "code",
   "execution_count": 10,
   "id": "55a93dff",
   "metadata": {},
   "outputs": [
    {
     "name": "stdout",
     "output_type": "stream",
     "text": [
      "1 2 3 4 5 6 7 8 9 10 "
     ]
    }
   ],
   "source": [
    "def printN(N, count):\n",
    "    if count>N:\n",
    "        return\n",
    "    \n",
    "    print(count, end=\" \")\n",
    "    printN(N, count+1)\n",
    "    \n",
    "count = 1\n",
    "N = 10\n",
    "printN(N, count)"
   ]
  },
  {
   "cell_type": "code",
   "execution_count": null,
   "id": "ea59b80f",
   "metadata": {},
   "outputs": [],
   "source": []
  },
  {
   "cell_type": "code",
   "execution_count": 11,
   "id": "5d98901d",
   "metadata": {},
   "outputs": [
    {
     "name": "stdout",
     "output_type": "stream",
     "text": [
      "GFG GFG GFG GFG GFG "
     ]
    }
   ],
   "source": [
    "# Print Name N tines using recursion\n",
    "# https://www.geeksforgeeks.org/problems/print-gfg-n-times/1?utm_source=youtube&utm_medium=collab_striver_ytdescription&utm_campaign=print-gfg-n-times\n",
    "'''\n",
    "Print GFG n times without the loop.\n",
    "'''\n",
    "\n",
    "def printGfg(n):\n",
    "    if n == 0:\n",
    "        return\n",
    "    print(\"GFG\",end=\" \")\n",
    "    printGfg(n-1)\n",
    "    \n",
    "printGfg(5)"
   ]
  },
  {
   "cell_type": "code",
   "execution_count": null,
   "id": "107adb8c",
   "metadata": {},
   "outputs": [],
   "source": []
  },
  {
   "cell_type": "code",
   "execution_count": 4,
   "id": "49f3f1e3",
   "metadata": {},
   "outputs": [
    {
     "name": "stdout",
     "output_type": "stream",
     "text": [
      "10 9 8 7 6 5 4 3 2 1 "
     ]
    }
   ],
   "source": [
    "# Print N to 1 using recursion \n",
    "# https://www.geeksforgeeks.org/problems/print-n-to-1-without-loop/1?utm_source=youtube&utm_medium=collab_striver_ytdescription&utm_campaign=print-n-to-1-without-loop\n",
    "'''\n",
    "Print numbers from N to 1 (space separated) without the help of loops.\n",
    "'''\n",
    "\n",
    "def printNos(n):\n",
    "    if n < 1:\n",
    "        return\n",
    "    print(n, end=\" \")\n",
    "    printNos(n-1)\n",
    "    \n",
    "printNos(10)"
   ]
  },
  {
   "cell_type": "code",
   "execution_count": null,
   "id": "01421541",
   "metadata": {},
   "outputs": [],
   "source": []
  },
  {
   "cell_type": "code",
   "execution_count": 15,
   "id": "1f7df099",
   "metadata": {},
   "outputs": [
    {
     "data": {
      "text/plain": [
       "225"
      ]
     },
     "execution_count": 15,
     "metadata": {},
     "output_type": "execute_result"
    }
   ],
   "source": [
    "# Sum of first n terms\n",
    "# https://www.geeksforgeeks.org/problems/sum-of-first-n-terms5843/1\n",
    "'''\n",
    "Given an integer n, calculate the sum of series 1^3 + 2^3 + 3^3 + 4^3 + … till n-th term.\n",
    "'''\n",
    "def sumOfSeries(n):\n",
    "    if n == 1:\n",
    "        return 1\n",
    "    return n**3 + sumOfSeries(n-1)\n",
    "\n",
    "sumOfSeries(5)"
   ]
  },
  {
   "cell_type": "code",
   "execution_count": 17,
   "id": "dc622697",
   "metadata": {},
   "outputs": [
    {
     "data": {
      "text/plain": [
       "225"
      ]
     },
     "execution_count": 17,
     "metadata": {},
     "output_type": "execute_result"
    }
   ],
   "source": [
    "def sumOfSeries(n, cubeSum ):\n",
    "    if n<1:\n",
    "        return cubeSum\n",
    "    return sumOfSeries(n-1, cubeSum+n**3)\n",
    "\n",
    "sumOfSeries(5, 0)"
   ]
  },
  {
   "cell_type": "code",
   "execution_count": null,
   "id": "7b000373",
   "metadata": {},
   "outputs": [],
   "source": []
  },
  {
   "cell_type": "code",
   "execution_count": 29,
   "id": "83be5917",
   "metadata": {},
   "outputs": [
    {
     "name": "stdout",
     "output_type": "stream",
     "text": [
      "1 2 6 "
     ]
    }
   ],
   "source": [
    "# Find all factorial numbers less than or equal to N\n",
    "# https://www.geeksforgeeks.org/problems/find-all-factorial-numbers-less-than-or-equal-to-n3548/0?problemType=functional&difficulty%255B%255D=-1&page=1&query=problemTypefunctionaldifficulty%255B%255D-1page1\n",
    "'''\n",
    "A number N is called a factorial number if it is the factorial of a positive integer.\n",
    "'''\n",
    "def factorialNumbers(N, fact, i):\n",
    "    while fact > N:\n",
    "        return\n",
    "    print(fact,end=\" \")\n",
    "    i += 1\n",
    "    factorialNumbers(N, fact*i, i)\n",
    "\n",
    "factorialNumbers(6, 1, 1)"
   ]
  },
  {
   "cell_type": "code",
   "execution_count": 26,
   "id": "a31629f1",
   "metadata": {},
   "outputs": [
    {
     "name": "stdout",
     "output_type": "stream",
     "text": [
      "1 2 6 24 "
     ]
    }
   ],
   "source": [
    "def factorial(N):\n",
    "    fact = 1\n",
    "    i = 1\n",
    "    while fact <= N:\n",
    "        print(fact,end=\" \")\n",
    "        i += 1\n",
    "        fact = fact*i\n",
    "        \n",
    "factorial(54)"
   ]
  },
  {
   "cell_type": "code",
   "execution_count": null,
   "id": "2c038aca",
   "metadata": {},
   "outputs": [],
   "source": []
  },
  {
   "cell_type": "code",
   "execution_count": 35,
   "id": "12154520",
   "metadata": {},
   "outputs": [
    {
     "data": {
      "text/plain": [
       "[5, 4, 3, 2, 1]"
      ]
     },
     "execution_count": 35,
     "metadata": {},
     "output_type": "execute_result"
    }
   ],
   "source": [
    "# Reverse an Array\n",
    "\n",
    "def reverseArray(arr, start, end):\n",
    "    if start > end:\n",
    "        return\n",
    "    arr[start], arr[end] = arr[end], arr[start]\n",
    "    reverseArray(arr, start+1, end-1)\n",
    "    \n",
    "arr = [1, 2, 3, 4, 5]\n",
    "reverseArray(arr, 0, len(arr)-1)\n",
    "arr"
   ]
  },
  {
   "cell_type": "code",
   "execution_count": 39,
   "id": "48258a76",
   "metadata": {},
   "outputs": [
    {
     "data": {
      "text/plain": [
       "[5, 4, 3, 2, 1]"
      ]
     },
     "execution_count": 39,
     "metadata": {},
     "output_type": "execute_result"
    }
   ],
   "source": [
    "def reverseArray(arr, start):\n",
    "#     if start >= len(arr)-1-start:\n",
    "#         return\n",
    "    if start >= len(arr)/2:\n",
    "        return\n",
    "    arr[start], arr[len(arr)-1-start] = arr[len(arr)-1-start], arr[start]\n",
    "    reverseArray(arr, start+1)\n",
    "    \n",
    "arr = [1, 2, 3, 4, 5]\n",
    "reverseArray(arr, 0)\n",
    "arr"
   ]
  },
  {
   "cell_type": "code",
   "execution_count": null,
   "id": "bb699af3",
   "metadata": {},
   "outputs": [],
   "source": []
  },
  {
   "cell_type": "code",
   "execution_count": 39,
   "id": "cc6cd7cd",
   "metadata": {},
   "outputs": [
    {
     "data": {
      "text/plain": [
       "False"
      ]
     },
     "execution_count": 39,
     "metadata": {},
     "output_type": "execute_result"
    }
   ],
   "source": [
    "# Check if a string is Palimdrome or not\n",
    "# https://leetcode.com/problems/valid-palindrome/description/\n",
    "\n",
    "def isPalindrome(s, start, end):\n",
    "    if end <= start:\n",
    "        return True\n",
    "    if s[start].isalnum() != True:\n",
    "        isPalindrome(s, start+1, end)\n",
    "    elif s[end].isalnum() != True:\n",
    "        isPalindrome(s, start, end-1)\n",
    "    elif s[start].lower() != s[end].lower():\n",
    "        return False\n",
    "    return isPalindrome(s, start+1, end-1)\n",
    "    \n",
    "s = 'A man, a plan, a canal: Panama'\n",
    "# s = 'race a car'\n",
    "isPalindrome(s, 0, len(s)-1)"
   ]
  },
  {
   "cell_type": "code",
   "execution_count": null,
   "id": "3f36c400",
   "metadata": {},
   "outputs": [],
   "source": []
  },
  {
   "cell_type": "code",
   "execution_count": 45,
   "id": "b343eaea",
   "metadata": {},
   "outputs": [
    {
     "data": {
      "text/plain": [
       "5"
      ]
     },
     "execution_count": 45,
     "metadata": {},
     "output_type": "execute_result"
    }
   ],
   "source": [
    "# Fibonacci Number\n",
    "# https://leetcode.com/problems/fibonacci-number/description/\n",
    "\n",
    "def fib(n):\n",
    "    if n == 0 or n == 1:\n",
    "        return n\n",
    "    if dp[n] != -1:\n",
    "        return dp[n]\n",
    "    dp[n] = fib(n-1) + fib(n-2)\n",
    "    return dp[n]\n",
    "\n",
    "n = 5\n",
    "dp = [-1 for i in range(n+1)]\n",
    "fib(n)"
   ]
  },
  {
   "cell_type": "code",
   "execution_count": null,
   "id": "777c2a66",
   "metadata": {},
   "outputs": [],
   "source": []
  },
  {
   "cell_type": "code",
   "execution_count": null,
   "id": "5465b8e4",
   "metadata": {},
   "outputs": [],
   "source": []
  }
 ],
 "metadata": {
  "kernelspec": {
   "display_name": "Python 3 (ipykernel)",
   "language": "python",
   "name": "python3"
  },
  "language_info": {
   "codemirror_mode": {
    "name": "ipython",
    "version": 3
   },
   "file_extension": ".py",
   "mimetype": "text/x-python",
   "name": "python",
   "nbconvert_exporter": "python",
   "pygments_lexer": "ipython3",
   "version": "3.11.5"
  }
 },
 "nbformat": 4,
 "nbformat_minor": 5
}
