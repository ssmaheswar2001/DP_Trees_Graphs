{
 "cells": [
  {
   "cell_type": "code",
   "execution_count": 2,
   "id": "8826fa49",
   "metadata": {},
   "outputs": [
    {
     "data": {
      "text/plain": [
       "3"
      ]
     },
     "execution_count": 2,
     "metadata": {},
     "output_type": "execute_result"
    }
   ],
   "source": [
    "# Count Digits\n",
    "# https://www.geeksforgeeks.org/problems/count-digits5716/1\n",
    "'''\n",
    "Given a number N. Count the number of digits in N which evenly divide N.\n",
    "Note :- Evenly divides means whether N is divisible by a digit i.e. leaves a remainder 0 when divided.\n",
    "'''\n",
    "\n",
    "def evenlyDivides(N):\n",
    "    res = 0\n",
    "    temp = N\n",
    "    while temp > 0:\n",
    "        rem = temp%10\n",
    "        temp = temp//10\n",
    "        if rem == 0:\n",
    "            continue\n",
    "        if (N%rem) == 0:\n",
    "            res += 1\n",
    "            \n",
    "    return res\n",
    "\n",
    "evenlyDivides(22704)"
   ]
  },
  {
   "cell_type": "code",
   "execution_count": null,
   "id": "c78717e8",
   "metadata": {},
   "outputs": [],
   "source": []
  },
  {
   "cell_type": "code",
   "execution_count": 9,
   "id": "384cf71c",
   "metadata": {},
   "outputs": [
    {
     "data": {
      "text/plain": [
       "-321"
      ]
     },
     "execution_count": 9,
     "metadata": {},
     "output_type": "execute_result"
    }
   ],
   "source": [
    "# Reverse Integer\n",
    "# https://leetcode.com/problems/reverse-integer/\n",
    "'''\n",
    "Given a signed 32-bit integer x, return x with its digits reversed. If reversing x causes \n",
    "the value to go outside the signed 32-bit integer range [-231, 231 - 1], then return 0.\n",
    "\n",
    "Assume the environment does not allow you to store 64-bit integers (signed or unsigned).\n",
    "'''\n",
    "\n",
    "def reverse(x: int) -> int:\n",
    "        \n",
    "    rev = 0\n",
    "    sign = 1\n",
    "    if x < 0:\n",
    "        sign = -1\n",
    "        x = -1*x\n",
    "\n",
    "    high = 2**31 - 1\n",
    "    low = -2**31\n",
    "    while x>0:\n",
    "        rem = x%10\n",
    "        if (sign*((rev*10) + rem) < low) or (sign*((rev*10) + rem) > high):\n",
    "            return 0\n",
    "        rev = (rev*10) + rem\n",
    "        x = x//10\n",
    "\n",
    "    return sign*rev\n",
    "\n",
    "reverse(-123)"
   ]
  },
  {
   "cell_type": "code",
   "execution_count": null,
   "id": "2b04e398",
   "metadata": {},
   "outputs": [],
   "source": []
  },
  {
   "cell_type": "code",
   "execution_count": 11,
   "id": "ca794b66",
   "metadata": {},
   "outputs": [
    {
     "data": {
      "text/plain": [
       "False"
      ]
     },
     "execution_count": 11,
     "metadata": {},
     "output_type": "execute_result"
    }
   ],
   "source": [
    "# Check Palindorme\n",
    "# https://leetcode.com/problems/palindrome-number/\n",
    "'''\n",
    "Given an integer x, return true if x is a \n",
    "palindrome, and false otherwise.\n",
    "'''\n",
    "\n",
    "def isPalindrome(x: int) -> bool:\n",
    "    if x < 0:\n",
    "        return False\n",
    "\n",
    "    temp = x\n",
    "    rev = 0\n",
    "    while x > 0:\n",
    "        rem = x%10\n",
    "        rev = rev*10 + rem\n",
    "        x = x//10\n",
    "\n",
    "    return (temp == rev)\n",
    "\n",
    "isPalindrome(121)\n",
    "isPalindrome(-121)"
   ]
  },
  {
   "cell_type": "code",
   "execution_count": null,
   "id": "29b4e67a",
   "metadata": {},
   "outputs": [],
   "source": []
  },
  {
   "cell_type": "code",
   "execution_count": 45,
   "id": "0d26a2cb",
   "metadata": {},
   "outputs": [
    {
     "name": "stdout",
     "output_type": "stream",
     "text": [
      "5\n",
      "5\n",
      "5\n",
      "(10, 5)\n"
     ]
    }
   ],
   "source": [
    "# LCM And GCD\n",
    "# https://www.geeksforgeeks.org/problems/lcm-and-gcd4516/1\n",
    "'''\n",
    "Given two numbers A and B. The task is to find out their LCM and GCD.\n",
    "'''\n",
    "\n",
    "def GCD(A,B):\n",
    "    _min = min(A,B)\n",
    "    res = 1\n",
    "    for i in range(1, _min+1):\n",
    "        if A%i == 0 and B%i == 0:\n",
    "            res = i\n",
    "        \n",
    "    return res\n",
    "\n",
    "def euclidenGCD(A, B):\n",
    "    if A == 0:\n",
    "        return B\n",
    "    if B == 0:\n",
    "        return A\n",
    "    \n",
    "    if A > B:\n",
    "        return euclidenGCD(A-B, B)\n",
    "    return euclidenGCD(A, B-A)\n",
    "\n",
    "def euclidenLoopGCD(A, B):\n",
    "    \n",
    "    while (A > 0 and B>0):\n",
    "        if (A > B):\n",
    "            A = A%B\n",
    "        else:\n",
    "            B = B%A\n",
    "        if A == 0:\n",
    "            return B\n",
    "        if B == 0:\n",
    "            return A\n",
    "\n",
    "def lcmAndGcd( A , B):\n",
    "    # code here\n",
    "    \n",
    "    def GCD(A, B):\n",
    "        if B == 0:\n",
    "            return A\n",
    "        return GCD(B, A%B)\n",
    "        \n",
    "    g = GCD(A,B)\n",
    "    l = (A*B)//g\n",
    "    return l, g\n",
    "\n",
    "print(GCD(5, 10))\n",
    "print(euclidenGCD(5, 10))\n",
    "print(euclidenLoopGCD(5, 10))\n",
    "print(lcmAndGcd(5, 10))"
   ]
  },
  {
   "cell_type": "code",
   "execution_count": null,
   "id": "255e6d1e",
   "metadata": {},
   "outputs": [],
   "source": []
  },
  {
   "cell_type": "code",
   "execution_count": 19,
   "id": "9a2dd5f8",
   "metadata": {},
   "outputs": [
    {
     "data": {
      "text/plain": [
       "True"
      ]
     },
     "execution_count": 19,
     "metadata": {},
     "output_type": "execute_result"
    }
   ],
   "source": [
    "# Armstrong Numbers\n",
    "'''\n",
    "https://takeuforward.org/maths/check-if-a-number-is-armstrong-number-or-not/\n",
    "'''\n",
    "\n",
    "def armStrongNumber(n):\n",
    "    \n",
    "    temp = n\n",
    "    arm = 0\n",
    "    while n>0:\n",
    "        rem = n%10\n",
    "        arm += (rem**3)\n",
    "        n = n//10\n",
    "    return arm == temp\n",
    "\n",
    "armStrongNumber(371)"
   ]
  },
  {
   "cell_type": "code",
   "execution_count": null,
   "id": "81e2ca01",
   "metadata": {},
   "outputs": [],
   "source": []
  },
  {
   "cell_type": "code",
   "execution_count": 36,
   "id": "f309448b",
   "metadata": {},
   "outputs": [
    {
     "name": "stdout",
     "output_type": "stream",
     "text": [
      "21\n",
      "21\n",
      "21\n"
     ]
    }
   ],
   "source": [
    "# Print all Divisors\n",
    "# Sum of all divisors from 1 to n\n",
    "# https://www.geeksforgeeks.org/problems/sum-of-all-divisors-from-1-to-n4738/1\n",
    "\n",
    "'''\n",
    "Given a positive integer N., The task is to find the value of Σi from 1 to N \n",
    "F(i) where function F(i) for the number i is defined as the sum of all divisors of i.\n",
    "'''\n",
    "import math\n",
    "\n",
    "def bruteforceSumofDivisor(N):\n",
    "    sum = 0\n",
    "    for i in range(1, N+1):\n",
    "        for j in range(1, i+1):\n",
    "            if i%j == 0:\n",
    "                sum += j\n",
    "                \n",
    "    return sum\n",
    "\n",
    "def optimizedSumofDivisor(N):\n",
    "    sum = 0\n",
    "    for i in range(1, N+1):\n",
    "        for j in range(1, int(math.sqrt(i))+1):\n",
    "            if i%j == 0:\n",
    "                sum += j\n",
    "                if i/j != j:\n",
    "                    sum+= i//j\n",
    "    return sum\n",
    "\n",
    "def sumOfDivisors(N):\n",
    "    #code here \n",
    "    sum = 0\n",
    "    for i in range(1, N+1):\n",
    "        sum += (N//i) * i\n",
    "    \n",
    "    return sum\n",
    "\n",
    "\n",
    "print(bruteforceSumofDivisor(5))\n",
    "print(optimizedSumofDivisor(5))\n",
    "print(sumOfDivisors(5))"
   ]
  },
  {
   "cell_type": "code",
   "execution_count": null,
   "id": "2b156ecf",
   "metadata": {},
   "outputs": [],
   "source": []
  },
  {
   "cell_type": "code",
   "execution_count": 38,
   "id": "0beb158d",
   "metadata": {},
   "outputs": [
    {
     "name": "stdout",
     "output_type": "stream",
     "text": [
      "True\n"
     ]
    }
   ],
   "source": [
    "# Prime Number Check\n",
    "import math\n",
    "def bruteForceIsPrime(N):\n",
    "    if N == 1:\n",
    "        return True\n",
    "    for i in range(2, N):\n",
    "        if N%i == 0:\n",
    "            return False\n",
    "    return True        \n",
    "\n",
    "print(bruteForceIsPrime(7))"
   ]
  },
  {
   "cell_type": "code",
   "execution_count": null,
   "id": "df2fd0ff",
   "metadata": {},
   "outputs": [],
   "source": []
  },
  {
   "cell_type": "code",
   "execution_count": 24,
   "id": "cedf24a5",
   "metadata": {},
   "outputs": [
    {
     "name": "stdout",
     "output_type": "stream",
     "text": [
      "2\n",
      "2\n"
     ]
    }
   ],
   "source": [
    "import sys\n",
    "def brueForceMinJumps(start, end):\n",
    "    if start>=end:\n",
    "        return 0\n",
    "    \n",
    "    _min = sys.maxsize  \n",
    "    for i in range(1, arr[start]+1):\n",
    "        if i < end:\n",
    "            jumps = 1 + brueForceMinJumps(start+i, end)\n",
    "            _min = min(_min, jumps)\n",
    "    return _min\n",
    "\n",
    "def dpMinJumps(start, end):\n",
    "    if start >= end:\n",
    "        return 0\n",
    "    if dp[start] != -1:\n",
    "        return dp[start]\n",
    "    \n",
    "    _min = sys.maxsize\n",
    "    for i in range(1, arr[start]+1):\n",
    "        if i < end:\n",
    "            jumps = 1 + dpMinJumps(start+i, end)\n",
    "            _min = min(_min, jumps)\n",
    "    dp[start] = _min\n",
    "  \n",
    "    return dp[start]\n",
    "\n",
    "arr = [1, 3, 5, 8, 9, 2, 6, 7, 6, 8, 9]\n",
    "arr = [1, 4, 3, 2, 6, 7]\n",
    "dp = [-1 for i in range(len(arr))]\n",
    "print(brueForceMinJumps(0, len(arr)-1))\n",
    "print(dpMinJumps(0, len(arr)-1))"
   ]
  },
  {
   "cell_type": "code",
   "execution_count": null,
   "id": "ae2b8818",
   "metadata": {},
   "outputs": [],
   "source": []
  }
 ],
 "metadata": {
  "kernelspec": {
   "display_name": "Python 3 (ipykernel)",
   "language": "python",
   "name": "python3"
  },
  "language_info": {
   "codemirror_mode": {
    "name": "ipython",
    "version": 3
   },
   "file_extension": ".py",
   "mimetype": "text/x-python",
   "name": "python",
   "nbconvert_exporter": "python",
   "pygments_lexer": "ipython3",
   "version": "3.11.5"
  }
 },
 "nbformat": 4,
 "nbformat_minor": 5
}
