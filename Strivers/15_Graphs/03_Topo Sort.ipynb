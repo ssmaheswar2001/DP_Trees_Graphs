{
 "cells": [
  {
   "cell_type": "markdown",
   "id": "2f8d082f-0ad3-4ba4-9da5-0d9bedec1f86",
   "metadata": {},
   "source": [
    "# Topo Sort"
   ]
  },
  {
   "cell_type": "code",
   "execution_count": 8,
   "id": "f177ba27-2097-4108-a1c2-93efe8b53521",
   "metadata": {},
   "outputs": [
    {
     "data": {
      "text/plain": [
       "[1, 0, 2, 4, 3, 6, 7, 8, 5]"
      ]
     },
     "execution_count": 8,
     "metadata": {},
     "output_type": "execute_result"
    }
   ],
   "source": [
    "def dfsTraversal(adj, node, res, visited):\n",
    "    if visited[node] == 1:\n",
    "        return\n",
    "    visited[node] = 1\n",
    "        \n",
    "    for i in adj[node]:\n",
    "        dfsTraversal(adj, i, res, visited)\n",
    "    res.append(node)\n",
    "     \n",
    "\n",
    "def topologicalSort(adj):\n",
    "        \n",
    "    n = len(adj)\n",
    "    res = []\n",
    "    visited = [0 for i in range(n)]\n",
    "        \n",
    "    for i in range(n):\n",
    "        if visited[i] == 0:\n",
    "            dfsTraversal(adj, i, res, visited)\n",
    "    \n",
    "    return res[::-1]\n",
    "\n",
    "adj = [[2, 4], [0, 8], [4, 7, 8], [6, 7], [3], [], [7, 8, 5], [8, 5], [5]]\n",
    "topologicalSort(adj)"
   ]
  },
  {
   "cell_type": "code",
   "execution_count": null,
   "id": "f00f73aa-0b31-4e23-85cf-2f7146a921c1",
   "metadata": {},
   "outputs": [],
   "source": []
  },
  {
   "cell_type": "markdown",
   "id": "dc172de1-e88d-4aea-b8cd-b989035e608e",
   "metadata": {},
   "source": [
    "# Kahn's Algorithm"
   ]
  },
  {
   "cell_type": "code",
   "execution_count": 1,
   "id": "b6c0ee40-8015-4849-99dd-709c8294d397",
   "metadata": {},
   "outputs": [
    {
     "data": {
      "text/plain": [
       "[4, 5, 1, 0, 2, 3]"
      ]
     },
     "execution_count": 1,
     "metadata": {},
     "output_type": "execute_result"
    }
   ],
   "source": [
    "def topologicalSort(adj):\n",
    "        \n",
    "    n = len(adj)\n",
    "    res = []\n",
    "    inDegree = [0 for i in range(n)]\n",
    "        \n",
    "    for i in range(n):\n",
    "        for node in adj[i]:\n",
    "            inDegree[node] += 1\n",
    "        \n",
    "    queue = []\n",
    "    for i in range(n):\n",
    "        if inDegree[i] == 0:\n",
    "            queue.append(i)\n",
    "        \n",
    "    while len(queue) > 0:\n",
    "        node = queue.pop(0)\n",
    "        res.append(node)\n",
    "        for i in adj[node]:\n",
    "            inDegree[i] -= 1\n",
    "            if inDegree[i] == 0:\n",
    "                queue.append(i)\n",
    "        \n",
    "    return res\n",
    "\n",
    "adj =  [[], [3], [3], [], [0,1], [0,2]]\n",
    "topologicalSort(adj)"
   ]
  },
  {
   "cell_type": "code",
   "execution_count": null,
   "id": "b52fc1f7-7219-4ee7-a233-a4f2fea1a918",
   "metadata": {},
   "outputs": [],
   "source": []
  },
  {
   "attachments": {
    "2d717669-efe3-49cc-a92a-33b07b1aaa2f.png": {
     "image/png": "[encoded data removed]"
    }
   },
   "cell_type": "markdown",
   "id": "b4d50bbf-2ec8-406e-9c37-1582fc3102c8",
   "metadata": {},
   "source": [
    "# Cycles in Directed Graph\n",
    "- ![image.png](attachment:2d717669-efe3-49cc-a92a-33b07b1aaa2f.png)"
   ]
  },
  {
   "cell_type": "code",
   "execution_count": 6,
   "id": "3f8bd0f0-e87e-421d-82bb-fbe9dbe32512",
   "metadata": {},
   "outputs": [
    {
     "data": {
      "text/plain": [
       "1"
      ]
     },
     "execution_count": 6,
     "metadata": {},
     "output_type": "execute_result"
    }
   ],
   "source": [
    "def isCyclic(V, adj ) :\n",
    "        \n",
    "    inDegree = [0 for i in range(V)]\n",
    "        \n",
    "    for i in range(V):\n",
    "        for n in adj[i]:\n",
    "            inDegree[n] += 1\n",
    "        \n",
    "    queue = []\n",
    "    # print(inDegree)\n",
    "    for i in range(V):\n",
    "        if inDegree[i] == 0:\n",
    "            queue.append(i)\n",
    "    # print(queue)\n",
    "    topoSort = 0\n",
    "    while len(queue) > 0:\n",
    "        node = queue.pop(0)\n",
    "        topoSort += 1    \n",
    "        for n in adj[node]:\n",
    "            inDegree[n] -= 1\n",
    "            if inDegree[n] == 0:\n",
    "                queue.append(n)\n",
    "    # print(topoSort)\n",
    "    if V == topoSort:\n",
    "        return 0\n",
    "    return 1\n",
    "\n",
    "adj = [[], [2], [3], [4, 5], [2], []]\n",
    "isCyclic(len(adj), adj)"
   ]
  },
  {
   "cell_type": "code",
   "execution_count": null,
   "id": "3bc10b0c-04bf-45e3-b5b5-aca4b9f70e9b",
   "metadata": {},
   "outputs": [],
   "source": []
  },
  {
   "cell_type": "markdown",
   "id": "2f49d71e-faa1-4f77-bbca-3c9f04312089",
   "metadata": {},
   "source": [
    "# Course Schedule - I"
   ]
  },
  {
   "cell_type": "code",
   "execution_count": 2,
   "id": "63c81a7a-438b-4ab9-9988-a1b331dc3ed8",
   "metadata": {},
   "outputs": [
    {
     "data": {
      "text/plain": [
       "True"
      ]
     },
     "execution_count": 2,
     "metadata": {},
     "output_type": "execute_result"
    }
   ],
   "source": [
    "def canFinish(numCourses, prerequisites):\n",
    "        \n",
    "    adj = [[] for i in range(numCourses)]\n",
    "    inDegree = [0 for i in range(numCourses)]\n",
    "        \n",
    "    for i in prerequisites:\n",
    "        u, v = i\n",
    "        adj[u].append(v)\n",
    "        inDegree[v] += 1\n",
    "\n",
    "    queue = []\n",
    "    for i in range(numCourses):\n",
    "        if inDegree[i] == 0:\n",
    "            queue.append(i)\n",
    "        \n",
    "    count = 0\n",
    "    while len(queue) > 0:\n",
    "        node = queue.pop(0)\n",
    "        count += 1\n",
    "        for i in adj[node]:\n",
    "            inDegree[i] -= 1\n",
    "            if inDegree[i] == 0:\n",
    "                queue.append(i)\n",
    " \n",
    "    return count == numCourses\n",
    "\n",
    "numCourses = 4\n",
    "prerequisites = [[1,0],[2,1],[3,2]]\n",
    "canFinish(numCourses, prerequisites)"
   ]
  },
  {
   "cell_type": "code",
   "execution_count": null,
   "id": "6c27830f-8571-4c21-bc73-a27f46e9ea7d",
   "metadata": {},
   "outputs": [],
   "source": []
  },
  {
   "cell_type": "markdown",
   "id": "f50b413b-910b-42c7-8f50-4e4c4a460e8c",
   "metadata": {},
   "source": [
    "# Course Schedule - II"
   ]
  },
  {
   "cell_type": "code",
   "execution_count": 3,
   "id": "fd739ff6-481e-4463-a5c6-bca7e12dca62",
   "metadata": {},
   "outputs": [
    {
     "data": {
      "text/plain": [
       "[0, 1, 2, 3]"
      ]
     },
     "execution_count": 3,
     "metadata": {},
     "output_type": "execute_result"
    }
   ],
   "source": [
    "def findOrder(numCourses, prerequisites):\n",
    "        \n",
    "    inDegree = [0 for i in range(numCourses)]\n",
    "    adj = [[] for i in range(numCourses)]\n",
    "\n",
    "    for i in prerequisites:\n",
    "        u, v = i\n",
    "        inDegree[u] += 1\n",
    "        adj[v].append(u)\n",
    "\n",
    "    queue = []\n",
    "    for i in range(numCourses):\n",
    "        if inDegree[i] == 0:\n",
    "            queue.append(i)\n",
    "\n",
    "    topoSort = []\n",
    "    while len(queue) > 0:\n",
    "        node = queue.pop(0)\n",
    "        topoSort.append(node)\n",
    "        for i in adj[node]:\n",
    "            inDegree[i] -= 1\n",
    "            if inDegree[i] == 0:\n",
    "                queue.append(i)\n",
    "\n",
    "    if len(topoSort) == numCourses:\n",
    "        return topoSort\n",
    "    return []\n",
    "\n",
    "numCourses = 4\n",
    "prerequisites = [[1,0],[2,0],[3,1],[3,2]]\n",
    "findOrder(numCourses, prerequisites)"
   ]
  },
  {
   "cell_type": "code",
   "execution_count": null,
   "id": "89bd324a-9a2b-49e8-bb0d-209ee949af00",
   "metadata": {},
   "outputs": [],
   "source": []
  },
  {
   "attachments": {
    "4d962c75-0b88-4899-9db1-f4c84430eb01.png": {
     "image/png": "[encoded data removed]"
    }
   },
   "cell_type": "markdown",
   "id": "502ee252-0b44-46eb-9564-7bcc6a155f16",
   "metadata": {},
   "source": [
    "# Find eventual safe states\n",
    "-![image.png](attachment:4d962c75-0b88-4899-9db1-f4c84430eb01.png)"
   ]
  },
  {
   "cell_type": "code",
   "execution_count": 12,
   "id": "43b22a07-314a-4780-8d1f-23fe9086a3aa",
   "metadata": {},
   "outputs": [
    {
     "data": {
      "text/plain": [
       "[2, 4, 5, 6]"
      ]
     },
     "execution_count": 12,
     "metadata": {},
     "output_type": "execute_result"
    }
   ],
   "source": [
    " def eventualSafeNodes(graph):\n",
    "    v = len(graph)\n",
    "\n",
    "    adjRev = [[] for i in range(v)]\n",
    "\n",
    "    for i in range(v):\n",
    "        for n in graph[i]:\n",
    "            adjRev[n].append(i)\n",
    "\n",
    "    outDegree = [0 for i in range(v)]\n",
    "\n",
    "    queue = []\n",
    "\n",
    "    for i in range(v):\n",
    "        if len(graph[i]) == 0:\n",
    "            queue.append(i)\n",
    "        outDegree[i] = len(graph[i])\n",
    "      \n",
    "    safe = []\n",
    "\n",
    "    while len(queue) > 0:\n",
    "        node = queue.pop(0)\n",
    "        safe.append(node)\n",
    "        for n in adjRev[node]:\n",
    "            outDegree[n] -= 1\n",
    "            if outDegree[n] == 0:\n",
    "                queue.append(n)\n",
    "\n",
    "    safe.sort()\n",
    "    return safe\n",
    "\n",
    "graph = [[1,2],[2,3],[5],[0],[5],[],[]]\n",
    "eventualSafeNodes(graph)"
   ]
  },
  {
   "cell_type": "code",
   "execution_count": null,
   "id": "cad68527-a1bb-43d0-bfa3-67ea79918425",
   "metadata": {},
   "outputs": [],
   "source": []
  }
 ],
 "metadata": {
  "kernelspec": {
   "display_name": "Python 3 (ipykernel)",
   "language": "python",
   "name": "python3"
  },
  "language_info": {
   "codemirror_mode": {
    "name": "ipython",
    "version": 3
   },
   "file_extension": ".py",
   "mimetype": "text/x-python",
   "name": "python",
   "nbconvert_exporter": "python",
   "pygments_lexer": "ipython3",
   "version": "3.12.7"
  }
 },
 "nbformat": 4,
 "nbformat_minor": 5
}
