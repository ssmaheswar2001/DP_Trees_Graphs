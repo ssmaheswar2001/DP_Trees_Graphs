{
 "cells": [
  {
   "cell_type": "markdown",
   "id": "96bdb8aa-2598-45e8-b8cb-419c10e8b275",
   "metadata": {},
   "source": [
    "# \tIntroduction to Binary Search Tree\n",
    "- Left Node <= Root < RightNode\n",
    "- Left Subtree is BST\n",
    "- Right Subtree is BST"
   ]
  },
  {
   "cell_type": "markdown",
   "id": "f1abe1f2-bf36-4a98-9d58-d8b4b6ea1063",
   "metadata": {},
   "source": [
    "# Search in a Binary Search Tree"
   ]
  },
  {
   "cell_type": "code",
   "execution_count": 11,
   "id": "021a5057-75ba-4b5a-bfe7-1d2897a2bd58",
   "metadata": {},
   "outputs": [
    {
     "data": {
      "text/plain": [
       "<__main__.Node at 0x1c5c91f8b60>"
      ]
     },
     "execution_count": 11,
     "metadata": {},
     "output_type": "execute_result"
    }
   ],
   "source": [
    "class Node:\n",
    "    def __init__(self, data):\n",
    "        self.left = None\n",
    "        self.data = data\n",
    "        self.right = None\n",
    "\n",
    "def searchBST(root, val):\n",
    "    current = root\n",
    "\n",
    "    while current != None:\n",
    "        if current.data ==  val:\n",
    "            return current\n",
    "        elif current.data < val:\n",
    "            current = current.right\n",
    "        else:\n",
    "            current = current.left\n",
    "    return None\n",
    "\n",
    "root = Node(4)\n",
    "root.left = Node(2)\n",
    "root.right = Node(7)\n",
    "root.left.left = Node(1)\n",
    "root.left.right = Node(3)\n",
    "searchBST(root, 2)"
   ]
  },
  {
   "cell_type": "code",
   "execution_count": null,
   "id": "e08d55aa-65aa-4cd4-9c51-f1d2821e78b7",
   "metadata": {},
   "outputs": [],
   "source": []
  },
  {
   "cell_type": "markdown",
   "id": "6d959155-8688-49aa-84e1-796be0d0b45a",
   "metadata": {},
   "source": [
    "# Min and Max in BST"
   ]
  },
  {
   "cell_type": "code",
   "execution_count": 25,
   "id": "5521a13a-6041-4daa-8ba3-a8a4e7425c28",
   "metadata": {},
   "outputs": [
    {
     "data": {
      "text/plain": [
       "7"
      ]
     },
     "execution_count": 25,
     "metadata": {},
     "output_type": "execute_result"
    }
   ],
   "source": [
    "class Node:\n",
    "    def __init__(self, data):\n",
    "        self.left = None\n",
    "        self.data = data\n",
    "        self.right = None\n",
    "\n",
    "def minValue(root):\n",
    "    current = root\n",
    "    \n",
    "    while current!= None:\n",
    "        _min = current.data\n",
    "        current = current.left\n",
    "    return _min\n",
    "\n",
    "def maxValue(root):\n",
    "    current = root\n",
    "    \n",
    "    while current!= None:\n",
    "        _max = current.data\n",
    "        current = current.right\n",
    "    return _max\n",
    "\n",
    "root = Node(4)\n",
    "root.left = Node(2)\n",
    "root.right = Node(6)\n",
    "root.left.left = Node(1)\n",
    "root.left.right = Node(3)\n",
    "root.right.left = Node(5)\n",
    "root.right.right = Node(7)\n",
    "minValue(root)\n",
    "maxValue(root)"
   ]
  },
  {
   "cell_type": "code",
   "execution_count": null,
   "id": "e8121e88-1f2c-4b75-a76c-5a64a20bc48a",
   "metadata": {},
   "outputs": [],
   "source": []
  }
 ],
 "metadata": {
  "kernelspec": {
   "display_name": "Python 3 (ipykernel)",
   "language": "python",
   "name": "python3"
  },
  "language_info": {
   "codemirror_mode": {
    "name": "ipython",
    "version": 3
   },
   "file_extension": ".py",
   "mimetype": "text/x-python",
   "name": "python",
   "nbconvert_exporter": "python",
   "pygments_lexer": "ipython3",
   "version": "3.12.7"
  }
 },
 "nbformat": 4,
 "nbformat_minor": 5
}
