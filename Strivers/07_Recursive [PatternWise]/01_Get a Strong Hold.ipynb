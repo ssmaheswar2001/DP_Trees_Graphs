{
 "cells": [
  {
   "cell_type": "markdown",
   "id": "5f68a969",
   "metadata": {},
   "source": [
    "# Recursive Implementation of atoi()"
   ]
  },
  {
   "cell_type": "code",
   "execution_count": 2,
   "id": "85135854",
   "metadata": {},
   "outputs": [
    {
     "data": {
      "text/plain": [
       "-42"
      ]
     },
     "execution_count": 2,
     "metadata": {},
     "output_type": "execute_result"
    }
   ],
   "source": [
    "def rec(s, i, num):\n",
    "    if i == len(s):\n",
    "        return num \n",
    "    if s[i] in '0123456789':\n",
    "        num = num*10 + int(s[i])\n",
    "        return rec(s, i+1, num)\n",
    "    else:\n",
    "        return num\n",
    "\n",
    "def myAtoi(s):\n",
    "    if len(s) == 0:\n",
    "        return 0\n",
    "    for i in range(len(s)):\n",
    "        if s[i] != ' ':\n",
    "            break\n",
    "    sign = 1\n",
    "    if s[i] == '-':\n",
    "        sign = -1\n",
    "        i += 1\n",
    "    elif s[i] == '+':\n",
    "        i += 1\n",
    "    number = sign*rec(s, i, 0)\n",
    "    if number > 2**31 - 1:\n",
    "        number = 2**31 - 1\n",
    "    if number < -2**31:\n",
    "        number = -2**31 \n",
    "    return number\n",
    "\n",
    "s = \"   -042f45  \"\n",
    "myAtoi(s)"
   ]
  },
  {
   "cell_type": "code",
   "execution_count": null,
   "id": "fb70535e",
   "metadata": {},
   "outputs": [],
   "source": []
  },
  {
   "cell_type": "markdown",
   "id": "20f5005e",
   "metadata": {},
   "source": [
    "# Pow(x, n)"
   ]
  },
  {
   "cell_type": "code",
   "execution_count": 5,
   "id": "d27152bc",
   "metadata": {},
   "outputs": [
    {
     "data": {
      "text/plain": [
       "0.0009765625"
      ]
     },
     "execution_count": 5,
     "metadata": {},
     "output_type": "execute_result"
    }
   ],
   "source": [
    "\n",
    "def recursivePow(x, n):\n",
    "    if n == 0:\n",
    "        return 1\n",
    "    if n == 1:\n",
    "        return x\n",
    "\n",
    "    if n %2 == 0:\n",
    "        return recursivePow(x*x, n//2)\n",
    "    return x*recursivePow(x*x, n//2 )\n",
    "\n",
    "def pow(x, n):\n",
    "    if n >= 0:\n",
    "        return recursivePow(x, n)\n",
    "    return 1/recursivePow(x, -1*n)\n",
    "\n",
    "x = 2\n",
    "n = -10\n",
    "pow(x, n)"
   ]
  },
  {
   "cell_type": "code",
   "execution_count": null,
   "id": "a5ecc24e",
   "metadata": {},
   "outputs": [],
   "source": []
  },
  {
   "cell_type": "markdown",
   "id": "f53ce4a4",
   "metadata": {},
   "source": [
    "# Count Good numbers"
   ]
  },
  {
   "cell_type": "code",
   "execution_count": 1,
   "id": "53313b7f",
   "metadata": {},
   "outputs": [
    {
     "data": {
      "text/plain": [
       "400"
      ]
     },
     "execution_count": 1,
     "metadata": {},
     "output_type": "execute_result"
    }
   ],
   "source": [
    "# Better Approach : Using mathematics, permutation and combinations\n",
    "# Time Complexity : O(n)\n",
    "# Space Complexity : O(1)\n",
    "# Draw back : As the space complexity is O(n), if the value of n is larger than 10**7, it doesn't accept.\n",
    "\n",
    "def countGoodNumbers(n):\n",
    "    count = 1\n",
    "    for i in range(n):\n",
    "        if i %2 == 0:\n",
    "            count*=5\n",
    "        else:\n",
    "            count*=4\n",
    "    return count % (10**9+7)\n",
    "\n",
    "countGoodNumbers(4)"
   ]
  },
  {
   "cell_type": "code",
   "execution_count": null,
   "id": "5fbe9750",
   "metadata": {},
   "outputs": [],
   "source": [
    "# Better Approach : Using mathematics, permutation and combinations\n",
    "# Time Complexity : O(n)\n",
    "# Space Complexity : O(1)\n",
    "# Draw back : As the space complexity is O(n), if the value of n is larger than 10**7, it doesn't accept.\n",
    "\n",
    "def countGoodNumbers(n):\n",
    "    even = n//2 + n%2\n",
    "    odd = n//2\n",
    "\n",
    "    res = 5**even * 4**odd \n",
    "    return res%(10**9+7)\n",
    "\n",
    "countGoodNumbers(4)"
   ]
  },
  {
   "cell_type": "code",
   "execution_count": 2,
   "id": "f124d8e2",
   "metadata": {},
   "outputs": [
    {
     "data": {
      "text/plain": [
       "564908303"
      ]
     },
     "execution_count": 2,
     "metadata": {},
     "output_type": "execute_result"
    }
   ],
   "source": [
    "# Optimal Approach : Using recursion with logN\n",
    "# Time Complexity : O(logN)\n",
    "# Space Complexity : O(1)\n",
    "\n",
    "def pow(x, n):\n",
    "    if n == 0:\n",
    "        return 1\n",
    "    if n == 1:\n",
    "        return x\n",
    "    if n%2 == 0:\n",
    "        return pow((x*x) % (10**9+7), n//2)\n",
    "    return (x*pow(x*x, n//2))%(10**9+7)\n",
    "def countGoodNumbers(n):\n",
    "    even = n//2 + n%2\n",
    "    odd = n//2\n",
    "\n",
    "    res = pow(5, even) * pow(4, odd)\n",
    "    return res%(10**9+7)\n",
    "\n",
    "countGoodNumbers(50)"
   ]
  },
  {
   "cell_type": "code",
   "execution_count": null,
   "id": "6e827333",
   "metadata": {},
   "outputs": [],
   "source": []
  },
  {
   "cell_type": "markdown",
   "id": "fb6d8f6d",
   "metadata": {},
   "source": [
    "# Sort a Stack using recursion"
   ]
  },
  {
   "cell_type": "code",
   "execution_count": 7,
   "id": "4c3e631e",
   "metadata": {},
   "outputs": [
    {
     "data": {
      "text/plain": [
       "[1, 2, 3]"
      ]
     },
     "execution_count": 7,
     "metadata": {},
     "output_type": "execute_result"
    }
   ],
   "source": [
    "def sortedInsert(s, element):\n",
    "    if len(s) == 0 or element > s[-1]:\n",
    "        s.append(element)\n",
    "        return\n",
    "    temp = s.pop()\n",
    "    sortedInsert(s, element)\n",
    "    s.append(temp)\n",
    "\n",
    "def sortStack(s):\n",
    "    if len(s) == 0:\n",
    "        return\n",
    "    temp = s.pop()\n",
    "    sortStack(s)\n",
    "    sortedInsert(s, temp)\n",
    "        \n",
    "s = [3, 2, 1]\n",
    "sortStack(s)\n",
    "s"
   ]
  },
  {
   "cell_type": "code",
   "execution_count": null,
   "id": "e190328c",
   "metadata": {},
   "outputs": [],
   "source": []
  },
  {
   "cell_type": "markdown",
   "id": "4515f74d",
   "metadata": {},
   "source": [
    "# Reverse a stack using recursion"
   ]
  },
  {
   "cell_type": "code",
   "execution_count": 1,
   "id": "e38eefbd",
   "metadata": {},
   "outputs": [
    {
     "data": {
      "text/plain": [
       "[5, 4, 3, 2, 1]"
      ]
     },
     "execution_count": 1,
     "metadata": {},
     "output_type": "execute_result"
    }
   ],
   "source": [
    "\n",
    "def insertAtBottom(St, item):\n",
    "    if len(St) == 0:\n",
    "        St.append(item)\n",
    "    else:\n",
    "        temp = St.pop()\n",
    "        insertAtBottom(St, item)\n",
    "        St.append(temp)\n",
    "    \n",
    "def reverse(St): \n",
    "    if len(St) == 0:\n",
    "        return\n",
    "        \n",
    "    temp = St.pop()\n",
    "    reverse(St)\n",
    "    insertAtBottom(St, temp)\n",
    "\n",
    "St = [1, 2, 3, 4, 5]\n",
    "reverse(St)\n",
    "St"
   ]
  },
  {
   "cell_type": "code",
   "execution_count": null,
   "id": "e1d150a2",
   "metadata": {},
   "outputs": [],
   "source": []
  },
  {
   "cell_type": "code",
   "execution_count": null,
   "id": "bb4a7814",
   "metadata": {},
   "outputs": [],
   "source": []
  }
 ],
 "metadata": {
  "kernelspec": {
   "display_name": "Python 3 (ipykernel)",
   "language": "python",
   "name": "python3"
  },
  "language_info": {
   "codemirror_mode": {
    "name": "ipython",
    "version": 3
   },
   "file_extension": ".py",
   "mimetype": "text/x-python",
   "name": "python",
   "nbconvert_exporter": "python",
   "pygments_lexer": "ipython3",
   "version": "3.11.5"
  }
 },
 "nbformat": 4,
 "nbformat_minor": 5
}
