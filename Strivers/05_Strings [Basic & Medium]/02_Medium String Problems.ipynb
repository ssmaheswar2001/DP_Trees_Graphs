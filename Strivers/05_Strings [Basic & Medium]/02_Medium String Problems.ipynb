{
 "cells": [
  {
   "cell_type": "markdown",
   "id": "0f1e0073",
   "metadata": {},
   "source": [
    "# Sort Characters by Frequency"
   ]
  },
  {
   "cell_type": "code",
   "execution_count": 33,
   "id": "69d8bdd8",
   "metadata": {},
   "outputs": [
    {
     "data": {
      "text/plain": [
       "'eetr'"
      ]
     },
     "execution_count": 33,
     "metadata": {},
     "output_type": "execute_result"
    }
   ],
   "source": [
    "# Brute Force Approach :\n",
    "# Time Complexity : O(NLogN) + O(NLogN) + O(NLogN) + O(N) \n",
    "# Space Complexity : O(N) + O(N) + O(N)\n",
    "\n",
    "def frequencySort(s):\n",
    "    n = len(s)\n",
    "    l = []\n",
    "    d = {}\n",
    "    \n",
    "    for i in range(n):\n",
    "        if s[i] in d:\n",
    "            d[s[i]] += 1\n",
    "        else:\n",
    "            d[s[i]] = 1\n",
    "    \n",
    "    for i in range(n):\n",
    "        l.append((d[s[i]], s[i]))\n",
    "        \n",
    "    l.sort()\n",
    "    \n",
    "    res = ''\n",
    "    for i in range(n):\n",
    "        res  = l[i][1] + res\n",
    "    return res\n",
    "    \n",
    "s = 'tree'\n",
    "frequencySort(s)"
   ]
  },
  {
   "cell_type": "code",
   "execution_count": null,
   "id": "31068cbf",
   "metadata": {},
   "outputs": [],
   "source": []
  },
  {
   "cell_type": "markdown",
   "id": "720e0ee4",
   "metadata": {},
   "source": [
    "# Maximum Nesting Depth of Paranthesis"
   ]
  },
  {
   "cell_type": "code",
   "execution_count": 30,
   "id": "0cd483d0",
   "metadata": {},
   "outputs": [
    {
     "data": {
      "text/plain": [
       "3"
      ]
     },
     "execution_count": 30,
     "metadata": {},
     "output_type": "execute_result"
    }
   ],
   "source": [
    "# Optimal Approach \n",
    "# Time Complexity : O(N)\n",
    "# Space Complexity : O(1)\n",
    "\n",
    "def maxDepth(s):\n",
    "    maxDepth = currentDepth = 0\n",
    "\n",
    "    for i in s:\n",
    "        if i == '(':\n",
    "            currentDepth += 1\n",
    "            maxDepth = max(maxDepth, currentDepth)\n",
    "        elif i == ')':\n",
    "            currentDepth -= 1\n",
    "    return maxDepth\n",
    "    \n",
    "s = \"(1+(2*3)+((8)/4))+1\"\n",
    "s = \"()(())((()()))\"\n",
    "maxDepth(s)"
   ]
  },
  {
   "cell_type": "code",
   "execution_count": null,
   "id": "1a7eeb77",
   "metadata": {},
   "outputs": [],
   "source": []
  },
  {
   "cell_type": "markdown",
   "id": "16b8697f",
   "metadata": {},
   "source": [
    "# Roman Number to Integer"
   ]
  },
  {
   "cell_type": "code",
   "execution_count": 31,
   "id": "f7e3eb0e",
   "metadata": {},
   "outputs": [
    {
     "data": {
      "text/plain": [
       "1994"
      ]
     },
     "execution_count": 31,
     "metadata": {},
     "output_type": "execute_result"
    }
   ],
   "source": [
    "# Better Approach\n",
    "# Time Complexity : O(N)\n",
    "# Space Complexity : O(K)\n",
    "\n",
    "def romanToInt(s):\n",
    "    d = {'I' : 1, 'IV' : 4,  'V' : 5, 'IX':9, 'X' : 10, 'XL' : 40, 'L' : 50, 'XC' : 90 ,'C' : 100, 'CD':400, 'D' : 500, 'CM':900, 'M' : 1000}\n",
    "\n",
    "    n = len(s)\n",
    "    i = 0\n",
    "\n",
    "    num = 0\n",
    "    while i < n:\n",
    "        if i < n-1 and s[i] + s[i+1] in d:\n",
    "            num += d[s[i] + s[i+1]]\n",
    "            i += 2\n",
    "        else:\n",
    "            num += d[s[i]]\n",
    "            i += 1\n",
    "    return num\n",
    "\n",
    "s = \"LVIII\"\n",
    "s = \"MCMXCIV\"\n",
    "romanToInt(s)"
   ]
  },
  {
   "cell_type": "code",
   "execution_count": 32,
   "id": "e2fd2ecb",
   "metadata": {},
   "outputs": [
    {
     "data": {
      "text/plain": [
       "1994"
      ]
     },
     "execution_count": 32,
     "metadata": {},
     "output_type": "execute_result"
    }
   ],
   "source": [
    "# Optimal Approach\n",
    "# Time Complexity : O(N)\n",
    "# Space Complexity : O(K)\n",
    "\n",
    "def romanToInt(s):\n",
    "    d = {'I' : 1, 'V' : 5, 'X' : 10,  'L' : 50,'C' : 100,'D' : 500,'M' : 1000}\n",
    "\n",
    "    n = len(s)\n",
    "    i = 0\n",
    "    num = 0\n",
    "    while i  < n:\n",
    "        if i < n-1 and d[s[i]] < d[s[i+1]]:\n",
    "            num -= d[s[i]]\n",
    "        else:\n",
    "            num += d[s[i]]\n",
    "        i += 1\n",
    "\n",
    "    return num\n",
    "romanToInt(s)"
   ]
  },
  {
   "cell_type": "markdown",
   "id": "cf2b74e6",
   "metadata": {},
   "source": [
    "# Integer to Roman"
   ]
  },
  {
   "cell_type": "code",
   "execution_count": 38,
   "id": "05f25485",
   "metadata": {},
   "outputs": [
    {
     "data": {
      "text/plain": [
       "'MCMXCIV'"
      ]
     },
     "execution_count": 38,
     "metadata": {},
     "output_type": "execute_result"
    }
   ],
   "source": [
    "# Better Approach\n",
    "# Time Complexity : O(N)\n",
    "# Space Complexity : O(K) + O(K)\n",
    "\n",
    "def intToRoman(num):\n",
    "         \n",
    "    mapping = {1000 : 'M',  900:'CM',\n",
    "                500 : 'D', 400  : 'CD' ,\n",
    "                100 : 'C',  90 : 'XC',\n",
    "                50 : 'L', 40 : 'XL',\n",
    "                10 : 'X', 9 : 'IX', \n",
    "                5 : 'V', 4 : 'IV', 1 : 'I' }\n",
    "    dividents = [1000, 900, 500, 400, 100, 90, 50, 40, 10,9, 5, 4, 1]\n",
    "    d = 0\n",
    "\n",
    "    roman = ''\n",
    "    i = 0\n",
    "    while num > 0:\n",
    "        quo = num//dividents[d]\n",
    "        roman += mapping[dividents[d]]*quo\n",
    "        num = num%dividents[d]\n",
    "        d +=  1\n",
    "    return roman\n",
    "\n",
    "num = 1994\n",
    "intToRoman(num)"
   ]
  },
  {
   "cell_type": "code",
   "execution_count": null,
   "id": "0c5aebd8",
   "metadata": {},
   "outputs": [],
   "source": []
  },
  {
   "cell_type": "markdown",
   "id": "38285ed7",
   "metadata": {},
   "source": [
    "# String to Integer (atoi)"
   ]
  },
  {
   "cell_type": "code",
   "execution_count": 1,
   "id": "e26b826c",
   "metadata": {},
   "outputs": [
    {
     "data": {
      "text/plain": [
       "-42"
      ]
     },
     "execution_count": 1,
     "metadata": {},
     "output_type": "execute_result"
    }
   ],
   "source": [
    "# Better Approach :\n",
    "# Time Complexity : O(N) + O(N)\n",
    "# Space Complexity : O(1)\n",
    "\n",
    "def myAtoi(s):\n",
    "    n = len(s)\n",
    "\n",
    "    if n == 0:\n",
    "        return 0\n",
    "\n",
    "    _min = -2**31\n",
    "    _max = 2**31 -1\n",
    "\n",
    "    i = 0\n",
    "    # O(N)\n",
    "    while i < n:\n",
    "        if s[i] != ' ':\n",
    "            break\n",
    "        i += 1\n",
    "\n",
    "    if i >= n:\n",
    "        return 0\n",
    "\n",
    "    res = 0\n",
    "    sign = 1\n",
    "    if s[i] == '-':\n",
    "        sign = -1\n",
    "        i += 1\n",
    "    elif s[i] == '+':\n",
    "        sign = 1\n",
    "        i += 1\n",
    "        \n",
    "    # O(N)\n",
    "    while i < n:\n",
    "        if s[i].isdigit():\n",
    "            if sign*(res*10 + int(s[i])) < _min:\n",
    "                return _min\n",
    "            if sign*(res*10 + int(s[i])) > _max:\n",
    "                return _max\n",
    "            res = res*10 + int(s[i])\n",
    "            i += 1\n",
    "        else:\n",
    "            break\n",
    "\n",
    "    return res*sign\n",
    "       \n",
    "    \n",
    "s = ' -42'\n",
    "myAtoi(s)"
   ]
  },
  {
   "cell_type": "code",
   "execution_count": null,
   "id": "24c45a45",
   "metadata": {},
   "outputs": [],
   "source": []
  },
  {
   "cell_type": "markdown",
   "id": "2e39572c",
   "metadata": {},
   "source": [
    "# Cound the number of substrings with K distinct characters"
   ]
  },
  {
   "cell_type": "code",
   "execution_count": 8,
   "id": "26dad951",
   "metadata": {},
   "outputs": [
    {
     "data": {
      "text/plain": [
       "3"
      ]
     },
     "execution_count": 8,
     "metadata": {},
     "output_type": "execute_result"
    }
   ],
   "source": [
    "# Brute Force Approach : Iterating through all possible substrings and using hash\n",
    "# Time Complexity : O(N**2)\n",
    "# Space Complexity : O(1)\n",
    "\n",
    "def subStrCount(s, k):\n",
    "    n = len(s)\n",
    "    res = 0\n",
    "    \n",
    "    for i in range(n):\n",
    "        dist_count = 0\n",
    "        cnt = [0]*26\n",
    "        \n",
    "        for j in range(i, n):\n",
    "            if cnt[ord(s[j]) - ord('a') ] == 0:\n",
    "                dist_count += 1\n",
    "            cnt[ord(s[j]) - ord('a')] += 1\n",
    "            if dist_count == k:\n",
    "                res += 1\n",
    "            if dist_count > k:\n",
    "                break\n",
    "    return res\n",
    "        \n",
    "s = 'abaaca'\n",
    "k = 1\n",
    "s = \"aba\"\n",
    "k= 2\n",
    "subStrCount(s, k)"
   ]
  },
  {
   "cell_type": "code",
   "execution_count": 5,
   "id": "36ba6a5c",
   "metadata": {},
   "outputs": [
    {
     "data": {
      "text/plain": [
       "3"
      ]
     },
     "execution_count": 5,
     "metadata": {},
     "output_type": "execute_result"
    }
   ],
   "source": [
    "# Optimal Approach : Using 2 pointer sliding window with map.\n",
    "# Time Complexity : O(N) + O(N)\n",
    "# Space Complexity : O(N)\n",
    "\n",
    "def atmostK(s, k):\n",
    "    n = len(s)\n",
    "    \n",
    "    res = 0\n",
    "    r = 0\n",
    "    l = 0\n",
    "    _hash = {}\n",
    "    unqiueElements = 0\n",
    "\n",
    "    while r < n:\n",
    "        if s[r] in _hash:\n",
    "            _hash[s[r]] += 1\n",
    "        else:\n",
    "            _hash[s[r]] = 1\n",
    "        if _hash[s[r]] == 1:\n",
    "            unqiueElements += 1\n",
    "        \n",
    "        while unqiueElements > k:\n",
    "            _hash[s[l]] -= 1\n",
    "            if _hash[s[l]] == 0:\n",
    "                unqiueElements -= 1\n",
    "            l += 1\n",
    "        res += r-l+1\n",
    "        \n",
    "        r += 1\n",
    "             \n",
    "    return res\n",
    "    \n",
    "def subStrCount(s, k):\n",
    "    return atmostK(s, k) - atmostK(s, k-1)\n",
    "\n",
    "s = \"aba\"\n",
    "k= 2\n",
    "# s = 'abaaca'\n",
    "# k = 1\n",
    "subStrCount(s, k)"
   ]
  },
  {
   "cell_type": "code",
   "execution_count": null,
   "id": "27a1e2ee",
   "metadata": {},
   "outputs": [],
   "source": []
  },
  {
   "cell_type": "markdown",
   "id": "8edec1fb",
   "metadata": {},
   "source": [
    "# Longest Palindromic Substring"
   ]
  },
  {
   "cell_type": "code",
   "execution_count": 4,
   "id": "612aa139",
   "metadata": {},
   "outputs": [
    {
     "data": {
      "text/plain": [
       "'bab'"
      ]
     },
     "execution_count": 4,
     "metadata": {},
     "output_type": "execute_result"
    }
   ],
   "source": [
    "# Brute Force Approach : Iterate over all possible substrings\n",
    "# Time Complexity : O(N*3)\n",
    "# Space Complexity : O(1)\n",
    "\n",
    "def isPalindrome(s):\n",
    "    n = len(s)\n",
    "    i = 0\n",
    "    j = n-1\n",
    "    while i < j:\n",
    "        if s[i] != s[j]:\n",
    "            return False\n",
    "        i += 1\n",
    "        j -= 1\n",
    "    \n",
    "    return True\n",
    "\n",
    "def longestPalindrome(s):\n",
    "    n = len(s)\n",
    "    maxLen = 0\n",
    "    longestPalindrome = ''\n",
    "    \n",
    "    for i in range(n):\n",
    "        subStr = ''\n",
    "        for j in range(i, n):\n",
    "            subStr += s[j]\n",
    "            if isPalindrome(subStr) and maxLen < len(subStr):\n",
    "                longestPalindrome = subStr\n",
    "                maxLen = len(subStr)\n",
    "                \n",
    "    return longestPalindrome\n",
    "            \n",
    "s = \"babad\"\n",
    "longestPalindrome(s)"
   ]
  },
  {
   "cell_type": "code",
   "execution_count": 7,
   "id": "54c77f3a",
   "metadata": {},
   "outputs": [
    {
     "data": {
      "text/plain": [
       "'bab'"
      ]
     },
     "execution_count": 7,
     "metadata": {},
     "output_type": "execute_result"
    }
   ],
   "source": [
    "# Better Approach : Using DP\n",
    "# Time Complexity : O(N*2)\n",
    "# Space Complexity : O(N*2)\n",
    "\n",
    "def longestPalindrome(s):\n",
    "    n = len(s)\n",
    "    \n",
    "    dp = [[0 for j in range(n)] for i in range(n)]\n",
    "    \n",
    "    maxLen = 1\n",
    "    i = 0\n",
    "    while i < n:\n",
    "        dp[i][i] = 1\n",
    "        i += 1\n",
    "    \n",
    "    startIndex = 0\n",
    "    i = 0\n",
    "    while i < n-1:\n",
    "        if s[i] == s[i+1]:\n",
    "            dp[i][i+1] = 1\n",
    "            startIndex = i\n",
    "            maxLen = 2\n",
    "        i += 1\n",
    "    \n",
    "    k = 3\n",
    "    while k<=n:\n",
    "        i = 0\n",
    "        while i < n-k+1:\n",
    "            j = i-k+1\n",
    "            \n",
    "            if s[i] == s[j] and dp[i+1][j-1]:\n",
    "                dp[i][j] = 1\n",
    "                if k > maxLen:\n",
    "                    maxLen = k\n",
    "                    startIndex = i\n",
    "            i += 1\n",
    "        k+= 1\n",
    "            \n",
    "    \n",
    "    return s[startIndex:startIndex+maxLen-1]\n",
    "            \n",
    "s = \"babad\"\n",
    "# s = 'geeks'\n",
    "longestPalindrome(s)"
   ]
  },
  {
   "cell_type": "code",
   "execution_count": 9,
   "id": "cea24818",
   "metadata": {},
   "outputs": [
    {
     "data": {
      "text/plain": [
       "'bab'"
      ]
     },
     "execution_count": 9,
     "metadata": {},
     "output_type": "execute_result"
    }
   ],
   "source": [
    "# Optimal Approach : \n",
    "# Time Complexity : O(N*2)\n",
    "# Space Complexity : O(1)\n",
    "\n",
    "def expandCenter(s, left, right):\n",
    "    n = len(s)\n",
    "\n",
    "    while left >= 0 and right<n and s[left] == s[right]:\n",
    "        left -= 1\n",
    "        right += 1\n",
    "\n",
    "    return s[left+1:right]\n",
    "\n",
    "def longestPalindrome(s):\n",
    "        \n",
    "    n = len(s)\n",
    "\n",
    "    if n == 0:\n",
    "        return ''\n",
    "\n",
    "    if n == 1:\n",
    "        return s[0]\n",
    "\n",
    "    palindrome = ''\n",
    "    maxLen = 0\n",
    "\n",
    "    for i in range(n-1):\n",
    "        oddStr = expandCenter(s, i, i)\n",
    "        evenStr = expandCenter(s, i, i+1)\n",
    "\n",
    "        if maxLen < len(oddStr):\n",
    "            palindrome = oddStr\n",
    "            maxLen = len(oddStr)\n",
    "\n",
    "        if maxLen < len(evenStr):\n",
    "            palindrome = evenStr\n",
    "            maxLen = len(evenStr)\n",
    "\n",
    "\n",
    "    return palindrome\n",
    "\n",
    "s = \"babad\"\n",
    "# s = 'geeks'\n",
    "longestPalindrome(s)"
   ]
  },
  {
   "cell_type": "code",
   "execution_count": null,
   "id": "ad5251bc",
   "metadata": {},
   "outputs": [],
   "source": []
  },
  {
   "cell_type": "markdown",
   "id": "0580b976",
   "metadata": {},
   "source": [
    "# Sum of Beauty of all Substring"
   ]
  },
  {
   "cell_type": "code",
   "execution_count": 13,
   "id": "325b139b",
   "metadata": {},
   "outputs": [
    {
     "data": {
      "text/plain": [
       "17"
      ]
     },
     "execution_count": 13,
     "metadata": {},
     "output_type": "execute_result"
    }
   ],
   "source": [
    "# Brute Force Approach \n",
    "# Time Complexity : O(N^2) + O(logN)\n",
    "# Space Complexity :O(N)\n",
    "\n",
    "def beautySum(s):\n",
    "    n = len(s)\n",
    "    _min = n\n",
    "    sum = 0\n",
    "    for i in range(n-1):\n",
    "        d = {}\n",
    "        d[s[i]] = 1\n",
    "        _max = 1\n",
    "        for j in range(i+1, n):\n",
    "            if s[j] in d:\n",
    "                d[s[j]] += 1\n",
    "            else:\n",
    "                d[s[j]] = 1\n",
    "            if _max < d[s[j]]:\n",
    "                _max = d[s[j]]\n",
    "        \n",
    "            sum += _max-  min(d.values())\n",
    "    \n",
    "    return sum\n",
    "                    \n",
    "        \n",
    "s = \"aabcb\"\n",
    "s = \"aabcbaa\"\n",
    "beautySum(s)"
   ]
  },
  {
   "cell_type": "code",
   "execution_count": null,
   "id": "ed37a01d",
   "metadata": {},
   "outputs": [],
   "source": []
  },
  {
   "cell_type": "markdown",
   "id": "866b1655",
   "metadata": {},
   "source": [
    "# Reverse Words in a String"
   ]
  },
  {
   "cell_type": "code",
   "execution_count": null,
   "id": "317d971a",
   "metadata": {},
   "outputs": [],
   "source": [
    "# Optimal Approach : \n",
    "# Time Complexity : O(N)\n",
    "# Space Complexity : O(N)\n",
    "\n",
    "def reverseWords(s):\n",
    "    n = len(s)\n",
    "    \n",
    "    start = 0\n",
    "    end = n-1\n",
    "    \n",
    "    while start < n:\n",
    "        if s[start] != ' ':\n",
    "            break\n",
    "        start += 1\n",
    "    while end >= 0:\n",
    "        if s[end] != ' ':\n",
    "            break\n",
    "        end -= 1\n",
    "    \n",
    "    res =''\n",
    "    i = end\n",
    "    while i>= start:\n",
    "        if s[i] == ' ' and s[i+1] != ' ':\n",
    "            res += s[i+1:end+1]\n",
    "            res += ' '\n",
    "        if s[i] != ' ' and i< n-1 and s[i+1] == ' ':\n",
    "            end = i\n",
    "        i -= 1\n",
    "    res += s[start:end+1]\n",
    "    return res\n",
    "    \n",
    "s = \" a good   example \"\n",
    "reverseWords(s)"
   ]
  }
 ],
 "metadata": {
  "kernelspec": {
   "display_name": "Python 3 (ipykernel)",
   "language": "python",
   "name": "python3"
  },
  "language_info": {
   "codemirror_mode": {
    "name": "ipython",
    "version": 3
   },
   "file_extension": ".py",
   "mimetype": "text/x-python",
   "name": "python",
   "nbconvert_exporter": "python",
   "pygments_lexer": "ipython3",
   "version": "3.11.5"
  }
 },
 "nbformat": 4,
 "nbformat_minor": 5
}
