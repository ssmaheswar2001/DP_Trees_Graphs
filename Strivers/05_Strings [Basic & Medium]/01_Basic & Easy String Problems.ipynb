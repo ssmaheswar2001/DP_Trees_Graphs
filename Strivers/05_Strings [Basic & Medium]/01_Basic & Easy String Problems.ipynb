{
 "cells": [
  {
   "cell_type": "markdown",
   "id": "8d9367a2",
   "metadata": {},
   "source": [
    "# Remove Outermost Parentheses"
   ]
  },
  {
   "cell_type": "code",
   "execution_count": 2,
   "id": "c1b83214",
   "metadata": {},
   "outputs": [
    {
     "data": {
      "text/plain": [
       "'()()()()(())'"
      ]
     },
     "execution_count": 2,
     "metadata": {},
     "output_type": "execute_result"
    }
   ],
   "source": [
    "# Better Approach : Using count \n",
    "# Time Complexity : O(N)\n",
    "# Space Complexity :O(N)\n",
    "\n",
    "def removeOuterParentheses(s):\n",
    "    n = len(s)\n",
    "    res = ''\n",
    "    count = 0\n",
    "    \n",
    "    for i in range(n):\n",
    "        if s[i] == '(':\n",
    "            if count > 0:\n",
    "                res += '('\n",
    "            count += 1\n",
    "        else:\n",
    "            if count > 1:\n",
    "                res += ')'\n",
    "            count -= 1\n",
    "    return res\n",
    "    \n",
    "    \n",
    "s = '(()())(())(()(()))'\n",
    "removeOuterParentheses(s)"
   ]
  },
  {
   "cell_type": "code",
   "execution_count": 5,
   "id": "80fcb16d",
   "metadata": {},
   "outputs": [
    {
     "data": {
      "text/plain": [
       "'()()()()(())'"
      ]
     },
     "execution_count": 5,
     "metadata": {},
     "output_type": "execute_result"
    }
   ],
   "source": [
    "# Better Approch : Using open and close\n",
    "# Time Complexity : O(N)\n",
    "# Space Complexity : O(N)\n",
    "\n",
    "def removeOuterParentheses(s):\n",
    "    n = len(s)\n",
    "    openP = 0\n",
    "    closeP = 0\n",
    "    res = ''\n",
    "    start = 0\n",
    "    for i in range(n):\n",
    "        if s[i] == '(':\n",
    "            openP += 1\n",
    "        elif s[i] == ')':\n",
    "            closeP += 1\n",
    "        if openP == closeP:\n",
    "            res += s[start+1:i]\n",
    "            start = i + 1\n",
    "    return res\n",
    "    \n",
    "    \n",
    "    \n",
    "s = '(()())(())(()(()))'\n",
    "removeOuterParentheses(s)"
   ]
  },
  {
   "cell_type": "code",
   "execution_count": null,
   "id": "c29172bb",
   "metadata": {},
   "outputs": [],
   "source": []
  },
  {
   "cell_type": "markdown",
   "id": "15c0a904",
   "metadata": {},
   "source": [
    "# Reverse Words in a String"
   ]
  },
  {
   "cell_type": "code",
   "execution_count": 1,
   "id": "3828f462",
   "metadata": {},
   "outputs": [
    {
     "data": {
      "text/plain": [
       "'example good a'"
      ]
     },
     "execution_count": 1,
     "metadata": {},
     "output_type": "execute_result"
    }
   ],
   "source": [
    "# Optimal Approach : \n",
    "# Time Complexity : O(N)\n",
    "# Space Complexity : O(N)\n",
    "\n",
    "def reverseWords(s):\n",
    "    n = len(s)\n",
    "    \n",
    "    start = 0\n",
    "    end = n-1\n",
    "    \n",
    "    while start < n:\n",
    "        if s[start] != ' ':\n",
    "            break\n",
    "        start += 1\n",
    "    while end >= 0:\n",
    "        if s[end] != ' ':\n",
    "            break\n",
    "        end -= 1\n",
    "    \n",
    "    res =''\n",
    "    i = end\n",
    "    while i>= start:\n",
    "        if s[i] == ' ' and s[i+1] != ' ':\n",
    "            res += s[i+1:end+1]\n",
    "            res += ' '\n",
    "        if s[i] != ' ' and i< n-1 and s[i+1] == ' ':\n",
    "            end = i\n",
    "        i -= 1\n",
    "    res += s[start:end+1]\n",
    "    return res\n",
    "    \n",
    "s = \" a good   example \"\n",
    "reverseWords(s)"
   ]
  },
  {
   "cell_type": "code",
   "execution_count": null,
   "id": "d4c95a27",
   "metadata": {},
   "outputs": [],
   "source": []
  },
  {
   "cell_type": "markdown",
   "id": "2bc0f06f",
   "metadata": {},
   "source": [
    "# Largest Odd Number in String"
   ]
  },
  {
   "cell_type": "code",
   "execution_count": 1,
   "id": "74c9c782",
   "metadata": {},
   "outputs": [
    {
     "data": {
      "text/plain": [
       "'35'"
      ]
     },
     "execution_count": 1,
     "metadata": {},
     "output_type": "execute_result"
    }
   ],
   "source": [
    "# Optimal Approach\n",
    "\n",
    "def largestOddNumber(num):\n",
    "    n = len(num)\n",
    "    i = n - 1\n",
    "    while i >= 0:\n",
    "        if int(num[i]) & 1 == 1:\n",
    "            return num[:i+1]\n",
    "        i -= 1\n",
    "    return ''\n",
    "    \n",
    "num = '35426'\n",
    "largestOddNumber(num)"
   ]
  },
  {
   "cell_type": "code",
   "execution_count": null,
   "id": "5e456ede",
   "metadata": {},
   "outputs": [],
   "source": []
  },
  {
   "cell_type": "markdown",
   "id": "5197b004",
   "metadata": {},
   "source": [
    "# Largest Common Prefix"
   ]
  },
  {
   "cell_type": "code",
   "execution_count": 7,
   "id": "334f5215",
   "metadata": {},
   "outputs": [
    {
     "data": {
      "text/plain": [
       "'fl'"
      ]
     },
     "execution_count": 7,
     "metadata": {},
     "output_type": "execute_result"
    }
   ],
   "source": [
    "# Better Approach\n",
    "# Time Complexity : O(minStr + count)\n",
    "# Space Complexity : O(1)\n",
    "\n",
    "def longestCommonPrefix(strs):\n",
    "    n = len(strs)\n",
    "    \n",
    "    minStr = len(strs[0])\n",
    "    for i in range(1, n):\n",
    "        if len(strs[i]) < minStr:\n",
    "            minStr = len(strs[i])\n",
    "    \n",
    "    count = 0\n",
    "    i = 1\n",
    "    while count < minStr :\n",
    "        if strs[i-1][count] != strs[i][count]:\n",
    "            break\n",
    "        i += 1\n",
    "        if i == n:\n",
    "            i = 1\n",
    "            count += 1\n",
    "    return strs[0][:count]\n",
    "    \n",
    "strs = [\"flower\",\"flow\",\"flight\"]\n",
    "longestCommonPrefix(strs)"
   ]
  },
  {
   "cell_type": "code",
   "execution_count": 13,
   "id": "28986003",
   "metadata": {},
   "outputs": [
    {
     "data": {
      "text/plain": [
       "'fl'"
      ]
     },
     "execution_count": 13,
     "metadata": {},
     "output_type": "execute_result"
    }
   ],
   "source": [
    "# Better Approach\n",
    "# Time Complexity : O(minVal)\n",
    "# Space Complexity : O(1)\n",
    "\n",
    "def longestCommonPrefix(strs):\n",
    "    n = len(strs)\n",
    "    \n",
    "    strs.sort()\n",
    "    \n",
    "    if n == 1:\n",
    "        return strs[0]\n",
    "    if n == 0:\n",
    "        return ''\n",
    "    \n",
    "    minVal = min(len(strs[0]), len(strs[n-1]) )\n",
    "    i = 0\n",
    "    while i < minVal:\n",
    "        if strs[0][i] != strs[n-1][i]:\n",
    "            break\n",
    "        i += 1\n",
    "    return strs[0][:i]\n",
    "    \n",
    "strs = [\"flower\",\"flow\",\"flight\"]\n",
    "longestCommonPrefix(strs)"
   ]
  },
  {
   "cell_type": "code",
   "execution_count": null,
   "id": "116be331",
   "metadata": {},
   "outputs": [],
   "source": []
  },
  {
   "cell_type": "markdown",
   "id": "1ce7507d",
   "metadata": {},
   "source": [
    "# Isomorphic String"
   ]
  },
  {
   "cell_type": "code",
   "execution_count": 8,
   "id": "5d88ca83",
   "metadata": {},
   "outputs": [
    {
     "data": {
      "text/plain": [
       "True"
      ]
     },
     "execution_count": 8,
     "metadata": {},
     "output_type": "execute_result"
    }
   ],
   "source": [
    "# Better Approach : Using lists\n",
    "# Time Complexity : O(NLogN) + O(NLogN)\n",
    "# Space Complexity : O(2N)\n",
    "\n",
    "def isIsomorphic(s, t):\n",
    "    m1 = []\n",
    "    m2 = []\n",
    "    \n",
    "    for i in s:\n",
    "        m1.append(s.index(i))\n",
    "    for i in t:\n",
    "        m2.append(t.index(i))\n",
    "        \n",
    "    return True if m1 == m2 else False\n",
    "\n",
    "s = 'paper'\n",
    "t = 'title'\n",
    "isIsomorphic(s, t)"
   ]
  },
  {
   "cell_type": "code",
   "execution_count": 11,
   "id": "eac604a9",
   "metadata": {},
   "outputs": [
    {
     "data": {
      "text/plain": [
       "True"
      ]
     },
     "execution_count": 11,
     "metadata": {},
     "output_type": "execute_result"
    }
   ],
   "source": [
    "# Better Approach : Using sets and map\n",
    "# Time Complexity : O(2LogN) + O(NLogN)\n",
    "# Space Complexity : O(2N) + O(N)\n",
    "\n",
    "\n",
    "def isIsomorphic(s, t):\n",
    "        \n",
    "    s_set = set(s)\n",
    "    t_set = set(t)\n",
    "\n",
    "    s_len = len(s_set)\n",
    "    t_len = len(t_set)\n",
    "\n",
    "    if s_len > t_len:\n",
    "        s, t = t, s\n",
    "\n",
    "    d = {}\n",
    "\n",
    "    n = len(s)\n",
    "\n",
    "    for i in range(n):\n",
    "        if s[i] not in d:\n",
    "            d[s[i]] = t[i]\n",
    "        else:\n",
    "            if d[s[i]] != t[i]:\n",
    "                return False\n",
    "    return True\n",
    "\n",
    "s = 'paper'\n",
    "t = 'title'\n",
    "isIsomorphic(s, t)"
   ]
  },
  {
   "cell_type": "code",
   "execution_count": 10,
   "id": "007fa0d0",
   "metadata": {},
   "outputs": [
    {
     "data": {
      "text/plain": [
       "True"
      ]
     },
     "execution_count": 10,
     "metadata": {},
     "output_type": "execute_result"
    }
   ],
   "source": [
    "# Optimal Approach : Using 2 map\n",
    "# Time Complexity : O(NLogN)\n",
    "# Space Complexity : O(N) + O(N)\n",
    "\n",
    "def isIsomorphic(s, t):\n",
    "    \n",
    "    n = len(s)\n",
    "    \n",
    "    d1 = {}\n",
    "    d2 = {}\n",
    "    \n",
    "    for i in range(n):\n",
    "        if s[i] not in d1 and t[i] not in d2:\n",
    "            d1[s[i]] = t[i]\n",
    "            d2[t[i]] = s[i]\n",
    "        elif s[i] in d1 and d1[s[i]] != t[i]:\n",
    "            return False\n",
    "        elif t[i] in d2 and d2[t[i]] != s[i]:\n",
    "            return False\n",
    "    return True\n",
    "\n",
    "s = 'paper'\n",
    "t = 'title'\n",
    "isIsomorphic(s, t)"
   ]
  },
  {
   "cell_type": "code",
   "execution_count": null,
   "id": "d35fc3c7",
   "metadata": {},
   "outputs": [],
   "source": []
  },
  {
   "cell_type": "markdown",
   "id": "b7d1f055",
   "metadata": {},
   "source": [
    "# Check whether one string is a rotation of another"
   ]
  },
  {
   "cell_type": "code",
   "execution_count": 12,
   "id": "9ffca7d4",
   "metadata": {},
   "outputs": [
    {
     "data": {
      "text/plain": [
       "True"
      ]
     },
     "execution_count": 12,
     "metadata": {},
     "output_type": "execute_result"
    }
   ],
   "source": [
    "# Better Approach : Using Slicing\n",
    "# Time Complexity : O(N)\n",
    "# Space Complexity : O(1)\n",
    "\n",
    "def rotateString(s, goal):\n",
    "    n = len(s)\n",
    "\n",
    "    for i in range(n):\n",
    "        if s[i:] + s[0:i] == goal:\n",
    "            return True\n",
    "    return False\n",
    "\n",
    "s = 'abcde'\n",
    "goal = 'cdeab'\n",
    "rotateString(s, goal)"
   ]
  },
  {
   "cell_type": "code",
   "execution_count": 13,
   "id": "74a7005e",
   "metadata": {},
   "outputs": [
    {
     "data": {
      "text/plain": [
       "True"
      ]
     },
     "execution_count": 13,
     "metadata": {},
     "output_type": "execute_result"
    }
   ],
   "source": [
    "def rotateString(s, goal):\n",
    "    n = len(s)\n",
    "\n",
    "    if len(goal) == len(s) and goal in s+s:\n",
    "        return True\n",
    "    return False\n",
    "    \n",
    "s = 'abcde'\n",
    "goal = 'cdeab'\n",
    "rotateString(s, goal)"
   ]
  },
  {
   "cell_type": "code",
   "execution_count": null,
   "id": "cd5867d8",
   "metadata": {},
   "outputs": [],
   "source": []
  },
  {
   "cell_type": "markdown",
   "id": "7725b184",
   "metadata": {},
   "source": [
    "# Check if 2 strings are anagram of each other"
   ]
  },
  {
   "cell_type": "code",
   "execution_count": 19,
   "id": "0b1c4011",
   "metadata": {},
   "outputs": [
    {
     "data": {
      "text/plain": [
       "True"
      ]
     },
     "execution_count": 19,
     "metadata": {},
     "output_type": "execute_result"
    }
   ],
   "source": [
    "# Better Approach : Using 2 maps\n",
    "# Time Complexity : O(NLogN)\n",
    "# Space Complexity : O(2N)\n",
    "\n",
    "def isAnagram(s, t):\n",
    "    n = len(s)\n",
    "    m = len(t)\n",
    "\n",
    "    if n != m:\n",
    "        return False\n",
    "\n",
    "    d1 = {}\n",
    "    d2 = {}\n",
    "\n",
    "    for i in range(n):\n",
    "        if s[i] not in d1:\n",
    "            d1[s[i]] = 1\n",
    "        else:\n",
    "            d1[s[i]] += 1\n",
    "\n",
    "        if t[i] not in d2:\n",
    "            d2[t[i]] = 1\n",
    "        else:\n",
    "            d2[t[i]] += 1\n",
    "        \n",
    "    return d1 == d2\n",
    "\n",
    "s = \"anagram\"\n",
    "t = \"nagaram\"\n",
    "isAnagram(s, t)"
   ]
  },
  {
   "cell_type": "code",
   "execution_count": 21,
   "id": "c622f7ac",
   "metadata": {},
   "outputs": [
    {
     "data": {
      "text/plain": [
       "True"
      ]
     },
     "execution_count": 21,
     "metadata": {},
     "output_type": "execute_result"
    }
   ],
   "source": [
    "# Better Approach : Using sort\n",
    "# Time Complexity : O(2LogN)\n",
    "# Space Complexity : O(1)\n",
    "\n",
    "def isAnagram(s, t):\n",
    "    n = len(s)\n",
    "    m = len(t)\n",
    "    \n",
    "    return sorted(s) == sorted(t)\n",
    "\n",
    "s = \"anagram\"\n",
    "t = \"nagaram\"\n",
    "isAnagram(s, t)"
   ]
  },
  {
   "cell_type": "code",
   "execution_count": null,
   "id": "f55ef84e",
   "metadata": {},
   "outputs": [],
   "source": []
  }
 ],
 "metadata": {
  "kernelspec": {
   "display_name": "Python 3 (ipykernel)",
   "language": "python",
   "name": "python3"
  },
  "language_info": {
   "codemirror_mode": {
    "name": "ipython",
    "version": 3
   },
   "file_extension": ".py",
   "mimetype": "text/x-python",
   "name": "python",
   "nbconvert_exporter": "python",
   "pygments_lexer": "ipython3",
   "version": "3.11.5"
  }
 },
 "nbformat": 4,
 "nbformat_minor": 5
}
