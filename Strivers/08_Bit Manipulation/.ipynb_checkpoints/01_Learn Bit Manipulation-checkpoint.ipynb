{
 "cells": [
  {
   "cell_type": "markdown",
   "id": "9a0ce039-9824-4a9e-acbd-20f0af3a29f2",
   "metadata": {},
   "source": [
    "# Bit Manipulation\n",
    "- Binary Number conversion (1's and 2's compliment)\n",
    "- Operators (AND, OR, XOR, NOT, SHIFT)\n",
    "- Swap 2 numbers\n",
    "- Check if the ith bit is set or not\n",
    "- Extract the ith bit\n",
    "- Clear the ith bit\n",
    "- Toggle the ith bit"
   ]
  },
  {
   "cell_type": "code",
   "execution_count": 13,
   "id": "789290e6-66f1-47fe-b1e5-1bef09812ff9",
   "metadata": {},
   "outputs": [
    {
     "data": {
      "text/plain": [
       "'1010'"
      ]
     },
     "execution_count": 13,
     "metadata": {},
     "output_type": "execute_result"
    }
   ],
   "source": [
    "def convert2Binary(n):\n",
    "    b = \"\"\n",
    "    while n > 0:\n",
    "        rem = n %2\n",
    "        b = str(rem)+b\n",
    "        n = n//2\n",
    "    return b\n",
    "\n",
    "convert2Binary(10)"
   ]
  },
  {
   "cell_type": "code",
   "execution_count": 42,
   "id": "e9b07ff6-65c5-4524-a994-eecf7aa230f9",
   "metadata": {},
   "outputs": [
    {
     "data": {
      "text/plain": [
       "13"
      ]
     },
     "execution_count": 42,
     "metadata": {},
     "output_type": "execute_result"
    }
   ],
   "source": [
    "# Time Complexity :O(N)\n",
    "# Space Complexity : O(1) \n",
    "\n",
    "def convert2Decimal(b):\n",
    "    n = len(b)\n",
    "    num = 0\n",
    "    p2 = 1\n",
    "    for i in range(n-1,-1, -1):\n",
    "        if b[i] == '1':\n",
    "            num += p2\n",
    "        p2 *= 2\n",
    "    return num\n",
    "    \n",
    "convert2Decimal('1101')"
   ]
  },
  {
   "cell_type": "code",
   "execution_count": 90,
   "id": "7ce27309-b7e1-4373-b2c3-7dafa3773050",
   "metadata": {},
   "outputs": [
    {
     "name": "stdout",
     "output_type": "stream",
     "text": [
      "1 70 66\n"
     ]
    }
   ],
   "source": [
    "def bitManipulation(num, i):\n",
    "    # ithbit = (num & 1<<(i-1)) >> (i-1)\n",
    "    ithbit = (num >> (i-1)) & 1\n",
    "    setbit = num | 1<<(i-1)\n",
    "    clearbit = num & ~(1<<(i-1))\n",
    "\n",
    "    print(ithbit, setbit, clearbit)\n",
    "\n",
    "bitManipulation(70, 3)"
   ]
  },
  {
   "cell_type": "code",
   "execution_count": null,
   "id": "090a03ea-61d1-4651-8a80-b7e8332fff5c",
   "metadata": {},
   "outputs": [],
   "source": []
  },
  {
   "cell_type": "markdown",
   "id": "fba26361-e014-4328-a258-4a6a1181d860",
   "metadata": {},
   "source": [
    "# Check if the ith bit is set or not"
   ]
  },
  {
   "cell_type": "code",
   "execution_count": 27,
   "id": "12c36ae7-493f-4bc6-885d-ee9eb8dd581d",
   "metadata": {},
   "outputs": [
    {
     "data": {
      "text/plain": [
       "1"
      ]
     },
     "execution_count": 27,
     "metadata": {},
     "output_type": "execute_result"
    }
   ],
   "source": [
    " def checkKthBit(n,k):\n",
    "    return (n & (1<<k))>>k\n",
    "\n",
    "checkKthBit(4, 2)"
   ]
  },
  {
   "cell_type": "code",
   "execution_count": 82,
   "id": "649bf71f-7642-4931-b677-2279dae1622e",
   "metadata": {},
   "outputs": [
    {
     "data": {
      "text/plain": [
       "0"
      ]
     },
     "execution_count": 82,
     "metadata": {},
     "output_type": "execute_result"
    }
   ],
   "source": [
    " def checkKthBit(n,k):\n",
    "    if (n & (1<<k)) != 0:\n",
    "        return 1\n",
    "    return 0\n",
    "\n",
    "checkKthBit(4, 1)"
   ]
  },
  {
   "cell_type": "code",
   "execution_count": 88,
   "id": "87580d01-965c-4400-b694-b9cfadff1872",
   "metadata": {},
   "outputs": [
    {
     "data": {
      "text/plain": [
       "0"
      ]
     },
     "execution_count": 88,
     "metadata": {},
     "output_type": "execute_result"
    }
   ],
   "source": [
    " def checkKthBit(n,k):\n",
    "    return (n >> k) & 1\n",
    "\n",
    "checkKthBit(4, 1)"
   ]
  },
  {
   "cell_type": "code",
   "execution_count": null,
   "id": "7bc983d2-8ea3-4f0e-97c1-bc69e2df65c0",
   "metadata": {},
   "outputs": [],
   "source": []
  },
  {
   "cell_type": "markdown",
   "id": "2ea566e3-708a-4721-8483-345567a618db",
   "metadata": {},
   "source": [
    "# Check if a number is odd or not"
   ]
  },
  {
   "cell_type": "code",
   "execution_count": 40,
   "id": "d09ce78a-4bd4-4c72-9ea4-fee51f00d88e",
   "metadata": {},
   "outputs": [
    {
     "data": {
      "text/plain": [
       "'odd'"
      ]
     },
     "execution_count": 40,
     "metadata": {},
     "output_type": "execute_result"
    }
   ],
   "source": [
    "def oddEven(n):\n",
    "    if n & 1:\n",
    "        return \"odd\"\n",
    "    return \"even\"\n",
    "\n",
    "oddEven(15)"
   ]
  },
  {
   "cell_type": "code",
   "execution_count": null,
   "id": "e010e8bb-0eec-4c28-8eeb-ea3bac903f2d",
   "metadata": {},
   "outputs": [],
   "source": []
  },
  {
   "cell_type": "markdown",
   "id": "942611c6-a42a-4d89-92b3-a947dec68250",
   "metadata": {},
   "source": [
    "# Check if a numer is power of 2 or not"
   ]
  },
  {
   "cell_type": "code",
   "execution_count": 98,
   "id": "050f8db5-edf1-4722-8ae0-2a85e31972a5",
   "metadata": {},
   "outputs": [
    {
     "data": {
      "text/plain": [
       "True"
      ]
     },
     "execution_count": 98,
     "metadata": {},
     "output_type": "execute_result"
    }
   ],
   "source": [
    "def isPowerOfTwo(n):\n",
    "    if n == 0:\n",
    "        return False\n",
    "    if n & n-1 == 0:\n",
    "        return True\n",
    "    return False\n",
    "\n",
    "isPowerOfTwo(16)"
   ]
  },
  {
   "cell_type": "code",
   "execution_count": null,
   "id": "80a4ccbc-cb3f-4605-8abb-ba9d722dff5a",
   "metadata": {},
   "outputs": [],
   "source": []
  },
  {
   "cell_type": "markdown",
   "id": "6a97b597-b063-463b-8a63-f6b662b10572",
   "metadata": {},
   "source": [
    "# Count the number of set bits"
   ]
  },
  {
   "cell_type": "code",
   "execution_count": 19,
   "id": "a79d60d1-b137-4983-a255-11641ebfa2aa",
   "metadata": {},
   "outputs": [
    {
     "data": {
      "text/plain": [
       "3"
      ]
     },
     "execution_count": 19,
     "metadata": {},
     "output_type": "execute_result"
    }
   ],
   "source": [
    "# Brute Force Approach\n",
    "\n",
    "def counter(n):\n",
    "    count = 0\n",
    "    while n > 0:\n",
    "        count += n&1\n",
    "        n = n >> 1\n",
    "    return count\n",
    "\n",
    "counter(13)\n",
    "    "
   ]
  },
  {
   "cell_type": "code",
   "execution_count": 11,
   "id": "14ce689b-6d93-459e-9eef-9b36296d7b10",
   "metadata": {},
   "outputs": [
    {
     "data": {
      "text/plain": [
       "35"
      ]
     },
     "execution_count": 11,
     "metadata": {},
     "output_type": "execute_result"
    }
   ],
   "source": [
    "# Brute Force Approach : \n",
    "# Time Complexity : O(NLogN)\n",
    "# Space Complexity : O(1)\n",
    "\n",
    "def counter(n):\n",
    "    count = 0\n",
    "    while n>0:\n",
    "        n = n&(n-1)\n",
    "        count += 1\n",
    "    return count\n",
    "\n",
    "def countSetBits(n):\n",
    "    res = 0\n",
    "    for i in range(1, n+1):\n",
    "        res += counter(i)\n",
    "    return res\n",
    "countSetBits(17)\n",
    "# countSetBits(4)"
   ]
  },
  {
   "cell_type": "code",
   "execution_count": null,
   "id": "8a74e8ad-b3a7-41af-b2f1-8ade49799f56",
   "metadata": {},
   "outputs": [],
   "source": []
  },
  {
   "cell_type": "code",
   "execution_count": null,
   "id": "c15dd2c3-c0c5-4bb4-b6ca-4dfdba696adf",
   "metadata": {},
   "outputs": [],
   "source": []
  },
  {
   "cell_type": "markdown",
   "id": "071768d2-49df-4dbc-9f57-62d019f12a71",
   "metadata": {},
   "source": [
    "# Set/Unset the rightmost unset bit"
   ]
  },
  {
   "cell_type": "code",
   "execution_count": 92,
   "id": "f0fe6e63-82ac-43bd-b1fe-ac2fd056145e",
   "metadata": {},
   "outputs": [
    {
     "data": {
      "text/plain": [
       "31"
      ]
     },
     "execution_count": 92,
     "metadata": {},
     "output_type": "execute_result"
    }
   ],
   "source": [
    "def setRightmost(n):\n",
    "    return n | n+1\n",
    "\n",
    "setRightmost(15)"
   ]
  },
  {
   "cell_type": "code",
   "execution_count": 94,
   "id": "4f91652f-303a-4ed0-b352-4893509dd388",
   "metadata": {},
   "outputs": [
    {
     "data": {
      "text/plain": [
       "14"
      ]
     },
     "execution_count": 94,
     "metadata": {},
     "output_type": "execute_result"
    }
   ],
   "source": [
    "def unsetRightmost(n):\n",
    "    return n & n-1\n",
    "unsetRightmost(15)"
   ]
  },
  {
   "cell_type": "markdown",
   "id": "0d04463d-4447-4f56-8637-2fbe135aa3cf",
   "metadata": {},
   "source": [
    "# Swap 2 numbers"
   ]
  },
  {
   "cell_type": "code",
   "execution_count": 75,
   "id": "c1d0e9b4-345a-4c04-b4a9-448280935ad9",
   "metadata": {},
   "outputs": [
    {
     "data": {
      "text/plain": [
       "(5, 10)"
      ]
     },
     "execution_count": 75,
     "metadata": {},
     "output_type": "execute_result"
    }
   ],
   "source": [
    "def swap(a, b):\n",
    "    a = a^b\n",
    "    b = a^b\n",
    "    a = a^b\n",
    "    return a,b\n",
    "\n",
    "swap(10, 5)"
   ]
  },
  {
   "cell_type": "code",
   "execution_count": null,
   "id": "11d7eda7-8b77-48ac-b276-d6862b09e797",
   "metadata": {},
   "outputs": [],
   "source": []
  },
  {
   "cell_type": "markdown",
   "id": "ffa3523b-9636-44f3-aefd-a97df8883bcc",
   "metadata": {},
   "source": [
    "# Divide 2 integers without using multiplication, division and mod Operator"
   ]
  },
  {
   "cell_type": "code",
   "execution_count": 20,
   "id": "990fdec6-6bb7-41c7-8e0f-7f8db4ba1629",
   "metadata": {},
   "outputs": [
    {
     "data": {
      "text/plain": [
       "3"
      ]
     },
     "execution_count": 20,
     "metadata": {},
     "output_type": "execute_result"
    }
   ],
   "source": [
    "# Brute Force Approach\n",
    "# Time Complexity : O(a/b)\n",
    "# Space Complexity : O(1)\n",
    "\n",
    "def divide(dividend, divisor):\n",
    "        \n",
    "    sign = 1\n",
    "    if (dividend<0) ^ (divisor<0):\n",
    "        sign = -1\n",
    "        \n",
    "    quotient = 0\n",
    "    a = abs(dividend)\n",
    "    b = abs(divisor)\n",
    "\n",
    "    while a >= b:\n",
    "        a -= b\n",
    "        quotient += 1\n",
    "    return sign*quotient\n",
    "\n",
    "divide(10, 3)"
   ]
  },
  {
   "cell_type": "code",
   "execution_count": null,
   "id": "2aaa6004-aaa7-4824-8222-1987f1c12624",
   "metadata": {},
   "outputs": [],
   "source": []
  }
 ],
 "metadata": {
  "kernelspec": {
   "display_name": "Python 3 (ipykernel)",
   "language": "python",
   "name": "python3"
  },
  "language_info": {
   "codemirror_mode": {
    "name": "ipython",
    "version": 3
   },
   "file_extension": ".py",
   "mimetype": "text/x-python",
   "name": "python",
   "nbconvert_exporter": "python",
   "pygments_lexer": "ipython3",
   "version": "3.12.7"
  }
 },
 "nbformat": 4,
 "nbformat_minor": 5
}
