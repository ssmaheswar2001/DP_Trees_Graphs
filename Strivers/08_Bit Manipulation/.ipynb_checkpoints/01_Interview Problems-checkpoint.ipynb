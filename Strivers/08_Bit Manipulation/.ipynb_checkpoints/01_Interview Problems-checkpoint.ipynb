{
 "cells": [
  {
   "cell_type": "markdown",
   "id": "345a168a-b06f-4d97-8c01-15406e38de96",
   "metadata": {},
   "source": [
    "# Count number of bits to be flipped to convert A to B"
   ]
  },
  {
   "cell_type": "code",
   "execution_count": 19,
   "id": "0717f1b3-256c-4997-a4ff-8ed55725b928",
   "metadata": {},
   "outputs": [
    {
     "data": {
      "text/plain": [
       "3"
      ]
     },
     "execution_count": 19,
     "metadata": {},
     "output_type": "execute_result"
    }
   ],
   "source": [
    "# Better Approach : \n",
    "# Time Complexity : O(len(n))\n",
    "# Space Complexity : O(1)\n",
    "\n",
    "def minBitFlips(start, goal):\n",
    "    count = 0\n",
    "    while start > 0 or goal > 0:\n",
    "        count += (start & 1) ^ (goal & 1)\n",
    "        start = start >> 1\n",
    "        goal = goal >> 1\n",
    "\n",
    "    return count\n",
    "\n",
    "start = 0\n",
    "goal = 7\n",
    "minBitFlips(start, goal)"
   ]
  },
  {
   "cell_type": "code",
   "execution_count": 26,
   "id": "dca6adef-742a-4f3a-995c-5f2431af8695",
   "metadata": {},
   "outputs": [
    {
     "data": {
      "text/plain": [
       "3"
      ]
     },
     "execution_count": 26,
     "metadata": {},
     "output_type": "execute_result"
    }
   ],
   "source": [
    "# Better Approach : \n",
    "# Time Complexity : O(LogN)\n",
    "# Space Complexity : O(1)\n",
    "\n",
    "def minBitFlips(start, goal):\n",
    "    n = start ^ goal\n",
    "    count = 0\n",
    "    while n > 0:\n",
    "        n = n&(n-1)\n",
    "        count += 1\n",
    "    return count\n",
    "        \n",
    "start = 3\n",
    "goal = 4\n",
    "minBitFlips(start, goal)"
   ]
  },
  {
   "cell_type": "code",
   "execution_count": null,
   "id": "98e1898d-4784-4b5d-9606-fcd015fedb1f",
   "metadata": {},
   "outputs": [],
   "source": []
  },
  {
   "cell_type": "markdown",
   "id": "f0f72bd9-732f-4fa3-af57-eed128622fe3",
   "metadata": {},
   "source": [
    "# Single Number"
   ]
  },
  {
   "cell_type": "code",
   "execution_count": 36,
   "id": "27827fa3-d8e3-43d8-8f9e-73db13f8bbc7",
   "metadata": {},
   "outputs": [
    {
     "data": {
      "text/plain": [
       "1"
      ]
     },
     "execution_count": 36,
     "metadata": {},
     "output_type": "execute_result"
    }
   ],
   "source": [
    "# Better Approach : \n",
    "# Time Complexity : O(N)\n",
    "# Space Complexity : O(1)\n",
    "\n",
    "def singleNumber(nums):\n",
    "    res = 0\n",
    "    for i in range(len(nums)):\n",
    "        res ^= nums[i]\n",
    "    return res\n",
    "\n",
    "nums = [4,1,2,1,2]\n",
    "nums = [1]\n",
    "singleNumber(nums)"
   ]
  },
  {
   "cell_type": "code",
   "execution_count": null,
   "id": "50375b33-e573-488e-a5df-bfbfd2397f91",
   "metadata": {},
   "outputs": [],
   "source": []
  },
  {
   "cell_type": "markdown",
   "id": "fd592e0f-f1a1-4c82-936f-25d1945aaa44",
   "metadata": {},
   "source": [
    "# Power Set (Print all subsets)"
   ]
  },
  {
   "cell_type": "code",
   "execution_count": 49,
   "id": "6caee3fc-c786-4127-8e61-c8d8b5f917f6",
   "metadata": {},
   "outputs": [
    {
     "data": {
      "text/plain": [
       "[[], [1], [2], [1, 2], [3], [1, 3], [2, 3], [1, 2, 3]]"
      ]
     },
     "execution_count": 49,
     "metadata": {},
     "output_type": "execute_result"
    }
   ],
   "source": [
    "# Better Approach : \n",
    "# Time Complexity : O(Nx2**N)\n",
    "# Space Complexity : O(Nx2**N)\n",
    "\n",
    "def subsets(nums):\n",
    "    n = len(nums)\n",
    "    sets = []\n",
    "    for counter in range(2**n):\n",
    "        temp = []\n",
    "        for i in range(n):\n",
    "            if counter & (1<<i):\n",
    "                temp.append(nums[i])\n",
    "        sets.append(temp)\n",
    "    return sets\n",
    "\n",
    "nums = [1, 2, 3]\n",
    "subsets(nums)"
   ]
  },
  {
   "cell_type": "code",
   "execution_count": null,
   "id": "2b88ce5f-a6dd-42f4-8645-d7b744b89237",
   "metadata": {},
   "outputs": [],
   "source": []
  },
  {
   "cell_type": "markdown",
   "id": "bf91624d-79bc-4fbb-b314-7a16f7a0404d",
   "metadata": {},
   "source": [
    "# Find xor of numbers form L to R"
   ]
  },
  {
   "cell_type": "code",
   "execution_count": 53,
   "id": "a02994aa-b275-46a7-8874-afd318b732bd",
   "metadata": {},
   "outputs": [
    {
     "data": {
      "text/plain": [
       "8"
      ]
     },
     "execution_count": 53,
     "metadata": {},
     "output_type": "execute_result"
    }
   ],
   "source": [
    "# Brute Force Approach : \n",
    "# Time Complexity : O(R-L+1)\n",
    "# Space Complexity : O(1)\n",
    "\n",
    "def findXOR(l, r):\n",
    "    res = 0\n",
    "    for i in range(l, r+1):\n",
    "        res ^= i\n",
    "    return res\n",
    "\n",
    "l = 4\n",
    "r = 8\n",
    "findXOR(l, r)"
   ]
  },
  {
   "cell_type": "code",
   "execution_count": 61,
   "id": "9b65a00e-2455-496b-a062-609752589cc1",
   "metadata": {},
   "outputs": [
    {
     "data": {
      "text/plain": [
       "8"
      ]
     },
     "execution_count": 61,
     "metadata": {},
     "output_type": "execute_result"
    }
   ],
   "source": [
    "# Best Approach : \n",
    "# Time Complexity : O(1)\n",
    "# Space Complexity : O(1)\n",
    "\n",
    "\n",
    "def nXor(n):\n",
    "    if n%4 == 1:\n",
    "        return 1\n",
    "    if n%4 == 2:\n",
    "        return n+1\n",
    "    if n%4 == 3:\n",
    "        return 0\n",
    "    if n%4 == 0:\n",
    "        return n\n",
    "\n",
    "def findXOR(l, r):\n",
    "    return nXor(l-1) ^ nXor(r)\n",
    "\n",
    "l = 4\n",
    "r = 8\n",
    "findXOR(l, r)"
   ]
  },
  {
   "cell_type": "code",
   "execution_count": null,
   "id": "8345119e-8858-4072-b1ec-2ee43574ef0a",
   "metadata": {},
   "outputs": [],
   "source": []
  },
  {
   "cell_type": "markdown",
   "id": "09456881-b5a4-42c5-8e99-1fdd42809239",
   "metadata": {},
   "source": [
    "# Find the 2 numbers appearing odd numbers of times"
   ]
  },
  {
   "cell_type": "code",
   "execution_count": 63,
   "id": "309683f3-29a9-49d1-b82c-b6b4cedf4191",
   "metadata": {},
   "outputs": [
    {
     "data": {
      "text/plain": [
       "[5, 1]"
      ]
     },
     "execution_count": 63,
     "metadata": {},
     "output_type": "execute_result"
    }
   ],
   "source": [
    "def twoOddNum(Arr):\n",
    "    N = len(Arr)\n",
    "    xor = 0\n",
    "    for i in range(N):\n",
    "        xor ^= Arr[i]\n",
    "        \n",
    "    diff = (xor&(xor-1))^xor\n",
    "        \n",
    "    num1 = 0\n",
    "    num2 = 0\n",
    "    for i in range(N):\n",
    "        if Arr[i]&diff:\n",
    "            num1 ^= Arr[i]\n",
    "        else:\n",
    "            num2 ^= Arr[i]\n",
    "    if num2>num1:\n",
    "        return [num2, num1]\n",
    "    return [num1, num2]\n",
    "\n",
    "Arr = [4, 2, 4, 5, 2, 3, 3, 1]\n",
    "twoOddNum(Arr)"
   ]
  },
  {
   "cell_type": "code",
   "execution_count": null,
   "id": "f30113f7-c165-4bd8-ba57-40333da35560",
   "metadata": {},
   "outputs": [],
   "source": []
  }
 ],
 "metadata": {
  "kernelspec": {
   "display_name": "Python 3 (ipykernel)",
   "language": "python",
   "name": "python3"
  },
  "language_info": {
   "codemirror_mode": {
    "name": "ipython",
    "version": 3
   },
   "file_extension": ".py",
   "mimetype": "text/x-python",
   "name": "python",
   "nbconvert_exporter": "python",
   "pygments_lexer": "ipython3",
   "version": "3.12.7"
  }
 },
 "nbformat": 4,
 "nbformat_minor": 5
}
