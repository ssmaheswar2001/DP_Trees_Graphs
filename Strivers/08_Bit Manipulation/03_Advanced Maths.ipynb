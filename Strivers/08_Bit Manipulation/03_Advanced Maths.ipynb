{
 "cells": [
  {
   "cell_type": "markdown",
   "id": "7afdd619-fa72-4f80-86d6-7d3c2a3d47fd",
   "metadata": {},
   "source": [
    "# Print Prime Factors of a Number"
   ]
  },
  {
   "cell_type": "code",
   "execution_count": 138,
   "id": "faba99b0-689b-44d6-8c53-f9a5c176cd07",
   "metadata": {},
   "outputs": [
    {
     "data": {
      "text/plain": [
       "[2, 3, 13, 157]"
      ]
     },
     "execution_count": 138,
     "metadata": {},
     "output_type": "execute_result"
    }
   ],
   "source": [
    "# Brute Force Appraoch : \n",
    "# Space Complexity : O(NxSqrt(N))\n",
    "# Time Complexity : O(1)\n",
    "\n",
    "import math\n",
    "# O(sqrt(n))\n",
    "def isPrime(n):\n",
    "    if n ==0 or n == 1:\n",
    "        return False\n",
    "    for i in range(2, int(math.sqrt(n))+1):\n",
    "        if n%i == 0:\n",
    "            return False\n",
    "    return True\n",
    "\n",
    "def AllPrimeFactors(n):\n",
    "    res = []\n",
    "    for i in range(1, int(math.sqrt(n))+1):\n",
    "        if n%i ==0:\n",
    "            if isPrime(i):\n",
    "                res.append(i)\n",
    "            if (i != n//i) and isPrime(n//i):\n",
    "                res.append(n//i)\n",
    "    return res\n",
    "\n",
    "n = 60\n",
    "n = 780\n",
    "n = 12\n",
    "n = 12246\n",
    "AllPrimeFactors(n)"
   ]
  },
  {
   "cell_type": "code",
   "execution_count": 65,
   "id": "6c22f8f8-000b-4406-809a-b561824b516e",
   "metadata": {},
   "outputs": [
    {
     "data": {
      "text/plain": [
       "[5, 7]"
      ]
     },
     "execution_count": 65,
     "metadata": {},
     "output_type": "execute_result"
    }
   ],
   "source": [
    "# Optimal Appraoch : \n",
    "# Space Complexity : O(no of prime factors)\n",
    "# Time Complexity : O(1)\n",
    "\n",
    "def AllPrimeFactors(n):\n",
    "    res = []\n",
    "    for i in range(2, n+1):\n",
    "        if n%i == 0:\n",
    "            res.append(i)\n",
    "            while n%i == 0:\n",
    "                n = n//i\n",
    "    return res\n",
    "\n",
    "n = 60\n",
    "n = 780\n",
    "n = 100\n",
    "n = 35\n",
    "AllPrimeFactors(n)"
   ]
  },
  {
   "cell_type": "code",
   "execution_count": null,
   "id": "747e9454-cd68-4df6-b415-f7de78772173",
   "metadata": {},
   "outputs": [],
   "source": []
  },
  {
   "cell_type": "markdown",
   "id": "d91040ff-0aa7-41d6-9b33-ab1561fffd89",
   "metadata": {},
   "source": [
    "# All Divisors of a Number"
   ]
  },
  {
   "cell_type": "code",
   "execution_count": 10,
   "id": "35f045de-81af-4aaf-abd8-20d5751ccc18",
   "metadata": {},
   "outputs": [
    {
     "data": {
      "text/plain": [
       "[1, 2, 4, 5, 10, 20]"
      ]
     },
     "execution_count": 10,
     "metadata": {},
     "output_type": "execute_result"
    }
   ],
   "source": [
    "# Better Approach \n",
    "# Time Complexity : O(Sqrt(N))\n",
    "# Space Complexity : O(len of divisors)\n",
    "\n",
    "import math\n",
    "def divisors(N):\n",
    "    left = []\n",
    "    right = []\n",
    "    for i in range(1, int(math.sqrt(N))+1):\n",
    "        if N%i == 0:\n",
    "            left.append(i)\n",
    "            if i != N//i:\n",
    "                right.append(N//i)\n",
    "    return left+right[::-1]\n",
    "        \n",
    "\n",
    "N = 20\n",
    "# N = 21191\n",
    "divisors(N)"
   ]
  },
  {
   "cell_type": "code",
   "execution_count": 18,
   "id": "36ffa6fa-a676-4505-8cc2-a270043d780e",
   "metadata": {},
   "outputs": [
    {
     "name": "stdout",
     "output_type": "stream",
     "text": [
      "1 21191 "
     ]
    }
   ],
   "source": [
    "# Better Approach \n",
    "# Time Complexity : O(Sqrt(N))\n",
    "# Space Complexity : O(1)\n",
    "\n",
    "import math\n",
    "def divisors(N, i):\n",
    "    if i == int(math.sqrt(N)):\n",
    "        if N%i == 0:\n",
    "            print(i, end=\" \")\n",
    "            if i != N//i:\n",
    "                print(N//i, end=\" \")\n",
    "        return\n",
    "    if N%i == 0:\n",
    "        print(i, end=\" \")\n",
    "        divisors(N, i+1)\n",
    "        print(N//i, end=\" \")\n",
    "        return\n",
    "    divisors(N, i+1)\n",
    "    return\n",
    "\n",
    "N = 20\n",
    "N = 21191\n",
    "divisors(N, 1)"
   ]
  },
  {
   "cell_type": "code",
   "execution_count": null,
   "id": "592b751c-3eef-4ce2-b0ce-b3ed63165444",
   "metadata": {},
   "outputs": [],
   "source": []
  },
  {
   "cell_type": "markdown",
   "id": "33cce169-7a17-4a02-874c-ab34b6d512c7",
   "metadata": {},
   "source": [
    "# Sieve of Eratoshenes"
   ]
  },
  {
   "cell_type": "code",
   "execution_count": 117,
   "id": "552eb6f4-b610-42fb-8f81-6edf4b244635",
   "metadata": {},
   "outputs": [
    {
     "data": {
      "text/plain": [
       "4"
      ]
     },
     "execution_count": 117,
     "metadata": {},
     "output_type": "execute_result"
    }
   ],
   "source": [
    "# Brute Force Approach \n",
    "# Time Complexity : O(NxSqrt(N))\n",
    "# Space Complexity : O(1)\n",
    "\n",
    "# Sqrt(N)\n",
    "def isPrime(N):\n",
    "    if N == 1 or N==0:\n",
    "        return False\n",
    "    for i in range(2, int(math.sqrt(N))+1):\n",
    "        if N%i == 0:\n",
    "            return False\n",
    "    return True\n",
    "\n",
    "# N\n",
    "def countPrime(n):\n",
    "    count = 0\n",
    "    for i in range(n+1):\n",
    "        if isPrime(i):\n",
    "            count += 1\n",
    "    return count\n",
    "\n",
    "n = 10\n",
    "# n = 2\n",
    "countPrime(n)"
   ]
  },
  {
   "cell_type": "code",
   "execution_count": 129,
   "id": "eded3b8d-8d44-4bf8-b7bc-e90b9126863e",
   "metadata": {},
   "outputs": [
    {
     "data": {
      "text/plain": [
       "4"
      ]
     },
     "execution_count": 129,
     "metadata": {},
     "output_type": "execute_result"
    }
   ],
   "source": [
    "# Better Approach : Sieve of Eratoshenes\n",
    "# Time Complexity : \n",
    "# Space Complexity : \n",
    "\n",
    "\n",
    "def countPrime(n):\n",
    "    if n == 0 or n == 1:\n",
    "        return 0\n",
    "    prime = [1 for i in range(n+1)]\n",
    "    prime[0] = 0\n",
    "    prime[1] = 0\n",
    "\n",
    "    for i in range(2, n):\n",
    "        if prime[i] == 1:\n",
    "            j = 2\n",
    "            while i*j <= n:\n",
    "                prime[i*j] = 0\n",
    "                j += 1\n",
    "\n",
    "    return sum(prime)\n",
    "\n",
    "n = 31\n",
    "# n = 2\n",
    "n = 10\n",
    "# n = 0\n",
    "# n = 1\n",
    "n = 7\n",
    "countPrime(n)"
   ]
  },
  {
   "cell_type": "code",
   "execution_count": 131,
   "id": "547894a1-1f12-4386-bf9d-d978abcd32ba",
   "metadata": {},
   "outputs": [
    {
     "data": {
      "text/plain": [
       "4"
      ]
     },
     "execution_count": 131,
     "metadata": {},
     "output_type": "execute_result"
    }
   ],
   "source": [
    "# Optimal Approach : Sieve of Eratoshenes\n",
    "# Time Complexity : \n",
    "# Space Complexity : \n",
    "\n",
    "def countPrime(n):\n",
    "    if n == 0 or n == 1:\n",
    "        return 0\n",
    "    prime = [1 for i in range(n+1)]\n",
    "    prime[0] = 0\n",
    "    prime[1] = 0\n",
    "\n",
    "    # NLog(LogN)\n",
    "    for i in range(2, int(n**0.5)+1):\n",
    "        if prime[i] == 1:\n",
    "            j = i\n",
    "            while i*j <= n:\n",
    "                prime[i*j] = 0\n",
    "                j += 1\n",
    "\n",
    "    return sum(prime)\n",
    "\n",
    "n = 31\n",
    "# n = 2\n",
    "n = 10\n",
    "# n = 0\n",
    "# n = 1\n",
    "n = 7\n",
    "countPrime(n)"
   ]
  },
  {
   "cell_type": "code",
   "execution_count": null,
   "id": "30118e2f-dc02-4df3-9ae3-de79dd2660e2",
   "metadata": {},
   "outputs": [],
   "source": []
  },
  {
   "cell_type": "markdown",
   "id": "33b691b9-5374-47bb-9e1c-7ba53407a63c",
   "metadata": {},
   "source": [
    "# Prime Factorisation of a Number using Sieve"
   ]
  },
  {
   "cell_type": "code",
   "execution_count": 150,
   "id": "4e3258df-393e-42b6-ae4e-0f5e685cbcbe",
   "metadata": {},
   "outputs": [
    {
     "name": "stdout",
     "output_type": "stream",
     "text": [
      "2 3 13 157 "
     ]
    }
   ],
   "source": [
    "def findPrimeFactors(N):\n",
    "    if N == 1:\n",
    "        return\n",
    "    for i in range(2, int(N**0.5)+1):\n",
    "        if N%i ==0:\n",
    "            print(i, end=\" \")\n",
    "            return findPrimeFactors(N//i)\n",
    "    print(N, end=\" \")\n",
    "    return\n",
    "    \n",
    "n = 60\n",
    "n = 12\n",
    "n = 1\n",
    "n = 0\n",
    "n = 12246\n",
    "findPrimeFactors(n)"
   ]
  },
  {
   "cell_type": "code",
   "execution_count": 33,
   "id": "cd89014f-b8e1-4325-b459-9ed5e3a526f9",
   "metadata": {},
   "outputs": [
    {
     "name": "stdout",
     "output_type": "stream",
     "text": [
      "2 2 3 5 "
     ]
    }
   ],
   "source": [
    "def findPrimeFactors(N):\n",
    "    i = 2\n",
    "    while i<=N:\n",
    "        if N%i == 0:\n",
    "            print(i, end=\" \")\n",
    "            N = N//i\n",
    "        else:\n",
    "            i += 1\n",
    "\n",
    "n = 60\n",
    "# n = 12\n",
    "# n = 12246\n",
    "# n = 0\n",
    "# n = 1\n",
    "findPrimeFactors(n) "
   ]
  },
  {
   "cell_type": "code",
   "execution_count": 31,
   "id": "b6cccc03-1dad-4646-bb0e-e0b1b23070ca",
   "metadata": {},
   "outputs": [
    {
     "data": {
      "text/plain": [
       "[2, 3, 13, 157]"
      ]
     },
     "execution_count": 31,
     "metadata": {},
     "output_type": "execute_result"
    }
   ],
   "source": [
    "\n",
    "def sieve(n):\n",
    "    prime = []\n",
    "    for i in range(n+1):\n",
    "        prime.append(i)\n",
    "\n",
    "    for i in range(2, int(n**0.5)+1):\n",
    "        if prime[i] == i:\n",
    "            j = i\n",
    "            while i*j <= n:\n",
    "                if prime[i*j] == i*j:\n",
    "                    prime[i*j] = i\n",
    "                j += 1\n",
    "    \n",
    "    return prime\n",
    "\n",
    "def findPrimeFactors(N):\n",
    "    prime = sieve(N)\n",
    "    res = []\n",
    "    while N != 1:\n",
    "        res.append(prime[N])\n",
    "        N = N//prime[N]\n",
    "    return res\n",
    "n = 60\n",
    "n = 12\n",
    "n = 12246\n",
    "findPrimeFactors(n)\n"
   ]
  },
  {
   "cell_type": "code",
   "execution_count": null,
   "id": "1e7a7506-729e-498e-925e-1fd54a2e7cf8",
   "metadata": {},
   "outputs": [],
   "source": []
  },
  {
   "cell_type": "markdown",
   "id": "8ba4b7a2-2638-4912-baee-33a23c48235d",
   "metadata": {},
   "source": [
    "# Power(n, x)"
   ]
  },
  {
   "cell_type": "code",
   "execution_count": 43,
   "id": "211c47fa-72df-4dec-8603-f9d3b5cdb550",
   "metadata": {},
   "outputs": [
    {
     "data": {
      "text/plain": [
       "0.25"
      ]
     },
     "execution_count": 43,
     "metadata": {},
     "output_type": "execute_result"
    }
   ],
   "source": [
    "# Optimal Approach : \n",
    "# Time Complexity : log(N)\n",
    "# Space Complexity : O(1)\n",
    "\n",
    "def pow(x, n):\n",
    "    if n == 1:\n",
    "        return x\n",
    "    if n%2 == 0:\n",
    "        return pow(x*x, n//2)\n",
    "    return x*pow(x*x, n//2)\n",
    "\n",
    "def myPower(x, n):\n",
    "    if n == 0:\n",
    "        return 1\n",
    "    if n < 0:\n",
    "        return 1/pow(x,-1*n)\n",
    "    return pow(x, n)\n",
    "        \n",
    "x = 2.0000\n",
    "n = -2\n",
    "myPower(x, n)"
   ]
  },
  {
   "cell_type": "code",
   "execution_count": 49,
   "id": "d1170599-87dd-4153-b0e9-21bef47429e9",
   "metadata": {},
   "outputs": [
    {
     "data": {
      "text/plain": [
       "0.25"
      ]
     },
     "execution_count": 49,
     "metadata": {},
     "output_type": "execute_result"
    }
   ],
   "source": [
    "# Optimal Approach : \n",
    "# Time Complexity : log(N)\n",
    "# Space Complexity : O(1)\n",
    "\n",
    "def pow(x, n):\n",
    "    res = 1\n",
    "    while n > 0:\n",
    "        if n%2 == 1:\n",
    "            res = res*x\n",
    "            n = n-1\n",
    "        else:\n",
    "            n = n//2\n",
    "            x = x*x\n",
    "    return res\n",
    "\n",
    "def myPower(x, n):\n",
    "    if n == 0:\n",
    "        return 1\n",
    "    if n < 0:\n",
    "        return 1/pow(x,-1*n)\n",
    "    return pow(x, n)\n",
    "        \n",
    "x = 2.0000\n",
    "n = -2\n",
    "myPower(x, n)"
   ]
  },
  {
   "cell_type": "code",
   "execution_count": null,
   "id": "cac87e96-ecf1-4036-b2c4-389bd6ebf495",
   "metadata": {},
   "outputs": [],
   "source": []
  }
 ],
 "metadata": {
  "kernelspec": {
   "display_name": "Python 3 (ipykernel)",
   "language": "python",
   "name": "python3"
  },
  "language_info": {
   "codemirror_mode": {
    "name": "ipython",
    "version": 3
   },
   "file_extension": ".py",
   "mimetype": "text/x-python",
   "name": "python",
   "nbconvert_exporter": "python",
   "pygments_lexer": "ipython3",
   "version": "3.12.7"
  }
 },
 "nbformat": 4,
 "nbformat_minor": 5
}
