{
 "cells": [
  {
   "cell_type": "markdown",
   "id": "8888350d",
   "metadata": {},
   "source": [
    "# Binary Search\n",
    "1. Binary Search\n",
    "2. Order Agnostic Binary Search\n",
    "3. 1st abd last occurences of an element\n",
    "4. Count of element in a sorted array\n",
    "5. Number of times a sorted array is rotated\n",
    "6. Find an element in a rotated sorted Array\n",
    "7. Searching in nearly sorted Array\n",
    "8. Floor/Ciel of an element\n",
    "9. Next Aphabetical Element\n",
    "10. Find position of an element in an Infinite Sorted Array\n",
    "11. Index of first 1 in a binary sorted Array\n",
    "12. Minimum difference element in a sorted array.\n",
    "13. Binary Search on Answer Concept\n",
    "14. Peak Element\n",
    "15. Find maximum element in Bitonic Array\n",
    "16. Search an element in Bitonic Array\n",
    "17. Search in Row wise and Column wise Sorted Array\n",
    "18. Allocated Minimum number of pages."
   ]
  },
  {
   "cell_type": "code",
   "execution_count": 6,
   "id": "54390ff6",
   "metadata": {},
   "outputs": [
    {
     "data": {
      "text/plain": [
       "8"
      ]
     },
     "execution_count": 6,
     "metadata": {},
     "output_type": "execute_result"
    }
   ],
   "source": [
    "# Binary Search Recursion\n",
    "\n",
    "\n",
    "def binarySearch(arr, search, start, end):\n",
    "    \n",
    "    while (start <= end):\n",
    "        # mid = start + (end-start)//2\n",
    "        \n",
    "        mid = (start+end) // 2\n",
    "        \n",
    "        if arr[mid] == search:\n",
    "            return mid\n",
    "        elif arr[mid] < search:\n",
    "            return binarySearch(arr, search, mid+1, end)\n",
    "        elif arr[mid] > search:\n",
    "            return binarySearch(arr, search, start, mid-1)\n",
    "    \n",
    "    \n",
    "    \n",
    "\n",
    "arr = [1, 2, 3, 4, 5, 6, 7, 8, 9, 10]\n",
    "search = 9\n",
    "n = len(arr)\n",
    "binarySearch(arr, search, 0, n-1)"
   ]
  },
  {
   "cell_type": "code",
   "execution_count": 13,
   "id": "ecb66b9a",
   "metadata": {},
   "outputs": [
    {
     "data": {
      "text/plain": [
       "3"
      ]
     },
     "execution_count": 13,
     "metadata": {},
     "output_type": "execute_result"
    }
   ],
   "source": [
    "# Binary Search Iterative\n",
    "'''Given a sorted array arr[] of n elements, write a function to search a given element x in arr[].'''\n",
    "# https://www.geeksforgeeks.org/binary-search/\n",
    "\n",
    "def binarySearch(arr, search, start, end):\n",
    "    \n",
    "    while start <= end:\n",
    "        # mid = (start+end)//2\n",
    "        \n",
    "        mid = start + (end-start)//2\n",
    "        \n",
    "        if arr[mid] == search:\n",
    "            return mid\n",
    "        elif arr[mid] < search:\n",
    "            start = mid + 1\n",
    "        else:\n",
    "            end = mid - 1\n",
    "    return -1\n",
    "\n",
    "arr = [2, 3, 4, 10, 40]\n",
    "search = 10\n",
    "\n",
    "binarySearch(arr, search, 0, len(arr)-1)"
   ]
  },
  {
   "cell_type": "code",
   "execution_count": 14,
   "id": "cbc01de2",
   "metadata": {},
   "outputs": [
    {
     "data": {
      "text/plain": [
       "9"
      ]
     },
     "execution_count": 14,
     "metadata": {},
     "output_type": "execute_result"
    }
   ],
   "source": [
    "# Binary Search on Reverse Sorted Array\n",
    "'''Let's suppose that we have an array sorted in descending order and we want to find index of an element e within this array'''\n",
    "# https://www.geeksforgeeks.org/search-an-element-in-a-reverse-sorted-array/\n",
    "\n",
    "def binarySearch(arr, search, start, end):\n",
    "    \n",
    "    while start <= end:\n",
    "        mid = start + (end-start)//2\n",
    "        \n",
    "        if arr[mid] == search:\n",
    "            return mid\n",
    "        elif arr[mid] < search:\n",
    "            end = mid-1\n",
    "        else:\n",
    "            start = mid + 1\n",
    "    return -1\n",
    "\n",
    "arr = [20, 17, 15, 14, 13, 12, 10, 9, 8, 4]\n",
    "search = 4\n",
    "\n",
    "binarySearch(arr, search, 0, len(arr)-1)"
   ]
  },
  {
   "cell_type": "code",
   "execution_count": 21,
   "id": "2220b1a6",
   "metadata": {},
   "outputs": [
    {
     "data": {
      "text/plain": [
       "3"
      ]
     },
     "execution_count": 21,
     "metadata": {},
     "output_type": "execute_result"
    }
   ],
   "source": [
    "#  Order Agnostic Search / Order not knon Search\n",
    "'''Given a sorted array of numbers, find if a given number ‘key’ is present in the array. Though we know that the array is sorted, we don’t know if it’s sorted in ascending or descending order.'''\n",
    "# https://www.geeksforgeeks.org/order-agnostic-binary-search/\n",
    "\n",
    "def binarySearch(arr, search, start, end):\n",
    "    \n",
    "    asc = False\n",
    "    if arr[start] < arr[end]:\n",
    "        asc = True\n",
    "        \n",
    "    while start <= end:\n",
    "        \n",
    "        mid = start + (end-start)//2\n",
    "        \n",
    "        if arr[mid] == search:\n",
    "            return mid\n",
    "        \n",
    "        if asc:\n",
    "            if arr[mid] < search:\n",
    "                start = mid + 1\n",
    "            else:  \n",
    "                end = mid-1\n",
    "        else:\n",
    "            if arr[mid] < search:\n",
    "                end = mid-1\n",
    "            else:\n",
    "                start = mid + 1\n",
    "    return -1 \n",
    "\n",
    "arr = [ 40, 10, 5, 2, 1 ]\n",
    "# arr = [1, 2, 4 , 6, 8]\n",
    "search = 2\n",
    "binarySearch(arr, search, 0, len(arr)-1)"
   ]
  },
  {
   "cell_type": "code",
   "execution_count": 23,
   "id": "b8a1dcf1",
   "metadata": {},
   "outputs": [
    {
     "data": {
      "text/plain": [
       "2"
      ]
     },
     "execution_count": 23,
     "metadata": {},
     "output_type": "execute_result"
    }
   ],
   "source": [
    "# First and Last occurence of an element\n",
    "'''Given a sorted array with possibly duplicate elements, the task is to find indexes of first and last occurrences of an element x in the given array.'''\n",
    "\n",
    "def firstIndexbinarySearch(arr, search, start, end):\n",
    "    \n",
    "    res = -1\n",
    "    \n",
    "    while start <= end:\n",
    "        mid = start + (end-start)//2\n",
    "        \n",
    "        if arr[mid] == search:\n",
    "            res = mid\n",
    "            end = mid-1\n",
    "            \n",
    "        elif arr[mid] < search:\n",
    "            start = mid+1\n",
    "        else:\n",
    "            end= mid-1\n",
    "    return res\n",
    "\n",
    "def lastIndexbinarySearch(arr, search, start, end):\n",
    "    \n",
    "    res = -1\n",
    "    \n",
    "    while start<=end:\n",
    "        mid = start + (end-start)//2\n",
    "        \n",
    "        if arr[mid] == search:\n",
    "            res = mid\n",
    "            start = mid+1\n",
    "        elif arr[mid] < search:\n",
    "            start = mid + 1\n",
    "        else:\n",
    "            end = mid-1\n",
    "    \n",
    "\n",
    "arr = [1, 3, 5, 5, 5, 5 ,67, 123, 125]\n",
    "search = 5\n",
    "print(firstIndexbinarySearch(arr, search, 0, len(arr)-1))"
   ]
  },
  {
   "cell_type": "code",
   "execution_count": null,
   "id": "59fc9c3c",
   "metadata": {},
   "outputs": [],
   "source": []
  }
 ],
 "metadata": {
  "kernelspec": {
   "display_name": "Python 3 (ipykernel)",
   "language": "python",
   "name": "python3"
  },
  "language_info": {
   "codemirror_mode": {
    "name": "ipython",
    "version": 3
   },
   "file_extension": ".py",
   "mimetype": "text/x-python",
   "name": "python",
   "nbconvert_exporter": "python",
   "pygments_lexer": "ipython3",
   "version": "3.11.5"
  }
 },
 "nbformat": 4,
 "nbformat_minor": 5
}
