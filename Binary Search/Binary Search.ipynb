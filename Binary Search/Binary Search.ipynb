{
 "cells": [
  {
   "cell_type": "markdown",
   "id": "8888350d",
   "metadata": {},
   "source": [
    "# Binary Search\n",
    "1. Binary Search\n",
    "2. Order Agnostic Binary Search\n",
    "3. 1st abd last occurences of an element\n",
    "4. Count of element in a sorted array\n",
    "5. Number of times a sorted array is rotated\n",
    "6. Find an element in a rotated sorted Array\n",
    "7. Searching in nearly sorted Array\n",
    "8. Floor/Ciel of an element\n",
    "9. Next Aphabetical Element\n",
    "10. Find position of an element in an Infinite Sorted Array\n",
    "11. Index of first 1 in a binary sorted Array\n",
    "12. Minimum difference element in a sorted array.\n",
    "13. Binary Search on Answer Concept\n",
    "14. Peak Element\n",
    "15. Find maximum element in Bitonic Array\n",
    "16. Search an element in Bitonic Array\n",
    "17. Search in Row wise and Column wise Sorted Array\n",
    "18. Allocated Minimum number of pages."
   ]
  },
  {
   "cell_type": "code",
   "execution_count": 6,
   "id": "54390ff6",
   "metadata": {},
   "outputs": [
    {
     "data": {
      "text/plain": [
       "8"
      ]
     },
     "execution_count": 6,
     "metadata": {},
     "output_type": "execute_result"
    }
   ],
   "source": [
    "# Binary Search Recursion\n",
    "\n",
    "\n",
    "def binarySearch(arr, search, start, end):\n",
    "    \n",
    "    while (start <= end):\n",
    "        # mid = start + (end-start)//2\n",
    "        \n",
    "        mid = (start+end) // 2\n",
    "        \n",
    "        if arr[mid] == search:\n",
    "            return mid\n",
    "        elif arr[mid] < search:\n",
    "            return binarySearch(arr, search, mid+1, end)\n",
    "        elif arr[mid] > search:\n",
    "            return binarySearch(arr, search, start, mid-1)\n",
    "    \n",
    "    \n",
    "    \n",
    "\n",
    "arr = [1, 2, 3, 4, 5, 6, 7, 8, 9, 10]\n",
    "search = 9\n",
    "n = len(arr)\n",
    "binarySearch(arr, search, 0, n-1)"
   ]
  },
  {
   "cell_type": "code",
   "execution_count": 13,
   "id": "ecb66b9a",
   "metadata": {},
   "outputs": [
    {
     "data": {
      "text/plain": [
       "3"
      ]
     },
     "execution_count": 13,
     "metadata": {},
     "output_type": "execute_result"
    }
   ],
   "source": [
    "# Binary Search Iterative\n",
    "'''Given a sorted array arr[] of n elements, write a function to search a given element x in arr[].'''\n",
    "# https://www.geeksforgeeks.org/binary-search/\n",
    "\n",
    "def binarySearch(arr, search, start, end):\n",
    "    \n",
    "    while start <= end:\n",
    "        # mid = (start+end)//2\n",
    "        \n",
    "        mid = start + (end-start)//2\n",
    "        \n",
    "        if arr[mid] == search:\n",
    "            return mid\n",
    "        elif arr[mid] < search:\n",
    "            start = mid + 1\n",
    "        else:\n",
    "            end = mid - 1\n",
    "    return -1\n",
    "\n",
    "arr = [2, 3, 4, 10, 40]\n",
    "search = 10\n",
    "\n",
    "binarySearch(arr, search, 0, len(arr)-1)"
   ]
  },
  {
   "cell_type": "code",
   "execution_count": 14,
   "id": "cbc01de2",
   "metadata": {},
   "outputs": [
    {
     "data": {
      "text/plain": [
       "9"
      ]
     },
     "execution_count": 14,
     "metadata": {},
     "output_type": "execute_result"
    }
   ],
   "source": [
    "# Binary Search on Reverse Sorted Array\n",
    "'''Let's suppose that we have an array sorted in descending order and we want to find index of an element e within this array'''\n",
    "# https://www.geeksforgeeks.org/search-an-element-in-a-reverse-sorted-array/\n",
    "\n",
    "def binarySearch(arr, search, start, end):\n",
    "    \n",
    "    while start <= end:\n",
    "        mid = start + (end-start)//2\n",
    "        \n",
    "        if arr[mid] == search:\n",
    "            return mid\n",
    "        elif arr[mid] < search:\n",
    "            end = mid-1\n",
    "        else:\n",
    "            start = mid + 1\n",
    "    return -1\n",
    "\n",
    "arr = [20, 17, 15, 14, 13, 12, 10, 9, 8, 4]\n",
    "search = 4\n",
    "\n",
    "binarySearch(arr, search, 0, len(arr)-1)"
   ]
  },
  {
   "cell_type": "code",
   "execution_count": 21,
   "id": "2220b1a6",
   "metadata": {},
   "outputs": [
    {
     "data": {
      "text/plain": [
       "3"
      ]
     },
     "execution_count": 21,
     "metadata": {},
     "output_type": "execute_result"
    }
   ],
   "source": [
    "#  Order Agnostic Search / Order not knon Search\n",
    "'''Given a sorted array of numbers, find if a given number ‘key’ is present in the array. Though we know that the array is sorted, we don’t know if it’s sorted in ascending or descending order.'''\n",
    "# https://www.geeksforgeeks.org/order-agnostic-binary-search/\n",
    "\n",
    "def binarySearch(arr, search, start, end):\n",
    "    \n",
    "    asc = False\n",
    "    if arr[start] < arr[end]:\n",
    "        asc = True\n",
    "        \n",
    "    while start <= end:\n",
    "        \n",
    "        mid = start + (end-start)//2\n",
    "        \n",
    "        if arr[mid] == search:\n",
    "            return mid\n",
    "        \n",
    "        if asc:\n",
    "            if arr[mid] < search:\n",
    "                start = mid + 1\n",
    "            else:  \n",
    "                end = mid-1\n",
    "        else:\n",
    "            if arr[mid] < search:\n",
    "                end = mid-1\n",
    "            else:\n",
    "                start = mid + 1\n",
    "    return -1 \n",
    "\n",
    "arr = [ 40, 10, 5, 2, 1 ]\n",
    "# arr = [1, 2, 4 , 6, 8]\n",
    "search = 2\n",
    "binarySearch(arr, search, 0, len(arr)-1)"
   ]
  },
  {
   "cell_type": "code",
   "execution_count": 23,
   "id": "b8a1dcf1",
   "metadata": {},
   "outputs": [
    {
     "data": {
      "text/plain": [
       "2"
      ]
     },
     "execution_count": 23,
     "metadata": {},
     "output_type": "execute_result"
    }
   ],
   "source": [
    "# First and Last occurence of an element\n",
    "'''Given a sorted array with possibly duplicate elements, the task is to find indexes of first and last occurrences of an element x in the given array.'''\n",
    "\n",
    "def firstIndexbinarySearch(arr, search, start, end):\n",
    "    \n",
    "    res = -1\n",
    "    \n",
    "    while start <= end:\n",
    "        mid = start + (end-start)//2\n",
    "        \n",
    "        if arr[mid] == search:\n",
    "            res = mid\n",
    "            end = mid-1\n",
    "            \n",
    "        elif arr[mid] < search:\n",
    "            start = mid+1\n",
    "        else:\n",
    "            end= mid-1\n",
    "    return res\n",
    "\n",
    "def lastIndexbinarySearch(arr, search, start, end):\n",
    "    \n",
    "    res = -1\n",
    "    \n",
    "    while start<=end:\n",
    "        mid = start + (end-start)//2\n",
    "        \n",
    "        if arr[mid] == search:\n",
    "            res = mid\n",
    "            start = mid+1\n",
    "        elif arr[mid] < search:\n",
    "            start = mid + 1\n",
    "        else:\n",
    "            end = mid-1\n",
    "    \n",
    "\n",
    "arr = [1, 3, 5, 5, 5, 5 ,67, 123, 125]\n",
    "search = 5\n",
    "print(firstIndexbinarySearch(arr, search, 0, len(arr)-1))"
   ]
  },
  {
   "cell_type": "code",
   "execution_count": 14,
   "id": "59fc9c3c",
   "metadata": {},
   "outputs": [
    {
     "data": {
      "text/plain": [
       "4"
      ]
     },
     "execution_count": 14,
     "metadata": {},
     "output_type": "execute_result"
    }
   ],
   "source": [
    "# Count of an Element in a Sorted Array\n",
    "'''Given a sorted array arr[] and a number x, write a function that counts the occurrences of x in arr[].'''\n",
    "# https://www.geeksforgeeks.org/count-number-of-occurrences-or-frequency-in-a-sorted-array/\n",
    "\n",
    "def firstIndexBinarySearch(arr, search, start, end):\n",
    "    \n",
    "    res = -1\n",
    "    while start <= end:\n",
    "        mid = start + (end-start)//2\n",
    "        \n",
    "        if arr[mid] == search:\n",
    "            res = mid\n",
    "            end = mid-1\n",
    "        elif arr[mid] < search:\n",
    "            start = mid + 1\n",
    "        else:\n",
    "            end = mid - 1\n",
    "    return res\n",
    "\n",
    "def lastIndexBinarySearch(arr, search, start, end):\n",
    "    \n",
    "    res = -1\n",
    "    \n",
    "    while start <= end:\n",
    "        \n",
    "        mid = start + (end-start)//2\n",
    "        \n",
    "        if(arr[mid] == search):\n",
    "            res = mid\n",
    "            start = mid +1\n",
    "        elif arr[mid] < search:\n",
    "            start = mid +1\n",
    "        else:\n",
    "            end = mid-1\n",
    "            \n",
    "    return res\n",
    "\n",
    "arr = [1, 1, 2, 2, 2, 2, 3]\n",
    "search = 2\n",
    "count = lastIndexBinarySearch(arr, search, 0, len(arr)-1) - firstIndexBinarySearch(arr, search, 0, len(arr)-1) + 1\n",
    "count"
   ]
  },
  {
   "cell_type": "code",
   "execution_count": 12,
   "id": "165734d6",
   "metadata": {},
   "outputs": [
    {
     "data": {
      "text/plain": [
       "3"
      ]
     },
     "execution_count": 12,
     "metadata": {},
     "output_type": "execute_result"
    }
   ],
   "source": [
    "# Number of Times a Sorted Array is Rotated\n",
    "'''consider an array of distinct numbers sorted in increasing order. The array has been rotated (clockwise) k number of times. Given such an array, find the value of k.'''\n",
    "# https://www.geeksforgeeks.org/find-rotation-count-rotated-sorted-array/\n",
    "\n",
    "def minValueIndexBinarySearch(arr, start, end):\n",
    "    n = len(arr)\n",
    "    while start <= end:\n",
    "        mid = start + (end-start)//2\n",
    "        \n",
    "        \n",
    "        next = (mid + 1) % n\n",
    "        prev = (mid - 1 + n) % n\n",
    "        \n",
    "        if arr[mid] <= arr[prev] and arr[mid] <= arr[next]:\n",
    "            return mid\n",
    "        elif arr[mid] > arr[end]:\n",
    "            start = mid + 1\n",
    "        else:\n",
    "            end = mid - 1\n",
    "\n",
    "# arr = [11, 12, 15, 18, 2, 5, 6, 8]\n",
    "# arr = [3, 4 , 7, 9, 11, 2]\n",
    "arr = [15, 18, 2, 2, 2, 6, 12]\n",
    "minValueIndexBinarySearch(arr, 0, len(arr)-1)"
   ]
  },
  {
   "cell_type": "code",
   "execution_count": 20,
   "id": "76e5ba9e",
   "metadata": {},
   "outputs": [
    {
     "name": "stdout",
     "output_type": "stream",
     "text": [
      "-1 9\n"
     ]
    }
   ],
   "source": [
    "# Find an Element in a Rotated Sorted Array\n",
    "'''Suppose an array sorted in ascending order is rotated at some pivot unknown to you beforehand. You are given a target value to search. If found in the array return its index, otherwise return -1. '''\n",
    "# https://www.geeksforgeeks.org/search-an-element-in-a-sorted-and-pivoted-array/\n",
    "\n",
    "def minValBinarySearch(arr, start, end):\n",
    "    n = len(arr)\n",
    "    while start <= end:\n",
    "        mid = start + (end-start)//2\n",
    "        prev = (mid-1 + n) % n\n",
    "        next = (mid + 1)%n\n",
    "        \n",
    "        if arr[mid] <= arr[next] and arr[mid] <= arr[prev]:\n",
    "            return mid\n",
    "        elif arr[mid] > arr[end]:\n",
    "            start = mid + 1\n",
    "        else:\n",
    "            end = mid-1\n",
    "    return -1\n",
    "\n",
    "def binarySearch(arr, search, start, end):\n",
    "    while start <= end:\n",
    "        mid = start + (end-start)//2\n",
    "        if arr[mid] == search:\n",
    "            return mid\n",
    "        elif arr[mid] < search:\n",
    "            start = mid + 1\n",
    "        else:\n",
    "            end = mid - 1\n",
    "    return -1\n",
    "    \n",
    "arr = [5, 6, 7, 8, 9, 10, 1, 2, 3, 4]\n",
    "# arr = [4, 5, 6, 7, 0, 1, 2]\n",
    "search = 4\n",
    "minValIndex = minValBinarySearch(arr, 0, len(arr)-1)\n",
    "print(binarySearch(arr, search, 0, minValIndex-1), binarySearch(arr, search, minValIndex, len(arr)-1))\n"
   ]
  },
  {
   "cell_type": "code",
   "execution_count": 5,
   "id": "a6565b68",
   "metadata": {},
   "outputs": [
    {
     "data": {
      "text/plain": [
       "6"
      ]
     },
     "execution_count": 5,
     "metadata": {},
     "output_type": "execute_result"
    }
   ],
   "source": [
    "# Searchin in a nearly sorted Array\n",
    "'''Given an array which is sorted, but after sorting some elements are moved to either of the adjacent positions, i.e., arr[i] may be present at arr[i+1] or arr[i-1]. Write an efficient function to search an element in this array. Basically the element arr[i] can only be swapped with either arr[i+1] or arr[i-1].'''\n",
    "# https://www.geeksforgeeks.org/search-almost-sorted-array/\n",
    "\n",
    "def binarySearch(arr, search, start, end):\n",
    "    while start <= end:\n",
    "        mid = start + (end-start)//2\n",
    "        \n",
    "        if arr[mid] == search:\n",
    "            return mid\n",
    "        if mid-1 >= start and arr[mid-1] == search:\n",
    "            return mid-1\n",
    "        if mid+1 <= end  and arr[mid+1] == search:\n",
    "            return mid+1\n",
    "        if arr[mid] < search:\n",
    "            start = mid + 2\n",
    "        else:\n",
    "            end = mid -2\n",
    "    return -1\n",
    "    \n",
    "arr = [10, 3, 40, 20, 50, 80, 70]\n",
    "search = 70\n",
    "binarySearch(arr, search, 0, len(arr)-1)"
   ]
  },
  {
   "cell_type": "code",
   "execution_count": 38,
   "id": "3a3a668e",
   "metadata": {},
   "outputs": [
    {
     "data": {
      "text/plain": [
       "4"
      ]
     },
     "execution_count": 38,
     "metadata": {},
     "output_type": "execute_result"
    }
   ],
   "source": [
    "# Find floor of an element in a sorted array\n",
    "'''Given a sorted array and a value x, the floor of x is the largest element in array smaller than or equal to x. Write efficient functions to find floor of x.'''\n",
    "# https://www.geeksforgeeks.org/floor-in-a-sorted-array/\n",
    "\n",
    "def floorBinarySearch(arr, search, start, end):\n",
    "    \n",
    "    floor = -1\n",
    "    while start <= end:\n",
    "        mid = start + (end-start)//2\n",
    "        if arr[mid] == search:\n",
    "            return arr[mid]\n",
    "        elif arr[mid] < search:\n",
    "            floor = arr[mid]\n",
    "            start = mid + 1\n",
    "        else:\n",
    "            end = mid - 1\n",
    "    if floor != -1:\n",
    "        return floor\n",
    "    return None\n",
    "            \n",
    "\n",
    "\n",
    "arr = [2, 4, 8, 10, 10, 12, 19]\n",
    "search = 7\n",
    "floorBinarySearch(arr, search, 0, len(arr)-1)"
   ]
  },
  {
   "cell_type": "code",
   "execution_count": 55,
   "id": "0caebe5f",
   "metadata": {},
   "outputs": [],
   "source": [
    "# CEILING OF AN ELEMENT IN A SORTED ARRAY\n",
    "'''Given a sorted array and a value x, the ceiling of x is the smallest element in array greater than or equal to x, and the floor is the greatest element smaller than or equal to x. Assume than the array is sorted in non-decreasing order. Write efficient functions to find floor and ceiling of x.'''\n",
    "# https://www.geeksforgeeks.org/ceiling-in-a-sorted-array/\n",
    "\n",
    "def cielBinarySearch(arr, search, start, end):\n",
    "    \n",
    "    ceil = -1\n",
    "    while start <= end:\n",
    "        mid = start + (end - start)//2\n",
    "        if arr[mid] == search:\n",
    "            return arr[mid]\n",
    "        elif arr[mid] < search:\n",
    "            start = mid + 1\n",
    "        else:\n",
    "            ceil = arr[mid]\n",
    "            end = mid -1\n",
    "    if ceil != -1:\n",
    "        return ceil\n",
    "    return None\n",
    "\n",
    "arr = [2, 4, 8, 10, 10, 12, 19]\n",
    "search = 20\n",
    "cielBinarySearch(arr, search, 0, len(arr)-1)"
   ]
  },
  {
   "cell_type": "code",
   "execution_count": 14,
   "id": "d083b661",
   "metadata": {},
   "outputs": [
    {
     "data": {
      "text/plain": [
       "'c'"
      ]
     },
     "execution_count": 14,
     "metadata": {},
     "output_type": "execute_result"
    }
   ],
   "source": [
    "# Next Alphabetical Element\n",
    "'''Given an array of letters sorted in ascending order, find the smallest letter in the the array which is greater than a given key letter'''\n",
    "# https://www.geeksforgeeks.org/smallest-alphabet-greater-than-a-given-character/\n",
    "\n",
    "def alphabetBinarySearch(arr, search, start, end):\n",
    "    \n",
    "    nextAlphabet = ''\n",
    "    \n",
    "    while start <= end:\n",
    "        mid = start + (end - start) //2\n",
    "        if arr[mid] == search :\n",
    "            start = mid + 1\n",
    "        elif arr[mid] < search:\n",
    "            start = mid + 1\n",
    "        else:\n",
    "            nextAlphabet = arr[mid]\n",
    "            end = mid - 1\n",
    "    return nextAlphabet\n",
    "\n",
    "arr = ['b', 'c', 'f', 'h']\n",
    "search = 'b'\n",
    "alphabetBinarySearch(arr, search, 0, len(arr)-1)"
   ]
  },
  {
   "cell_type": "code",
   "execution_count": 14,
   "id": "da8b3b51",
   "metadata": {},
   "outputs": [
    {
     "data": {
      "text/plain": [
       "5"
      ]
     },
     "execution_count": 14,
     "metadata": {},
     "output_type": "execute_result"
    }
   ],
   "source": [
    "# Find position of an element in an Infinite Sorted Array\n",
    "'''Suppose you have a sorted array of infinite numbers, how would you search an element in the array?'''\n",
    "# https://www.geeksforgeeks.org/find-position-element-sorted-array-infinite-numbers/\n",
    "\n",
    "\n",
    "def binarySearch(arr, search, start, end):\n",
    "    \n",
    "    while start <= end:\n",
    "        mid = start + (end-start)//2\n",
    "        if arr[mid] == search:\n",
    "            return mid\n",
    "        elif arr[mid] < search:\n",
    "            start = mid + 1\n",
    "        else:\n",
    "            end = mid - 1\n",
    "    return -1\n",
    "\n",
    "def findBound(arr, search):\n",
    "    start = 0\n",
    "    end = 1\n",
    "    \n",
    "    while arr[end] < search:\n",
    "        start = end\n",
    "        end = end * 2\n",
    "    return binarySearch(arr, search, start, end)\n",
    "    \n",
    "arr = [3, 5, 7, 9, 10, 90, 100, 130, 140, 160, 170, 200, 220, 230, 250, 300, 320]\n",
    "search = 90\n",
    "findBound(arr, search)\n"
   ]
  },
  {
   "cell_type": "code",
   "execution_count": 31,
   "id": "2b582385",
   "metadata": {},
   "outputs": [
    {
     "data": {
      "text/plain": [
       "6"
      ]
     },
     "execution_count": 31,
     "metadata": {},
     "output_type": "execute_result"
    }
   ],
   "source": [
    "# Index of First 1 in a Binary Sorted Infinite Array\n",
    "'''Given an infinite sorted array consisting 0s and 1s. The problem is to find the index of first ‘1’ in that array. As the array is infinite, therefore it is guaranteed that number ‘1’ will be present in the array.'''\n",
    "# https://www.geeksforgeeks.org/find-index-first-1-infinite-sorted-array-0s-1s/\n",
    "\n",
    "def binarySearch(arr, search, start, end):\n",
    "    res = -1\n",
    "    while start <= end:\n",
    "        mid = start + (end-start)//2\n",
    "        if arr[mid] == search:\n",
    "            res = mid\n",
    "            end = mid - 1\n",
    "        elif arr[mid] <  search:\n",
    "            start = mid + 1\n",
    "        else:\n",
    "            end = mid - 1\n",
    "    return res  \n",
    "\n",
    "def findBound(arr, search):\n",
    "    start = 0\n",
    "    end = 1\n",
    "    \n",
    "    if arr[start] == 1:\n",
    "        return 0\n",
    "    \n",
    "    while arr[end] == 0:\n",
    "        start = end\n",
    "        end = 2*end\n",
    "\n",
    "    return binarySearch(arr, search, start, end)\n",
    "    \n",
    "\n",
    "arr = [0, 0, 0, 0, 0, 0, 1, 1, 1, 1, 1, 1, 1,  1, 1]\n",
    "search  = 1\n",
    "findBound(arr, search)"
   ]
  },
  {
   "cell_type": "code",
   "execution_count": 63,
   "id": "7edadfc3",
   "metadata": {},
   "outputs": [
    {
     "name": "stdout",
     "output_type": "stream",
     "text": [
      "0 -1 -1 0\n"
     ]
    }
   ],
   "source": [
    "# Minimum Difference Element in a Sorted Array\n",
    "'''Given a sorted array, find the element in the array which has minimum difference with the given number'''\n",
    "\n",
    "def floorBinarySearch(arr, search, start, end):\n",
    "    res = -1\n",
    "    while start <= end:\n",
    "        mid = start + (end-start)//2\n",
    "        if arr[mid] == search:\n",
    "            return mid\n",
    "        elif arr[mid] < search:\n",
    "            res = mid\n",
    "            start = mid + 1\n",
    "        else:\n",
    "            end = mid - 1\n",
    "    if res == -1:\n",
    "        return None\n",
    "    return res\n",
    "\n",
    "def ceilBinarySearch(arr, search, start, end):\n",
    "    res = -1\n",
    "    while start <= end:\n",
    "        mid = start + (end-start)//2\n",
    "        if arr[mid] == search:\n",
    "            return mid\n",
    "        elif arr[mid] < search:\n",
    "            start = mid + 1\n",
    "        else:\n",
    "            res = mid\n",
    "            end = mid -1\n",
    "    if res == -1:\n",
    "        return None\n",
    "    return res\n",
    " \n",
    "def binarySearch(arr, search, start, end):\n",
    "    cres = -1\n",
    "    fres = -1\n",
    "    while start <= end:\n",
    "        mid = start + (end-start)//2\n",
    "        if arr[mid] == search:\n",
    "            return arr[mid]\n",
    "        elif arr[mid] < search:\n",
    "            fres = mid\n",
    "            start = mid + 1\n",
    "        else:\n",
    "            cres = mid\n",
    "            end = mid -1\n",
    "    print(start, end, fres, cres)\n",
    "#     if fres == -1:\n",
    "#         return arr[cres]\n",
    "#     if cres == -1:\n",
    "#         return arr[fres]\n",
    "#     if search-arr[fres] <= arr[cres]-search:\n",
    "#         return arr[fres]\n",
    "#     return arr[cres]\n",
    "    \n",
    "arr = [4, 6, 10, 15, 17, 21]\n",
    "search = 1\n",
    "binarySearch(arr, search, 0, len(arr)-1)\n"
   ]
  },
  {
   "cell_type": "code",
   "execution_count": 5,
   "id": "13e6955b",
   "metadata": {},
   "outputs": [
    {
     "data": {
      "text/plain": [
       "1"
      ]
     },
     "execution_count": 5,
     "metadata": {},
     "output_type": "execute_result"
    }
   ],
   "source": [
    "# Peak Element\n",
    "'''A peak element is an element that is greater than its neighbors.\n",
    "Given an input array nums, where nums[i] ≠ nums[i+1], find a peak element and return its index.\n",
    "The array may contain multiple peaks, in that case return the index to any one of the peaks is fine.'''\n",
    "# https://www.geeksforgeeks.org/find-a-peak-in-a-given-array/\n",
    "\n",
    "def peakBinarySearch(arr, start, end):\n",
    "    \n",
    "    while start <= end:\n",
    "        mid = start + (end-start)//2\n",
    "        if(mid >0 and mid < len(arr)-1):\n",
    "            if arr[mid-1] < arr[mid] and arr[mid+1]< arr[mid]:\n",
    "                return mid\n",
    "            elif arr[mid+1] > arr[mid-1]:\n",
    "                start = mid+1\n",
    "            else:\n",
    "                end = mid - 1\n",
    "        elif (mid == 0):\n",
    "            if(arr[0] > arr[1]):\n",
    "                return 0\n",
    "            else:\n",
    "                return 1\n",
    "        elif (mid == len(arr)-1):\n",
    "            if(arr[len(arr)-1]  > arr[len(arr)-2]):\n",
    "                return len(arr)-1\n",
    "            else:\n",
    "                return len(arr)-2\n",
    "\n",
    "\n",
    "# arr = [5, 7, 26, 10, 20, 15]\n",
    "# arr = [10, 20, 15, 2, 23, 90, 67]\n",
    "arr = [10, 50, 40, 20, 30, 10, 40]\n",
    "# arr = [50, 40, 30, 20, 10]\n",
    "\n",
    "peakBinarySearch(arr, 0, len(arr)-1)"
   ]
  },
  {
   "cell_type": "code",
   "execution_count": 7,
   "id": "21a81bbd",
   "metadata": {},
   "outputs": [
    {
     "data": {
      "text/plain": [
       "3"
      ]
     },
     "execution_count": 7,
     "metadata": {},
     "output_type": "execute_result"
    }
   ],
   "source": [
    "# FIND MAXIMUM ELEMENT IN AN BITONIC ARRAY\n",
    "'''Given a bitonic array find the maximum value of the array. An array is said to be bitonic if it has an increasing sequence of integers followed immediately by a decreasing sequence of integers.'''\n",
    "# https://www.geeksforgeeks.org/find-element-bitonic-array/\n",
    "\n",
    "def biotanicBinarySearch(arr, start, end):\n",
    "    \n",
    "    while start <= end:\n",
    "        mid = start + (end-start)//2\n",
    "        if arr[mid+1] < arr[mid] and arr[mid-1] < arr[mid]:\n",
    "            return mid\n",
    "        elif arr[mid+1] > arr[mid]:\n",
    "            start = mid + 1\n",
    "        else:\n",
    "            end = mid-1\n",
    "            \n",
    "    \n",
    "\n",
    "arr = [-3, 9, 18, 20, 17, 5, 1]\n",
    "biotanicBinarySearch(arr, 0, len(arr)-1)"
   ]
  },
  {
   "cell_type": "code",
   "execution_count": 22,
   "id": "b64f43a0",
   "metadata": {},
   "outputs": [
    {
     "name": "stdout",
     "output_type": "stream",
     "text": [
      "-1\n"
     ]
    }
   ],
   "source": [
    "# FIND AN ELEMENT IN BITONIC ARRA\n",
    "'''Given a bitonic sequence of n distinct elements, write a program to find a given element x in the bitonic sequence in O(log n) time. A Bitonic Sequence is a sequence of numbers which is first strictly increasing then after a point strictly decreasing.'''\n",
    "\n",
    "def ascBinarySearch(arr, search, start, end):\n",
    "    \n",
    "    while start <= end:\n",
    "        mid = start + (end-start)//2\n",
    "        if arr[mid] == search:\n",
    "            return mid\n",
    "        elif arr[mid] < search:\n",
    "            start = mid +1\n",
    "        else:\n",
    "            end = mid -1\n",
    "    return -1\n",
    "\n",
    "def descBinarySearch(arr, search, start, end):\n",
    "    \n",
    "    while start <= end:\n",
    "        mid = start + (end-start)//2\n",
    "        if arr[mid] == search:\n",
    "            return mid\n",
    "        elif arr[mid] < search:\n",
    "            end = mid - 1\n",
    "        else:\n",
    "            start = mid + 1\n",
    "    return -1\n",
    "            \n",
    "\n",
    "def biotanicIndexBinarySearch(arr, start, end):\n",
    "    while start <= end:\n",
    "        mid = start + (end-start)//2\n",
    "        if arr[mid+1] < arr[mid] and arr[mid-1] < arr[mid]:\n",
    "            return mid\n",
    "        elif arr[mid+1] > arr[mid]:\n",
    "            start = mid + 1\n",
    "        else:\n",
    "            end = mid-1\n",
    "\n",
    "arr = [-3, 9, 18, 20, 17, 5, 1]\n",
    "# arr = [3, 4, 2, 1, 0]\n",
    "search = 11\n",
    "index = biotanicIndexBinarySearch(arr, 0, len(arr)-1)\n",
    "search1 = ascBinarySearch(arr, search, 0, index)\n",
    "search2 = descBinarySearch(arr, search, index+1, len(arr)-1)\n",
    "\n",
    "if search1 != -1:\n",
    "    print(search1)\n",
    "elif search2 != -1:\n",
    "    print(search2)\n",
    "else:\n",
    "    print(\"-1\")"
   ]
  },
  {
   "cell_type": "code",
   "execution_count": 46,
   "id": "a282d26b",
   "metadata": {},
   "outputs": [
    {
     "data": {
      "text/plain": [
       "-1"
      ]
     },
     "execution_count": 46,
     "metadata": {},
     "output_type": "execute_result"
    }
   ],
   "source": [
    "# SEARCH IN A ROW WISE AND COLUMN WISE SORTED MATRIX\n",
    "'''Given an n x n matrix and a number x, find the position of x in the matrix if it is present in it. Otherwise, print “Not Found”. In the given matrix, every row and column is sorted in increasing order.'''\n",
    "# https://www.geeksforgeeks.org/search-in-row-wise-and-column-wise-sorted-matrix/\n",
    "    \n",
    "def matrixSearch(mat, n, search):\n",
    "    i = 0\n",
    "    j = n-1\n",
    "    \n",
    "    while j>=0 and i < n:\n",
    "        if mat[i][j] == search:\n",
    "            return i, j\n",
    "        elif mat[i][j] < search:\n",
    "            i += 1\n",
    "        elif mat[i][j] > search:\n",
    "            j -= 1\n",
    "    return -1\n",
    "            \n",
    "    \n",
    "mat = [[10, 20, 30, 40], [15, 25, 35, 45],[27, 29, 37, 48], [32, 34, 39, 50]]\n",
    "search = 33\n",
    "n = 4\n",
    "matrixSearch(mat, n, search)"
   ]
  },
  {
   "cell_type": "code",
   "execution_count": 4,
   "id": "f24ee9d4",
   "metadata": {},
   "outputs": [
    {
     "data": {
      "text/plain": [
       "180"
      ]
     },
     "execution_count": 4,
     "metadata": {},
     "output_type": "execute_result"
    }
   ],
   "source": [
    "# ALLOCATE MINIMUM NUMBER OF PAGES\n",
    "'''Given number of pages in n different books and m students. The books are arranged in ascending order of number of pages. Every student is assigned to read some consecutive books. The task is to assign books in such a way that the maximum number of pages assigned to a student is minimum'''\n",
    "# https://www.geeksforgeeks.org/allocate-minimum-number-pages/\n",
    "\n",
    "def isValid(pages, studentCount, maxSum, n):\n",
    "    \n",
    "    currentSum = 0\n",
    "    requiredStudent = 1\n",
    "    i = 0\n",
    "    \n",
    "    while i < n :\n",
    "        \n",
    "        if (currentSum + pages[i]) <= maxSum:\n",
    "            currentSum += pages[i]\n",
    "            i += 1\n",
    "        else:\n",
    "            requiredStudent += 1\n",
    "            if requiredStudent > studentCount:\n",
    "                return False\n",
    "            currentSum = pages[i]\n",
    "            \n",
    "    return True\n",
    "\n",
    "def binarySearch(pages, studentCount):\n",
    "    \n",
    "    n = len(pages)\n",
    "    \n",
    "    if studentCount > n:\n",
    "        return -1\n",
    "    \n",
    "    pagesSum = 0\n",
    "    for i in pages:\n",
    "        pagesSum += i\n",
    "        \n",
    "    start = 0\n",
    "    end = pagesSum\n",
    "    res = -1\n",
    "        \n",
    "    \n",
    "    while start <= end:\n",
    "        mid = start + (end - start)//2\n",
    "        \n",
    "        if isValid(pages, studentCount, mid, n):\n",
    "            res = mid\n",
    "            end = mid - 1\n",
    "        else:\n",
    "            start = mid + 1\n",
    "    return res\n",
    "\n",
    "pages = [12, 34, 67, 90]\n",
    "studentCount = 2\n",
    "binarySearch(pages, studentCount)"
   ]
  },
  {
   "cell_type": "code",
   "execution_count": null,
   "id": "3677be90",
   "metadata": {},
   "outputs": [],
   "source": []
  }
 ],
 "metadata": {
  "kernelspec": {
   "display_name": "Python 3 (ipykernel)",
   "language": "python",
   "name": "python3"
  },
  "language_info": {
   "codemirror_mode": {
    "name": "ipython",
    "version": 3
   },
   "file_extension": ".py",
   "mimetype": "text/x-python",
   "name": "python",
   "nbconvert_exporter": "python",
   "pygments_lexer": "ipython3",
   "version": "3.11.5"
  }
 },
 "nbformat": 4,
 "nbformat_minor": 5
}
