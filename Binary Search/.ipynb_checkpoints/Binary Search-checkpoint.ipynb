{
 "cells": [
  {
   "cell_type": "markdown",
   "id": "8888350d",
   "metadata": {},
   "source": [
    "# Binary Search\n",
    "1. Binary Search\n",
    "2. Order Agnostic Binary Search\n",
    "3. 1st abd last occurences of an element\n",
    "4. Count of element in a sorted array\n",
    "5. Number of times a sorted array is rotated\n",
    "6. Find an element in a rotated sorted Array\n",
    "7. Searching in nearly sorted Array\n",
    "8. Floor/Ciel of an element\n",
    "9. Next Aphabetical Element\n",
    "10. Find position of an element in an Infinite Sorted Array\n",
    "11. Index of first 1 in a binary sorted Array\n",
    "12. Minimum difference element in a sorted array.\n",
    "13. Binary Search on Answer Concept\n",
    "14. Peak Element\n",
    "15. Find maximum element in Bitonic Array\n",
    "16. Search an element in Bitonic Array\n",
    "17. Search in Row wise and Column wise Sorted Array\n",
    "18. Allocated Minimum number of pages."
   ]
  },
  {
   "cell_type": "code",
   "execution_count": null,
   "id": "54390ff6",
   "metadata": {},
   "outputs": [],
   "source": []
  }
 ],
 "metadata": {
  "kernelspec": {
   "display_name": "Python 3 (ipykernel)",
   "language": "python",
   "name": "python3"
  },
  "language_info": {
   "codemirror_mode": {
    "name": "ipython",
    "version": 3
   },
   "file_extension": ".py",
   "mimetype": "text/x-python",
   "name": "python",
   "nbconvert_exporter": "python",
   "pygments_lexer": "ipython3",
   "version": "3.11.5"
  }
 },
 "nbformat": 4,
 "nbformat_minor": 5
}
